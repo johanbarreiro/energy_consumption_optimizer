{
 "cells": [
  {
   "cell_type": "code",
   "execution_count": 1,
   "id": "initial_id",
   "metadata": {
    "ExecuteTime": {
     "end_time": "2024-07-03T11:21:07.782085Z",
     "start_time": "2024-07-03T11:21:07.780633Z"
    },
    "collapsed": true
   },
   "outputs": [],
   "source": [
    "import pandas as pd"
   ]
  },
  {
   "cell_type": "code",
   "execution_count": 2,
   "id": "cf3e6934ef516679",
   "metadata": {
    "ExecuteTime": {
     "end_time": "2024-07-03T11:21:08.432176Z",
     "start_time": "2024-07-03T11:21:08.426117Z"
    }
   },
   "outputs": [
    {
     "name": "stdout",
     "output_type": "stream",
     "text": [
      "/Users/johanbarreiro/Documents/GitHub/vl_optimizer\n"
     ]
    }
   ],
   "source": [
    "cd .."
   ]
  },
  {
   "cell_type": "code",
   "execution_count": 3,
   "id": "c5afdc995be8e28",
   "metadata": {
    "ExecuteTime": {
     "end_time": "2024-07-03T11:21:09.318616Z",
     "start_time": "2024-07-03T11:21:09.259570Z"
    }
   },
   "outputs": [],
   "source": [
    "df = pd.read_csv('data/processed_data/industrial_sites_processed/2024-07-05T01-00-40_industrial_site2_processed.csv')"
   ]
  },
  {
   "cell_type": "markdown",
   "id": "4c614257a0c23530",
   "metadata": {},
   "source": [
    "# Data Center\n",
    "\n",
    "[Server Source](https://cc-techgroup.com/data-center-energy-consumption/#:~:text=this%20work%20efficiently.-,How%20Many%20kWh%20Does%20a%20Server%20Use%3F,to%201%2C900%20kWh%20every%20year.)\n",
    "\n",
    "Average annual power may be around 1,800 to 1,900 kWh every year per server (divide by 365 then 24 the 4)   0.05279680365 kWh per 15 minutes\n",
    "\n",
    "[Network Switch Source](https://www.genuinemodules.com/how-much-power-does-a-24-port-switch-use_a8539#:~:text=However%2C%20as%20a%20general%20estimate,requirements%20of%20the%20connected%20devices.)\n",
    "\n",
    "\n",
    "However, as a general estimate, a non-PoE 24 port switch may consume around 20-50 watts of power, while a PoE-enabled switch may consume around 100-250 watts or more, depending on the power requirements of the connected devices. \n",
    "PoE: 25Wh - 62.5Wh per 15 minutes\n",
    "Non-PoE: 5Wh - 12.5Wh per 15 minutes\n",
    "    \n",
    " [HDD & SDD Source](https://dataspan.com/blog/how-much-energy-do-data-centers-use/#:~:text=Depending%20on%20disk%20size%2C%20an,around%206%20watts%20per%20disk.)   \n",
    "\n",
    "Depending on disk size, an HDD can use anywhere from 6 to 9 watts at maximum capacity. While this is lower than in previous years, power requirements for SSDs have remained mostly constant at around 6 watts per disk.\n",
    "\n",
    "HDD: 0.175Wh - 0.2625Wh per 15 minutes\n",
    "SSD: 0.175Wh per 15 minutes\n"
   ]
  },
  {
   "cell_type": "code",
   "execution_count": 4,
   "id": "e7911facea424b14",
   "metadata": {
    "ExecuteTime": {
     "end_time": "2024-07-03T11:21:12.709822Z",
     "start_time": "2024-07-03T11:21:12.699967Z"
    }
   },
   "outputs": [
    {
     "data": {
      "text/plain": [
       "Index(['Time', '01 General_Electric_Active Energy (kWh)',\n",
       "       '01 General_Electric_Active Power (kW)',\n",
       "       '01 General_Electric_Power Factor (real)',\n",
       "       '02 Production_Electric_Active Energy (kWh)',\n",
       "       '02 Production_Electric_Active Power (kW)',\n",
       "       '02 Production_Electric_Power Factor (real)',\n",
       "       '03 Chiller Group_Electric_Active Energy (kWh)',\n",
       "       '03 Chiller Group_Electric_Active Power (kW)',\n",
       "       '03 Chiller Group_Electric_Power Factor (real)',\n",
       "       '04 UTA_Electric_Active Energy (kWh)',\n",
       "       '04 UTA_Electric_Active Power (kW)',\n",
       "       '04 UTA_Electric_Power Factor (real)',\n",
       "       '05 Compressors_Electric_Active Energy (kWh)',\n",
       "       '05 Compressors_Electric_Active Power (kW)',\n",
       "       '05 Compressors_Electric_Power Factor (real)',\n",
       "       '06 Offices_Electric_Active Energy (kWh)',\n",
       "       '06 Offices_Electric_Active Power (kW)',\n",
       "       '06 Offices_Electric_Power Factor (real)',\n",
       "       '07 Data Center_Electric_Active Energy (kWh)',\n",
       "       '07 Data Center_Electric_Active Power (kW)',\n",
       "       '07 Data Center_Electric_Power Factor (real)',\n",
       "       '08 Technological Centers_Electric_Active Energy (kWh)',\n",
       "       '08 Technological Centers_Electric_Active Power (kW)',\n",
       "       '08 Technological Centers_Electric_Power Factor (real)',\n",
       "       'General_Electric_Active Energy (kWh)',\n",
       "       'General_Electric_Active Power (kW)',\n",
       "       'General_Electric_Power Factor (real)', 'sum_of_kWh', 'DataFrame Name',\n",
       "       'is_weekend', 'hour_sin', 'hour_cos', 'day_of_month_sin',\n",
       "       'day_of_month_cos', 'month_sin', 'month_cos', 'day_of_week_sin',\n",
       "       'day_of_week_cos', 'price_mWh', 'energy_cost_kWh', 'temp', 'humidity',\n",
       "       'precip', 'windspeed', 'uvindex', 'conditions', 'heat_index'],\n",
       "      dtype='object')"
      ]
     },
     "execution_count": 4,
     "metadata": {},
     "output_type": "execute_result"
    }
   ],
   "source": [
    " df.columns"
   ]
  },
  {
   "cell_type": "code",
   "execution_count": 5,
   "id": "334a8f508a7e2e0f",
   "metadata": {
    "ExecuteTime": {
     "end_time": "2024-07-03T11:22:08.375244Z",
     "start_time": "2024-07-03T11:22:08.342071Z"
    }
   },
   "outputs": [],
   "source": [
    "data_center_target = (df['07 Data Center_Electric_Active Energy (kWh)'])\n",
    "data_center_target.to_csv('data/target_variables/target_data_center.csv')"
   ]
  },
  {
   "cell_type": "markdown",
   "id": "d68e67cfc8f7020",
   "metadata": {},
   "source": [
    "## Synthesized dataset containing the following columns:\n",
    "\n",
    "total_data_center_consumption_kwh = β1*Number_of_active_servers + β2*Number_of_active_network_switches + β3*Number_of_active_hard_drives\n",
    "\n",
    "\t•\tNumber of active servers\n",
    "\t•\tNumber of active network switches (PoE)\n",
    "\t•\tNumber of active network switches (Non-PoE)\n",
    "\t•\tNumber of active hard drives (HDD)\n",
    "\t•\tNumber of active solid-state drives (SSD)\n",
    "\t•\tTotal energy consumption in kWh"
   ]
  },
  {
   "cell_type": "markdown",
   "id": "8ea253575c9233af",
   "metadata": {},
   "source": []
  },
  {
   "cell_type": "code",
   "execution_count": 6,
   "id": "edcb96621f67ef43",
   "metadata": {
    "ExecuteTime": {
     "end_time": "2024-07-02T19:07:49.705418Z",
     "start_time": "2024-07-02T19:07:49.682797Z"
    }
   },
   "outputs": [
    {
     "name": "stdout",
     "output_type": "stream",
     "text": [
      "   Number_of_active_servers  Number_of_active_network_switches_poe  \\\n",
      "0                        54                                      7   \n",
      "1                        48                                      9   \n",
      "2                        56                                      9   \n",
      "3                        65                                      8   \n",
      "4                        47                                      9   \n",
      "\n",
      "   Number_of_active_network_switches_non_poe  Number_of_active_hard_drives  \\\n",
      "0                                          5                            83   \n",
      "1                                          5                            88   \n",
      "2                                          6                           114   \n",
      "3                                          6                           112   \n",
      "4                                          3                            99   \n",
      "\n",
      "   Number_of_active_ssds  Total_energy_consumption_kwh  \n",
      "0                     34                      3.278679  \n",
      "1                     44                      3.030063  \n",
      "2                     50                      3.375065  \n",
      "3                     50                      4.004567  \n",
      "4                     45                      2.961232  \n"
     ]
    }
   ],
   "source": [
    "import numpy as np\n",
    "import pandas as pd\n",
    "\n",
    "# Define the number of records to generate\n",
    "num_records = 100  # Set to a desired number of records\n",
    "\n",
    "# Define the energy consumption per component per 15 minutes\n",
    "energy_consumption_per_15_min = {\n",
    "    'server': 0.05279680365,  # kWh per 15 minutes\n",
    "    'network_switch_poe': (25, 62.5),  # Wh per 15 minutes\n",
    "    'network_switch_non_poe': (5, 12.5),  # Wh per 15 minutes\n",
    "    'hdd': (0.175, 0.2625),  # Wh per 15 minutes\n",
    "    'ssd': 0.175  # Wh per 15 minutes\n",
    "}\n",
    "\n",
    "# Generate random numbers of each component within a realistic range\n",
    "np.random.seed(42)  # For reproducibility\n",
    "\n",
    "num_servers = np.maximum(np.random.normal(50, 10, num_records).astype(int), 0)\n",
    "num_network_switches_poe = np.maximum(np.random.normal(10, 2, num_records).astype(int), 0)\n",
    "num_network_switches_non_poe = np.maximum(np.random.normal(5, 1, num_records).astype(int), 0)\n",
    "num_hdds = np.maximum(np.random.normal(100, 20, num_records).astype(int), 0)\n",
    "num_ssds = np.maximum(np.random.normal(50, 10, num_records).astype(int), 0)\n",
    "\n",
    "# Calculate total energy consumption for each record\n",
    "total_energy_consumption_kwh = (\n",
    "    num_servers * energy_consumption_per_15_min['server'] +\n",
    "    num_network_switches_poe * np.random.uniform(energy_consumption_per_15_min['network_switch_poe'][0], energy_consumption_per_15_min['network_switch_poe'][1], num_records) / 1000 +\n",
    "    num_network_switches_non_poe * np.random.uniform(energy_consumption_per_15_min['network_switch_non_poe'][0], energy_consumption_per_15_min['network_switch_non_poe'][1], num_records) / 1000 +\n",
    "    num_hdds * np.random.uniform(energy_consumption_per_15_min['hdd'][0], energy_consumption_per_15_min['hdd'][1], num_records) / 1000 +\n",
    "    num_ssds * energy_consumption_per_15_min['ssd'] / 1000\n",
    ")\n",
    "\n",
    "# Create a DataFrame with the synthesized data\n",
    "synthesized_data = pd.DataFrame({\n",
    "    'Number_of_active_servers': num_servers,\n",
    "    'Number_of_active_network_switches_poe': num_network_switches_poe,\n",
    "    'Number_of_active_network_switches_non_poe': num_network_switches_non_poe,\n",
    "    'Number_of_active_hard_drives': num_hdds,\n",
    "    'Number_of_active_ssds': num_ssds,\n",
    "    'Total_energy_consumption_kwh': total_energy_consumption_kwh\n",
    "})\n",
    "\n",
    "# Display the synthesized data\n",
    "print(synthesized_data.head())\n",
    "\n",
    "# Save the synthesized data to a CSV file\n",
    "synthesized_data.to_csv('data/synthesized_data/data_center_synthesized.csv', index=False)"
   ]
  },
  {
   "cell_type": "markdown",
   "id": "419ac1f23c59f104",
   "metadata": {},
   "source": [
    "# Total energy Consumption Equation\n",
    "\n",
    "The total energy consumption ( P ) can be represented as:\n",
    "\n",
    "\\[ P = \\beta_1 \\cdot N_{\\text{servers}} + \\beta_2 \\cdot N_{\\text{network\\_switches\\poe}} + \\beta_3 \\cdot N{\\text{network\\_switches\\_non\\poe}} + \\beta_4 \\cdot N{\\text{hard\\drives}} + \\beta_5 \\cdot N{\\text{ssds}} \\]\n",
    "\n",
    "Where:\n",
    "\n",
    "\t•\t N_{\\text{servers}} = Number of active servers\n",
    "\t•\t N_{\\text{network\\_switches\\_poe}}  = Number of active network switches (PoE)\n",
    "\t•\t N_{\\text{network\\_switches\\_non\\_poe}}  = Number of active network switches (Non-PoE)\n",
    "\t•\t N_{\\text{hard\\_drives}}  = Number of active hard drives (HDD)\n",
    "\t•\t N_{\\text{ssds}}  = Number of active solid-state drives (SSD)\n",
    "\n",
    "And the coefficients are:\n",
    "\n",
    "\t•\t \\beta_1 = 0.05279680365  kWh per server per 15 minutes\n",
    "\t•\t \\beta_2  is a range between 25 Wh to 62.5 Wh per PoE switch per 15 minutes (converted to kWh)\n",
    "\t•\t \\beta_3  is a range between 5 Wh to 12.5 Wh per non-PoE switch per 15 minutes (converted to kWh)\n",
    "\t•\t \\beta_4  is a range between 0.175 Wh to 0.2625 Wh per HDD per 15 minutes (converted to kWh)\n",
    "\t•\t \\beta_5 = 0.175  Wh per SSD per 15 minutes (converted to kWh)\n"
   ]
  },
  {
   "cell_type": "code",
   "execution_count": 7,
   "id": "96e84ed64e0ce4a",
   "metadata": {
    "ExecuteTime": {
     "end_time": "2024-07-02T19:07:52.824333Z",
     "start_time": "2024-07-02T19:07:52.290196Z"
    }
   },
   "outputs": [
    {
     "name": "stdout",
     "output_type": "stream",
     "text": [
      "ERROR: Rule failed when generating expression for Constraint\n",
      "total_energy_consumption with index None: ValueError: Constraint\n",
      "'total_energy_consumption' does not have a proper value. Found\n",
      "'0.05279680365*N_servers + 0.0109375*N_network_switches_poe +\n",
      "0.0021875*N_network_switches_non_poe + 5.468750000000001e-05*N_hard_drives +\n",
      "4.375e-05*N_ssds' Expecting a tuple or relational expression. Examples:\n",
      "       sum(model.costs) == model.income (0, model.price[item], 50)\n",
      "ERROR: Constructing component 'total_energy_consumption' from data=None\n",
      "failed:\n",
      "        ValueError: Constraint 'total_energy_consumption' does not have a\n",
      "        proper value. Found '0.05279680365*N_servers +\n",
      "        0.0109375*N_network_switches_poe +\n",
      "        0.0021875*N_network_switches_non_poe +\n",
      "        5.468750000000001e-05*N_hard_drives + 4.375e-05*N_ssds'\n",
      "    Expecting a tuple or relational expression. Examples:\n",
      "       sum(model.costs) == model.income (0, model.price[item], 50)\n"
     ]
    },
    {
     "ename": "ValueError",
     "evalue": "Constraint 'total_energy_consumption' does not have a proper value. Found '0.05279680365*N_servers + 0.0109375*N_network_switches_poe + 0.0021875*N_network_switches_non_poe + 5.468750000000001e-05*N_hard_drives + 4.375e-05*N_ssds'\nExpecting a tuple or relational expression. Examples:\n   sum(model.costs) == model.income\n   (0, model.price[item], 50)",
     "output_type": "error",
     "traceback": [
      "\u001b[0;31m---------------------------------------------------------------------------\u001b[0m",
      "\u001b[0;31mValueError\u001b[0m                                Traceback (most recent call last)",
      "Cell \u001b[0;32mIn[7], line 25\u001b[0m\n\u001b[1;32m     22\u001b[0m beta4_avg \u001b[38;5;241m=\u001b[39m (beta4_min \u001b[38;5;241m+\u001b[39m beta4_max) \u001b[38;5;241m/\u001b[39m \u001b[38;5;241m2\u001b[39m\n\u001b[1;32m     24\u001b[0m \u001b[38;5;66;03m# Total energy consumption constraint\u001b[39;00m\n\u001b[0;32m---> 25\u001b[0m \u001b[43mmodel\u001b[49m\u001b[38;5;241;43m.\u001b[39;49m\u001b[43mtotal_energy_consumption\u001b[49m \u001b[38;5;241m=\u001b[39m Constraint(expr\u001b[38;5;241m=\u001b[39m\n\u001b[1;32m     26\u001b[0m     beta1 \u001b[38;5;241m*\u001b[39m model\u001b[38;5;241m.\u001b[39mN_servers \u001b[38;5;241m+\u001b[39m\n\u001b[1;32m     27\u001b[0m     beta2_avg \u001b[38;5;241m*\u001b[39m model\u001b[38;5;241m.\u001b[39mN_network_switches_poe \u001b[38;5;241m+\u001b[39m\n\u001b[1;32m     28\u001b[0m     beta3_avg \u001b[38;5;241m*\u001b[39m model\u001b[38;5;241m.\u001b[39mN_network_switches_non_poe \u001b[38;5;241m+\u001b[39m\n\u001b[1;32m     29\u001b[0m     beta4_avg \u001b[38;5;241m*\u001b[39m model\u001b[38;5;241m.\u001b[39mN_hard_drives \u001b[38;5;241m+\u001b[39m\n\u001b[1;32m     30\u001b[0m     beta5 \u001b[38;5;241m*\u001b[39m model\u001b[38;5;241m.\u001b[39mN_ssds\n\u001b[1;32m     31\u001b[0m )\n",
      "File \u001b[0;32m~/anaconda3/envs/vl_optimizer_1/lib/python3.12/site-packages/pyomo/core/base/block.py:571\u001b[0m, in \u001b[0;36mBlockData.__setattr__\u001b[0;34m(self, name, val)\u001b[0m\n\u001b[1;32m    566\u001b[0m \u001b[38;5;28;01mif\u001b[39;00m name \u001b[38;5;129;01mnot\u001b[39;00m \u001b[38;5;129;01min\u001b[39;00m \u001b[38;5;28mself\u001b[39m\u001b[38;5;241m.\u001b[39m\u001b[38;5;18m__dict__\u001b[39m:\n\u001b[1;32m    567\u001b[0m     \u001b[38;5;28;01mif\u001b[39;00m \u001b[38;5;28misinstance\u001b[39m(val, Component):\n\u001b[1;32m    568\u001b[0m         \u001b[38;5;66;03m#\u001b[39;00m\n\u001b[1;32m    569\u001b[0m         \u001b[38;5;66;03m# Pyomo components are added with the add_component method.\u001b[39;00m\n\u001b[1;32m    570\u001b[0m         \u001b[38;5;66;03m#\u001b[39;00m\n\u001b[0;32m--> 571\u001b[0m         \u001b[38;5;28;43mself\u001b[39;49m\u001b[38;5;241;43m.\u001b[39;49m\u001b[43madd_component\u001b[49m\u001b[43m(\u001b[49m\u001b[43mname\u001b[49m\u001b[43m,\u001b[49m\u001b[43m \u001b[49m\u001b[43mval\u001b[49m\u001b[43m)\u001b[49m\n\u001b[1;32m    572\u001b[0m     \u001b[38;5;28;01melse\u001b[39;00m:\n\u001b[1;32m    573\u001b[0m         \u001b[38;5;66;03m#\u001b[39;00m\n\u001b[1;32m    574\u001b[0m         \u001b[38;5;66;03m# Other Python objects are added with the standard __setattr__\u001b[39;00m\n\u001b[1;32m    575\u001b[0m         \u001b[38;5;66;03m# method.\u001b[39;00m\n\u001b[1;32m    576\u001b[0m         \u001b[38;5;66;03m#\u001b[39;00m\n\u001b[1;32m    577\u001b[0m         \u001b[38;5;28msuper\u001b[39m(BlockData, \u001b[38;5;28mself\u001b[39m)\u001b[38;5;241m.\u001b[39m\u001b[38;5;21m__setattr__\u001b[39m(name, val)\n",
      "File \u001b[0;32m~/anaconda3/envs/vl_optimizer_1/lib/python3.12/site-packages/pyomo/core/base/block.py:1116\u001b[0m, in \u001b[0;36mBlockData.add_component\u001b[0;34m(self, name, val)\u001b[0m\n\u001b[1;32m   1108\u001b[0m     logger\u001b[38;5;241m.\u001b[39mdebug(\n\u001b[1;32m   1109\u001b[0m         \u001b[38;5;124m\"\u001b[39m\u001b[38;5;124mConstructing \u001b[39m\u001b[38;5;132;01m%s\u001b[39;00m\u001b[38;5;124m \u001b[39m\u001b[38;5;124m'\u001b[39m\u001b[38;5;132;01m%s\u001b[39;00m\u001b[38;5;124m'\u001b[39m\u001b[38;5;124m on \u001b[39m\u001b[38;5;132;01m%s\u001b[39;00m\u001b[38;5;124m from data=\u001b[39m\u001b[38;5;132;01m%s\u001b[39;00m\u001b[38;5;124m\"\u001b[39m,\n\u001b[1;32m   1110\u001b[0m         val\u001b[38;5;241m.\u001b[39m\u001b[38;5;18m__class__\u001b[39m\u001b[38;5;241m.\u001b[39m\u001b[38;5;18m__name__\u001b[39m,\n\u001b[0;32m   (...)\u001b[0m\n\u001b[1;32m   1113\u001b[0m         \u001b[38;5;28mstr\u001b[39m(data),\n\u001b[1;32m   1114\u001b[0m     )\n\u001b[1;32m   1115\u001b[0m \u001b[38;5;28;01mtry\u001b[39;00m:\n\u001b[0;32m-> 1116\u001b[0m     \u001b[43mval\u001b[49m\u001b[38;5;241;43m.\u001b[39;49m\u001b[43mconstruct\u001b[49m\u001b[43m(\u001b[49m\u001b[43mdata\u001b[49m\u001b[43m)\u001b[49m\n\u001b[1;32m   1117\u001b[0m \u001b[38;5;28;01mexcept\u001b[39;00m:\n\u001b[1;32m   1118\u001b[0m     err \u001b[38;5;241m=\u001b[39m sys\u001b[38;5;241m.\u001b[39mexc_info()[\u001b[38;5;241m1\u001b[39m]\n",
      "File \u001b[0;32m~/anaconda3/envs/vl_optimizer_1/lib/python3.12/site-packages/pyomo/core/base/disable_methods.py:124\u001b[0m, in \u001b[0;36mdisable_methods.<locals>.class_decorator.<locals>.construct\u001b[0;34m(self, data)\u001b[0m\n\u001b[1;32m    122\u001b[0m     \u001b[38;5;28mself\u001b[39m\u001b[38;5;241m.\u001b[39m_name \u001b[38;5;241m=\u001b[39m base\u001b[38;5;241m.\u001b[39m\u001b[38;5;18m__name__\u001b[39m\n\u001b[1;32m    123\u001b[0m \u001b[38;5;28mself\u001b[39m\u001b[38;5;241m.\u001b[39m\u001b[38;5;18m__class__\u001b[39m \u001b[38;5;241m=\u001b[39m base\n\u001b[0;32m--> 124\u001b[0m \u001b[38;5;28;01mreturn\u001b[39;00m \u001b[43mbase\u001b[49m\u001b[38;5;241;43m.\u001b[39;49m\u001b[43mconstruct\u001b[49m\u001b[43m(\u001b[49m\u001b[38;5;28;43mself\u001b[39;49m\u001b[43m,\u001b[49m\u001b[43m \u001b[49m\u001b[43mdata\u001b[49m\u001b[43m)\u001b[49m\n",
      "File \u001b[0;32m~/anaconda3/envs/vl_optimizer_1/lib/python3.12/site-packages/pyomo/core/base/constraint.py:720\u001b[0m, in \u001b[0;36mConstraint.construct\u001b[0;34m(self, data)\u001b[0m\n\u001b[1;32m    717\u001b[0m     \u001b[38;5;28;01melse\u001b[39;00m:\n\u001b[1;32m    718\u001b[0m         \u001b[38;5;66;03m# Bypass the index validation and create the member directly\u001b[39;00m\n\u001b[1;32m    719\u001b[0m         \u001b[38;5;28;01mfor\u001b[39;00m index \u001b[38;5;129;01min\u001b[39;00m \u001b[38;5;28mself\u001b[39m\u001b[38;5;241m.\u001b[39mindex_set():\n\u001b[0;32m--> 720\u001b[0m             \u001b[38;5;28;43mself\u001b[39;49m\u001b[38;5;241;43m.\u001b[39;49m\u001b[43m_setitem_when_not_present\u001b[49m\u001b[43m(\u001b[49m\u001b[43mindex\u001b[49m\u001b[43m,\u001b[49m\u001b[43m \u001b[49m\u001b[43mrule\u001b[49m\u001b[43m(\u001b[49m\u001b[43mblock\u001b[49m\u001b[43m,\u001b[49m\u001b[43m \u001b[49m\u001b[43mindex\u001b[49m\u001b[43m)\u001b[49m\u001b[43m)\u001b[49m\n\u001b[1;32m    721\u001b[0m \u001b[38;5;28;01mexcept\u001b[39;00m \u001b[38;5;167;01mException\u001b[39;00m:\n\u001b[1;32m    722\u001b[0m     err \u001b[38;5;241m=\u001b[39m sys\u001b[38;5;241m.\u001b[39mexc_info()[\u001b[38;5;241m1\u001b[39m]\n",
      "File \u001b[0;32m~/anaconda3/envs/vl_optimizer_1/lib/python3.12/site-packages/pyomo/core/base/indexed_component.py:1107\u001b[0m, in \u001b[0;36mIndexedComponent._setitem_when_not_present\u001b[0;34m(self, index, value)\u001b[0m\n\u001b[1;32m   1105\u001b[0m \u001b[38;5;28;01mtry\u001b[39;00m:\n\u001b[1;32m   1106\u001b[0m     \u001b[38;5;28;01mif\u001b[39;00m value \u001b[38;5;129;01mis\u001b[39;00m \u001b[38;5;129;01mnot\u001b[39;00m _NotSpecified:\n\u001b[0;32m-> 1107\u001b[0m         \u001b[43mobj\u001b[49m\u001b[38;5;241;43m.\u001b[39;49m\u001b[43mset_value\u001b[49m\u001b[43m(\u001b[49m\u001b[43mvalue\u001b[49m\u001b[43m)\u001b[49m\n\u001b[1;32m   1108\u001b[0m \u001b[38;5;28;01mexcept\u001b[39;00m:\n\u001b[1;32m   1109\u001b[0m     \u001b[38;5;28mself\u001b[39m\u001b[38;5;241m.\u001b[39m_data\u001b[38;5;241m.\u001b[39mpop(index, \u001b[38;5;28;01mNone\u001b[39;00m)\n",
      "File \u001b[0;32m~/anaconda3/envs/vl_optimizer_1/lib/python3.12/site-packages/pyomo/core/base/constraint.py:888\u001b[0m, in \u001b[0;36mScalarConstraint.set_value\u001b[0;34m(self, expr)\u001b[0m\n\u001b[1;32m    886\u001b[0m \u001b[38;5;28;01mif\u001b[39;00m \u001b[38;5;129;01mnot\u001b[39;00m \u001b[38;5;28mself\u001b[39m\u001b[38;5;241m.\u001b[39m_data:\n\u001b[1;32m    887\u001b[0m     \u001b[38;5;28mself\u001b[39m\u001b[38;5;241m.\u001b[39m_data[\u001b[38;5;28;01mNone\u001b[39;00m] \u001b[38;5;241m=\u001b[39m \u001b[38;5;28mself\u001b[39m\n\u001b[0;32m--> 888\u001b[0m \u001b[38;5;28;01mreturn\u001b[39;00m \u001b[38;5;28;43msuper\u001b[39;49m\u001b[43m(\u001b[49m\u001b[43mScalarConstraint\u001b[49m\u001b[43m,\u001b[49m\u001b[43m \u001b[49m\u001b[38;5;28;43mself\u001b[39;49m\u001b[43m)\u001b[49m\u001b[38;5;241;43m.\u001b[39;49m\u001b[43mset_value\u001b[49m\u001b[43m(\u001b[49m\u001b[43mexpr\u001b[49m\u001b[43m)\u001b[49m\n",
      "File \u001b[0;32m~/anaconda3/envs/vl_optimizer_1/lib/python3.12/site-packages/pyomo/core/base/constraint.py:424\u001b[0m, in \u001b[0;36mConstraintData.set_value\u001b[0;34m(self, expr)\u001b[0m\n\u001b[1;32m    416\u001b[0m     \u001b[38;5;28;01mif\u001b[39;00m \u001b[38;5;28mself\u001b[39m\u001b[38;5;241m.\u001b[39m_expr \u001b[38;5;129;01mis\u001b[39;00m \u001b[38;5;28;01mNone\u001b[39;00m:\n\u001b[1;32m    417\u001b[0m         msg \u001b[38;5;241m=\u001b[39m (\n\u001b[1;32m    418\u001b[0m             \u001b[38;5;124m\"\u001b[39m\u001b[38;5;124mConstraint \u001b[39m\u001b[38;5;124m'\u001b[39m\u001b[38;5;132;01m%s\u001b[39;00m\u001b[38;5;124m'\u001b[39m\u001b[38;5;124m does not have a proper \u001b[39m\u001b[38;5;124m\"\u001b[39m\n\u001b[1;32m    419\u001b[0m             \u001b[38;5;124m\"\u001b[39m\u001b[38;5;124mvalue. Found \u001b[39m\u001b[38;5;124m'\u001b[39m\u001b[38;5;132;01m%s\u001b[39;00m\u001b[38;5;124m'\u001b[39m\u001b[38;5;130;01m\\n\u001b[39;00m\u001b[38;5;124mExpecting a tuple or \u001b[39m\u001b[38;5;124m\"\u001b[39m\n\u001b[0;32m   (...)\u001b[0m\n\u001b[1;32m    422\u001b[0m             \u001b[38;5;124m\"\u001b[39m\u001b[38;5;130;01m\\n\u001b[39;00m\u001b[38;5;124m   (0, model.price[item], 50)\u001b[39m\u001b[38;5;124m\"\u001b[39m \u001b[38;5;241m%\u001b[39m (\u001b[38;5;28mself\u001b[39m\u001b[38;5;241m.\u001b[39mname, \u001b[38;5;28mstr\u001b[39m(expr))\n\u001b[1;32m    423\u001b[0m         )\n\u001b[0;32m--> 424\u001b[0m         \u001b[38;5;28;01mraise\u001b[39;00m \u001b[38;5;167;01mValueError\u001b[39;00m(msg)\n\u001b[1;32m    425\u001b[0m \u001b[38;5;66;03m#\u001b[39;00m\n\u001b[1;32m    426\u001b[0m \u001b[38;5;66;03m# Normalize the incoming expressions, if we can\u001b[39;00m\n\u001b[1;32m    427\u001b[0m \u001b[38;5;66;03m#\u001b[39;00m\n\u001b[1;32m    428\u001b[0m args \u001b[38;5;241m=\u001b[39m \u001b[38;5;28mself\u001b[39m\u001b[38;5;241m.\u001b[39m_expr\u001b[38;5;241m.\u001b[39margs\n",
      "\u001b[0;31mValueError\u001b[0m: Constraint 'total_energy_consumption' does not have a proper value. Found '0.05279680365*N_servers + 0.0109375*N_network_switches_poe + 0.0021875*N_network_switches_non_poe + 5.468750000000001e-05*N_hard_drives + 4.375e-05*N_ssds'\nExpecting a tuple or relational expression. Examples:\n   sum(model.costs) == model.income\n   (0, model.price[item], 50)"
     ]
    }
   ],
   "source": [
    "from pyomo.environ import *\n",
    "\n",
    "model = ConcreteModel()\n",
    "\n",
    "# Decision Variables\n",
    "model.N_servers = Var(domain=NonNegativeIntegers)\n",
    "model.N_network_switches_poe = Var(domain=NonNegativeIntegers)\n",
    "model.N_network_switches_non_poe = Var(domain=NonNegativeIntegers)\n",
    "model.N_hard_drives = Var(domain=NonNegativeIntegers)\n",
    "model.N_ssds = Var(domain=NonNegativeIntegers)\n",
    "\n",
    "# Coefficients\n",
    "beta1 = 0.05279680365\n",
    "beta2_min, beta2_max = 25 / 1000 / 4, 62.5 / 1000 / 4  # convert Wh to kWh and per 15 min\n",
    "beta3_min, beta3_max = 5 / 1000 / 4, 12.5 / 1000 / 4  # convert Wh to kWh and per 15 min\n",
    "beta4_min, beta4_max = 0.175 / 1000 / 4, 0.2625 / 1000 / 4  # convert Wh to kWh and per 15 min\n",
    "beta5 = 0.175 / 1000 / 4  # convert Wh to kWh and per 15 min\n",
    "\n",
    "# Define ranges for coefficients to use the average for the constraints\n",
    "beta2_avg = (beta2_min + beta2_max) / 2\n",
    "beta3_avg = (beta3_min + beta3_max) / 2\n",
    "beta4_avg = (beta4_min + beta4_max) / 2\n",
    "\n",
    "# Total energy consumption constraint\n",
    "model.total_energy_consumption = Constraint(expr=\n",
    "    beta1 * model.N_servers +\n",
    "    beta2_avg * model.N_network_switches_poe +\n",
    "    beta3_avg * model.N_network_switches_non_poe +\n",
    "    beta4_avg * model.N_hard_drives +\n",
    "    beta5 * model.N_ssds\n",
    ")"
   ]
  },
  {
   "cell_type": "markdown",
   "id": "ca03bac67e9eb9f1",
   "metadata": {},
   "source": [
    "To create a simple equation for the minimum number of active hardware based on the time of day, we can consider different times and the corresponding minimum requirements for each type of hardware. Let's define some time-based categories and their respective minimum requirements. For simplicity, let's divide the day into three periods: peak hours, off-peak hours, and regular hours.\n",
    "\n",
    "### Time Periods:\n",
    "1. **Peak Hours (e.g., 8 AM - 6 PM)**\n",
    "2. **Regular Hours (e.g., 6 PM - 10 PM)**\n",
    "3. **Off-Peak Hours (e.g., 10 PM - 8 AM)**\n",
    "\n",
    "### Assumptions:\n",
    "- Peak Hours require the highest number of active hardware.\n",
    "- Regular Hours require a moderate number of active hardware.\n",
    "- Off-Peak Hours require the lowest number of active hardware.\n",
    "\n",
    "### Base Minimum Numbers:\n",
    "These numbers should be adjusted based on your specific operational needs. For illustration:\n",
    "\n",
    "- **Number of Servers:**\n",
    "  - Peak Hours: 50\n",
    "  - Regular Hours: 40\n",
    "  - Off-Peak Hours: 30\n",
    "\n",
    "- **Number of Network Switches (PoE):**\n",
    "  - Peak Hours: 10\n",
    "  - Regular Hours: 8\n",
    "  - Off-Peak Hours: 6\n",
    "\n",
    "- **Number of Network Switches (Non-PoE):**\n",
    "  - Peak Hours: 5\n",
    "  - Regular Hours: 4\n",
    "  - Off-Peak Hours: 3\n",
    "\n",
    "- **Number of Hard Drives (HDD):**\n",
    "  - Peak Hours: 100\n",
    "  - Regular Hours: 80\n",
    "  - Off-Peak Hours: 60\n",
    "\n",
    "- **Number of SSDs:**\n",
    "  - Peak Hours: 50\n",
    "  - Regular Hours: 40\n",
    "  - Off-Peak Hours: 30\n",
    "\n",
    "### Equations:\n",
    "Let \\( t \\) be the time of day in hours (0-23).\n",
    "\n",
    "1. **Number of Active Servers (\\( N_s \\))**:\n",
    "\\[ \n",
    "N_s = \n",
    "\\begin{cases} \n",
    "50 & \\text{if } 8 \\leq t < 18 \\\\\n",
    "40 & \\text{if } 18 \\leq t < 22 \\\\\n",
    "30 & \\text{if } 22 \\leq t < 8 \n",
    "\\end{cases}\n",
    "\\]\n",
    "\n",
    "2. **Number of Active Network Switches (PoE) (\\( N_{ns\\_poe} \\))**:\n",
    "\\[ \n",
    "N_{ns\\_poe} = \n",
    "\\begin{cases} \n",
    "10 & \\text{if } 8 \\leq t < 18 \\\\\n",
    "8 & \\text{if } 18 \\leq t < 22 \\\\\n",
    "6 & \\text{if } 22 \\leq t < 8 \n",
    "\\end{cases}\n",
    "\\]\n",
    "\n",
    "3. **Number of Active Network Switches (Non-PoE) (\\( N_{ns\\_non\\_poe} \\))**:\n",
    "\\[ \n",
    "N_{ns\\_non\\_poe} = \n",
    "\\begin{cases} \n",
    "5 & \\text{if } 8 \\leq t < 18 \\\\\n",
    "4 & \\text{if } 18 \\leq t < 22 \\\\\n",
    "3 & \\text{if } 22 \\leq t < 8 \n",
    "\\end{cases}\n",
    "\\]\n",
    "\n",
    "4. **Number of Active Hard Drives (HDD) (\\( N_{hdd} \\))**:\n",
    "\\[ \n",
    "N_{hdd} = \n",
    "\\begin{cases} \n",
    "100 & \\text{if } 8 \\leq t < 18 \\\\\n",
    "80 & \\text{if } 18 \\leq t < 22 \\\\\n",
    "60 & \\text{if } 22 \\leq t < 8 \n",
    "\\end{cases}\n",
    "\\]\n",
    "\n",
    "5. **Number of Active SSDs (\\( N_{ssd} \\))**:\n",
    "\\[ \n",
    "N_{ssd} = \n",
    "\\begin{cases} \n",
    "50 & \\text{if } 8 \\leq t < 18 \\\\\n",
    "40 & \\text{if } 18 \\leq t < 22 \\\\\n",
    "30 & \\text{if } 22 \\leq t < 8 \n",
    "\\end{cases}\n",
    "\\]\n",
    "\n",
    "Using these equations, you can adjust the minimum number of active hardware based on the time of day. You can tailor these numbers further based on your specific operational data and requirements."
   ]
  },
  {
   "cell_type": "code",
   "execution_count": null,
   "id": "4193462596130cdf",
   "metadata": {},
   "outputs": [],
   "source": [
    "from pyomo.environ import ConcreteModel, Var, Constraint, NonNegativeIntegers, Objective, minimize\n",
    "\n",
    "def get_min_active_hardware(time_of_day):\n",
    "    if 8 <= time_of_day < 18:\n",
    "        return {\n",
    "            \"servers\": 50,\n",
    "            \"network_switches_poe\": 10,\n",
    "            \"network_switches_non_poe\": 5,\n",
    "            \"hard_drives\": 100,\n",
    "            \"ssds\": 50\n",
    "        }\n",
    "    elif 18 <= time_of_day < 22:\n",
    "        return {\n",
    "            \"servers\": 40,\n",
    "            \"network_switches_poe\": 8,\n",
    "            \"network_switches_non_poe\": 4,\n",
    "            \"hard_drives\": 80,\n",
    "            \"ssds\": 40\n",
    "        }\n",
    "    else:\n",
    "        return {\n",
    "            \"servers\": 30,\n",
    "            \"network_switches_poe\": 6,\n",
    "            \"network_switches_non_poe\": 3,\n",
    "            \"hard_drives\": 60,\n",
    "            \"ssds\": 30\n",
    "        }\n",
    "\n",
    "def create_model(time_of_day):\n",
    "    min_hardware = get_min_active_hardware(time_of_day)\n",
    "    \n",
    "    model = ConcreteModel()\n",
    "    \n",
    "    # Define variables\n",
    "    model.servers = Var(within=NonNegativeIntegers)\n",
    "    model.network_switches_poe = Var(within=NonNegativeIntegers)\n",
    "    model.network_switches_non_poe = Var(within=NonNegativeIntegers)\n",
    "    model.hard_drives = Var(within=NonNegativeIntegers)\n",
    "    model.ssds = Var(within=NonNegativeIntegers)\n",
    "    \n",
    "    # Define constraints based on minimum hardware requirements\n",
    "    model.min_servers = Constraint(expr=model.servers >= min_hardware['servers'])\n",
    "    model.min_network_switches_poe = Constraint(expr=model.network_switches_poe >= min_hardware['network_switches_poe'])\n",
    "    model.min_network_switches_non_poe = Constraint(expr=model.network_switches_non_poe >= min_hardware['network_switches_non_poe'])\n",
    "    model.min_hard_drives = Constraint(expr=model.hard_drives >= min_hardware['hard_drives'])\n",
    "    model.min_ssds = Constraint(expr=model.ssds >= min_hardware['ssds'])\n",
    "    \n",
    "    # Example objective: Minimize total number of components\n",
    "    model.objective = Objective(expr=model.servers + model.network_switches_poe + model.network_switches_non_poe + model.hard_drives + model.ssds, sense=minimize)\n",
    "    \n",
    "    return model\n",
    "\n",
    "# Example usage:\n",
    "time_of_day = 10  # Example time of day\n",
    "model = create_model(time_of_day)\n",
    "\n",
    "# Solve the model (you need a solver for this part)\n",
    "from pyomo.opt import SolverFactory\n",
    "solver = SolverFactory('glpk')  # Ensure you have the solver installed\n",
    "result = solver.solve(model)\n",
    "\n",
    "# Display results\n",
    "model.servers.display()\n",
    "model.network_switches_poe.display()\n",
    "model.network_switches_non_poe.display()\n",
    "model.hard_drives.display()\n",
    "model.ssds.display()"
   ]
  }
 ],
 "metadata": {
  "kernelspec": {
   "display_name": "Python 3",
   "language": "python",
   "name": "python3"
  },
  "language_info": {
   "codemirror_mode": {
    "name": "ipython",
    "version": 3
   },
   "file_extension": ".py",
   "mimetype": "text/x-python",
   "name": "python",
   "nbconvert_exporter": "python",
   "pygments_lexer": "ipython3",
   "version": "3.11.5"
  }
 },
 "nbformat": 4,
 "nbformat_minor": 5
}
