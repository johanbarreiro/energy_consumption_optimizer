{
 "cells": [
  {
   "cell_type": "markdown",
   "id": "419ac1f23c59f104",
   "metadata": {},
   "source": [
    "# Total Energy Consumption Equation\n",
    "\n",
    "The total energy consumption ( $P$ ) can be represented as:\n",
    "\n",
    "$$\n",
    "P = \\beta_1 \\cdot N_{\\text{servers}} + \\beta_2 \\cdot N_{\\text{network\\_switches\\_poe}} + \\beta_3 \\cdot N_{\\text{network\\_switches\\_non\\_poe}} + \\beta_4 \\cdot N_{\\text{hard\\_drives}} + \\beta_5 \\cdot N_{\\text{ssds}}\n",
    "$$\n",
    "\n",
    "Where:\n",
    "\n",
    "- $N_{\\text{servers}}$ = Number of active servers\n",
    "- $N_{\\text{network\\_switches\\_poe}}$ = Number of active network switches (PoE) aggregated with non-PoE\n",
    "- $N_{\\text{network\\_switches\\_non\\_poe}}$ = Number of active network switches (Non-PoE) aggregated with PoE\n",
    "- $N_{\\text{hard\\_drives}}$ = Number of active hard drives (HDD)\n",
    "- $N_{\\text{ssds}}$ = Number of active solid-state drives (SSD)\n",
    "\n",
    "And the coefficients are:\n",
    "\n",
    "- $\\beta_1$ = 0.2111872146 kWh per server per hour\n",
    "- $\\beta_2$ is an average of 0.1 kWh to 0.25 kWh per PoE switch per hour\n",
    "- $\\beta_3$ is an average of 0.02 kWh to 0.05 kWh per non-PoE switch per hour\n",
    "- $\\beta_4$ is an average of 0.007 kWh to 0.0105 kWh per HDD per hour\n",
    "- $\\beta_5$ = 0.007 kWh per SSD per hour\n",
    "\n",
    "### Sources\n",
    "[Server Source](https://cc-techgroup.com/data-center-energy-consumption/#:~:text=this%20work%20efficiently.-,How%20Many%20kWh%20Does%20a%20Server%20Use%3F,to%201%2C900%20kWh%20every%20year.)\n",
    "\n",
    "Average annual power may be around 1,800 to 1,900 kWh every year per server (divide by 365 then 24 then 4): 0.2111872146 kWh per hour\n",
    "\n",
    "[Network Switch Source](https://www.genuinemodules.com/how-much-power-does-a-24-port-switch-use_a8539#:~:text=However%2C%20as%20a%20general%20estimate,requirements%20of%20the%20connected%20devices.)\n",
    "\n",
    "However, as a general estimate, a non-PoE 24 port switch may consume around 20-50 watts of power, while a PoE-enabled switch may consume around 100-250 watts or more, depending on the power requirements of the connected devices.\n",
    "PoE: 0.1 kWh - 0.25 kWh per hour\n",
    "Non-PoE: 0.02 kWh - 0.05 kWh per hour\n",
    "\n",
    "[HDD & SDD Source](https://dataspan.com/blog/how-much-energy-do-data-centers-use/#:~:text=Depending%20on%20disk%20size%2C%20an,around%206%20watts%20per%20disk.)\n",
    "\n",
    "Depending on disk size, an HDD can use anywhere from 6 to 9 watts at maximum capacity. While this is lower than in previous years, power requirements for SSDs have remained mostly constant at around 6 watts per disk.\n",
    "\n",
    "HDD: 0.007 kWh - 0.0105 kWh per hour\n",
    "SSD: 0.007 kWh per hour"
   ]
  },
  {
   "cell_type": "code",
   "execution_count": 1,
   "id": "478608bf8bb114ac",
   "metadata": {
    "ExecuteTime": {
     "end_time": "2024-07-07T20:26:54.539544Z",
     "start_time": "2024-07-07T20:26:54.534177Z"
    }
   },
   "outputs": [
    {
     "name": "stdout",
     "output_type": "stream",
     "text": [
      "c:\\Users\\Usuario\\OneDrive\\Documents\\IE\\3. Trimestre\\Venture Lab & Capstone\\Capstone\\Tech side\\vl_optimizer\n"
     ]
    }
   ],
   "source": [
    "cd .."
   ]
  },
  {
   "cell_type": "code",
   "execution_count": 2,
   "id": "dde9f6166acf9d97",
   "metadata": {
    "ExecuteTime": {
     "end_time": "2024-07-07T20:26:54.795715Z",
     "start_time": "2024-07-07T20:26:54.541591Z"
    }
   },
   "outputs": [
    {
     "data": {
      "text/plain": [
       "['equation_modeling/models/data_center_consumption_model.joblib']"
      ]
     },
     "execution_count": 2,
     "metadata": {},
     "output_type": "execute_result"
    }
   ],
   "source": [
    "import joblib\n",
    "\n",
    "def calculate_energy(server_count, network_switch_count, hdd_count, ssd_count):\n",
    "    power_consumption_per_hour = {\n",
    "    'server': 0.2111872146,  # kWh per hour\n",
    "    # 'network_switch': (0.1748 + 0.035) / 2,  # kWh per hour\n",
    "    'network_switch_poe': (((100 / 1000 ) + (249.6 / 1000))/2),  # Convert Wh to kWh per hour\n",
    "    'network_switch_non_poe': (((20 / 1000 ) + (50 / 1000))/2),  # Convert Wh to kWh per hour\n",
    "    'hdd': (((0.7 / 1000 ) + (1.05 / 1000))/2),  # Convert Wh to kWh per hour\n",
    "    'ssd': 0.7 / 1000  # Convert Wh to kWh per hour\n",
    "}\n",
    "    \n",
    "    total_energy = (\n",
    "        server_count * power_consumption_per_hour['server'] +\n",
    "        network_switch_count * power_consumption_per_hour['network_switch'] +\n",
    "        hdd_count * power_consumption_per_hour['hdd'] +\n",
    "        ssd_count * power_consumption_per_hour['ssd']\n",
    "    )\n",
    "    \n",
    "    return total_energy\n",
    "\n",
    "features = ['server', 'network_switch_poe', 'network_switch_non_poe', 'hdd', 'ssd']\n",
    "coefficients = {\n",
    "    'server': 0.2111872146,  # kWh per hour\n",
    "    # 'network_switch': (0.1748 + 0.035) / 2,  # kWh per hour\n",
    "    'network_switch_poe': (((100 / 1000 ) + (249.6 / 1000))/2),  # Convert Wh to kWh per hour\n",
    "    'network_switch_non_poe': (((20 / 1000 ) + (50 / 1000))/2),  # Convert Wh to kWh per hour\n",
    "    'hdd': (((0.7 / 1000 ) + (1.05 / 1000))/2),  # Convert Wh to kWh per hour\n",
    "    'ssd': 0.7 / 1000  # Convert Wh to kWh per hour\n",
    "}\n",
    "\n",
    "model_params = {\n",
    "    'coefficients': coefficients,\n",
    "    'features': features\n",
    "}\n",
    "\n",
    "model_filename = 'equation_modeling/models/data_center_consumption_model.joblib'\n",
    "joblib.dump(model_params, model_filename)\n",
    "\n"
   ]
  },
  {
   "cell_type": "code",
   "execution_count": 3,
   "id": "d222d736aaf734f",
   "metadata": {
    "ExecuteTime": {
     "end_time": "2024-07-07T21:04:35.185650Z",
     "start_time": "2024-07-07T21:04:35.179011Z"
    }
   },
   "outputs": [
    {
     "name": "stdout",
     "output_type": "stream",
     "text": [
      "{'coefficients': {'server': 0.2111872146, 'network_switch_poe': 0.1748, 'network_switch_non_poe': 0.035, 'hdd': 0.0008750000000000001, 'ssd': 0.0007}, 'features': ['server', 'network_switch_poe', 'network_switch_non_poe', 'hdd', 'ssd']}\n"
     ]
    }
   ],
   "source": [
    "data_center_model = joblib.load('equation_modeling/models/data_center_consumption_model.joblib')\n",
    "\n",
    "print(data_center_model)"
   ]
  },
  {
   "cell_type": "markdown",
   "id": "ca03bac67e9eb9f1",
   "metadata": {},
   "source": [
    "To create a simple equation for the minimum number of active hardware based on the time of day, we can consider different times and the corresponding minimum requirements for each type of hardware. Let's define some time-based categories and their respective minimum requirements. For simplicity, let's divide the day into three periods: peak hours, off-peak hours, and regular hours.\n",
    "\n",
    "### Time Periods:\n",
    "1. **Peak Hours (e.g., 8 AM - 6 PM)**\n",
    "2. **Regular Hours (e.g., 6 PM - 10 PM)**\n",
    "3. **Off-Peak Hours (e.g., 10 PM - 8 AM)**\n",
    "\n",
    "### Assumptions:\n",
    "- Peak Hours require the highest number of active hardware.\n",
    "- Regular Hours require a moderate number of active hardware.\n",
    "- Off-Peak Hours require the lowest number of active hardware.\n",
    "\n",
    "### Base Minimum Numbers:\n",
    "These numbers should be adjusted based on your specific operational needs. For illustration:\n",
    "\n",
    "- **Number of Servers:**\n",
    "  - Peak Hours: 50\n",
    "  - Regular Hours: 40\n",
    "  - Off-Peak Hours: 30\n",
    "\n",
    "- **Number of Network Switches (PoE):**\n",
    "  - Peak Hours: 10\n",
    "  - Regular Hours: 8\n",
    "  - Off-Peak Hours: 6\n",
    "\n",
    "- **Number of Network Switches (Non-PoE):**\n",
    "  - Peak Hours: 5\n",
    "  - Regular Hours: 4\n",
    "  - Off-Peak Hours: 3\n",
    "\n",
    "- **Number of Hard Drives (HDD):**\n",
    "  - Peak Hours: 100\n",
    "  - Regular Hours: 80\n",
    "  - Off-Peak Hours: 60\n",
    "\n",
    "- **Number of SSDs:**\n",
    "  - Peak Hours: 50\n",
    "  - Regular Hours: 40\n",
    "  - Off-Peak Hours: 30\n",
    "\n",
    "### Equations:\n",
    "Let \\( t \\) be the time of day in hours (0-23).\n",
    "\n",
    "1. **Number of Active Servers (\\( N_s \\))**:\n",
    "\\[ \n",
    "N_s = \n",
    "\\begin{cases} \n",
    "50 & \\text{if } 8 \\leq t < 18 \\\\\n",
    "40 & \\text{if } 18 \\leq t < 22 \\\\\n",
    "30 & \\text{if } 22 \\leq t < 8 \n",
    "\\end{cases}\n",
    "\\]\n",
    "\n",
    "2. **Number of Active Network Switches (PoE) (\\( N_{ns\\_poe} \\))**:\n",
    "\\[ \n",
    "N_{ns\\_poe} = \n",
    "\\begin{cases} \n",
    "10 & \\text{if } 8 \\leq t < 18 \\\\\n",
    "8 & \\text{if } 18 \\leq t < 22 \\\\\n",
    "6 & \\text{if } 22 \\leq t < 8 \n",
    "\\end{cases}\n",
    "\\]\n",
    "\n",
    "3. **Number of Active Network Switches (Non-PoE) (\\( N_{ns\\_non\\_poe} \\))**:\n",
    "\\[ \n",
    "N_{ns\\_non\\_poe} = \n",
    "\\begin{cases} \n",
    "5 & \\text{if } 8 \\leq t < 18 \\\\\n",
    "4 & \\text{if } 18 \\leq t < 22 \\\\\n",
    "3 & \\text{if } 22 \\leq t < 8 \n",
    "\\end{cases}\n",
    "\\]\n",
    "\n",
    "4. **Number of Active Hard Drives (HDD) (\\( N_{hdd} \\))**:\n",
    "\\[ \n",
    "N_{hdd} = \n",
    "\\begin{cases} \n",
    "100 & \\text{if } 8 \\leq t < 18 \\\\\n",
    "80 & \\text{if } 18 \\leq t < 22 \\\\\n",
    "60 & \\text{if } 22 \\leq t < 8 \n",
    "\\end{cases}\n",
    "\\]\n",
    "\n",
    "5. **Number of Active SSDs (\\( N_{ssd} \\))**:\n",
    "\\[ \n",
    "N_{ssd} = \n",
    "\\begin{cases} \n",
    "50 & \\text{if } 8 \\leq t < 18 \\\\\n",
    "40 & \\text{if } 18 \\leq t < 22 \\\\\n",
    "30 & \\text{if } 22 \\leq t < 8 \n",
    "\\end{cases}\n",
    "\\]\n",
    "\n",
    "Using these equations, you can adjust the minimum number of active hardware based on the time of day. You can tailor these numbers further based on your specific operational data and requirements."
   ]
  },
  {
   "cell_type": "code",
   "execution_count": 4,
   "id": "4193462596130cdf",
   "metadata": {
    "ExecuteTime": {
     "end_time": "2024-07-07T20:26:55.087721Z",
     "start_time": "2024-07-07T20:26:54.797467Z"
    }
   },
   "outputs": [
    {
     "name": "stdout",
     "output_type": "stream",
     "text": [
      "servers : Size=1, Index=None\n",
      "    Key  : Lower : Value : Upper : Fixed : Stale : Domain\n",
      "    None :     0 :  50.0 :  None : False : False : NonNegativeIntegers\n",
      "network_switches_poe : Size=1, Index=None\n",
      "    Key  : Lower : Value : Upper : Fixed : Stale : Domain\n",
      "    None :     0 :  10.0 :  None : False : False : NonNegativeIntegers\n",
      "network_switches_non_poe : Size=1, Index=None\n",
      "    Key  : Lower : Value : Upper : Fixed : Stale : Domain\n",
      "    None :     0 :   5.0 :  None : False : False : NonNegativeIntegers\n",
      "hard_drives : Size=1, Index=None\n",
      "    Key  : Lower : Value : Upper : Fixed : Stale : Domain\n",
      "    None :     0 : 100.0 :  None : False : False : NonNegativeIntegers\n",
      "ssds : Size=1, Index=None\n",
      "    Key  : Lower : Value : Upper : Fixed : Stale : Domain\n",
      "    None :     0 :  50.0 :  None : False : False : NonNegativeIntegers\n"
     ]
    }
   ],
   "source": [
    "from pyomo.environ import ConcreteModel, Var, Constraint, NonNegativeIntegers, Objective, minimize\n",
    "\n",
    "def get_min_active_hardware(time_of_day):\n",
    "    if 8 <= time_of_day < 18:\n",
    "        return {\n",
    "            \"servers\": 50,\n",
    "            \"network_switches_poe\": 10,\n",
    "            \"network_switches_non_poe\": 5,\n",
    "            \"hard_drives\": 100,\n",
    "            \"ssds\": 50\n",
    "        }\n",
    "    elif 18 <= time_of_day < 22:\n",
    "        return {\n",
    "            \"servers\": 40,\n",
    "            \"network_switches_poe\": 8,\n",
    "            \"network_switches_non_poe\": 4,\n",
    "            \"hard_drives\": 80,\n",
    "            \"ssds\": 40\n",
    "        }\n",
    "    else:\n",
    "        return {\n",
    "            \"servers\": 30,\n",
    "            \"network_switches_poe\": 6,\n",
    "            \"network_switches_non_poe\": 3,\n",
    "            \"hard_drives\": 60,\n",
    "            \"ssds\": 30\n",
    "        }\n",
    "\n",
    "def create_model(time_of_day):\n",
    "    min_hardware = get_min_active_hardware(time_of_day)\n",
    "    \n",
    "    model = ConcreteModel()\n",
    "    \n",
    "    # Define variables\n",
    "    model.servers = Var(within=NonNegativeIntegers)\n",
    "    model.network_switches_poe = Var(within=NonNegativeIntegers)\n",
    "    model.network_switches_non_poe = Var(within=NonNegativeIntegers)\n",
    "    model.hard_drives = Var(within=NonNegativeIntegers)\n",
    "    model.ssds = Var(within=NonNegativeIntegers)\n",
    "    \n",
    "    # Define constraints based on minimum hardware requirements\n",
    "    model.min_servers = Constraint(expr=model.servers >= min_hardware['servers'])\n",
    "    model.min_network_switches_poe = Constraint(expr=model.network_switches_poe >= min_hardware['network_switches_poe'])\n",
    "    model.min_network_switches_non_poe = Constraint(expr=model.network_switches_non_poe >= min_hardware['network_switches_non_poe'])\n",
    "    model.min_hard_drives = Constraint(expr=model.hard_drives >= min_hardware['hard_drives'])\n",
    "    model.min_ssds = Constraint(expr=model.ssds >= min_hardware['ssds'])\n",
    "    \n",
    "    # Example objective: Minimize total number of components\n",
    "    model.objective = Objective(expr=model.servers + model.network_switches_poe + model.network_switches_non_poe + model.hard_drives + model.ssds, sense=minimize)\n",
    "    \n",
    "    return model\n",
    "\n",
    "# Example usage:\n",
    "time_of_day = 10  # Example time of day\n",
    "model = create_model(time_of_day)\n",
    "\n",
    "# Solve the model (you need a solver for this part)\n",
    "from pyomo.opt import SolverFactory\n",
    "solver = SolverFactory('glpk')  # Ensure you have the solver installed\n",
    "result = solver.solve(model)\n",
    "\n",
    "# Display results\n",
    "model.servers.display()\n",
    "model.network_switches_poe.display()\n",
    "model.network_switches_non_poe.display()\n",
    "model.hard_drives.display()\n",
    "model.ssds.display()"
   ]
  }
 ],
 "metadata": {
  "kernelspec": {
   "display_name": "Python 3",
   "language": "python",
   "name": "python3"
  },
  "language_info": {
   "codemirror_mode": {
    "name": "ipython",
    "version": 3
   },
   "file_extension": ".py",
   "mimetype": "text/x-python",
   "name": "python",
   "nbconvert_exporter": "python",
   "pygments_lexer": "ipython3",
   "version": "3.11.5"
  }
 },
 "nbformat": 4,
 "nbformat_minor": 5
}
