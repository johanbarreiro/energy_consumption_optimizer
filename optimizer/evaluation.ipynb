{
 "cells": [
  {
   "cell_type": "code",
   "id": "initial_id",
   "metadata": {
    "collapsed": true,
    "ExecuteTime": {
     "end_time": "2024-07-09T18:17:19.886924Z",
     "start_time": "2024-07-09T18:17:19.882685Z"
    }
   },
   "source": "cd .. ",
   "outputs": [
    {
     "name": "stdout",
     "output_type": "stream",
     "text": [
      "/Users/johanbarreiro/Documents/GitHub/vl_optimizer\n"
     ]
    }
   ],
   "execution_count": 1
  },
  {
   "metadata": {},
   "cell_type": "markdown",
   "source": "# Evaluating Results",
   "id": "b5527acc6bb377af"
  },
  {
   "metadata": {},
   "cell_type": "markdown",
   "source": "## Create ground Truth CSV",
   "id": "bb75950d0a74b173"
  },
  {
   "metadata": {
    "ExecuteTime": {
     "end_time": "2024-07-09T18:17:20.331807Z",
     "start_time": "2024-07-09T18:17:19.888059Z"
    }
   },
   "cell_type": "code",
   "source": [
    "import pandas as pd\n",
    "import os\n",
    "\n",
    "df = pd.read_csv('data/processed_data/industrial_sites_processed/2024-07-07T16-56-34_industrial_site2_processed.csv')\n",
    "\n"
   ],
   "id": "4f851ef68c04c520",
   "outputs": [],
   "execution_count": 2
  },
  {
   "metadata": {
    "ExecuteTime": {
     "end_time": "2024-07-09T18:17:20.370136Z",
     "start_time": "2024-07-09T18:17:20.332717Z"
    }
   },
   "cell_type": "code",
   "source": [
    "def join_csv_on_time_column(directory='.'):\n",
    "    # Get all CSV files in the directory\n",
    "    csv_files = [f for f in os.listdir(directory) if f.endswith('.csv')]\n",
    "    \n",
    "    # Initialize an empty dataframe\n",
    "    merged_df = pd.DataFrame()\n",
    "    \n",
    "    # Iterate through each CSV file and merge them on the 'Time' column\n",
    "    for csv_file in csv_files:\n",
    "        df = pd.read_csv(os.path.join(directory, csv_file))  \n",
    "        \n",
    "        # Check if 'Time' column exists in the dataframe\n",
    "        if 'Time' not in df.columns:\n",
    "            print(f\"'Time' column not found in {csv_file}\")\n",
    "            continue\n",
    "        \n",
    "        # Merge the dataframes\n",
    "        if merged_df.empty:\n",
    "            merged_df = df\n",
    "        else:\n",
    "            merged_df = pd.merge(merged_df, df, on='Time', how='outer')\n",
    "    \n",
    "    return merged_df\n",
    "\n",
    "# Run the function and store the result\n",
    "merged_dataframe = join_csv_on_time_column(directory='data/synthesized_data')\n",
    "\n"
   ],
   "id": "9e93c5b48b26aba0",
   "outputs": [],
   "execution_count": 3
  },
  {
   "metadata": {
    "ExecuteTime": {
     "end_time": "2024-07-09T18:17:20.401499Z",
     "start_time": "2024-07-09T18:17:20.370908Z"
    }
   },
   "cell_type": "code",
   "source": [
    "# Choose the 24-hour period you want to optimize (for example, starting on 2024-07-01 00:00:00)\n",
    "start_date = '2023-06-01 00:00:00'\n",
    "end_date = '2023-07-01 00:00:00'\n",
    "\n",
    "# Filter the data for the chosen 24-hour period\n",
    "ground_truth = df[(df['Time'] >= start_date) & (df['Time'] < end_date)]\n",
    "\n",
    "ground_truth = pd.merge(ground_truth, merged_dataframe, on='Time', how='left')\n",
    "ground_truth['heat_index'] = ground_truth['heat_index_x']\n",
    "ground_truth['03 Chiller Group_Electric_Active Energy (kWh)'] = ground_truth['03 Chiller Group_Electric_Active Energy (kWh)_x']\n",
    "ground_truth = ground_truth.drop(columns=['heat_index_x', 'heat_index_y', '03 Chiller Group_Electric_Active Energy (kWh)_x', '03 Chiller Group_Electric_Active Energy (kWh)_y', 'total_consumption','target_consumption'])\n",
    "\n",
    "# Ensure that the data is sorted by timestamp and reset the index\n",
    "ground_truth = ground_truth.sort_values(by='Time').reset_index(drop=True)\n",
    "\n",
    "\n",
    "\n",
    "\n",
    "ground_truth.to_csv('optimizer/ground_truth/ground_truth_hourly.csv', index = False)\n",
    "\n",
    "\n",
    "\n",
    "\n"
   ],
   "id": "6b4c90393aaf767a",
   "outputs": [],
   "execution_count": 4
  },
  {
   "metadata": {
    "ExecuteTime": {
     "end_time": "2024-07-09T18:17:20.411340Z",
     "start_time": "2024-07-09T18:17:20.403390Z"
    }
   },
   "cell_type": "code",
   "source": [
    "ground_truth = ground_truth[['Time', 'energy_cost']]\n",
    "\n",
    "# Aggregate the data to daily\n",
    "ground_truth['Time'] = pd.to_datetime(ground_truth['Time'])\n",
    "ground_truth = ground_truth.set_index('Time')\n",
    "ground_truth = ground_truth.resample('D').sum()\n",
    "\n",
    "ground_truth.to_csv('optimizer/ground_truth/ground_truth_daily.csv')"
   ],
   "id": "d6f4630850803068",
   "outputs": [],
   "execution_count": 5
  }
 ],
 "metadata": {
  "kernelspec": {
   "display_name": "Python 3",
   "language": "python",
   "name": "python3"
  },
  "language_info": {
   "codemirror_mode": {
    "name": "ipython",
    "version": 2
   },
   "file_extension": ".py",
   "mimetype": "text/x-python",
   "name": "python",
   "nbconvert_exporter": "python",
   "pygments_lexer": "ipython2",
   "version": "2.7.6"
  }
 },
 "nbformat": 4,
 "nbformat_minor": 5
}
