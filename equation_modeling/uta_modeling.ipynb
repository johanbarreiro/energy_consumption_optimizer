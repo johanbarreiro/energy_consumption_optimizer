{
 "cells": [
  {
   "cell_type": "markdown",
   "id": "52783089",
   "metadata": {},
   "source": [
    "# 04 UTA_Electric_Active Energy (kWh)"
   ]
  },
  {
   "cell_type": "code",
   "execution_count": 1,
   "id": "8799c7ee",
   "metadata": {},
   "outputs": [],
   "source": [
    "import pandas as pd"
   ]
  },
  {
   "cell_type": "code",
   "execution_count": 2,
   "id": "1a8fc21b",
   "metadata": {},
   "outputs": [
    {
     "name": "stdout",
     "output_type": "stream",
     "text": [
      "c:\\Users\\Usuario\\OneDrive\\Documents\\IE\\3. Trimestre\\Venture Lab & Capstone\\Capstone\\Tech side\\vl_optimizer\n"
     ]
    }
   ],
   "source": [
    "cd .."
   ]
  },
  {
   "cell_type": "markdown",
   "id": "62fdf534",
   "metadata": {},
   "source": [
    "## Definition of the constrain equation\n",
    "\n",
    "This formula allows you to manage the UTA’s energy consumption by adjusting settings while considering operational and material constraints, ensuring optimal energy management without affecting the testing output quality.\n",
    "\n",
    "**UTA_Electric_Active Energy = a⋅operational_presence + b⋅fabric_in_chamber + c⋅testing_schedule + d⋅workload + e⋅standby_power_down**\n",
    "\n",
    "- **UTA_Electric_Active Energy** = Energy consumption of the Ultrasonic Testing Apparatus in a given period.\n",
    "\n",
    "- **operational_presence** = Operational Presence: Indicates if the UTA is actively in operation - Given.\n",
    "\n",
    "- **fabric_in_chamber** = Fabric in Chamber: Whether there is fabric loaded in the testing chamber, suggesting the UTA is about to be used - Given.\n",
    "\n",
    "- **testing_schedule** = Testing Schedule: Reflects planned testing times which predict active use - Given.\n",
    "\n",
    "- **workload** = Workload: Measures the queue of testing tasks assigned to the UTA - Given.\n",
    "\n",
    "- **standby_power_down** = Standby Power Down: Managing power usage when the UTA is not actively testing - Controllable.\n",
    "\n",
    "- **a,b,c,d,e** = Coefficients for each factor."
   ]
  },
  {
   "cell_type": "code",
   "execution_count": 3,
   "id": "98ce6d97",
   "metadata": {},
   "outputs": [],
   "source": [
    "df = pd.read_csv('data/processed_data/industrial_sites_processed/2024-07-05T01-00-40_industrial_site2_processed.csv')"
   ]
  },
  {
   "cell_type": "code",
   "execution_count": 4,
   "id": "6bd34815",
   "metadata": {},
   "outputs": [
    {
     "data": {
      "text/plain": [
       "Index(['Time', '02 Production_Electric_Active Energy (kWh)',\n",
       "       '02 Production_Electric_Active Power (kW)',\n",
       "       '02 Production_Electric_Apparent Power (kVa)',\n",
       "       '02 Production_Electric_Power Factor (real)',\n",
       "       '03 Chiller Group_Electric_Active Energy (kWh)',\n",
       "       '03 Chiller Group_Electric_Active Power (kW)',\n",
       "       '03 Chiller Group_Electric_Apparent Power (kVa)',\n",
       "       '03 Chiller Group_Electric_Power Factor (real)',\n",
       "       '04 UTA_Electric_Active Energy (kWh)',\n",
       "       '04 UTA_Electric_Active Power (kW)',\n",
       "       '04 UTA_Electric_Apparent Power (kVa)',\n",
       "       '04 UTA_Electric_Power Factor (real)',\n",
       "       '05 Compressors_Electric_Active Energy (kWh)',\n",
       "       '05 Compressors_Electric_Active Power (kW)',\n",
       "       '05 Compressors_Electric_Apparent Power (kVa)',\n",
       "       '05 Compressors_Electric_Power Factor (real)',\n",
       "       '06 Offices_Electric_Active Energy (kWh)',\n",
       "       '06 Offices_Electric_Active Power (kW)',\n",
       "       '06 Offices_Electric_Apparent Power (kVa)',\n",
       "       '06 Offices_Electric_Power Factor (real)',\n",
       "       '07 Data Center_Electric_Active Energy (kWh)',\n",
       "       '07 Data Center_Electric_Active Power (kW)',\n",
       "       '07 Data Center_Electric_Apparent Power (kVa)',\n",
       "       '07 Data Center_Electric_Power Factor (real)',\n",
       "       '08 Technological Centers_Electric_Active Energy (kWh)',\n",
       "       '08 Technological Centers_Electric_Active Power (kW)',\n",
       "       '08 Technological Centers_Electric_Apparent Power (kVa)',\n",
       "       '08 Technological Centers_Electric_Power Factor (real)', 'sum_of_kWh',\n",
       "       'DataFrame Name', 'is_weekend', 'hour_sin', 'hour_cos',\n",
       "       'day_of_month_sin', 'day_of_month_cos', 'month_sin', 'month_cos',\n",
       "       'day_of_week_sin', 'day_of_week_cos', 'price_mWh', 'energy_cost_kWh',\n",
       "       'temp', 'humidity', 'precip', 'windspeed', 'uvindex', 'conditions',\n",
       "       'heat_index'],\n",
       "      dtype='object')"
      ]
     },
     "execution_count": 4,
     "metadata": {},
     "output_type": "execute_result"
    }
   ],
   "source": [
    "df.columns"
   ]
  },
  {
   "cell_type": "code",
   "execution_count": 5,
   "id": "acc08837",
   "metadata": {},
   "outputs": [],
   "source": [
    "UTA_target = (df['04 UTA_Electric_Active Energy (kWh)'])\n",
    "UTA_target.to_csv('data/target_variables/target_UTA.csv', index=False)"
   ]
  },
  {
   "cell_type": "markdown",
   "id": "80a6248b",
   "metadata": {},
   "source": [
    "## Other factors to include in the constrain equation"
   ]
  },
  {
   "cell_type": "markdown",
   "id": "5159ca2e",
   "metadata": {},
   "source": [
    "To effectively simulate data for the UTA (Ultrasonic Testing Apparatus) based on the equation, we first need to establish logical boundaries for each variable. These boundaries should reflect realistic operational scenarios and constraints. Here’s a suggested framework:\n",
    "\n",
    "### 1. **operational_presence**\n",
    "   - **Type:** Binary (0 or 1)\n",
    "   - **Minimum:** 0 (UTA is not in operation)\n",
    "   - **Maximum:** 1 (UTA is actively in operation)\n",
    "\n",
    "### 2. **fabric_in_chamber**\n",
    "   - **Type:** Binary (0 or 1)\n",
    "   - **Minimum:** 0 (No fabric loaded in the chamber)\n",
    "   - **Maximum:** 1 (Fabric is loaded, indicating readiness or impending use)\n",
    "\n",
    "### 3. **testing_schedule**\n",
    "   - **Type:** Continuous or Categorical (e.g., hours of operation)\n",
    "   - **Minimum:** 0 (No scheduled tests)\n",
    "   - **Maximum:** 24 (Reflects the maximum hours in a day that testing can be scheduled, if using hours as the measure)\n",
    "\n",
    "### 4. **workload**\n",
    "   - **Type:** Continuous\n",
    "   - **Minimum:** 0 (No tests queued)\n",
    "   - **Maximum:** 100 (Maximum number of tests that can be queued based on operational capacity)\n",
    "\n",
    "### 5. **standby_power_down**\n",
    "   - **Type:** Binary or Continuous (0 to 1 scale if continuous, reflecting degree of power reduction)\n",
    "   - **Minimum:** 0 (Full power consumption, no power-saving measures in place)\n",
    "   - **Maximum:** 1 (Fully powered down to the lowest safe operational level)\n",
    "\n",
    "For **workload**, which should scale with energy consumption, we could set dynamic maximums based on the percentiles of energy consumption:\n",
    "\n",
    "- Use the 75th percentile as a typical upper limit during high use times.\n",
    "- Scale the maximum values of these variables proportionally to how close the energy consumption is to the maximum observed value."
   ]
  },
  {
   "cell_type": "markdown",
   "id": "7ac7da4a",
   "metadata": {},
   "source": [
    "Here are some key statistics from the total energy consumption data:"
   ]
  },
  {
   "cell_type": "code",
   "execution_count": 6,
   "id": "c40bbaac",
   "metadata": {},
   "outputs": [
    {
     "data": {
      "text/plain": [
       "count    10690.000000\n",
       "mean        23.201022\n",
       "std         15.912086\n",
       "min          0.000000\n",
       "25%          2.089500\n",
       "50%         30.650000\n",
       "75%         34.100000\n",
       "max         55.275000\n",
       "Name: 04 UTA_Electric_Active Energy (kWh), dtype: float64"
      ]
     },
     "execution_count": 6,
     "metadata": {},
     "output_type": "execute_result"
    }
   ],
   "source": [
    "# Calculating statistical details for the total energy consumption data\n",
    "UTA_stats = df['04 UTA_Electric_Active Energy (kWh)'].describe()\n",
    "UTA_stats"
   ]
  },
  {
   "cell_type": "markdown",
   "id": "bc3e51b3",
   "metadata": {},
   "source": [
    "## Synthesized dataset"
   ]
  },
  {
   "cell_type": "code",
   "execution_count": 7,
   "id": "9c14f21f",
   "metadata": {},
   "outputs": [
    {
     "data": {
      "text/plain": [
       "'data/synthesized_data/UTA_synthesized.csv'"
      ]
     },
     "execution_count": 7,
     "metadata": {},
     "output_type": "execute_result"
    }
   ],
   "source": [
    "import pandas as pd\n",
    "import numpy as np\n",
    "from sklearn.preprocessing import PolynomialFeatures\n",
    "\n",
    "# Number of samples is equal to the number of entries in the consumption data\n",
    "n_samples = len(UTA_target)\n",
    "\n",
    "# Initialize the random seed for reproducibility\n",
    "np.random.seed(42)\n",
    "\n",
    "# Define dynamic ranges based on energy consumption percentiles\n",
    "max_energy = df['04 UTA_Electric_Active Energy (kWh)'].max()\n",
    "scale_factor = df['04 UTA_Electric_Active Energy (kWh)'] / max_energy\n",
    "\n",
    "# Generate base data with a systematic approach to workload\n",
    "data = {\n",
    "    'operational_presence': np.random.choice([0, 1], size=n_samples, p=[0.2, 0.8]),\n",
    "    'fabric_in_chamber': np.random.choice([0, 1], size=n_samples, p=[0.1, 0.9]),\n",
    "    'testing_schedule': np.random.uniform(0, 24, n_samples),\n",
    "    'workload': np.random.uniform(0, 100, n_samples) * scale_factor,\n",
    "    'standby_power_down': np.random.choice([0, 1], size=n_samples, p=[0.8, 0.2])\n",
    "}\n",
    "\n",
    "df_simulated = pd.DataFrame(data)\n",
    "\n",
    "# Save the generated data to a new CSV\n",
    "output_path = 'data/synthesized_data/UTA_synthesized.csv'\n",
    "df_simulated.to_csv(output_path, index=False)\n",
    "\n",
    "output_path"
   ]
  },
  {
   "cell_type": "markdown",
   "id": "3314c529",
   "metadata": {},
   "source": [
    "## Get cofficients"
   ]
  },
  {
   "cell_type": "code",
   "execution_count": 8,
   "id": "7df16fd5",
   "metadata": {},
   "outputs": [
    {
     "name": "stdout",
     "output_type": "stream",
     "text": [
      "Mean Squared Error (Cross-Validation): 130.3621537423487\n",
      "Standard Deviation (Cross-Validation): 2.6399254827349585\n",
      "R^2 Score (Cross-Validation): 0.4847661631789369\n",
      "Overall R^2 Score: 0.4859013006376879\n",
      "Intercept: 12.241009562821723\n",
      "                      Coefficient\n",
      "operational_presence    -0.067346\n",
      "fabric_in_chamber       -0.144476\n",
      "testing_schedule        -0.018076\n",
      "workload                 0.539863\n",
      "standby_power_down       0.351640\n"
     ]
    }
   ],
   "source": [
    "import pandas as pd\n",
    "from sklearn.model_selection import KFold, cross_val_score\n",
    "from sklearn.linear_model import LinearRegression\n",
    "from sklearn.metrics import mean_squared_error, r2_score\n",
    "from joblib import dump\n",
    "\n",
    "# Define the target\n",
    "target = UTA_target\n",
    "\n",
    "# Define the features\n",
    "features = df_simulated.columns\n",
    "\n",
    "# Split the data into features (X) and target (y)\n",
    "X = df_simulated\n",
    "y = target\n",
    "\n",
    "# Initialize the linear regression model\n",
    "model = LinearRegression()\n",
    "\n",
    "# Perform k-fold cross-validation\n",
    "kfold = KFold(n_splits=5, shuffle=True, random_state=42)\n",
    "cv_results_mse = cross_val_score(model, X, y, cv=kfold, scoring='neg_mean_squared_error')\n",
    "cv_results_r2 = cross_val_score(model, X, y, cv=kfold, scoring='r2')\n",
    "\n",
    "# Fit the model on the entire dataset\n",
    "model.fit(X, y)\n",
    "\n",
    "# Get the intercept and coefficients\n",
    "intercept = model.intercept_\n",
    "coefficients = model.coef_\n",
    "\n",
    "# Save the trained model to a file\n",
    "model_params = {\n",
    "    'intercept': intercept,\n",
    "    'coefficients': coefficients,\n",
    "    'features': features\n",
    "}\n",
    "model_filename = 'equation_modeling/models/UTA_consumption_model.joblib'\n",
    "dump(model_params, model_filename)\n",
    "\n",
    "# Calculate and print performance metrics\n",
    "y_pred = model.predict(X)\n",
    "mse = mean_squared_error(y, y_pred)\n",
    "r2 = r2_score(y, y_pred)\n",
    "\n",
    "print(f'Mean Squared Error (Cross-Validation): {-cv_results_mse.mean()}')\n",
    "print(f'Standard Deviation (Cross-Validation): {cv_results_mse.std()}')\n",
    "print(f'R^2 Score (Cross-Validation): {cv_results_r2.mean()}')\n",
    "print(f'Overall R^2 Score: {r2}')\n",
    "\n",
    "# Optional: Print the coefficients of the model\n",
    "coefficients_df = pd.DataFrame(coefficients, features, columns=['Coefficient'])\n",
    "print(f'Intercept: {intercept}')\n",
    "print(coefficients_df)"
   ]
  }
 ],
 "metadata": {
  "kernelspec": {
   "display_name": "Python 3",
   "language": "python",
   "name": "python3"
  },
  "language_info": {
   "codemirror_mode": {
    "name": "ipython",
    "version": 3
   },
   "file_extension": ".py",
   "mimetype": "text/x-python",
   "name": "python",
   "nbconvert_exporter": "python",
   "pygments_lexer": "ipython3",
   "version": "3.11.5"
  }
 },
 "nbformat": 4,
 "nbformat_minor": 5
}
