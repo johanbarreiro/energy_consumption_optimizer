{
 "cells": [
  {
   "cell_type": "code",
   "execution_count": null,
   "id": "initial_id",
   "metadata": {
    "collapsed": true
   },
   "outputs": [],
   "source": [
    ""
   ]
  },
  {
   "metadata": {},
   "cell_type": "markdown",
   "source": [
    "Constrain 2:\n",
    "\n",
    "# 04 UTA_Electric_Active Energy (kWh)\n",
    "\n",
    "This formula allows you to manage the UTA’s energy consumption by adjusting settings while considering operational and material constraints, ensuring optimal energy management without affecting the testing output quality.\n",
    "\n",
    " E_{\\text{UTA}}(t) = a \\cdot OP + b \\cdot FC + c \\cdot TS + d \\cdot WL + e \\cdot SPD \n",
    "\n",
    "E_{\\text{UTA}}(t) = Energy consumption of the Ultrasonic Testing Apparatus in a given period.\n",
    "\n",
    "\t•\tOP = Operational Presence: Indicates if the UTA is actively in operation - Given.\n",
    "\t•\tFC = Fabric in Chamber: Whether there is fabric loaded in the testing chamber, suggesting the UTA is about to be used - Given.\n",
    "\t•\tTS = Testing Schedule: Reflects planned testing times which predict active use - Given.\n",
    "\t•\tWL = Workload: Measures the queue of testing tasks assigned to the UTA - Given.\n",
    "\t•\tSPD = Standby Power Down: Managing power usage when the UTA is not actively testing - Controllable.\n",
    "\t•\ta, b, c, d, e = Coefficients for each factor.\n"
   ],
   "id": "a1348b49809edf99"
  }
 ],
 "metadata": {
  "kernelspec": {
   "display_name": "Python 3",
   "language": "python",
   "name": "python3"
  },
  "language_info": {
   "codemirror_mode": {
    "name": "ipython",
    "version": 2
   },
   "file_extension": ".py",
   "mimetype": "text/x-python",
   "name": "python",
   "nbconvert_exporter": "python",
   "pygments_lexer": "ipython2",
   "version": "2.7.6"
  }
 },
 "nbformat": 4,
 "nbformat_minor": 5
}
