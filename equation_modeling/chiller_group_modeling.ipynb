{
 "cells": [
  {
   "cell_type": "code",
   "execution_count": 1,
   "id": "e07437c4d67cba1b",
   "metadata": {
    "ExecuteTime": {
     "end_time": "2024-07-07T16:54:45.355513Z",
     "start_time": "2024-07-07T16:54:45.350766Z"
    }
   },
   "outputs": [
    {
     "name": "stdout",
     "output_type": "stream",
     "text": [
      "c:\\Users\\Usuario\\OneDrive\\Documents\\IE\\3. Trimestre\\Venture Lab & Capstone\\Capstone\\Tech side\\vl_optimizer\n"
     ]
    }
   ],
   "source": [
    "cd .."
   ]
  },
  {
   "cell_type": "markdown",
   "id": "ea0c1244",
   "metadata": {},
   "source": [
    "# **Chiller:** \n",
    "### The model quantifies how different operational factors influence the adjusted energy consumption of the chiller system.\n",
    "\n",
    "$$\n",
    "C = \\beta_0 + \\beta_1 \\cdot \\text{HISPD} + \\beta_2 \\cdot \\text{EAP} + \\beta_3 \\cdot \\text{NAC}\n",
    "$$\n",
    "\n",
    "- $\\beta_1$ multiplies $\\text{HISPD}$ (Heat Index Set Point Difference), adjusting energy consumption based on the difference between the heat index and the set point, which might reflect external thermal load or environmental conditions.\n",
    "- $\\beta_2$ is associated with $\\text{EAP}$ (Efficiency Adjusted Power), reflecting the adjusted power consumption based on the efficiency of the chiller.\n",
    "- $\\beta_3$ corresponds to $\\text{NAC}$ (Number of Active Chillers), indicating the effect of the operational capacity of chillers on energy consumption."
   ]
  },
  {
   "cell_type": "markdown",
   "id": "0657f830",
   "metadata": {},
   "source": [
    "## Import required libraries"
   ]
  },
  {
   "cell_type": "code",
   "execution_count": 2,
   "id": "ea46dff9a6d422b1",
   "metadata": {
    "ExecuteTime": {
     "end_time": "2024-07-07T16:54:45.829007Z",
     "start_time": "2024-07-07T16:54:45.356729Z"
    }
   },
   "outputs": [],
   "source": [
    "import pandas as pd\n",
    "from sklearn.model_selection import cross_val_score, KFold\n",
    "from sklearn.linear_model import LinearRegression\n",
    "from sklearn.metrics import mean_squared_error, r2_score\n",
    "from joblib import dump, load"
   ]
  },
  {
   "cell_type": "markdown",
   "id": "65630836",
   "metadata": {},
   "source": [
    "## Import Synthesized data"
   ]
  },
  {
   "cell_type": "code",
   "execution_count": 3,
   "id": "ab83ba0a4cac394f",
   "metadata": {
    "ExecuteTime": {
     "end_time": "2024-07-07T16:54:45.838053Z",
     "start_time": "2024-07-07T16:54:45.829895Z"
    }
   },
   "outputs": [
    {
     "data": {
      "text/plain": [
       "Index(['Time', '03 Chiller Group_Electric_Active Energy (kWh)', 'outdoor_temp',\n",
       "       'outdoor_humidity', 'heat_index',\n",
       "       'Chiller Group_Electric_Power Factor (real)(efficiency)', 'set_point',\n",
       "       'num_active_chiller'],\n",
       "      dtype='object')"
      ]
     },
     "execution_count": 3,
     "metadata": {},
     "output_type": "execute_result"
    }
   ],
   "source": [
    "file_path = 'data/synthesized_data/chiller_group_synthesized.csv'\n",
    "df = pd.read_csv(file_path, index_col=False)\n",
    "df.columns"
   ]
  },
  {
   "cell_type": "markdown",
   "id": "04d1245b",
   "metadata": {},
   "source": [
    "## Get Coefficients"
   ]
  },
  {
   "cell_type": "code",
   "execution_count": 4,
   "id": "6806827962471736",
   "metadata": {
    "ExecuteTime": {
     "end_time": "2024-07-07T16:54:46.479939Z",
     "start_time": "2024-07-07T16:54:45.839094Z"
    }
   },
   "outputs": [
    {
     "name": "stdout",
     "output_type": "stream",
     "text": [
      "Total NaN values in the DataFrame: 1\n",
      "NaN values in each column:\n",
      "Time                                                      0\n",
      "03 Chiller Group_Electric_Active Energy (kWh)             0\n",
      "outdoor_temp                                              0\n",
      "outdoor_humidity                                          0\n",
      "heat_index                                                0\n",
      "Chiller Group_Electric_Power Factor (real)(efficiency)    1\n",
      "set_point                                                 0\n",
      "num_active_chiller                                        0\n",
      "dtype: int64\n",
      "Number of rows with at least one NaN value: 1\n",
      "Total NaN values in the column \"Chiller Group_Electric_Power Factor (real)(efficiency)\" after filling: 0\n"
     ]
    }
   ],
   "source": [
    "# Count total NaN values in the entire DataFrame\n",
    "total_nans = df.isna().sum().sum()\n",
    "print(f'Total NaN values in the DataFrame: {total_nans}')\n",
    "\n",
    "# Count NaN values in each column\n",
    "nans_per_column = df.isna().sum()\n",
    "print('NaN values in each column:')\n",
    "print(nans_per_column)\n",
    "\n",
    "# Count the number of rows that contain any NaN values\n",
    "rows_with_nans_count = df.isna().any(axis=1).sum()\n",
    "print(f'Number of rows with at least one NaN value: {rows_with_nans_count}')\n",
    "\n",
    "# Replace NaN values with the mean in a specific column\n",
    "column_to_fill = 'Chiller Group_Electric_Power Factor (real)(efficiency)'  # replace with your specific column name\n",
    "df[column_to_fill].fillna(df[column_to_fill].mean(), inplace=True)\n",
    "\n",
    "# Verify if there are any NaNs left in that column\n",
    "nan_counts_after_filling = df[column_to_fill].isna().sum()\n",
    "print(f'Total NaN values in the column \"{column_to_fill}\" after filling: {nan_counts_after_filling}')\n",
    "\n"
   ]
  },
  {
   "cell_type": "code",
   "execution_count": 5,
   "id": "9db389b6071551e7",
   "metadata": {
    "ExecuteTime": {
     "end_time": "2024-07-07T16:54:46.584963Z",
     "start_time": "2024-07-07T16:54:46.482182Z"
    }
   },
   "outputs": [
    {
     "name": "stdout",
     "output_type": "stream",
     "text": [
      "Mean Squared Error (Cross-Validation): 8633.52303439887\n",
      "Standard Deviation (Cross-Validation): 672.519465870454\n",
      "R^2 Score (Cross-Validation): 0.2974779516221756\n",
      "Overall R^2 Score: 0.2986972230758401\n",
      "Intercept: -3.342928666864431\n",
      "                           Coefficient\n",
      "heat_index_set_point_diff     1.511416\n",
      "efficiency_adjusted_power    22.876512\n",
      "num_active_chiller           22.343848\n"
     ]
    }
   ],
   "source": [
    "import pandas as pd\n",
    "from sklearn.model_selection import KFold, cross_val_score\n",
    "from sklearn.linear_model import LinearRegression\n",
    "from sklearn.metrics import mean_squared_error, r2_score\n",
    "from joblib import dump\n",
    "\n",
    "# Define the target and features\n",
    "target = '03 Chiller Group_Electric_Active Energy (kWh)'\n",
    "df['heat_index_set_point_diff'] = df['heat_index'] - df['set_point']\n",
    "df['efficiency_adjusted_power'] = df['Chiller Group_Electric_Power Factor (real)(efficiency)']\n",
    "\n",
    "# Calculate the adjusted energy consumption incorporating assumed COP\n",
    "assumed_COP = 3.0  # Assumed value for COP\n",
    "df['adjusted_energy'] = df[target] * df['efficiency_adjusted_power'] * assumed_COP\n",
    "\n",
    "# Define the features\n",
    "features = ['heat_index_set_point_diff', 'efficiency_adjusted_power', 'num_active_chiller']\n",
    "\n",
    "# Split the data into features (X) and target (y)\n",
    "X = df[features]\n",
    "y = df['adjusted_energy']\n",
    "\n",
    "# Initialize the linear regression model\n",
    "model = LinearRegression()\n",
    "\n",
    "# Perform k-fold cross-validation\n",
    "kfold = KFold(n_splits=5, shuffle=True, random_state=42)\n",
    "cv_results_mse = cross_val_score(model, X, y, cv=kfold, scoring='neg_mean_squared_error')\n",
    "cv_results_r2 = cross_val_score(model, X, y, cv=kfold, scoring='r2')\n",
    "\n",
    "# Fit the model on the entire dataset\n",
    "model.fit(X, y)\n",
    "\n",
    "# Get the intercept and coefficients\n",
    "intercept = model.intercept_\n",
    "coefficients = model.coef_\n",
    "\n",
    "# Save the trained model to a file\n",
    "model_params = {\n",
    "    'intercept': intercept,\n",
    "    'coefficients': coefficients,\n",
    "    'features': features\n",
    "}\n",
    "model_filename = 'equation_modeling/models/chiller_consumption_model.joblib'\n",
    "dump(model_params, model_filename)\n",
    "\n",
    "# Calculate and print performance metrics\n",
    "y_pred = model.predict(X)\n",
    "mse = mean_squared_error(y, y_pred)\n",
    "r2 = r2_score(y, y_pred)\n",
    "\n",
    "print(f'Mean Squared Error (Cross-Validation): {-cv_results_mse.mean()}')\n",
    "print(f'Standard Deviation (Cross-Validation): {cv_results_mse.std()}')\n",
    "print(f'R^2 Score (Cross-Validation): {cv_results_r2.mean()}')\n",
    "print(f'Overall R^2 Score: {r2}')\n",
    "\n",
    "# Optional: Print the coefficients of the model\n",
    "coefficients_df = pd.DataFrame(coefficients, features, columns=['Coefficient'])\n",
    "print(f'Intercept: {intercept}')\n",
    "print(coefficients_df)\n",
    "\n",
    "# Function to make predictions using the saved model\n",
    "def predict(X, model_params):\n",
    "    intercept = model_params['intercept']\n",
    "    coefficients = model_params['coefficients']\n",
    "    return intercept + X.dot(coefficients)\n",
    "\n",
    "# Optional: Load the model and make predictions\n",
    "# loaded_model_params = load(model_filename)\n",
    "# predictions = predict(X, loaded_model_params)\n",
    "# print(f'Model predictions: {predictions}')"
   ]
  },
  {
   "cell_type": "markdown",
   "id": "78efbd5c376550e1",
   "metadata": {},
   "source": [
    "# Equations\n",
    "\n",
    "\t1.\tTotal Consumption (total_consumption_chiller_group):\n",
    "\n",
    "\\text{total_consumption_chiller_group} = \\beta_1 \\cdot \\text{number_active_chillers} + \\beta_2 \\cdot \\text{outdoor_temp} + \\beta_3 \\cdot \\text{outdoor_humidity} + \\beta_4 \\cdot \\text{Chiller Set point} + \\beta_5 \\cdot \\text{Chiller Efficiency}\n",
    "\n",
    "\t2.\tChiller Set Point (chiller_set_point):\n",
    "\n",
    "\\text{chiller_set_point} = \\gamma_1 \\cdot \\text{number_active_chillers} + \\gamma_2 \\cdot \\text{outdoor_temp} + \\gamma_3 \\cdot \\text{outdoor_humidity} + \\gamma_4 \\cdot \\text{Chiller Efficiency}\n",
    "\n",
    "\t3.\tNumber of Active Chillers (number_active_chillers):\n",
    "\n",
    "\\text{number_active_chillers} = \\delta_1 \\cdot \\text{outdoor_temp} + \\delta_2 \\cdot \\text{outdoor_humidity} + \\delta_3 \\cdot \\text{Chiller Efficiency}\n",
    "\n"
   ]
  }
 ],
 "metadata": {
  "kernelspec": {
   "display_name": "Python 3",
   "language": "python",
   "name": "python3"
  },
  "language_info": {
   "codemirror_mode": {
    "name": "ipython",
    "version": 3
   },
   "file_extension": ".py",
   "mimetype": "text/x-python",
   "name": "python",
   "nbconvert_exporter": "python",
   "pygments_lexer": "ipython3",
   "version": "3.11.5"
  }
 },
 "nbformat": 4,
 "nbformat_minor": 5
}
