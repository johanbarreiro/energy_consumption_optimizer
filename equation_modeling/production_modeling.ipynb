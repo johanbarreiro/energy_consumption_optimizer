{
 "cells": [
  {
   "cell_type": "markdown",
   "id": "initial_id",
   "metadata": {
    "collapsed": true
   },
   "source": [
    "# 02 Production_Electric_Active Energy (kWh)\n"
   ]
  },
  {
   "cell_type": "code",
   "execution_count": 1,
   "id": "1b3a1a92",
   "metadata": {
    "ExecuteTime": {
     "end_time": "2024-07-06T18:31:33.603830Z",
     "start_time": "2024-07-06T18:31:33.602096Z"
    }
   },
   "outputs": [],
   "source": [
    "import pandas as pd"
   ]
  },
  {
   "cell_type": "code",
   "execution_count": 2,
   "id": "1cdaf83c",
   "metadata": {
    "ExecuteTime": {
     "end_time": "2024-07-06T18:31:33.607666Z",
     "start_time": "2024-07-06T18:31:33.604674Z"
    }
   },
   "outputs": [
    {
     "name": "stdout",
     "output_type": "stream",
     "text": [
      "c:\\Users\\Usuario\\OneDrive\\Documents\\IE\\3. Trimestre\\Venture Lab & Capstone\\Capstone\\Tech side\\vl_optimizer\n"
     ]
    }
   ],
   "source": [
    "cd .."
   ]
  },
  {
   "cell_type": "markdown",
   "id": "7fabc2bdea2aabd5",
   "metadata": {},
   "source": [
    "## Definition of the constrain equation\n",
    "\n",
    "This model allows for a comprehensive understanding of how various operational factors, including the number of workers, affect energy consumption in a textile production plant, ensuring efficient energy management without impacting the core production processes.\n",
    "\n",
    "**Production_Electric_Active Energy =k⋅power_transport_vehicles + f1​⋅production_schedule + f2​⋅maintenance_status + f3​⋅volume_production_waste + f4​⋅number_of_workers**\n",
    "\n",
    "- **Production_Electric_Active Energy** = Electricity consumption of the factory in a specific 15-minute slot.\n",
    "\n",
    "- **power_transport_vehicles**= Power allocated to charging transport vehicles - Controllable. \n",
    "\n",
    "Manage when and how much power is used for charging vehicles, optimizing energy usage without impacting production operations.\n",
    "- **production_schedule**= \n",
    "Production Schedule - Given. \n",
    "\n",
    "This reflects the operational capacity utilization, influencing energy needs based on how much of the plant’s machinery is in use.\n",
    "- **maintenance_status** =\n",
    "Machine Maintenance Status - Given. \n",
    "\n",
    "Well-maintained machines operate more efficiently, using less energy. Poor maintenance can lead to increased energy consumption.\n",
    "- **volume_production_waste** =\n",
    "Volume of Production Waste - Given. \n",
    "\n",
    "Impacts energy consumption through waste management processes.\n",
    "- **number_of_workers** =\n",
    "Number of Workers - Given. \n",
    "\n",
    "Influences how efficiently machines are operated and supervised, affecting the overall energy use.\n",
    "- **k, f1, f2, f3, f4** =\n",
    "Coefficients that represent the impact of each factor on energy consumption."
   ]
  },
  {
   "cell_type": "code",
   "execution_count": 3,
   "id": "0cb449b8",
   "metadata": {
    "ExecuteTime": {
     "end_time": "2024-07-06T18:31:33.657060Z",
     "start_time": "2024-07-06T18:31:33.609261Z"
    }
   },
   "outputs": [],
   "source": [
    "df = pd.read_csv('data/processed_data/industrial_sites_processed/2024-07-07T16-56-34_industrial_site2_processed.csv')"
   ]
  },
  {
   "cell_type": "code",
   "execution_count": 4,
   "id": "c144b65f",
   "metadata": {
    "ExecuteTime": {
     "end_time": "2024-07-06T18:31:33.661856Z",
     "start_time": "2024-07-06T18:31:33.657958Z"
    }
   },
   "outputs": [
    {
     "data": {
      "text/plain": [
       "Index(['Time', '02 Production_Electric_Active Energy (kWh)',\n",
       "       '02 Production_Electric_Active Power (kW)',\n",
       "       '02 Production_Electric_Apparent Power (kVa)',\n",
       "       '02 Production_Electric_Power Factor (real)',\n",
       "       '03 Chiller Group_Electric_Active Energy (kWh)',\n",
       "       '03 Chiller Group_Electric_Active Power (kW)',\n",
       "       '03 Chiller Group_Electric_Apparent Power (kVa)',\n",
       "       '03 Chiller Group_Electric_Power Factor (real)',\n",
       "       '04 UTA_Electric_Active Energy (kWh)',\n",
       "       '04 UTA_Electric_Active Power (kW)',\n",
       "       '04 UTA_Electric_Apparent Power (kVa)',\n",
       "       '04 UTA_Electric_Power Factor (real)',\n",
       "       '05 Compressors_Electric_Active Energy (kWh)',\n",
       "       '05 Compressors_Electric_Active Power (kW)',\n",
       "       '05 Compressors_Electric_Apparent Power (kVa)',\n",
       "       '05 Compressors_Electric_Power Factor (real)',\n",
       "       '06 Offices_Electric_Active Energy (kWh)',\n",
       "       '06 Offices_Electric_Active Power (kW)',\n",
       "       '06 Offices_Electric_Apparent Power (kVa)',\n",
       "       '06 Offices_Electric_Power Factor (real)',\n",
       "       '07 Data Center_Electric_Active Energy (kWh)',\n",
       "       '07 Data Center_Electric_Active Power (kW)',\n",
       "       '07 Data Center_Electric_Apparent Power (kVa)',\n",
       "       '07 Data Center_Electric_Power Factor (real)',\n",
       "       '08 Technological Centers_Electric_Active Energy (kWh)',\n",
       "       '08 Technological Centers_Electric_Active Power (kW)',\n",
       "       '08 Technological Centers_Electric_Apparent Power (kVa)',\n",
       "       '08 Technological Centers_Electric_Power Factor (real)', 'sum_of_kWh',\n",
       "       'DataFrame Name', 'is_weekend', 'hour_sin', 'hour_cos',\n",
       "       'day_of_month_sin', 'day_of_month_cos', 'month_sin', 'month_cos',\n",
       "       'day_of_week_sin', 'day_of_week_cos', 'price_mWh', 'energy_cost',\n",
       "       'temp', 'humidity', 'precip', 'windspeed', 'uvindex', 'conditions',\n",
       "       'heat_index'],\n",
       "      dtype='object')"
      ]
     },
     "execution_count": 4,
     "metadata": {},
     "output_type": "execute_result"
    }
   ],
   "source": [
    "df.columns"
   ]
  },
  {
   "cell_type": "code",
   "execution_count": null,
   "id": "45c61783",
   "metadata": {},
   "outputs": [],
   "source": [
    "df['Time']"
   ]
  },
  {
   "cell_type": "code",
   "execution_count": null,
   "id": "c25840a1",
   "metadata": {
    "ExecuteTime": {
     "end_time": "2024-07-06T18:31:33.670671Z",
     "start_time": "2024-07-06T18:31:33.662417Z"
    }
   },
   "outputs": [],
   "source": [
    "production_target = (df['02 Production_Electric_Active Energy (kWh)']).dropna()\n",
    "production_target.to_csv('data/target_variables/target_production.csv', index=False)"
   ]
  },
  {
   "cell_type": "markdown",
   "id": "44d38fa8",
   "metadata": {},
   "source": [
    "## Other factors to include in the constrain equation"
   ]
  },
  {
   "cell_type": "markdown",
   "id": "b838d016",
   "metadata": {},
   "source": [
    "Based on the insights from the total consumption data and the nature of each variable, we can refine the boundaries to more accurately reflect the operational reality:\n",
    "\n",
    "1. **power_transport_vehicles**: Should scale with energy use but within a realistic maximum limit.\n",
    "2. **production_schedule**: Directly correlates with energy use, scaling between idle to full capacity.\n",
    "3. **maintenance_status**: Might not directly scale with energy use but should represent a range from poor to excellent.\n",
    "4. **volume_production_waste**: Could increase with higher production volumes (and thus higher energy use) but should have a maximum cap.\n",
    "5. **number_of_workers**: Should scale with the production demands reflected by energy consumption."
   ]
  },
  {
   "cell_type": "markdown",
   "id": "23fb9644",
   "metadata": {},
   "source": [
    "We will use the percentile distribution of energy consumption to dynamically adjust the maximum limits for variables such as the number of workers and production schedule, which are more directly influenced by the level of activity in the plant.\n",
    "\n",
    "Let’s start by analyzing the total energy consumption to inform these decisions.\n",
    "\n",
    "Here are some key statistics from the total energy consumption data:"
   ]
  },
  {
   "cell_type": "code",
   "execution_count": null,
   "id": "315b33b4",
   "metadata": {
    "ExecuteTime": {
     "end_time": "2024-07-06T18:31:33.675938Z",
     "start_time": "2024-07-06T18:31:33.671418Z"
    }
   },
   "outputs": [],
   "source": [
    "# Calculating statistical details for the total energy consumption data\n",
    "production_stats = df['02 Production_Electric_Active Energy (kWh)'].describe()\n",
    "production_stats"
   ]
  },
  {
   "cell_type": "markdown",
   "id": "0b051647",
   "metadata": {},
   "source": [
    "Using these insights, let's redefine the boundaries for each variable:\n",
    "\n",
    "1. **power_transport_vehicles**:\n",
    "   - **Minimum:** 0 kW\n",
    "   - **Maximum:** 200 kW (assuming peak needs for vehicle charging during the highest energy consumption)\n",
    "\n",
    "2. **production_schedule**:\n",
    "   - **Minimum:** 0 (idle)\n",
    "   - **Maximum:** 100 (full capacity, scaled directly with energy usage)\n",
    "\n",
    "3. **maintenance_status**:\n",
    "   - **Minimum:** 0 (poor maintenance)\n",
    "   - **Maximum:** 100 (excellent maintenance, not directly tied to energy consumption but essential for operational efficiency)\n",
    "\n",
    "4. **volume_production_waste**:\n",
    "   - **Minimum:** 0 tons\n",
    "   - **Maximum:** 50 tons (assuming waste production scales up with higher production volumes)\n",
    "\n",
    "5. **number_of_workers**:\n",
    "   - **Minimum:** 0 (no workers during idle periods)\n",
    "   - **Maximum:** 500 (full staffing during peak production times)\n",
    "\n",
    "For variables like **production_schedule** and **number_of_workers**, which should scale with energy consumption, we could set dynamic maximums based on the percentiles of energy consumption:\n",
    "\n",
    "- Use the 75th percentile as a typical upper limit during high production times.\n",
    "- Scale the maximum values of these variables proportionally to how close the energy consumption is to the maximum observed value."
   ]
  },
  {
   "cell_type": "markdown",
   "id": "1b09c114",
   "metadata": {},
   "source": [
    "## Synthesized dataset"
   ]
  },
  {
   "cell_type": "code",
   "execution_count": null,
   "id": "12b7f864",
   "metadata": {
    "ExecuteTime": {
     "end_time": "2024-07-06T18:31:33.708923Z",
     "start_time": "2024-07-06T18:31:33.676749Z"
    }
   },
   "outputs": [],
   "source": [
    "import pandas as pd\n",
    "import numpy as np\n",
    "\n",
    "# Number of samples is equal to the number of entries in the consumption data\n",
    "n_samples = len(production_target)\n",
    "\n",
    "# Initialize the random seed for reproducibility\n",
    "np.random.seed(42)\n",
    "\n",
    "# Define dynamic ranges based on energy consumption percentiles\n",
    "max_energy = df['02 Production_Electric_Active Energy (kWh)'].max()\n",
    "scale_factor = df['02 Production_Electric_Active Energy (kWh)'] / max_energy\n",
    "\n",
    "# Define a controlled noise level relative to the scale of each feature\n",
    "noise_level = 0.15  # Noise level as a percentage of feature's max value\n",
    "\n",
    "# Generating data within the defined boundaries\n",
    "data = {\n",
    "    'power_transport_vehicles': np.maximum(0, 200 * scale_factor + np.random.normal(0, 200 * noise_level, n_samples)),\n",
    "    'production_schedule': np.maximum(0, np.round(100 * scale_factor + np.random.normal(0, 100 * noise_level, n_samples))),\n",
    "    'maintenance_status': np.maximum(0, 100 * scale_factor + np.random.normal(0, 100 * noise_level, n_samples)),\n",
    "    'volume_production_waste': np.maximum(0, 50 * scale_factor + np.random.normal(0, 50 * noise_level, n_samples)),\n",
    "    'number_of_workers': np.maximum(0, np.round(150 * scale_factor + np.random.normal(0, 500 * noise_level, n_samples)))\n",
    "}\n",
    "\n",
    "df_simulated = pd.DataFrame(data)\n",
    "df_simulated['Time'] = df['Time']\n",
    "\n",
    "# Save the generated data to a new CSV\n",
    "output_path = 'data/synthesized_data/production_synthesized.csv'\n",
    "df_simulated.to_csv(output_path, index=False)\n",
    "\n",
    "output_path\n"
   ]
  },
  {
   "cell_type": "code",
   "execution_count": null,
   "id": "fda2d46e",
   "metadata": {},
   "outputs": [],
   "source": [
    "df_simulated"
   ]
  },
  {
   "cell_type": "code",
   "execution_count": null,
   "id": "8ba5323b",
   "metadata": {},
   "outputs": [],
   "source": [
    "import matplotlib.pyplot as plt\n",
    "\n",
    "# Combine target and features into one DataFrame\n",
    "df_combined = pd.concat([df['02 Production_Electric_Active Energy (kWh)'], df_simulated], axis=1)\n",
    "df_combined.set_index('Time', inplace=True)\n",
    "\n",
    "# Define the time period you want to plot\n",
    "start_date = '2023-06-01'\n",
    "end_date = '2023-06-30'\n",
    "\n",
    "# Slice the DataFrame to the desired period\n",
    "df_period = df_combined.loc[start_date:end_date]\n",
    "\n",
    "# Plotting\n",
    "plt.figure(figsize=(14, 7))\n",
    "for column in df_period.columns:\n",
    "    plt.plot(df_period.index, df_period[column], label=column)\n",
    "plt.legend()\n",
    "plt.title('Feature and Target Variable Trends Over Time')\n",
    "plt.xlabel('Date')\n",
    "plt.ylabel('Value')\n",
    "plt.grid(True)\n",
    "plt.show()\n"
   ]
  },
  {
   "cell_type": "markdown",
   "id": "682dc285",
   "metadata": {},
   "source": [
    "## Get cofficients"
   ]
  },
  {
   "cell_type": "code",
   "execution_count": null,
   "id": "960b4403",
   "metadata": {
    "ExecuteTime": {
     "end_time": "2024-07-06T18:31:34.114174Z",
     "start_time": "2024-07-06T18:31:33.742427Z"
    }
   },
   "outputs": [],
   "source": [
    "import pandas as pd\n",
    "from sklearn.model_selection import KFold, cross_val_score\n",
    "from sklearn.linear_model import LinearRegression\n",
    "from sklearn.metrics import mean_squared_error, r2_score\n",
    "from joblib import dump\n",
    "\n",
    "# Define the target\n",
    "target = production_target\n",
    "\n",
    "# Define the features\n",
    "features = df_simulated.drop(columns=['Time']).columns\n",
    "\n",
    "# Split the data into features (X) and target (y)\n",
    "X = df_simulated.drop(columns=['Time'])\n",
    "y = target\n",
    "\n",
    "# Initialize the linear regression model\n",
    "model = LinearRegression()\n",
    "\n",
    "# Perform k-fold cross-validation\n",
    "kfold = KFold(n_splits=5, shuffle=True, random_state=42)\n",
    "cv_results_mse = cross_val_score(model, X, y, cv=kfold, scoring='neg_mean_squared_error')\n",
    "cv_results_r2 = cross_val_score(model, X, y, cv=kfold, scoring='r2')\n",
    "\n",
    "# Fit the model on the entire dataset\n",
    "model.fit(X, y)\n",
    "\n",
    "# Get the intercept and coefficients\n",
    "intercept = model.intercept_\n",
    "coefficients = model.coef_\n",
    "\n",
    "# Save the trained model to a file\n",
    "model_params = {\n",
    "    'intercept': intercept,\n",
    "    'coefficients': coefficients,\n",
    "    'features': features\n",
    "}\n",
    "model_filename = 'equation_modeling/models/production_consumption_model.joblib'\n",
    "dump(model_params, model_filename)\n",
    "\n",
    "# Calculate and print performance metrics\n",
    "y_pred = model.predict(X)\n",
    "mse = mean_squared_error(y, y_pred)\n",
    "r2 = r2_score(y, y_pred)\n",
    "\n",
    "print(f'Mean Squared Error (Cross-Validation): {-cv_results_mse.mean()}')\n",
    "print(f'Standard Deviation (Cross-Validation): {cv_results_mse.std()}')\n",
    "print(f'R^2 Score (Cross-Validation): {cv_results_r2.mean()}')\n",
    "print(f'Overall R^2 Score: {r2}')\n",
    "\n",
    "# Optional: Print the coefficients of the model\n",
    "coefficients_df = pd.DataFrame(coefficients, features, columns=['Coefficient'])\n",
    "print(f'Intercept: {intercept}')\n",
    "print(coefficients_df)\n"
   ]
  }
 ],
 "metadata": {
  "kernelspec": {
   "display_name": "Python 3",
   "language": "python",
   "name": "python3"
  },
  "language_info": {
   "codemirror_mode": {
    "name": "ipython",
    "version": 3
   },
   "file_extension": ".py",
   "mimetype": "text/x-python",
   "name": "python",
   "nbconvert_exporter": "python",
   "pygments_lexer": "ipython3",
   "version": "3.11.5"
  }
 },
 "nbformat": 4,
 "nbformat_minor": 5
}
