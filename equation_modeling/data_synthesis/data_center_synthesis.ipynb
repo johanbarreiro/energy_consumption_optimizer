{
 "cells": [
  {
   "cell_type": "code",
   "execution_count": 1,
   "id": "initial_id",
   "metadata": {
    "ExecuteTime": {
     "end_time": "2024-07-07T16:47:39.021150Z",
     "start_time": "2024-07-07T16:47:39.018173Z"
    },
    "collapsed": true
   },
   "outputs": [
    {
     "name": "stdout",
     "output_type": "stream",
     "text": [
      "c:\\Users\\Usuario\\OneDrive\\Documents\\IE\\3. Trimestre\\Venture Lab & Capstone\\Capstone\\Tech side\\vl_optimizer\\equation_modeling\n"
     ]
    }
   ],
   "source": [
    "cd .."
   ]
  },
  {
   "cell_type": "code",
   "execution_count": 2,
   "id": "a564cbe1",
   "metadata": {},
   "outputs": [
    {
     "name": "stdout",
     "output_type": "stream",
     "text": [
      "c:\\Users\\Usuario\\OneDrive\\Documents\\IE\\3. Trimestre\\Venture Lab & Capstone\\Capstone\\Tech side\\vl_optimizer\n"
     ]
    }
   ],
   "source": [
    "cd .."
   ]
  },
  {
   "cell_type": "markdown",
   "id": "fa0c6da8",
   "metadata": {},
   "source": [
    "Import required libraries"
   ]
  },
  {
   "cell_type": "code",
   "execution_count": 3,
   "id": "a48f9935b0d606a3",
   "metadata": {
    "ExecuteTime": {
     "end_time": "2024-07-07T16:47:39.427553Z",
     "start_time": "2024-07-07T16:47:39.031109Z"
    }
   },
   "outputs": [],
   "source": [
    "import pandas as pd\n",
    "import numpy as np\n",
    "from scipy.optimize import minimize"
   ]
  },
  {
   "cell_type": "markdown",
   "id": "1976b82f",
   "metadata": {},
   "source": [
    "# Data Center\n",
    "## Code to generate the synthesized data required for the Data Center constraint formula:"
   ]
  },
  {
   "cell_type": "markdown",
   "id": "1e920c9b",
   "metadata": {},
   "source": [
    "Importing files"
   ]
  },
  {
   "cell_type": "code",
   "execution_count": 4,
   "id": "f3680699d7dd4ff8",
   "metadata": {
    "ExecuteTime": {
     "end_time": "2024-07-07T16:47:39.477324Z",
     "start_time": "2024-07-07T16:47:39.436273Z"
    }
   },
   "outputs": [],
   "source": [
    "df = pd.read_csv('data/processed_data/industrial_sites_processed/2024-07-09T19-25-47_industrial_site2_processed.csv')"
   ]
  },
  {
   "cell_type": "markdown",
   "id": "76922eed",
   "metadata": {},
   "source": [
    "Creating the target dataframe"
   ]
  },
  {
   "cell_type": "code",
   "execution_count": 5,
   "id": "f4e4fd8f",
   "metadata": {},
   "outputs": [],
   "source": [
    "data_center_target = df[['Time', '07 Data Center_Electric_Active Energy (kWh)']]\n",
    "data_center_target.to_csv('data/target_variables/target_data_center.csv', index=False)"
   ]
  },
  {
   "cell_type": "markdown",
   "id": "c61d76ab6723456",
   "metadata": {},
   "source": [
    "[Server Source](https://cc-techgroup.com/data-center-energy-consumption/#:~:text=this%20work%20efficiently.-,How%20Many%20kWh%20Does%20a%20Server%20Use%3F,to%201%2C900%20kWh%20every%20year.)\n",
    "\n",
    "Average annual power may be around 1,800 to 1,900 kWh every year per server (divide by 365 then 24 the 4)   0.05279680365 kWh per 15 minutes\n",
    "\n",
    "[Network Switch Source](https://www.genuinemodules.com/how-much-power-does-a-24-port-switch-use_a8539#:~:text=However%2C%20as%20a%20general%20estimate,requirements%20of%20the%20connected%20devices.)\n",
    "\n",
    "\n",
    "However, as a general estimate, a non-PoE 24 port switch may consume around 20-50 watts of power, while a PoE-enabled switch may consume around 100-250 watts or more, depending on the power requirements of the connected devices. \n",
    "PoE: 25Wh - 62.5Wh per 15 minutes\n",
    "Non-PoE: 5Wh - 12.5Wh per 15 minutes\n",
    "    \n",
    " [HDD & SDD Source](https://dataspan.com/blog/how-much-energy-do-data-centers-use/#:~:text=Depending%20on%20disk%20size%2C%20an,around%206%20watts%20per%20disk.)   \n",
    "\n",
    "Depending on disk size, an HDD can use anywhere from 6 to 9 watts at maximum capacity. While this is lower than in previous years, power requirements for SSDs have remained mostly constant at around 6 watts per disk.\n",
    "\n",
    "HDD: 0.175Wh - 0.2625Wh per 15 minutes\n",
    "SSD: 0.175Wh per 15 minutes\n"
   ]
  },
  {
   "cell_type": "markdown",
   "id": "ad6a8af183be819b",
   "metadata": {},
   "source": [
    "## Synthesized dataset containing the following columns:\n",
    "\n",
    "total_data_center_consumption_kwh = β1*Number_of_active_servers + β2*Number_of_active_network_switches + β3*Number_of_active_hard_drives\n",
    "\n",
    "\t•\tNumber of active servers\n",
    "\t•\tNumber of active network switches (PoE)\n",
    "\t•\tNumber of active network switches (Non-PoE)\n",
    "\t•\tNumber of active hard drives (HDD)\n",
    "\t•\tNumber of active solid-state drives (SSD)\n",
    "\t•\tTotal energy consumption in kWh"
   ]
  },
  {
   "cell_type": "code",
   "execution_count": 6,
   "id": "3bfc8738aab9903e",
   "metadata": {
    "ExecuteTime": {
     "end_time": "2024-07-07T16:47:49.119878Z",
     "start_time": "2024-07-07T16:47:39.497646Z"
    }
   },
   "outputs": [
    {
     "data": {
      "text/html": [
       "<div>\n",
       "<style scoped>\n",
       "    .dataframe tbody tr th:only-of-type {\n",
       "        vertical-align: middle;\n",
       "    }\n",
       "\n",
       "    .dataframe tbody tr th {\n",
       "        vertical-align: top;\n",
       "    }\n",
       "\n",
       "    .dataframe thead th {\n",
       "        text-align: right;\n",
       "    }\n",
       "</style>\n",
       "<table border=\"1\" class=\"dataframe\">\n",
       "  <thead>\n",
       "    <tr style=\"text-align: right;\">\n",
       "      <th></th>\n",
       "      <th>server</th>\n",
       "      <th>network_switch_poe</th>\n",
       "      <th>network_switch_non_poe</th>\n",
       "      <th>hdd</th>\n",
       "      <th>ssd</th>\n",
       "      <th>total_consumption</th>\n",
       "      <th>target_consumption</th>\n",
       "      <th>Time</th>\n",
       "    </tr>\n",
       "  </thead>\n",
       "  <tbody>\n",
       "    <tr>\n",
       "      <th>0</th>\n",
       "      <td>6</td>\n",
       "      <td>6</td>\n",
       "      <td>5</td>\n",
       "      <td>3</td>\n",
       "      <td>7</td>\n",
       "      <td>2.498448</td>\n",
       "      <td>2.575</td>\n",
       "      <td>2022-07-01 00:00:00</td>\n",
       "    </tr>\n",
       "    <tr>\n",
       "      <th>1</th>\n",
       "      <td>8</td>\n",
       "      <td>4</td>\n",
       "      <td>1</td>\n",
       "      <td>7</td>\n",
       "      <td>1</td>\n",
       "      <td>2.430523</td>\n",
       "      <td>2.500</td>\n",
       "      <td>2022-07-01 01:00:00</td>\n",
       "    </tr>\n",
       "    <tr>\n",
       "      <th>2</th>\n",
       "      <td>8</td>\n",
       "      <td>4</td>\n",
       "      <td>1</td>\n",
       "      <td>9</td>\n",
       "      <td>4</td>\n",
       "      <td>2.434373</td>\n",
       "      <td>2.550</td>\n",
       "      <td>2022-07-01 02:00:00</td>\n",
       "    </tr>\n",
       "    <tr>\n",
       "      <th>3</th>\n",
       "      <td>6</td>\n",
       "      <td>6</td>\n",
       "      <td>5</td>\n",
       "      <td>2</td>\n",
       "      <td>4</td>\n",
       "      <td>2.495473</td>\n",
       "      <td>2.500</td>\n",
       "      <td>2022-07-01 03:00:00</td>\n",
       "    </tr>\n",
       "    <tr>\n",
       "      <th>4</th>\n",
       "      <td>5</td>\n",
       "      <td>6</td>\n",
       "      <td>10</td>\n",
       "      <td>1</td>\n",
       "      <td>2</td>\n",
       "      <td>2.457011</td>\n",
       "      <td>2.550</td>\n",
       "      <td>2022-07-01 04:00:00</td>\n",
       "    </tr>\n",
       "  </tbody>\n",
       "</table>\n",
       "</div>"
      ],
      "text/plain": [
       "   server  network_switch_poe  network_switch_non_poe  hdd  ssd  \\\n",
       "0       6                   6                       5    3    7   \n",
       "1       8                   4                       1    7    1   \n",
       "2       8                   4                       1    9    4   \n",
       "3       6                   6                       5    2    4   \n",
       "4       5                   6                      10    1    2   \n",
       "\n",
       "   total_consumption  target_consumption                 Time  \n",
       "0           2.498448               2.575  2022-07-01 00:00:00  \n",
       "1           2.430523               2.500  2022-07-01 01:00:00  \n",
       "2           2.434373               2.550  2022-07-01 02:00:00  \n",
       "3           2.495473               2.500  2022-07-01 03:00:00  \n",
       "4           2.457011               2.550  2022-07-01 04:00:00  "
      ]
     },
     "execution_count": 6,
     "metadata": {},
     "output_type": "execute_result"
    }
   ],
   "source": [
    "# Load the CSV file\n",
    "df = pd.read_csv('data/target_variables/target_data_center.csv')\n",
    "\n",
    "# Ensure '07 Data Center_Electric_Active Energy (kWh)' is numeric\n",
    "df['07 Data Center_Electric_Active Energy (kWh)'] = pd.to_numeric(df['07 Data Center_Electric_Active Energy (kWh)'], errors='coerce')\n",
    "\n",
    "# Drop rows with NaN values in the target consumption column\n",
    "df.dropna(subset=['07 Data Center_Electric_Active Energy (kWh)'], inplace=True)\n",
    "\n",
    "# Define the power consumption per hour for each component\n",
    "power_consumption_per_hour = {\n",
    "    'server': 0.2111872146,  # kWh per hour\n",
    "    # 'network_switch': (0.1748 + 0.035) / 2,  # kWh per hour\n",
    "    'network_switch_poe': (((100 / 1000 ) + (249.6 / 1000))/2),  # Convert Wh to kWh per hour\n",
    "    'network_switch_non_poe': (((20 / 1000 ) + (50 / 1000))/2),  # Convert Wh to kWh per hour\n",
    "    'hdd': (((0.7 / 1000 ) + (1.05 / 1000))/2),  # Convert Wh to kWh per hour\n",
    "    'ssd': 0.7 / 1000  # Convert Wh to kWh per hour\n",
    "}\n",
    "\n",
    "# List of component names\n",
    "components = list(power_consumption_per_hour.keys())\n",
    "\n",
    "# Function to calculate total consumption based on the number of active units\n",
    "def calculate_consumption(x):\n",
    "    total_consumption = 0\n",
    "    for i, component in enumerate(components):\n",
    "        total_consumption += x[i] * power_consumption_per_hour[component]\n",
    "    return total_consumption\n",
    "\n",
    "# Function to minimize: difference between calculated and target consumption\n",
    "def objective(x, target_consumption):\n",
    "    calculated = calculate_consumption(x)\n",
    "    return np.abs(calculated - target_consumption)\n",
    "\n",
    "# List to store synthesized data\n",
    "synthesized_data = []\n",
    "\n",
    "# Optimize for each hour in the dataset\n",
    "for index, row in df.iterrows():\n",
    "    target_consumption = row['07 Data Center_Electric_Active Energy (kWh)']\n",
    "    \n",
    "    # Initial guess: random integers within a reasonable range\n",
    "    initial_guess = np.random.randint(1, 10, size=len(components))\n",
    "    \n",
    "    # Bounds: each component should be at least 1\n",
    "    bounds = [(1, None)] * len(components)\n",
    "    \n",
    "    # Optimize\n",
    "    result = minimize(objective, initial_guess, args=(target_consumption,), bounds=bounds, method='L-BFGS-B')\n",
    "    \n",
    "    # Round the result to the nearest whole number\n",
    "    rounded_result = np.round(result.x).astype(int)\n",
    "    \n",
    "    # Append to the synthesized data\n",
    "    synthesized_data.append(rounded_result)\n",
    "\n",
    "# Create a DataFrame for the synthesized data\n",
    "synthesized_df = pd.DataFrame(synthesized_data, columns=components)\n",
    "synthesized_df['total_consumption'] = synthesized_df.apply(lambda row: calculate_consumption(row), axis=1)\n",
    "synthesized_df['target_consumption'] = df['07 Data Center_Electric_Active Energy (kWh)'].values\n",
    "synthesized_df['Time'] = df['Time'].values\n",
    "\n",
    "# Display the first few rows of the synthesized data\n",
    "synthesized_df.head()"
   ]
  },
  {
   "cell_type": "markdown",
   "id": "d736c214",
   "metadata": {},
   "source": [
    "Save synthesized data to CSV"
   ]
  },
  {
   "cell_type": "code",
   "execution_count": 7,
   "id": "8b7b8e9bd6b4486e",
   "metadata": {
    "ExecuteTime": {
     "end_time": "2024-07-07T16:47:49.139095Z",
     "start_time": "2024-07-07T16:47:49.120769Z"
    }
   },
   "outputs": [],
   "source": [
    "output_path = 'data/synthesized_data/data_center_synthesized.csv'\n",
    "synthesized_df.to_csv(output_path, index=False)"
   ]
  }
 ],
 "metadata": {
  "kernelspec": {
   "display_name": "Python 3",
   "language": "python",
   "name": "python3"
  },
  "language_info": {
   "codemirror_mode": {
    "name": "ipython",
    "version": 3
   },
   "file_extension": ".py",
   "mimetype": "text/x-python",
   "name": "python",
   "nbconvert_exporter": "python",
   "pygments_lexer": "ipython3",
   "version": "3.11.5"
  }
 },
 "nbformat": 4,
 "nbformat_minor": 5
}
