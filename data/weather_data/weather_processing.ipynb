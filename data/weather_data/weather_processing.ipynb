{
 "cells": [
  {
   "cell_type": "code",
   "id": "initial_id",
   "metadata": {
    "collapsed": true,
    "ExecuteTime": {
     "end_time": "2024-06-25T20:55:05.000262Z",
     "start_time": "2024-06-25T20:55:04.650007Z"
    }
   },
   "source": "import weather_ingestion_utils as wiu\n",
   "outputs": [],
   "execution_count": 1
  },
  {
   "metadata": {
    "ExecuteTime": {
     "end_time": "2024-06-25T20:54:44.694461Z",
     "start_time": "2024-06-25T20:50:54.298787Z"
    }
   },
   "cell_type": "code",
   "source": "wiu.process_weather_data_to_csv('visual_crossing/Bangkok,Thailand 2018-01-01 to 2019-12-31.csv', 'processed_data/Bangkok,Thailand 2018-01-01 to 2019-12-31.csv', 'essential')",
   "id": "ff2d89f4d78b1563",
   "outputs": [
    {
     "name": "stdout",
     "output_type": "stream",
     "text": [
      "Processed weather data saved to 'processed_data/Bangkok,Thailand 2018-01-01 to 2019-12-31.csv'.\n"
     ]
    }
   ],
   "execution_count": 4
  },
  {
   "metadata": {
    "ExecuteTime": {
     "end_time": "2024-06-25T20:55:06.895541Z",
     "start_time": "2024-06-25T20:55:06.548813Z"
    }
   },
   "cell_type": "code",
   "source": "wiu.process_weather_data_to_csv('visual_crossing/madrid 2022-07-01 to 2023-09-20.csv', 'processed_data/madrid,spain 2022-07-01 to 2023-09-20.csv', 'essential')",
   "id": "4d0bcf171d49890f",
   "outputs": [
    {
     "name": "stdout",
     "output_type": "stream",
     "text": [
      "Processed weather data saved to 'processed_data/madrid,spain 2022-07-01 to 2023-09-20.csv'.\n"
     ]
    }
   ],
   "execution_count": 2
  },
  {
   "metadata": {},
   "cell_type": "code",
   "outputs": [],
   "execution_count": null,
   "source": "",
   "id": "e414246a6a6fc4d7"
  }
 ],
 "metadata": {
  "kernelspec": {
   "display_name": "Python 3",
   "language": "python",
   "name": "python3"
  },
  "language_info": {
   "codemirror_mode": {
    "name": "ipython",
    "version": 2
   },
   "file_extension": ".py",
   "mimetype": "text/x-python",
   "name": "python",
   "nbconvert_exporter": "python",
   "pygments_lexer": "ipython2",
   "version": "2.7.6"
  }
 },
 "nbformat": 4,
 "nbformat_minor": 5
}
