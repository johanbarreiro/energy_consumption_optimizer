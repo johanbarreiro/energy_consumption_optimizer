{
 "cells": [
  {
   "metadata": {},
   "cell_type": "markdown",
   "source": "# Get Coefficients",
   "id": "6f534106bc50b09c"
  },
  {
   "metadata": {
    "ExecuteTime": {
     "end_time": "2024-07-04T23:02:22.294229Z",
     "start_time": "2024-07-04T23:02:22.280030Z"
    }
   },
   "cell_type": "code",
   "source": [
    "file_path = 'data/synthesized_data/chiller_group_synthesized.csv'\n",
    "df = pd.read_csv(file_path, index_col=False)\n",
    "df.columns"
   ],
   "id": "ab83ba0a4cac394f",
   "outputs": [
    {
     "data": {
      "text/plain": [
       "Index(['Unnamed: 0', 'Time', '03 Chiller Group_Electric_Active Energy (kWh)',\n",
       "       'outdoor_temp', 'outdoor_humidity', 'heat_index',\n",
       "       'Chiller Group_Electric_Power Factor (real)(efficiency)', 'set_point',\n",
       "       'num_active_chiller'],\n",
       "      dtype='object')"
      ]
     },
     "execution_count": 57,
     "metadata": {},
     "output_type": "execute_result"
    }
   ],
   "execution_count": 57
  },
  {
   "metadata": {
    "ExecuteTime": {
     "end_time": "2024-07-04T23:02:23.219003Z",
     "start_time": "2024-07-04T23:02:23.208511Z"
    }
   },
   "cell_type": "code",
   "source": [
    "import pandas as pd\n",
    "from sklearn.model_selection import cross_val_score, KFold\n",
    "from sklearn.linear_model import LinearRegression\n",
    "from sklearn.metrics import mean_squared_error, r2_score\n",
    "from joblib import dump, load\n",
    "\n",
    "# Count total NaN values in the entire DataFrame\n",
    "total_nans = df.isna().sum().sum()\n",
    "print(f'Total NaN values in the DataFrame: {total_nans}')\n",
    "\n",
    "# Count NaN values in each column\n",
    "nans_per_column = df.isna().sum()\n",
    "print('NaN values in each column:')\n",
    "print(nans_per_column)\n",
    "\n",
    "# Count the number of rows that contain any NaN values\n",
    "rows_with_nans_count = df.isna().any(axis=1).sum()\n",
    "print(f'Number of rows with at least one NaN value: {rows_with_nans_count}')\n",
    "\n",
    "# Replace NaN values with the mean in a specific column\n",
    "column_to_fill = 'Chiller Group_Electric_Power Factor (real)(efficiency)'  # replace with your specific column name\n",
    "df[column_to_fill].fillna(df[column_to_fill].mean(), inplace=True)\n",
    "\n",
    "# Verify if there are any NaNs left in that column\n",
    "nan_counts_after_filling = df[column_to_fill].isna().sum()\n",
    "print(f'Total NaN values in the column \"{column_to_fill}\" after filling: {nan_counts_after_filling}')\n",
    "\n"
   ],
   "id": "6806827962471736",
   "outputs": [
    {
     "name": "stdout",
     "output_type": "stream",
     "text": [
      "Total NaN values in the DataFrame: 1\n",
      "NaN values in each column:\n",
      "Unnamed: 0                                                0\n",
      "Time                                                      0\n",
      "03 Chiller Group_Electric_Active Energy (kWh)             0\n",
      "outdoor_temp                                              0\n",
      "outdoor_humidity                                          0\n",
      "heat_index                                                0\n",
      "Chiller Group_Electric_Power Factor (real)(efficiency)    1\n",
      "set_point                                                 0\n",
      "num_active_chiller                                        0\n",
      "dtype: int64\n",
      "Number of rows with at least one NaN value: 1\n",
      "Total NaN values in the column \"Chiller Group_Electric_Power Factor (real)(efficiency)\" after filling: 0\n"
     ]
    },
    {
     "name": "stderr",
     "output_type": "stream",
     "text": [
      "/var/folders/9k/rnh189dj1_95w5p98sc88vbh0000gn/T/ipykernel_73209/3976399992.py:22: FutureWarning: A value is trying to be set on a copy of a DataFrame or Series through chained assignment using an inplace method.\n",
      "The behavior will change in pandas 3.0. This inplace method will never work because the intermediate object on which we are setting values always behaves as a copy.\n",
      "\n",
      "For example, when doing 'df[col].method(value, inplace=True)', try using 'df.method({col: value}, inplace=True)' or df[col] = df[col].method(value) instead, to perform the operation inplace on the original object.\n",
      "\n",
      "\n",
      "  df[column_to_fill].fillna(df[column_to_fill].mean(), inplace=True)\n"
     ]
    }
   ],
   "execution_count": 58
  },
  {
   "metadata": {
    "ExecuteTime": {
     "end_time": "2024-07-04T23:03:36.609084Z",
     "start_time": "2024-07-04T23:03:36.514823Z"
    }
   },
   "cell_type": "code",
   "source": [
    "import pandas as pd\n",
    "from sklearn.model_selection import KFold, cross_val_score\n",
    "from sklearn.linear_model import LinearRegression\n",
    "from sklearn.metrics import mean_squared_error, r2_score\n",
    "from joblib import dump\n",
    "\n",
    "# Define the target and features\n",
    "target = '03 Chiller Group_Electric_Active Energy (kWh)'\n",
    "df['heat_index_set_point_diff'] = df['heat_index'] - df['set_point']\n",
    "df['efficiency_adjusted_power'] = df['Chiller Group_Electric_Power Factor (real)(efficiency)']\n",
    "\n",
    "# Calculate the adjusted energy consumption incorporating assumed COP\n",
    "assumed_COP = 3.0  # Assumed value for COP\n",
    "df['adjusted_energy'] = df[target] * df['efficiency_adjusted_power'] * assumed_COP\n",
    "\n",
    "# Define the features\n",
    "features = ['heat_index_set_point_diff', 'efficiency_adjusted_power', 'num_active_chiller']\n",
    "\n",
    "# Split the data into features (X) and target (y)\n",
    "X = df[features]\n",
    "y = df['adjusted_energy']\n",
    "\n",
    "# Initialize the linear regression model\n",
    "model = LinearRegression()\n",
    "\n",
    "# Perform k-fold cross-validation\n",
    "kfold = KFold(n_splits=5, shuffle=True, random_state=42)\n",
    "cv_results_mse = cross_val_score(model, X, y, cv=kfold, scoring='neg_mean_squared_error')\n",
    "cv_results_r2 = cross_val_score(model, X, y, cv=kfold, scoring='r2')\n",
    "\n",
    "# Fit the model on the entire dataset\n",
    "model.fit(X, y)\n",
    "\n",
    "# Get the intercept and coefficients\n",
    "intercept = model.intercept_\n",
    "coefficients = model.coef_\n",
    "\n",
    "# Save the trained model to a file\n",
    "model_params = {\n",
    "    'intercept': intercept,\n",
    "    'coefficients': coefficients,\n",
    "    'features': features\n",
    "}\n",
    "model_filename = 'equation_modeling/models/chiller_consumption_model.joblib'\n",
    "dump(model_params, model_filename)\n",
    "\n",
    "# Calculate and print performance metrics\n",
    "y_pred = model.predict(X)\n",
    "mse = mean_squared_error(y, y_pred)\n",
    "r2 = r2_score(y, y_pred)\n",
    "\n",
    "print(f'Mean Squared Error (Cross-Validation): {-cv_results_mse.mean()}')\n",
    "print(f'Standard Deviation (Cross-Validation): {cv_results_mse.std()}')\n",
    "print(f'R^2 Score (Cross-Validation): {cv_results_r2.mean()}')\n",
    "print(f'Overall R^2 Score: {r2}')\n",
    "\n",
    "# Optional: Print the coefficients of the model\n",
    "coefficients_df = pd.DataFrame(coefficients, features, columns=['Coefficient'])\n",
    "print(f'Intercept: {intercept}')\n",
    "print(coefficients_df)\n",
    "\n",
    "# Function to make predictions using the saved model\n",
    "def predict(X, model_params):\n",
    "    intercept = model_params['intercept']\n",
    "    coefficients = model_params['coefficients']\n",
    "    return intercept + X.dot(coefficients)\n",
    "\n",
    "# Optional: Load the model and make predictions\n",
    "# loaded_model_params = load(model_filename)\n",
    "# predictions = predict(X, loaded_model_params)\n",
    "# print(f'Model predictions: {predictions}')"
   ],
   "id": "9db389b6071551e7",
   "outputs": [
    {
     "name": "stdout",
     "output_type": "stream",
     "text": [
      "Mean Squared Error (Cross-Validation): 7780.651208122925\n",
      "Standard Deviation (Cross-Validation): 249.2880186500714\n",
      "R^2 Score (Cross-Validation): 0.5687076950791999\n",
      "Overall R^2 Score: 0.5700832215860314\n",
      "Intercept: 491.7123579125253\n",
      "                           Coefficient\n",
      "heat_index_set_point_diff     2.314301\n",
      "efficiency_adjusted_power  -466.604564\n",
      "num_active_chiller           17.040933\n"
     ]
    }
   ],
   "execution_count": 61
  },
  {
   "metadata": {},
   "cell_type": "markdown",
   "source": [
    "# Equations\n",
    "\n",
    "\t1.\tTotal Consumption (total_consumption_chiller_group):\n",
    "\n",
    "\\text{total_consumption_chiller_group} = \\beta_1 \\cdot \\text{number_active_chillers} + \\beta_2 \\cdot \\text{outdoor_temp} + \\beta_3 \\cdot \\text{outdoor_humidity} + \\beta_4 \\cdot \\text{Chiller Set point} + \\beta_5 \\cdot \\text{Chiller Efficiency}\n",
    "\n",
    "\t2.\tChiller Set Point (chiller_set_point):\n",
    "\n",
    "\\text{chiller_set_point} = \\gamma_1 \\cdot \\text{number_active_chillers} + \\gamma_2 \\cdot \\text{outdoor_temp} + \\gamma_3 \\cdot \\text{outdoor_humidity} + \\gamma_4 \\cdot \\text{Chiller Efficiency}\n",
    "\n",
    "\t3.\tNumber of Active Chillers (number_active_chillers):\n",
    "\n",
    "\\text{number_active_chillers} = \\delta_1 \\cdot \\text{outdoor_temp} + \\delta_2 \\cdot \\text{outdoor_humidity} + \\delta_3 \\cdot \\text{Chiller Efficiency}\n",
    "\n"
   ],
   "id": "78efbd5c376550e1"
  }
 ],
 "metadata": {
  "kernelspec": {
   "display_name": "Python 3",
   "language": "python",
   "name": "python3"
  },
  "language_info": {
   "codemirror_mode": {
    "name": "ipython",
    "version": 2
   },
   "file_extension": ".py",
   "mimetype": "text/x-python",
   "name": "python",
   "nbconvert_exporter": "python",
   "pygments_lexer": "ipython2",
   "version": "2.7.6"
  }
 },
 "nbformat": 4,
 "nbformat_minor": 5
}
