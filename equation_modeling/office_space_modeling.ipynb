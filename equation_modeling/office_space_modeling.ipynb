{
 "cells": [
  {
   "cell_type": "markdown",
   "id": "9c94ae02",
   "metadata": {},
   "source": [
    "# 06 Offices_Electric_Active Energy (kWh)"
   ]
  },
  {
   "cell_type": "code",
   "execution_count": 1,
   "id": "6db85538",
   "metadata": {},
   "outputs": [],
   "source": [
    "import pandas as pd"
   ]
  },
  {
   "cell_type": "code",
   "execution_count": 2,
   "id": "38474010",
   "metadata": {},
   "outputs": [
    {
     "name": "stdout",
     "output_type": "stream",
     "text": [
      "c:\\Users\\Usuario\\OneDrive\\Documents\\IE\\3. Trimestre\\Venture Lab & Capstone\\Capstone\\Tech side\\vl_optimizer\n"
     ]
    }
   ],
   "source": [
    "cd .."
   ]
  },
  {
   "cell_type": "markdown",
   "id": "a6167b7d",
   "metadata": {},
   "source": [
    "## Definition of the constrain equation\n",
    "\n",
    "**Offices_Electric_Active Energy = A⋅lightbulbs_active + B⋅active_wall_plugs + C⋅active_computers + D⋅active_printers + E⋅active_coffee_machines**\n",
    "\n",
    "- **Offices_Electric_Active Energy** = Energy consumption of the Office building in a given period.\n",
    "\n",
    "- **lightbulbs_active** = Represents the number of active lightbulbs during the specified period - Given.\n",
    "\n",
    "- **active_wall_plugs** = Refers to the number of wall plugs currently in use or drawing power - Given.\n",
    "\n",
    "- **active_computers** = Indicates the number of computers currently in use - Given.\n",
    "\n",
    "- **active_printers** = The number of printers in active use during the measurement period - Controllable.\n",
    "\n",
    "- **active_coffee_machines** = Represents the number of coffee machines currently in use - Controllable.\n",
    "\n",
    "- **A,B,C,D,E** = Coefficients for each factor."
   ]
  },
  {
   "cell_type": "code",
   "execution_count": 3,
   "id": "7ad4bd53",
   "metadata": {},
   "outputs": [],
   "source": "df = pd.read_csv('data/processed_data/industrial_sites_processed/2024-07-06T21-45-14_industrial_site2_processed.csv')"
  },
  {
   "cell_type": "code",
   "execution_count": 4,
   "id": "bb9b0b92",
   "metadata": {},
   "outputs": [
    {
     "data": {
      "text/plain": [
       "Index(['Time', '02 Production_Electric_Active Energy (kWh)',\n",
       "       '02 Production_Electric_Active Power (kW)',\n",
       "       '02 Production_Electric_Apparent Power (kVa)',\n",
       "       '02 Production_Electric_Power Factor (real)',\n",
       "       '03 Chiller Group_Electric_Active Energy (kWh)',\n",
       "       '03 Chiller Group_Electric_Active Power (kW)',\n",
       "       '03 Chiller Group_Electric_Apparent Power (kVa)',\n",
       "       '03 Chiller Group_Electric_Power Factor (real)',\n",
       "       '04 UTA_Electric_Active Energy (kWh)',\n",
       "       '04 UTA_Electric_Active Power (kW)',\n",
       "       '04 UTA_Electric_Apparent Power (kVa)',\n",
       "       '04 UTA_Electric_Power Factor (real)',\n",
       "       '05 Compressors_Electric_Active Energy (kWh)',\n",
       "       '05 Compressors_Electric_Active Power (kW)',\n",
       "       '05 Compressors_Electric_Apparent Power (kVa)',\n",
       "       '05 Compressors_Electric_Power Factor (real)',\n",
       "       '06 Offices_Electric_Active Energy (kWh)',\n",
       "       '06 Offices_Electric_Active Power (kW)',\n",
       "       '06 Offices_Electric_Apparent Power (kVa)',\n",
       "       '06 Offices_Electric_Power Factor (real)',\n",
       "       '07 Data Center_Electric_Active Energy (kWh)',\n",
       "       '07 Data Center_Electric_Active Power (kW)',\n",
       "       '07 Data Center_Electric_Apparent Power (kVa)',\n",
       "       '07 Data Center_Electric_Power Factor (real)',\n",
       "       '08 Technological Centers_Electric_Active Energy (kWh)',\n",
       "       '08 Technological Centers_Electric_Active Power (kW)',\n",
       "       '08 Technological Centers_Electric_Apparent Power (kVa)',\n",
       "       '08 Technological Centers_Electric_Power Factor (real)', 'sum_of_kWh',\n",
       "       'DataFrame Name', 'is_weekend', 'hour_sin', 'hour_cos',\n",
       "       'day_of_month_sin', 'day_of_month_cos', 'month_sin', 'month_cos',\n",
       "       'day_of_week_sin', 'day_of_week_cos', 'price_mWh', 'energy_cost_kWh',\n",
       "       'temp', 'humidity', 'precip', 'windspeed', 'uvindex', 'conditions',\n",
       "       'heat_index'],\n",
       "      dtype='object')"
      ]
     },
     "execution_count": 4,
     "metadata": {},
     "output_type": "execute_result"
    }
   ],
   "source": [
    "df.columns"
   ]
  },
  {
   "cell_type": "code",
   "execution_count": 5,
   "id": "bdfc310b",
   "metadata": {},
   "outputs": [],
   "source": [
    "office_target = (df['06 Offices_Electric_Active Energy (kWh)'])\n",
    "office_target.to_csv('data/target_variables/target_office.csv', index=False)"
   ]
  },
  {
   "cell_type": "markdown",
   "id": "1dded4db",
   "metadata": {},
   "source": [
    "## Other factors to include in the constrain equation"
   ]
  },
  {
   "cell_type": "markdown",
   "id": "bf5fe4ce",
   "metadata": {},
   "source": [
    "1. **lightbulbs_active**: The activity level of lightbulbs should scale with the lighting energy consumption, which could be a significant fraction of the total office energy use.\n",
    "2. **active_wall_plugs**: The number of active wall plugs should correlate with the energy consumption from plugged devices.\n",
    "3. **active_computers**: Computer use should scale with the proportion of energy dedicated to IT and office equipment.\n",
    "4. **active_printers**: Printer usage should align with the specific energy consumption of these devices.\n",
    "5. **active_coffee_machines**: The operation of coffee machines should scale with their share of energy use."
   ]
  },
  {
   "cell_type": "markdown",
   "id": "f3851a9b",
   "metadata": {},
   "source": [
    "We will use the percentile distribution of energy consumption to dynamically adjust the maximum limits for variables, which are more directly influenced by the level of activity in the office.\n",
    "\n",
    "Let’s start by analyzing the total energy consumption to inform these decisions.\n",
    "\n",
    "Here are some key statistics from the total energy consumption data:"
   ]
  },
  {
   "cell_type": "code",
   "execution_count": 6,
   "id": "facdad1d",
   "metadata": {},
   "outputs": [
    {
     "data": {
      "text/plain": [
       "count    10690.000000\n",
       "mean         5.320909\n",
       "std          3.501139\n",
       "min          0.000000\n",
       "25%          2.670000\n",
       "50%          3.957500\n",
       "75%          7.434375\n",
       "max         18.058784\n",
       "Name: 06 Offices_Electric_Active Energy (kWh), dtype: float64"
      ]
     },
     "execution_count": 6,
     "metadata": {},
     "output_type": "execute_result"
    }
   ],
   "source": [
    "# Calculating statistical details for the total energy consumption data\n",
    "production_stats = df['06 Offices_Electric_Active Energy (kWh)'].describe()\n",
    "production_stats"
   ]
  },
  {
   "cell_type": "markdown",
   "id": "3472aace",
   "metadata": {},
   "source": [
    "Using these insights, let's redefine the boundaries for each variable:\n",
    "\n",
    "1. **lightbulbs_active**:\n",
    "   - **Minimum:** 0.00 kWh\n",
    "   - **Maximum:** 5.42 kWh\n",
    "\n",
    "2. **active_wall_plugs**:\n",
    "   - **Minimum:** 0.00 kWh\n",
    "   - **Maximum:** 7.22 kWh\n",
    "\n",
    "3. **active_computers**:\n",
    "   - **Minimum:** 0.00 kWh\n",
    "   - **Maximum:** 3.61 kWh\n",
    "\n",
    "4. **active_printers**:\n",
    "   - **Minimum:** 0.00 kWh\n",
    "   - **Maximum:**  kWh\n",
    "0.90\n",
    "5. **active_coffee_machines**:\n",
    "   - **Minimum:** 0.00 kWh\n",
    "   - **Maximum:** 0.36 kWh\n",
    "\n",
    "For all variables, which should scale with energy consumption, we could set dynamic maximums based on the percentiles of energy consumption:\n",
    "\n",
    "- Use the 75th percentile as a typical upper limit during high production times.\n",
    "- Scale the maximum values of these variables proportionally to how close the energy consumption is to the maximum observed value."
   ]
  },
  {
   "cell_type": "markdown",
   "id": "45cc4e77",
   "metadata": {},
   "source": [
    "## Synthesized dataset"
   ]
  },
  {
   "cell_type": "code",
   "execution_count": 7,
   "id": "6ad545c9",
   "metadata": {},
   "outputs": [
    {
     "data": {
      "text/plain": [
       "'data/synthesized_data/office_synthesized.csv'"
      ]
     },
     "execution_count": 7,
     "metadata": {},
     "output_type": "execute_result"
    }
   ],
   "source": [
    "import pandas as pd\n",
    "import numpy as np\n",
    "\n",
    "# Number of samples is equal to the number of entries in the consumption data\n",
    "n_samples = len(office_target)\n",
    "\n",
    "# Initialize the random seed for reproducibility\n",
    "np.random.seed(42)\n",
    "\n",
    "# Define dynamic ranges based on energy consumption percentiles\n",
    "max_energy = df['06 Offices_Electric_Active Energy (kWh)'].max()\n",
    "scale_factor = df['06 Offices_Electric_Active Energy (kWh)'] / max_energy\n",
    "\n",
    "# Generating data within the defined boundaries\n",
    "data = {\n",
    "    'lightbulbs_active': np.random.uniform(0, 5.42, n_samples) * scale_factor,\n",
    "    'active_wall_plugs': np.round(np.random.uniform(0, 7.22, n_samples) * scale_factor),\n",
    "    'active_computers': np.random.uniform(0, 3.61, n_samples) * scale_factor,\n",
    "    'active_printers': np.random.uniform(0, 0.90, n_samples) * scale_factor,\n",
    "    'active_coffee_machines': np.round(np.random.uniform(0, 0.36, n_samples) * scale_factor)\n",
    "}\n",
    "\n",
    "df_simulated = pd.DataFrame(data)\n",
    "\n",
    "# Save the generated data to a new CSV\n",
    "output_path = 'data/synthesized_data/office_synthesized.csv'\n",
    "df_simulated.to_csv(output_path, index=False)\n",
    "\n",
    "output_path"
   ]
  },
  {
   "cell_type": "markdown",
   "id": "f30eb72d",
   "metadata": {},
   "source": [
    "## Get cofficients"
   ]
  },
  {
   "cell_type": "code",
   "execution_count": 8,
   "id": "526bed56",
   "metadata": {},
   "outputs": [
    {
     "name": "stdout",
     "output_type": "stream",
     "text": [
      "Mean Squared Error (Cross-Validation): 2.7626930537637873\n",
      "Standard Deviation (Cross-Validation): 0.11311750862712763\n",
      "R^2 Score (Cross-Validation): 0.7744197438551937\n",
      "Overall R^2 Score: 0.774805661330368\n",
      "Intercept: 1.2095204436375173\n",
      "                        Coefficient\n",
      "lightbulbs_active          1.357596\n",
      "active_wall_plugs          0.840292\n",
      "active_computers           1.982570\n",
      "active_printers            8.393053\n",
      "active_coffee_machines     0.000000\n"
     ]
    }
   ],
   "source": [
    "import pandas as pd\n",
    "from sklearn.model_selection import KFold, cross_val_score\n",
    "from sklearn.linear_model import LinearRegression\n",
    "from sklearn.metrics import mean_squared_error, r2_score\n",
    "from joblib import dump\n",
    "\n",
    "# Define the target\n",
    "target = office_target\n",
    "\n",
    "# Define the features\n",
    "features = df_simulated.columns\n",
    "\n",
    "# Split the data into features (X) and target (y)\n",
    "X = df_simulated\n",
    "y = target\n",
    "\n",
    "# Initialize the linear regression model\n",
    "model = LinearRegression()\n",
    "\n",
    "# Perform k-fold cross-validation\n",
    "kfold = KFold(n_splits=5, shuffle=True, random_state=42)\n",
    "cv_results_mse = cross_val_score(model, X, y, cv=kfold, scoring='neg_mean_squared_error')\n",
    "cv_results_r2 = cross_val_score(model, X, y, cv=kfold, scoring='r2')\n",
    "\n",
    "# Fit the model on the entire dataset\n",
    "model.fit(X, y)\n",
    "\n",
    "# Get the intercept and coefficients\n",
    "intercept = model.intercept_\n",
    "coefficients = model.coef_\n",
    "\n",
    "# Save the trained model to a file\n",
    "model_params = {\n",
    "    'intercept': intercept,\n",
    "    'coefficients': coefficients,\n",
    "    'features': features\n",
    "}\n",
    "model_filename = 'equation_modeling/models/office_consumption_model.joblib'\n",
    "dump(model_params, model_filename)\n",
    "\n",
    "# Calculate and print performance metrics\n",
    "y_pred = model.predict(X)\n",
    "mse = mean_squared_error(y, y_pred)\n",
    "r2 = r2_score(y, y_pred)\n",
    "\n",
    "print(f'Mean Squared Error (Cross-Validation): {-cv_results_mse.mean()}')\n",
    "print(f'Standard Deviation (Cross-Validation): {cv_results_mse.std()}')\n",
    "print(f'R^2 Score (Cross-Validation): {cv_results_r2.mean()}')\n",
    "print(f'Overall R^2 Score: {r2}')\n",
    "\n",
    "# Optional: Print the coefficients of the model\n",
    "coefficients_df = pd.DataFrame(coefficients, features, columns=['Coefficient'])\n",
    "print(f'Intercept: {intercept}')\n",
    "print(coefficients_df)\n"
   ]
  }
 ],
 "metadata": {
  "kernelspec": {
   "display_name": "Python 3",
   "language": "python",
   "name": "python3"
  },
  "language_info": {
   "codemirror_mode": {
    "name": "ipython",
    "version": 3
   },
   "file_extension": ".py",
   "mimetype": "text/x-python",
   "name": "python",
   "nbconvert_exporter": "python",
   "pygments_lexer": "ipython3",
   "version": "3.11.5"
  }
 },
 "nbformat": 4,
 "nbformat_minor": 5
}
