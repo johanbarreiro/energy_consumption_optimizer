{
 "cells": [
  {
   "cell_type": "markdown",
   "id": "0c5b14a0",
   "metadata": {},
   "source": [
    "# Forecasting for variable: power_transport_vehicles"
   ]
  },
  {
   "cell_type": "markdown",
   "id": "69164812",
   "metadata": {},
   "source": [
    "The objective of this notebook is to create a model that is able to forecast the values of the above mentioned variable. To do so, we will obatin the data for the entire period (2022-07-01 to 2023-09-19) and divide it between training data (2022-07-01 to 2023-06-30) and test data (2023-07-01 to 2023-09-19).\n",
    "\n",
    "After dividing the datset, we will perform an analysis on the time series and apply the apporpiate ARIMA or SARIMA model that best works for forecasting.\n",
    "\n",
    "Finally, we will create and save a model that is able to predict the values for the next day (one per hour of the next day)."
   ]
  },
  {
   "cell_type": "code",
   "id": "61af6406",
   "metadata": {
    "ExecuteTime": {
     "end_time": "2024-07-06T18:32:01.631043Z",
     "start_time": "2024-07-06T18:32:01.629135Z"
    }
   },
   "source": [
    "import pandas as pd"
   ],
   "outputs": [],
   "execution_count": 1
  },
  {
   "cell_type": "code",
   "id": "4e1c71e6",
   "metadata": {
    "ExecuteTime": {
     "end_time": "2024-07-06T18:32:01.634419Z",
     "start_time": "2024-07-06T18:32:01.631769Z"
    }
   },
   "source": [
    "cd .."
   ],
   "outputs": [
    {
     "name": "stdout",
     "output_type": "stream",
     "text": [
      "/Users/johanbarreiro/Documents/GitHub/vl_optimizer\n"
     ]
    }
   ],
   "execution_count": 2
  },
  {
   "cell_type": "markdown",
   "id": "f0fb7118",
   "metadata": {},
   "source": [
    "## Get the data"
   ]
  },
  {
   "cell_type": "code",
   "id": "de120466",
   "metadata": {
    "ExecuteTime": {
     "end_time": "2024-07-06T18:32:01.643610Z",
     "start_time": "2024-07-06T18:32:01.636096Z"
    }
   },
   "source": [
    "input_path = 'data/synthesized_data/production_synthesized.csv'\n",
    "df = pd.read_csv(input_path)"
   ],
   "outputs": [],
   "execution_count": 3
  },
  {
   "metadata": {
    "ExecuteTime": {
     "end_time": "2024-07-06T18:32:01.690648Z",
     "start_time": "2024-07-06T18:32:01.644341Z"
    }
   },
   "cell_type": "code",
   "source": [
    "processed_df = pd.read_csv('data/processed_data/industrial_sites_processed/2024-07-06T21-45-14_industrial_site2_processed.csv')\n",
    "time_data = processed_df[['Time','day_of_week_sin', 'is_weekend', 'hour_sin', 'hour_cos',\n",
    "    'day_of_month_sin', 'day_of_week_cos', 'day_of_month_cos',\n",
    "    'month_sin', 'month_cos']]"
   ],
   "id": "396eba284d0f3139",
   "outputs": [],
   "execution_count": 4
  },
  {
   "cell_type": "code",
   "id": "f548928a",
   "metadata": {
    "ExecuteTime": {
     "end_time": "2024-07-06T18:32:01.693298Z",
     "start_time": "2024-07-06T18:32:01.691367Z"
    }
   },
   "source": [
    "input_column = 'power_transport_vehicles'\n",
    "entire_data = df[input_column]\n",
    "entire_data =pd.Series(entire_data)"
   ],
   "outputs": [],
   "execution_count": 5
  },
  {
   "cell_type": "code",
   "id": "eb80b0f0",
   "metadata": {
    "ExecuteTime": {
     "end_time": "2024-07-06T18:32:01.697789Z",
     "start_time": "2024-07-06T18:32:01.693917Z"
    }
   },
   "source": "entire_data",
   "outputs": [
    {
     "data": {
      "text/plain": [
       "0        31.244434\n",
       "1        22.842248\n",
       "2        33.638457\n",
       "3        39.760866\n",
       "4        22.702134\n",
       "           ...    \n",
       "10685    35.166145\n",
       "10686    27.285666\n",
       "10687    41.072155\n",
       "10688    55.782397\n",
       "10689    38.613650\n",
       "Name: power_transport_vehicles, Length: 10690, dtype: float64"
      ]
     },
     "execution_count": 6,
     "metadata": {},
     "output_type": "execute_result"
    }
   ],
   "execution_count": 6
  },
  {
   "metadata": {
    "ExecuteTime": {
     "end_time": "2024-07-06T18:32:01.700739Z",
     "start_time": "2024-07-06T18:32:01.698663Z"
    }
   },
   "cell_type": "code",
   "source": "time_data['power_transport_vehicles_consumption'] = entire_data",
   "id": "bd94bea6b4697202",
   "outputs": [
    {
     "name": "stderr",
     "output_type": "stream",
     "text": [
      "/var/folders/9k/rnh189dj1_95w5p98sc88vbh0000gn/T/ipykernel_10835/2114199589.py:1: SettingWithCopyWarning: \n",
      "A value is trying to be set on a copy of a slice from a DataFrame.\n",
      "Try using .loc[row_indexer,col_indexer] = value instead\n",
      "\n",
      "See the caveats in the documentation: https://pandas.pydata.org/pandas-docs/stable/user_guide/indexing.html#returning-a-view-versus-a-copy\n",
      "  time_data['power_transport_vehicles_consumption'] = entire_data\n"
     ]
    }
   ],
   "execution_count": 7
  },
  {
   "metadata": {
    "ExecuteTime": {
     "end_time": "2024-07-06T18:32:01.707498Z",
     "start_time": "2024-07-06T18:32:01.701280Z"
    }
   },
   "cell_type": "code",
   "source": "time_data.head()",
   "id": "f2e62e51494b05d2",
   "outputs": [
    {
     "data": {
      "text/plain": [
       "                  Time  day_of_week_sin  is_weekend  hour_sin  hour_cos  \\\n",
       "0  2022-07-01 00:00:00        -0.433884         0.0  0.000000  1.000000   \n",
       "1  2022-07-01 01:00:00        -0.433884         0.0  0.258819  0.965926   \n",
       "2  2022-07-01 02:00:00        -0.433884         0.0  0.500000  0.866025   \n",
       "3  2022-07-01 03:00:00        -0.433884         0.0  0.707107  0.707107   \n",
       "4  2022-07-01 04:00:00        -0.433884         0.0  0.866025  0.500000   \n",
       "\n",
       "   day_of_month_sin  day_of_week_cos  day_of_month_cos  month_sin  month_cos  \\\n",
       "0          0.201299        -0.900969           0.97953       -0.5  -0.866025   \n",
       "1          0.201299        -0.900969           0.97953       -0.5  -0.866025   \n",
       "2          0.201299        -0.900969           0.97953       -0.5  -0.866025   \n",
       "3          0.201299        -0.900969           0.97953       -0.5  -0.866025   \n",
       "4          0.201299        -0.900969           0.97953       -0.5  -0.866025   \n",
       "\n",
       "   power_transport_vehicles_consumption  \n",
       "0                             31.244434  \n",
       "1                             22.842248  \n",
       "2                             33.638457  \n",
       "3                             39.760866  \n",
       "4                             22.702134  "
      ],
      "text/html": [
       "<div>\n",
       "<style scoped>\n",
       "    .dataframe tbody tr th:only-of-type {\n",
       "        vertical-align: middle;\n",
       "    }\n",
       "\n",
       "    .dataframe tbody tr th {\n",
       "        vertical-align: top;\n",
       "    }\n",
       "\n",
       "    .dataframe thead th {\n",
       "        text-align: right;\n",
       "    }\n",
       "</style>\n",
       "<table border=\"1\" class=\"dataframe\">\n",
       "  <thead>\n",
       "    <tr style=\"text-align: right;\">\n",
       "      <th></th>\n",
       "      <th>Time</th>\n",
       "      <th>day_of_week_sin</th>\n",
       "      <th>is_weekend</th>\n",
       "      <th>hour_sin</th>\n",
       "      <th>hour_cos</th>\n",
       "      <th>day_of_month_sin</th>\n",
       "      <th>day_of_week_cos</th>\n",
       "      <th>day_of_month_cos</th>\n",
       "      <th>month_sin</th>\n",
       "      <th>month_cos</th>\n",
       "      <th>power_transport_vehicles_consumption</th>\n",
       "    </tr>\n",
       "  </thead>\n",
       "  <tbody>\n",
       "    <tr>\n",
       "      <th>0</th>\n",
       "      <td>2022-07-01 00:00:00</td>\n",
       "      <td>-0.433884</td>\n",
       "      <td>0.0</td>\n",
       "      <td>0.000000</td>\n",
       "      <td>1.000000</td>\n",
       "      <td>0.201299</td>\n",
       "      <td>-0.900969</td>\n",
       "      <td>0.97953</td>\n",
       "      <td>-0.5</td>\n",
       "      <td>-0.866025</td>\n",
       "      <td>31.244434</td>\n",
       "    </tr>\n",
       "    <tr>\n",
       "      <th>1</th>\n",
       "      <td>2022-07-01 01:00:00</td>\n",
       "      <td>-0.433884</td>\n",
       "      <td>0.0</td>\n",
       "      <td>0.258819</td>\n",
       "      <td>0.965926</td>\n",
       "      <td>0.201299</td>\n",
       "      <td>-0.900969</td>\n",
       "      <td>0.97953</td>\n",
       "      <td>-0.5</td>\n",
       "      <td>-0.866025</td>\n",
       "      <td>22.842248</td>\n",
       "    </tr>\n",
       "    <tr>\n",
       "      <th>2</th>\n",
       "      <td>2022-07-01 02:00:00</td>\n",
       "      <td>-0.433884</td>\n",
       "      <td>0.0</td>\n",
       "      <td>0.500000</td>\n",
       "      <td>0.866025</td>\n",
       "      <td>0.201299</td>\n",
       "      <td>-0.900969</td>\n",
       "      <td>0.97953</td>\n",
       "      <td>-0.5</td>\n",
       "      <td>-0.866025</td>\n",
       "      <td>33.638457</td>\n",
       "    </tr>\n",
       "    <tr>\n",
       "      <th>3</th>\n",
       "      <td>2022-07-01 03:00:00</td>\n",
       "      <td>-0.433884</td>\n",
       "      <td>0.0</td>\n",
       "      <td>0.707107</td>\n",
       "      <td>0.707107</td>\n",
       "      <td>0.201299</td>\n",
       "      <td>-0.900969</td>\n",
       "      <td>0.97953</td>\n",
       "      <td>-0.5</td>\n",
       "      <td>-0.866025</td>\n",
       "      <td>39.760866</td>\n",
       "    </tr>\n",
       "    <tr>\n",
       "      <th>4</th>\n",
       "      <td>2022-07-01 04:00:00</td>\n",
       "      <td>-0.433884</td>\n",
       "      <td>0.0</td>\n",
       "      <td>0.866025</td>\n",
       "      <td>0.500000</td>\n",
       "      <td>0.201299</td>\n",
       "      <td>-0.900969</td>\n",
       "      <td>0.97953</td>\n",
       "      <td>-0.5</td>\n",
       "      <td>-0.866025</td>\n",
       "      <td>22.702134</td>\n",
       "    </tr>\n",
       "  </tbody>\n",
       "</table>\n",
       "</div>"
      ]
     },
     "execution_count": 8,
     "metadata": {},
     "output_type": "execute_result"
    }
   ],
   "execution_count": 8
  },
  {
   "metadata": {},
   "cell_type": "markdown",
   "source": "## Target Data transformation for unstable values",
   "id": "18628e1af1dfcbac"
  },
  {
   "metadata": {
    "ExecuteTime": {
     "end_time": "2024-07-06T18:32:01.875127Z",
     "start_time": "2024-07-06T18:32:01.709704Z"
    }
   },
   "cell_type": "code",
   "source": [
    "import numpy as np\n",
    "import pandas as pd\n",
    "import matplotlib.pyplot as plt\n",
    "\n",
    "# Assuming df is your DataFrame with the energy consumption data\n",
    "time_data = time_data.dropna()\n",
    "\n",
    "# Log transformation\n",
    "time_data['log_consumption'] = np.log(time_data['power_transport_vehicles_consumption'] + 1)\n",
    "\n",
    "# Differencing\n",
    "time_data['diff_consumption'] = time_data['log_consumption'].diff()\n",
    "\n",
    "\n",
    "\n",
    "# Plot the transformed data\n",
    "plt.figure(figsize=(12, 6))\n",
    "plt.plot(time_data['diff_consumption'])\n",
    "plt.title('Differenced Log Transformed Energy Consumption Over Time')\n",
    "plt.xlabel('Time')\n",
    "plt.ylabel('Differenced Log Consumption')\n",
    "plt.show()"
   ],
   "id": "9ba947cf5ac389f8",
   "outputs": [
    {
     "name": "stderr",
     "output_type": "stream",
     "text": [
      "/Users/johanbarreiro/anaconda3/envs/vl_optimizer_1/lib/python3.12/site-packages/pandas/core/arraylike.py:399: RuntimeWarning: invalid value encountered in log\n",
      "  result = getattr(ufunc, method)(*inputs, **kwargs)\n"
     ]
    },
    {
     "data": {
      "text/plain": [
       "<Figure size 1200x600 with 1 Axes>"
      ],
      "image/png": "[encoded data removed]"
     },
     "metadata": {},
     "output_type": "display_data"
    }
   ],
   "execution_count": 9
  },
  {
   "cell_type": "markdown",
   "id": "06fb6c77",
   "metadata": {},
   "source": [
    "## Train-test split"
   ]
  },
  {
   "cell_type": "code",
   "id": "857d7500",
   "metadata": {
    "ExecuteTime": {
     "end_time": "2024-07-06T18:32:01.879593Z",
     "start_time": "2024-07-06T18:32:01.877058Z"
    }
   },
   "source": [
    "from datetime import datetime\n",
    "\n",
    "# Define the dates\n",
    "train_start_date = datetime(2022, 7, 1)\n",
    "train_end_date = datetime(2023, 6, 1) # as we include the 30th of July completely\n",
    "\n",
    "# Calculate the difference\n",
    "difference_days = train_end_date - train_start_date\n",
    "\n",
    "# Calculate the difference in hours\n",
    "difference_hours = difference_days.total_seconds() / 3600\n",
    "\n",
    "# Print the differences\n",
    "print(\"Difference in days:\", difference_days.days)\n",
    "print(\"Difference in hours:\", difference_hours)"
   ],
   "outputs": [
    {
     "name": "stdout",
     "output_type": "stream",
     "text": [
      "Difference in days: 365\n",
      "Difference in hours: 8760.0\n"
     ]
    }
   ],
   "execution_count": 10
  },
  {
   "cell_type": "code",
   "id": "5ac0b4b3",
   "metadata": {
    "ExecuteTime": {
     "end_time": "2024-07-06T18:32:01.885727Z",
     "start_time": "2024-07-06T18:32:01.881022Z"
    }
   },
   "source": [
    "train_data = time_data[0:int(difference_hours)+1].dropna()\n",
    "test_data = time_data[int(difference_hours)+1:].reset_index()"
   ],
   "outputs": [],
   "execution_count": 11
  },
  {
   "metadata": {
    "ExecuteTime": {
     "end_time": "2024-07-06T18:32:01.892721Z",
     "start_time": "2024-07-06T18:32:01.887621Z"
    }
   },
   "cell_type": "code",
   "source": [
    "# Define the features and the target variable\n",
    "features = [\n",
    "    'day_of_week_sin', 'is_weekend', 'hour_cos',\n",
    "    'day_of_month_sin',\n",
    "    'month_cos'\n",
    "]\n",
    "target = 'diff_consumption'\n",
    "\n",
    "X_train = train_data[features]\n",
    "y_train = train_data[target]\n",
    "X_test = test_data[features]\n",
    "y_test = test_data[target]"
   ],
   "id": "4a57dd94f1b43788",
   "outputs": [],
   "execution_count": 12
  },
  {
   "metadata": {
    "ExecuteTime": {
     "end_time": "2024-07-06T18:32:01.897285Z",
     "start_time": "2024-07-06T18:32:01.895777Z"
    }
   },
   "cell_type": "code",
   "source": "",
   "id": "2f5eeb004e3b1ead",
   "outputs": [],
   "execution_count": 12
  },
  {
   "metadata": {
    "ExecuteTime": {
     "end_time": "2024-07-06T18:32:02.951897Z",
     "start_time": "2024-07-06T18:32:01.898101Z"
    }
   },
   "cell_type": "code",
   "source": [
    "import pandas as pd\n",
    "from sklearn.model_selection import train_test_split\n",
    "from sklearn.ensemble import RandomForestRegressor\n",
    "from sklearn.metrics import mean_absolute_error\n",
    "import numpy as np\n",
    "\n",
    "# Initialize and train the model\n",
    "model = RandomForestRegressor(n_estimators=100, random_state=42)\n",
    "model.fit(X_train, y_train)\n",
    "\n",
    "# Make predictions\n",
    "y_pred_train = model.predict(X_train)\n",
    "y_pred_test = model.predict(X_test)\n",
    "\n",
    "# Evaluate the model\n",
    "train_mae = mean_absolute_error(y_train, y_pred_train)\n",
    "test_mae = mean_absolute_error(y_test, y_pred_test)\n",
    "\n",
    "print(f'Train MAE: {train_mae}')\n",
    "print(f'Test MAE: {test_mae}')\n",
    "\n",
    "\n"
   ],
   "id": "f5c6f14f6130bc32",
   "outputs": [
    {
     "name": "stdout",
     "output_type": "stream",
     "text": [
      "Train MAE: 0.30669913318623854\n",
      "Test MAE: 0.3985535684098686\n"
     ]
    }
   ],
   "execution_count": 13
  },
  {
   "metadata": {
    "ExecuteTime": {
     "end_time": "2024-07-06T18:32:02.958623Z",
     "start_time": "2024-07-06T18:32:02.953733Z"
    }
   },
   "cell_type": "code",
   "source": [
    "from sklearn.metrics import r2_score\n",
    "\n",
    "train_r2 = r2_score(y_train, y_pred_train)\n",
    "test_r2 = r2_score(y_test, y_pred_test)\n",
    "\n",
    "print(f'Train R^2 Score: {train_r2}')\n",
    "print(f'Test R^2 Score: {test_r2}')"
   ],
   "id": "c193e193f10497b5",
   "outputs": [
    {
     "name": "stdout",
     "output_type": "stream",
     "text": [
      "Train R^2 Score: 0.6252113558431411\n",
      "Test R^2 Score: -1.6383400259687164\n"
     ]
    }
   ],
   "execution_count": 14
  },
  {
   "metadata": {},
   "cell_type": "markdown",
   "source": "## Save the Model",
   "id": "a427b684433bb382"
  },
  {
   "metadata": {
    "ExecuteTime": {
     "end_time": "2024-07-06T18:32:03.002895Z",
     "start_time": "2024-07-06T18:32:02.959772Z"
    }
   },
   "cell_type": "code",
   "source": [
    "import joblib\n",
    "import os\n",
    "\n",
    "# Define the directory and file name\n",
    "directory = 'forecasting/forecasters'\n",
    "file_name = input_column\n",
    "file_path = directory + '/' + file_name + '.joblib'\n",
    "\n",
    "# Ensure the directory exists\n",
    "os.makedirs(directory, exist_ok=True)\n",
    "\n",
    "# Save the model to the specified directory\n",
    "joblib.dump(model, file_path)\n",
    "\n",
    "print(f\"Model saved successfully at {file_path}\")"
   ],
   "id": "7a0d7c9b07c78ee5",
   "outputs": [
    {
     "name": "stdout",
     "output_type": "stream",
     "text": [
      "Model saved successfully at forecasting/forecasters/power_transport_vehicles.joblib\n"
     ]
    }
   ],
   "execution_count": 15
  },
  {
   "metadata": {},
   "cell_type": "markdown",
   "source": "## Forecast Future Values",
   "id": "6573665f4ea5c70b"
  },
  {
   "metadata": {
    "ExecuteTime": {
     "end_time": "2024-07-06T18:32:03.101753Z",
     "start_time": "2024-07-06T18:32:03.004117Z"
    }
   },
   "cell_type": "code",
   "source": [
    "# Load the saved model\n",
    "import joblib\n",
    "\n",
    "directory = 'forecasting/forecasters'\n",
    "file_name = input_column\n",
    "file_path = directory + '/' + file_name + '.joblib'\n",
    "model = joblib.load(file_path)\n",
    "\n",
    "# Make predictions on the test set\n",
    "X_test = test_data[features]\n",
    "y_pred_test = model.predict(X_test)\n",
    "\n",
    "test_data['y_pred_test'] = y_pred_test\n",
    "\n",
    "test_data.to_csv('data/forecasted_data/test.csv', index=False)"
   ],
   "id": "da20233f1b095c44",
   "outputs": [],
   "execution_count": 16
  },
  {
   "metadata": {
    "ExecuteTime": {
     "end_time": "2024-07-06T18:32:03.106969Z",
     "start_time": "2024-07-06T18:32:03.102615Z"
    }
   },
   "cell_type": "code",
   "source": "list(train_data['log_consumption'])[-1]",
   "id": "77c71361f7309c43",
   "outputs": [
    {
     "data": {
      "text/plain": [
       "3.456806657483489"
      ]
     },
     "execution_count": 17,
     "metadata": {},
     "output_type": "execute_result"
    }
   ],
   "execution_count": 17
  },
  {
   "metadata": {
    "ExecuteTime": {
     "end_time": "2024-07-06T18:32:03.203981Z",
     "start_time": "2024-07-06T18:32:03.108031Z"
    }
   },
   "cell_type": "code",
   "source": [
    "# Load the saved model\n",
    "import joblib\n",
    "\n",
    "directory = 'forecasting/forecasters'\n",
    "file_name = input_column\n",
    "file_path = directory + '/' + file_name + '.joblib'\n",
    "model = joblib.load(file_path)\n",
    "\n",
    "output_column_name = 'forecasted_' + input_column\n",
    "\n",
    "# Make predictions on the test set\n",
    "X_test = test_data[features]\n",
    "y_pred_test = model.predict(X_test)\n",
    "\n",
    "\n",
    "output_column = []\n",
    "\n",
    "for index, row in test_data.iterrows():\n",
    "\n",
    "    if index == 0:\n",
    "        avg_yesterday_value = sum(list(train_data['log_consumption'])[-24:])/24\n",
    "        log_diff_pred = row['y_pred_test']\n",
    "        undone_value = np.exp(avg_yesterday_value + log_diff_pred) - 1\n",
    "    else:\n",
    "        last_value = np.log(output_column[-1] + 1)\n",
    "        log_diff_pred = row['y_pred_test']\n",
    "        \n",
    "        undone_value = np.exp(last_value + log_diff_pred) - 1\n",
    "\n",
    "    output_column.append(undone_value)\n",
    "\n",
    "# predictions = []\n",
    "# for index, row in test_data.iterrows():\n",
    "#     if index == 0:\n",
    "#         last_log_consumption = train_data['log_consumption'].iloc[-1]\n",
    "#         undone_value = np.exp(last_log_consumption + row['y_pred_test']) - 1\n",
    "#     else:\n",
    "#         previous_log_consumption = np.log(predictions[-1] + 1)\n",
    "#         undone_value = np.exp(previous_log_consumption + row['y_pred_test']) - 1\n",
    "#   \n",
    "#     predictions.append(undone_value)  \n",
    "\n",
    "# # Undo the differencing\n",
    "# # Note: y_pred_test[0] should be added to the last value of log_consumption in the train set\n",
    "# last_log_consumption = train_data['log_consumption'].iloc[-1]\n",
    "# log_consumption_pred = np.r_[last_log_consumption, y_pred_test].cumsum()\n",
    "# \n",
    "# # Undo the log transformation\n",
    "# predicted_consumption = np.exp(log_consumption_pred) - 1\n",
    "# \n",
    "# Create a DataFrame with 'Time' and predicted values\n",
    "prediction_df = pd.DataFrame({\n",
    "    'Time': test_data['Time'],\n",
    "    output_column_name: output_column \n",
    "})\n",
    "\n",
    "# Save the predictions to a CSV file\n",
    "prediction_df.to_csv(f'data/forecasted_data/{input_column}.csv', index=False)\n",
    "\n",
    "print(f\"Predicted values saved successfully to '{input_column}.csv'\")"
   ],
   "id": "5ee2f5a80ef266f0",
   "outputs": [
    {
     "name": "stdout",
     "output_type": "stream",
     "text": [
      "Predicted values saved successfully to 'power_transport_vehicles.csv'\n"
     ]
    }
   ],
   "execution_count": 18
  },
  {
   "metadata": {
    "ExecuteTime": {
     "end_time": "2024-07-06T18:32:03.209170Z",
     "start_time": "2024-07-06T18:32:03.205233Z"
    }
   },
   "cell_type": "code",
   "source": [
    "\n",
    "\n",
    "\n",
    "# Evaluate the model\n",
    "output_mae = mean_absolute_error(test_data[input_column+'_consumption'], prediction_df[output_column_name])\n",
    "print(f'Output MAE: {output_mae}')\n",
    "\n",
    "r2 = r2_score(test_data[input_column+'_consumption'], prediction_df[output_column_name])\n",
    "print(f'R^2 Score: {r2}')\n",
    "\n"
   ],
   "id": "8ea44374bf4b62ac",
   "outputs": [
    {
     "name": "stdout",
     "output_type": "stream",
     "text": [
      "Output MAE: 727795406685900.8\n",
      "R^2 Score: -7.16047551492266e+28\n"
     ]
    }
   ],
   "execution_count": 19
  },
  {
   "metadata": {},
   "cell_type": "markdown",
   "source": "",
   "id": "805dba560b61fec2"
  },
  {
   "metadata": {
    "ExecuteTime": {
     "end_time": "2024-07-06T18:32:03.212195Z",
     "start_time": "2024-07-06T18:32:03.210047Z"
    }
   },
   "cell_type": "code",
   "source": "",
   "id": "ee817e766310fa00",
   "outputs": [],
   "execution_count": 19
  },
  {
   "metadata": {
    "ExecuteTime": {
     "end_time": "2024-07-06T18:32:03.214876Z",
     "start_time": "2024-07-06T18:32:03.213092Z"
    }
   },
   "cell_type": "code",
   "source": "",
   "id": "94c5b930d671910a",
   "outputs": [],
   "execution_count": 19
  }
 ],
 "metadata": {
  "kernelspec": {
   "display_name": "Python 3",
   "language": "python",
   "name": "python3"
  },
  "language_info": {
   "codemirror_mode": {
    "name": "ipython",
    "version": 3
   },
   "file_extension": ".py",
   "mimetype": "text/x-python",
   "name": "python",
   "nbconvert_exporter": "python",
   "pygments_lexer": "ipython3",
   "version": "3.11.5"
  }
 },
 "nbformat": 4,
 "nbformat_minor": 5
}
