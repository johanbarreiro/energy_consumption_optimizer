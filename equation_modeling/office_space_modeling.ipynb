{
 "cells": [
  {
   "cell_type": "markdown",
   "id": "9c94ae02",
   "metadata": {},
   "source": [
    "# 06 Offices_Electric_Active Energy (kWh)"
   ]
  },
  {
   "cell_type": "code",
   "execution_count": 1,
   "id": "38474010",
   "metadata": {
    "ExecuteTime": {
     "end_time": "2024-07-07T16:56:27.734710Z",
     "start_time": "2024-07-07T16:56:27.731330Z"
    }
   },
   "outputs": [
    {
     "name": "stdout",
     "output_type": "stream",
     "text": [
      "c:\\Users\\Usuario\\OneDrive\\Documents\\IE\\3. Trimestre\\Venture Lab & Capstone\\Capstone\\Tech side\\vl_optimizer\n"
     ]
    }
   ],
   "source": [
    "cd .."
   ]
  },
  {
   "cell_type": "code",
   "execution_count": 14,
   "id": "5d8d4df5",
   "metadata": {},
   "outputs": [],
   "source": [
    "import pandas as pd\n",
    "from sklearn.model_selection import KFold, cross_val_score\n",
    "from sklearn.linear_model import LinearRegression\n",
    "from sklearn.metrics import mean_squared_error, r2_score\n",
    "from joblib import dump\n",
    "import numpy as np"
   ]
  },
  {
   "cell_type": "markdown",
   "id": "f30eb72d",
   "metadata": {},
   "source": [
    "## Get cofficients"
   ]
  },
  {
   "cell_type": "markdown",
   "id": "54731ae5",
   "metadata": {},
   "source": [
    "Input required datasets"
   ]
  },
  {
   "cell_type": "code",
   "execution_count": 3,
   "id": "bc44d423",
   "metadata": {},
   "outputs": [],
   "source": [
    "# Define the target\n",
    "target = pd.read_csv('data/target_variables/target_office.csv')\n",
    "\n",
    "# Define the features\n",
    "df_simulated = pd.read_csv('data/synthesized_data/office_synthesized.csv')\n",
    "df_simulated = df_simulated.drop(columns=['Time'])\n",
    "features = df_simulated.columns"
   ]
  },
  {
   "cell_type": "code",
   "execution_count": 27,
   "id": "526bed56",
   "metadata": {},
   "outputs": [
    {
     "name": "stdout",
     "output_type": "stream",
     "text": [
      "Mean Squared Error (Cross-Validation): 1.277939958175431\n",
      "Standard Deviation (Cross-Validation): 0.04602941380660951\n",
      "R^2 Score (Cross-Validation): 0.902095097226141\n",
      "Overall R^2 Score: 0.902333089349078\n",
      "Intercept: [0.26039035]\n",
      "                           Coefficient\n",
      "(lightbulbs_active,)          0.608375\n",
      "(active_wall_plugs,)          0.480035\n",
      "(active_computers,)           0.974240\n",
      "(active_printers,)            3.604773\n",
      "(active_coffee_machines,)     9.465781\n"
     ]
    }
   ],
   "source": [
    "# Split the data into features (X) and target (y)\n",
    "X = df_simulated\n",
    "y = target\n",
    "\n",
    "# Initialize the linear regression model\n",
    "model = LinearRegression()\n",
    "\n",
    "# Define the features\n",
    "features = df_simulated.columns\n",
    "features = pd.DataFrame(features, columns=['Feature'])\n",
    "\n",
    "# Perform k-fold cross-validation\n",
    "kfold = KFold(n_splits=5, shuffle=True, random_state=42)\n",
    "cv_results_mse = cross_val_score(model, X, y, cv=kfold, scoring='neg_mean_squared_error')\n",
    "cv_results_r2 = cross_val_score(model, X, y, cv=kfold, scoring='r2')\n",
    "\n",
    "# Fit the model on the entire dataset\n",
    "model.fit(X, y)\n",
    "\n",
    "# Get the intercept and coefficients\n",
    "intercept = model.intercept_\n",
    "coefficients = model.coef_\n",
    "\n",
    "# Save the trained model to a file\n",
    "model_params = {\n",
    "    'intercept': intercept,\n",
    "    'coefficients': coefficients,\n",
    "    'features': features\n",
    "}\n",
    "model_filename = 'equation_modeling/models/office_consumption_model.joblib'\n",
    "dump(model_params, model_filename)\n",
    "\n",
    "# Calculate and print performance metrics\n",
    "y_pred = model.predict(X)\n",
    "mse = mean_squared_error(y, y_pred)\n",
    "r2 = r2_score(y, y_pred)\n",
    "\n",
    "print(f'Mean Squared Error (Cross-Validation): {-cv_results_mse.mean()}')\n",
    "print(f'Standard Deviation (Cross-Validation): {cv_results_mse.std()}')\n",
    "print(f'R^2 Score (Cross-Validation): {cv_results_r2.mean()}')\n",
    "print(f'Overall R^2 Score: {r2}')\n",
    "\n",
    "# Optional: Print the coefficients of the model\n",
    "coefficients_df = pd.DataFrame(coefficients[0], features, columns=['Coefficient'])\n",
    "print(f'Intercept: {intercept}')\n",
    "print(coefficients_df)\n"
   ]
  }
 ],
 "metadata": {
  "kernelspec": {
   "display_name": "Python 3",
   "language": "python",
   "name": "python3"
  },
  "language_info": {
   "codemirror_mode": {
    "name": "ipython",
    "version": 3
   },
   "file_extension": ".py",
   "mimetype": "text/x-python",
   "name": "python",
   "nbconvert_exporter": "python",
   "pygments_lexer": "ipython3",
   "version": "3.11.5"
  }
 },
 "nbformat": 4,
 "nbformat_minor": 5
}
