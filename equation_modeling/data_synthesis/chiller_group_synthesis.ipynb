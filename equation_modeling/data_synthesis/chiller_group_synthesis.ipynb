{
 "cells": [
  {
   "cell_type": "code",
   "execution_count": 1,
   "id": "da2a849515550765",
   "metadata": {
    "ExecuteTime": {
     "end_time": "2024-07-07T16:52:30.990343Z",
     "start_time": "2024-07-07T16:52:30.987726Z"
    }
   },
   "outputs": [
    {
     "name": "stdout",
     "output_type": "stream",
     "text": [
      "c:\\Users\\Usuario\\OneDrive\\Documents\\IE\\3. Trimestre\\Venture Lab & Capstone\\Capstone\\Tech side\\vl_optimizer\\equation_modeling\n"
     ]
    }
   ],
   "source": [
    "cd .."
   ]
  },
  {
   "cell_type": "code",
   "execution_count": 2,
   "id": "a0a48e17",
   "metadata": {},
   "outputs": [
    {
     "name": "stdout",
     "output_type": "stream",
     "text": [
      "c:\\Users\\Usuario\\OneDrive\\Documents\\IE\\3. Trimestre\\Venture Lab & Capstone\\Capstone\\Tech side\\vl_optimizer\n"
     ]
    }
   ],
   "source": [
    "cd .."
   ]
  },
  {
   "cell_type": "markdown",
   "id": "302b76e2",
   "metadata": {},
   "source": [
    "Import required libraries"
   ]
  },
  {
   "cell_type": "code",
   "execution_count": 3,
   "id": "659ff54c03d56699",
   "metadata": {
    "ExecuteTime": {
     "end_time": "2024-07-07T16:52:30.998223Z",
     "start_time": "2024-07-07T16:52:30.996191Z"
    }
   },
   "outputs": [],
   "source": [
    "import pandas as pd\n",
    "import numpy as np"
   ]
  },
  {
   "cell_type": "markdown",
   "id": "a551af9656b6c915",
   "metadata": {},
   "source": [
    "# Chiller Group\n",
    "## Code to generate the synthesized data required for the Chiller Group constraint formula:"
   ]
  },
  {
   "cell_type": "markdown",
   "id": "7cf14ff2",
   "metadata": {},
   "source": [
    "Importing files"
   ]
  },
  {
   "cell_type": "code",
   "execution_count": 4,
   "id": "4aefc70d5d8a9f8c",
   "metadata": {
    "ExecuteTime": {
     "end_time": "2024-07-07T16:52:31.050156Z",
     "start_time": "2024-07-07T16:52:30.999331Z"
    }
   },
   "outputs": [],
   "source": [
    "df = pd.read_csv('data/processed_data/industrial_sites_processed/2024-07-07T16-56-34_industrial_site2_processed.csv')"
   ]
  },
  {
   "cell_type": "markdown",
   "id": "a4ad8ba5",
   "metadata": {},
   "source": [
    "Choosing the right columns"
   ]
  },
  {
   "cell_type": "code",
   "execution_count": 5,
   "id": "3b2424b2fd9c4780",
   "metadata": {
    "ExecuteTime": {
     "end_time": "2024-07-07T16:52:31.060203Z",
     "start_time": "2024-07-07T16:52:31.056463Z"
    }
   },
   "outputs": [],
   "source": [
    "columns_to_include = ['Time', '03 Chiller Group_Electric_Active Energy (kWh)', 'temp', 'humidity', 'heat_index', '03 Chiller Group_Electric_Power Factor (real)']\n",
    "df_for_synthesis = df[columns_to_include]"
   ]
  },
  {
   "cell_type": "markdown",
   "id": "0c42a6a1",
   "metadata": {},
   "source": [
    "Renaming columns"
   ]
  },
  {
   "cell_type": "code",
   "execution_count": 6,
   "id": "b1c65cbf3879c6",
   "metadata": {
    "ExecuteTime": {
     "end_time": "2024-07-07T16:52:31.064510Z",
     "start_time": "2024-07-07T16:52:31.061560Z"
    }
   },
   "outputs": [],
   "source": [
    "df_for_synthesis = df_for_synthesis.rename(columns={'temp': 'outdoor_temp', 'humidity': 'outdoor_humidity', '03 Chiller Group_Electric_Power Factor (real)': 'Chiller Group_Electric_Power Factor (real)(efficiency)'})\n",
    "df_for_synthesis.to_csv('data/target_variables/target_chiller_group.csv')"
   ]
  },
  {
   "cell_type": "markdown",
   "id": "0ffa49b5",
   "metadata": {},
   "source": [
    "Synthesized data generation"
   ]
  },
  {
   "cell_type": "code",
   "execution_count": 7,
   "id": "158216d24c2147b4",
   "metadata": {
    "ExecuteTime": {
     "end_time": "2024-07-07T16:52:31.574597Z",
     "start_time": "2024-07-07T16:52:31.116772Z"
    }
   },
   "outputs": [
    {
     "data": {
      "text/html": [
       "<div>\n",
       "<style scoped>\n",
       "    .dataframe tbody tr th:only-of-type {\n",
       "        vertical-align: middle;\n",
       "    }\n",
       "\n",
       "    .dataframe tbody tr th {\n",
       "        vertical-align: top;\n",
       "    }\n",
       "\n",
       "    .dataframe thead th {\n",
       "        text-align: right;\n",
       "    }\n",
       "</style>\n",
       "<table border=\"1\" class=\"dataframe\">\n",
       "  <thead>\n",
       "    <tr style=\"text-align: right;\">\n",
       "      <th></th>\n",
       "      <th>Unnamed: 0</th>\n",
       "      <th>Time</th>\n",
       "      <th>03 Chiller Group_Electric_Active Energy (kWh)</th>\n",
       "      <th>outdoor_temp</th>\n",
       "      <th>outdoor_humidity</th>\n",
       "      <th>heat_index</th>\n",
       "      <th>Chiller Group_Electric_Power Factor (real)(efficiency)</th>\n",
       "      <th>set_point</th>\n",
       "      <th>num_active_chiller</th>\n",
       "    </tr>\n",
       "  </thead>\n",
       "  <tbody>\n",
       "    <tr>\n",
       "      <th>0</th>\n",
       "      <td>0</td>\n",
       "      <td>2022-07-01 00:00:00</td>\n",
       "      <td>195.50</td>\n",
       "      <td>15.97</td>\n",
       "      <td>0.37</td>\n",
       "      <td>15.97</td>\n",
       "      <td>0.78375</td>\n",
       "      <td>18</td>\n",
       "      <td>0</td>\n",
       "    </tr>\n",
       "    <tr>\n",
       "      <th>1</th>\n",
       "      <td>1</td>\n",
       "      <td>2022-07-01 01:00:00</td>\n",
       "      <td>195.25</td>\n",
       "      <td>15.10</td>\n",
       "      <td>0.37</td>\n",
       "      <td>15.10</td>\n",
       "      <td>0.77975</td>\n",
       "      <td>18</td>\n",
       "      <td>0</td>\n",
       "    </tr>\n",
       "    <tr>\n",
       "      <th>2</th>\n",
       "      <td>2</td>\n",
       "      <td>2022-07-01 02:00:00</td>\n",
       "      <td>162.25</td>\n",
       "      <td>14.80</td>\n",
       "      <td>0.38</td>\n",
       "      <td>14.80</td>\n",
       "      <td>0.79450</td>\n",
       "      <td>18</td>\n",
       "      <td>0</td>\n",
       "    </tr>\n",
       "    <tr>\n",
       "      <th>3</th>\n",
       "      <td>3</td>\n",
       "      <td>2022-07-01 03:00:00</td>\n",
       "      <td>157.50</td>\n",
       "      <td>15.10</td>\n",
       "      <td>0.38</td>\n",
       "      <td>15.10</td>\n",
       "      <td>0.78075</td>\n",
       "      <td>18</td>\n",
       "      <td>0</td>\n",
       "    </tr>\n",
       "    <tr>\n",
       "      <th>4</th>\n",
       "      <td>4</td>\n",
       "      <td>2022-07-01 04:00:00</td>\n",
       "      <td>158.25</td>\n",
       "      <td>15.97</td>\n",
       "      <td>0.38</td>\n",
       "      <td>15.97</td>\n",
       "      <td>0.78475</td>\n",
       "      <td>18</td>\n",
       "      <td>0</td>\n",
       "    </tr>\n",
       "  </tbody>\n",
       "</table>\n",
       "</div>"
      ],
      "text/plain": [
       "   Unnamed: 0                 Time  \\\n",
       "0           0  2022-07-01 00:00:00   \n",
       "1           1  2022-07-01 01:00:00   \n",
       "2           2  2022-07-01 02:00:00   \n",
       "3           3  2022-07-01 03:00:00   \n",
       "4           4  2022-07-01 04:00:00   \n",
       "\n",
       "   03 Chiller Group_Electric_Active Energy (kWh)  outdoor_temp  \\\n",
       "0                                         195.50         15.97   \n",
       "1                                         195.25         15.10   \n",
       "2                                         162.25         14.80   \n",
       "3                                         157.50         15.10   \n",
       "4                                         158.25         15.97   \n",
       "\n",
       "   outdoor_humidity  heat_index  \\\n",
       "0              0.37       15.97   \n",
       "1              0.37       15.10   \n",
       "2              0.38       14.80   \n",
       "3              0.38       15.10   \n",
       "4              0.38       15.97   \n",
       "\n",
       "   Chiller Group_Electric_Power Factor (real)(efficiency)  set_point  \\\n",
       "0                                            0.78375              18   \n",
       "1                                            0.77975              18   \n",
       "2                                            0.79450              18   \n",
       "3                                            0.78075              18   \n",
       "4                                            0.78475              18   \n",
       "\n",
       "   num_active_chiller  \n",
       "0                   0  \n",
       "1                   0  \n",
       "2                   0  \n",
       "3                   0  \n",
       "4                   0  "
      ]
     },
     "execution_count": 7,
     "metadata": {},
     "output_type": "execute_result"
    }
   ],
   "source": [
    "file_path = 'data/target_variables/target_chiller_group.csv'\n",
    "data = pd.read_csv(file_path)\n",
    "\n",
    "# Define the function to calculate chiller settings\n",
    "def calculate_chiller_settings(heat_index):\n",
    "    # Calculate chiller set point\n",
    "    if heat_index < 18:\n",
    "        set_point = 18\n",
    "    elif heat_index > 40:\n",
    "        set_point = 25\n",
    "    else:\n",
    "        set_point = round(18 + (heat_index - 18) * (7 / (40 - 18)))\n",
    "    \n",
    "    # Calculate number of active chillers\n",
    "    if heat_index < 18:\n",
    "        active_chillers = 0\n",
    "    else:\n",
    "        # Simple model: the number of chillers increases with heat_index\n",
    "        # This is a simplistic linear relationship for demonstration purposes\n",
    "        heat_index_factor = (heat_index - 18) / (40 - 18)\n",
    "        active_chillers = int(np.ceil(heat_index_factor * 10))  # Example scale factor, adjust as needed\n",
    "        \n",
    "    return set_point, active_chillers\n",
    "\n",
    "# Assuming your existing DataFrame is named df and has columns 'outdoor_temp' and 'humidity'\n",
    "# Apply the function to each row in the DataFrame\n",
    "data[['set_point', 'num_active_chiller']] = data.apply(\n",
    "    lambda row: pd.Series(calculate_chiller_settings(row['heat_index'])),\n",
    "    axis=1\n",
    ")\n",
    "\n",
    "data.head()"
   ]
  },
  {
   "cell_type": "markdown",
   "id": "2654081c",
   "metadata": {},
   "source": [
    "Droping unwanted columns"
   ]
  },
  {
   "cell_type": "code",
   "execution_count": 8,
   "id": "c06e1e6194909fe4",
   "metadata": {
    "ExecuteTime": {
     "end_time": "2024-07-07T16:52:51.828107Z",
     "start_time": "2024-07-07T16:52:51.808179Z"
    }
   },
   "outputs": [],
   "source": [
    "data = data.drop(columns=['Unnamed: 0'])"
   ]
  },
  {
   "cell_type": "markdown",
   "id": "562e4472",
   "metadata": {},
   "source": [
    "Saving synthesized data"
   ]
  },
  {
   "cell_type": "code",
   "execution_count": 9,
   "id": "345212a9ba2474b1",
   "metadata": {
    "ExecuteTime": {
     "end_time": "2024-07-07T16:52:53.524075Z",
     "start_time": "2024-07-07T16:52:53.500349Z"
    }
   },
   "outputs": [],
   "source": [
    "data.to_csv('data/synthesized_data/chiller_group_synthesized.csv', index=False)"
   ]
  }
 ],
 "metadata": {
  "kernelspec": {
   "display_name": "Python 3",
   "language": "python",
   "name": "python3"
  },
  "language_info": {
   "codemirror_mode": {
    "name": "ipython",
    "version": 3
   },
   "file_extension": ".py",
   "mimetype": "text/x-python",
   "name": "python",
   "nbconvert_exporter": "python",
   "pygments_lexer": "ipython3",
   "version": "3.11.5"
  }
 },
 "nbformat": 4,
 "nbformat_minor": 5
}
