{
 "cells": [
  {
   "cell_type": "code",
   "execution_count": null,
   "id": "initial_id",
   "metadata": {
    "collapsed": true
   },
   "outputs": [],
   "source": [
    ""
   ]
  },
  {
   "metadata": {},
   "cell_type": "code",
   "outputs": [],
   "execution_count": 43,
   "source": "import pandas as pd",
   "id": "659ff54c03d56699"
  },
  {
   "metadata": {},
   "cell_type": "code",
   "outputs": [
    {
     "name": "stdout",
     "output_type": "stream",
     "text": [
      "/Users/johanbarreiro/Documents/GitHub/vl_optimizer\n"
     ]
    }
   ],
   "execution_count": 46,
   "source": "cd vl_optimizer",
   "id": "6ab84f9cb06a1c7e"
  },
  {
   "metadata": {},
   "cell_type": "markdown",
   "source": [
    "# Chiller Group\n",
    "\n",
    "total_consumption_chiller_group = β1*number_active_chillers + β2*outdoor_temperature + β3*outdoor_humidity + β4*Chiller Set point + β5*Chiller Efficiency"
   ],
   "id": "a551af9656b6c915"
  },
  {
   "metadata": {},
   "cell_type": "code",
   "outputs": [],
   "execution_count": 47,
   "source": "df = pd.read_csv('data/processed_data/industrial_sites_processed/2024-07-06T21-45-14_industrial_site2_processed.csv')",
   "id": "4aefc70d5d8a9f8c"
  },
  {
   "metadata": {},
   "cell_type": "code",
   "outputs": [
    {
     "data": {
      "text/plain": [
       "Index(['Time', '02 Production_Electric_Active Energy (kWh)',\n",
       "       '02 Production_Electric_Active Power (kW)',\n",
       "       '02 Production_Electric_Apparent Power (kVa)',\n",
       "       '02 Production_Electric_Power Factor (real)',\n",
       "       '03 Chiller Group_Electric_Active Energy (kWh)',\n",
       "       '03 Chiller Group_Electric_Active Power (kW)',\n",
       "       '03 Chiller Group_Electric_Apparent Power (kVa)',\n",
       "       '03 Chiller Group_Electric_Power Factor (real)',\n",
       "       '04 UTA_Electric_Active Energy (kWh)',\n",
       "       '04 UTA_Electric_Active Power (kW)',\n",
       "       '04 UTA_Electric_Apparent Power (kVa)',\n",
       "       '04 UTA_Electric_Power Factor (real)',\n",
       "       '05 Compressors_Electric_Active Energy (kWh)',\n",
       "       '05 Compressors_Electric_Active Power (kW)',\n",
       "       '05 Compressors_Electric_Apparent Power (kVa)',\n",
       "       '05 Compressors_Electric_Power Factor (real)',\n",
       "       '06 Offices_Electric_Active Energy (kWh)',\n",
       "       '06 Offices_Electric_Active Power (kW)',\n",
       "       '06 Offices_Electric_Apparent Power (kVa)',\n",
       "       '06 Offices_Electric_Power Factor (real)',\n",
       "       '07 Data Center_Electric_Active Energy (kWh)',\n",
       "       '07 Data Center_Electric_Active Power (kW)',\n",
       "       '07 Data Center_Electric_Apparent Power (kVa)',\n",
       "       '07 Data Center_Electric_Power Factor (real)',\n",
       "       '08 Technological Centers_Electric_Active Energy (kWh)',\n",
       "       '08 Technological Centers_Electric_Active Power (kW)',\n",
       "       '08 Technological Centers_Electric_Apparent Power (kVa)',\n",
       "       '08 Technological Centers_Electric_Power Factor (real)', 'sum_of_kWh',\n",
       "       'DataFrame Name', 'is_weekend', 'hour_sin', 'hour_cos',\n",
       "       'day_of_month_sin', 'day_of_month_cos', 'month_sin', 'month_cos',\n",
       "       'day_of_week_sin', 'day_of_week_cos', 'price_mWh', 'energy_cost_kWh',\n",
       "       'temp', 'humidity', 'precip', 'windspeed', 'uvindex', 'conditions',\n",
       "       'heat_index'],\n",
       "      dtype='object')"
      ]
     },
     "execution_count": 48,
     "metadata": {},
     "output_type": "execute_result"
    }
   ],
   "execution_count": 48,
   "source": "df.columns",
   "id": "8d187c1bb1a6c9e0"
  },
  {
   "metadata": {},
   "cell_type": "code",
   "outputs": [
    {
     "data": {
      "text/plain": [
       "Index(['Time', '03 Chiller Group_Electric_Active Energy (kWh)', 'temp',\n",
       "       'humidity', 'heat_index',\n",
       "       '03 Chiller Group_Electric_Power Factor (real)'],\n",
       "      dtype='object')"
      ]
     },
     "execution_count": 49,
     "metadata": {},
     "output_type": "execute_result"
    }
   ],
   "execution_count": 49,
   "source": [
    "columns_to_include = ['Time', '03 Chiller Group_Electric_Active Energy (kWh)', 'temp', 'humidity', 'heat_index', '03 Chiller Group_Electric_Power Factor (real)']\n",
    "\n",
    "df_for_synthesis = df[columns_to_include]\n",
    "\n",
    "df_for_synthesis.columns"
   ],
   "id": "3b2424b2fd9c4780"
  },
  {
   "metadata": {},
   "cell_type": "code",
   "outputs": [],
   "execution_count": 50,
   "source": "df_for_synthesis = df_for_synthesis.rename(columns={'temp': 'outdoor_temp', 'humidity': 'outdoor_humidity', '03 Chiller Group_Electric_Power Factor (real)': 'Chiller Group_Electric_Power Factor (real)(efficiency)'})",
   "id": "b1c65cbf3879c6"
  },
  {
   "metadata": {},
   "cell_type": "code",
   "outputs": [
    {
     "data": {
      "text/plain": [
       "                  Time  03 Chiller Group_Electric_Active Energy (kWh)  \\\n",
       "0  2022-07-01 00:00:00                                         195.50   \n",
       "1  2022-07-01 01:00:00                                         195.25   \n",
       "2  2022-07-01 02:00:00                                         162.25   \n",
       "3  2022-07-01 03:00:00                                         157.50   \n",
       "4  2022-07-01 04:00:00                                         158.25   \n",
       "\n",
       "   outdoor_temp  outdoor_humidity  heat_index  \\\n",
       "0         15.97              0.37       15.97   \n",
       "1         15.10              0.37       15.10   \n",
       "2         14.80              0.38       14.80   \n",
       "3         15.10              0.38       15.10   \n",
       "4         15.97              0.38       15.97   \n",
       "\n",
       "   Chiller Group_Electric_Power Factor (real)(efficiency)  \n",
       "0                                            0.78375       \n",
       "1                                            0.77975       \n",
       "2                                            0.79450       \n",
       "3                                            0.78075       \n",
       "4                                            0.78475       "
      ],
      "text/html": [
       "<div>\n",
       "<style scoped>\n",
       "    .dataframe tbody tr th:only-of-type {\n",
       "        vertical-align: middle;\n",
       "    }\n",
       "\n",
       "    .dataframe tbody tr th {\n",
       "        vertical-align: top;\n",
       "    }\n",
       "\n",
       "    .dataframe thead th {\n",
       "        text-align: right;\n",
       "    }\n",
       "</style>\n",
       "<table border=\"1\" class=\"dataframe\">\n",
       "  <thead>\n",
       "    <tr style=\"text-align: right;\">\n",
       "      <th></th>\n",
       "      <th>Time</th>\n",
       "      <th>03 Chiller Group_Electric_Active Energy (kWh)</th>\n",
       "      <th>outdoor_temp</th>\n",
       "      <th>outdoor_humidity</th>\n",
       "      <th>heat_index</th>\n",
       "      <th>Chiller Group_Electric_Power Factor (real)(efficiency)</th>\n",
       "    </tr>\n",
       "  </thead>\n",
       "  <tbody>\n",
       "    <tr>\n",
       "      <th>0</th>\n",
       "      <td>2022-07-01 00:00:00</td>\n",
       "      <td>195.50</td>\n",
       "      <td>15.97</td>\n",
       "      <td>0.37</td>\n",
       "      <td>15.97</td>\n",
       "      <td>0.78375</td>\n",
       "    </tr>\n",
       "    <tr>\n",
       "      <th>1</th>\n",
       "      <td>2022-07-01 01:00:00</td>\n",
       "      <td>195.25</td>\n",
       "      <td>15.10</td>\n",
       "      <td>0.37</td>\n",
       "      <td>15.10</td>\n",
       "      <td>0.77975</td>\n",
       "    </tr>\n",
       "    <tr>\n",
       "      <th>2</th>\n",
       "      <td>2022-07-01 02:00:00</td>\n",
       "      <td>162.25</td>\n",
       "      <td>14.80</td>\n",
       "      <td>0.38</td>\n",
       "      <td>14.80</td>\n",
       "      <td>0.79450</td>\n",
       "    </tr>\n",
       "    <tr>\n",
       "      <th>3</th>\n",
       "      <td>2022-07-01 03:00:00</td>\n",
       "      <td>157.50</td>\n",
       "      <td>15.10</td>\n",
       "      <td>0.38</td>\n",
       "      <td>15.10</td>\n",
       "      <td>0.78075</td>\n",
       "    </tr>\n",
       "    <tr>\n",
       "      <th>4</th>\n",
       "      <td>2022-07-01 04:00:00</td>\n",
       "      <td>158.25</td>\n",
       "      <td>15.97</td>\n",
       "      <td>0.38</td>\n",
       "      <td>15.97</td>\n",
       "      <td>0.78475</td>\n",
       "    </tr>\n",
       "  </tbody>\n",
       "</table>\n",
       "</div>"
      ]
     },
     "execution_count": 51,
     "metadata": {},
     "output_type": "execute_result"
    }
   ],
   "execution_count": 51,
   "source": "df_for_synthesis.head()",
   "id": "e167ce90927b2cc0"
  },
  {
   "metadata": {},
   "cell_type": "code",
   "outputs": [],
   "execution_count": 52,
   "source": "df_for_synthesis.to_csv('data/target_variables/target_chiller_group.csv')",
   "id": "a7c60af302dc7f6b"
  },
  {
   "metadata": {},
   "cell_type": "code",
   "outputs": [],
   "execution_count": 52,
   "source": "",
   "id": "3f8f24805a514f0b"
  },
  {
   "metadata": {},
   "cell_type": "code",
   "outputs": [
    {
     "data": {
      "text/plain": [
       "Index(['Unnamed: 0', 'Time', '03 Chiller Group_Electric_Active Energy (kWh)',\n",
       "       'outdoor_temp', 'outdoor_humidity', 'heat_index',\n",
       "       'Chiller Group_Electric_Power Factor (real)(efficiency)'],\n",
       "      dtype='object')"
      ]
     },
     "execution_count": 53,
     "metadata": {},
     "output_type": "execute_result"
    }
   ],
   "execution_count": 53,
   "source": [
    "file_path = 'data/target_variables/target_chiller_group.csv'\n",
    "data = pd.read_csv(file_path)\n",
    "data.columns"
   ],
   "id": "8a5581f37d12f8c5"
  },
  {
   "metadata": {},
   "cell_type": "code",
   "outputs": [],
   "execution_count": 53,
   "source": "",
   "id": "82c5265d358a59f0"
  },
  {
   "metadata": {},
   "cell_type": "code",
   "outputs": [
    {
     "data": {
      "text/plain": [
       "   Unnamed: 0                 Time  \\\n",
       "0           0  2022-07-01 00:00:00   \n",
       "1           1  2022-07-01 01:00:00   \n",
       "2           2  2022-07-01 02:00:00   \n",
       "3           3  2022-07-01 03:00:00   \n",
       "4           4  2022-07-01 04:00:00   \n",
       "\n",
       "   03 Chiller Group_Electric_Active Energy (kWh)  outdoor_temp  \\\n",
       "0                                         195.50         15.97   \n",
       "1                                         195.25         15.10   \n",
       "2                                         162.25         14.80   \n",
       "3                                         157.50         15.10   \n",
       "4                                         158.25         15.97   \n",
       "\n",
       "   outdoor_humidity  heat_index  \\\n",
       "0              0.37       15.97   \n",
       "1              0.37       15.10   \n",
       "2              0.38       14.80   \n",
       "3              0.38       15.10   \n",
       "4              0.38       15.97   \n",
       "\n",
       "   Chiller Group_Electric_Power Factor (real)(efficiency)  set_point  \\\n",
       "0                                            0.78375              18   \n",
       "1                                            0.77975              18   \n",
       "2                                            0.79450              18   \n",
       "3                                            0.78075              18   \n",
       "4                                            0.78475              18   \n",
       "\n",
       "   num_active_chiller  \n",
       "0                   0  \n",
       "1                   0  \n",
       "2                   0  \n",
       "3                   0  \n",
       "4                   0  "
      ],
      "text/html": [
       "<div>\n",
       "<style scoped>\n",
       "    .dataframe tbody tr th:only-of-type {\n",
       "        vertical-align: middle;\n",
       "    }\n",
       "\n",
       "    .dataframe tbody tr th {\n",
       "        vertical-align: top;\n",
       "    }\n",
       "\n",
       "    .dataframe thead th {\n",
       "        text-align: right;\n",
       "    }\n",
       "</style>\n",
       "<table border=\"1\" class=\"dataframe\">\n",
       "  <thead>\n",
       "    <tr style=\"text-align: right;\">\n",
       "      <th></th>\n",
       "      <th>Unnamed: 0</th>\n",
       "      <th>Time</th>\n",
       "      <th>03 Chiller Group_Electric_Active Energy (kWh)</th>\n",
       "      <th>outdoor_temp</th>\n",
       "      <th>outdoor_humidity</th>\n",
       "      <th>heat_index</th>\n",
       "      <th>Chiller Group_Electric_Power Factor (real)(efficiency)</th>\n",
       "      <th>set_point</th>\n",
       "      <th>num_active_chiller</th>\n",
       "    </tr>\n",
       "  </thead>\n",
       "  <tbody>\n",
       "    <tr>\n",
       "      <th>0</th>\n",
       "      <td>0</td>\n",
       "      <td>2022-07-01 00:00:00</td>\n",
       "      <td>195.50</td>\n",
       "      <td>15.97</td>\n",
       "      <td>0.37</td>\n",
       "      <td>15.97</td>\n",
       "      <td>0.78375</td>\n",
       "      <td>18</td>\n",
       "      <td>0</td>\n",
       "    </tr>\n",
       "    <tr>\n",
       "      <th>1</th>\n",
       "      <td>1</td>\n",
       "      <td>2022-07-01 01:00:00</td>\n",
       "      <td>195.25</td>\n",
       "      <td>15.10</td>\n",
       "      <td>0.37</td>\n",
       "      <td>15.10</td>\n",
       "      <td>0.77975</td>\n",
       "      <td>18</td>\n",
       "      <td>0</td>\n",
       "    </tr>\n",
       "    <tr>\n",
       "      <th>2</th>\n",
       "      <td>2</td>\n",
       "      <td>2022-07-01 02:00:00</td>\n",
       "      <td>162.25</td>\n",
       "      <td>14.80</td>\n",
       "      <td>0.38</td>\n",
       "      <td>14.80</td>\n",
       "      <td>0.79450</td>\n",
       "      <td>18</td>\n",
       "      <td>0</td>\n",
       "    </tr>\n",
       "    <tr>\n",
       "      <th>3</th>\n",
       "      <td>3</td>\n",
       "      <td>2022-07-01 03:00:00</td>\n",
       "      <td>157.50</td>\n",
       "      <td>15.10</td>\n",
       "      <td>0.38</td>\n",
       "      <td>15.10</td>\n",
       "      <td>0.78075</td>\n",
       "      <td>18</td>\n",
       "      <td>0</td>\n",
       "    </tr>\n",
       "    <tr>\n",
       "      <th>4</th>\n",
       "      <td>4</td>\n",
       "      <td>2022-07-01 04:00:00</td>\n",
       "      <td>158.25</td>\n",
       "      <td>15.97</td>\n",
       "      <td>0.38</td>\n",
       "      <td>15.97</td>\n",
       "      <td>0.78475</td>\n",
       "      <td>18</td>\n",
       "      <td>0</td>\n",
       "    </tr>\n",
       "  </tbody>\n",
       "</table>\n",
       "</div>"
      ]
     },
     "execution_count": 54,
     "metadata": {},
     "output_type": "execute_result"
    }
   ],
   "execution_count": 54,
   "source": [
    "import numpy as np\n",
    "import pandas as pd\n",
    "\n",
    "# Define the function to calculate chiller settings\n",
    "def calculate_chiller_settings(heat_index):\n",
    "    # Calculate chiller set point\n",
    "    if heat_index < 18:\n",
    "        set_point = 18\n",
    "    elif heat_index > 40:\n",
    "        set_point = 25\n",
    "    else:\n",
    "        set_point = round(18 + (heat_index - 18) * (7 / (40 - 18)))\n",
    "    \n",
    "    # Calculate number of active chillers\n",
    "    if heat_index < 18:\n",
    "        active_chillers = 0\n",
    "    else:\n",
    "        # Simple model: the number of chillers increases with heat_index\n",
    "        # This is a simplistic linear relationship for demonstration purposes\n",
    "        heat_index_factor = (heat_index - 18) / (40 - 18)\n",
    "        active_chillers = int(np.ceil(heat_index_factor * 10))  # Example scale factor, adjust as needed\n",
    "        \n",
    "    return set_point, active_chillers\n",
    "\n",
    "# Assuming your existing DataFrame is named df and has columns 'outdoor_temp' and 'humidity'\n",
    "# Apply the function to each row in the DataFrame\n",
    "data[['set_point', 'num_active_chiller']] = data.apply(\n",
    "    lambda row: pd.Series(calculate_chiller_settings(row['heat_index'])),\n",
    "    axis=1\n",
    ")\n",
    "\n",
    "data.head()"
   ],
   "id": "158216d24c2147b4"
  },
  {
   "metadata": {},
   "cell_type": "code",
   "outputs": [
    {
     "ename": "KeyError",
     "evalue": "\"['Unnamed: 0'] not found in axis\"",
     "output_type": "error",
     "traceback": [
      "\u001B[0;31m---------------------------------------------------------------------------\u001B[0m",
      "\u001B[0;31mKeyError\u001B[0m                                  Traceback (most recent call last)",
      "Cell \u001B[0;32mIn[55], line 4\u001B[0m\n\u001B[1;32m      1\u001B[0m \u001B[38;5;28;01mimport\u001B[39;00m \u001B[38;5;21;01mseaborn\u001B[39;00m \u001B[38;5;28;01mas\u001B[39;00m \u001B[38;5;21;01msns\u001B[39;00m\n\u001B[1;32m      2\u001B[0m \u001B[38;5;28;01mimport\u001B[39;00m \u001B[38;5;21;01mmatplotlib\u001B[39;00m\u001B[38;5;21;01m.\u001B[39;00m\u001B[38;5;21;01mpyplot\u001B[39;00m \u001B[38;5;28;01mas\u001B[39;00m \u001B[38;5;21;01mplt\u001B[39;00m\n\u001B[0;32m----> 4\u001B[0m \u001B[43mdata\u001B[49m\u001B[38;5;241;43m.\u001B[39;49m\u001B[43mdrop\u001B[49m\u001B[43m(\u001B[49m\u001B[38;5;124;43m'\u001B[39;49m\u001B[38;5;124;43mUnnamed: 0\u001B[39;49m\u001B[38;5;124;43m'\u001B[39;49m\u001B[43m)\u001B[49m\n\u001B[1;32m      5\u001B[0m \u001B[38;5;66;03m# Ensure your DataFrame 'df' has the necessary columns\u001B[39;00m\n\u001B[1;32m      6\u001B[0m \u001B[38;5;66;03m# Assuming df already has 'outdoor_temp', 'outdoor_humidity', 'set_point', and 'num_active_chiller' columns\u001B[39;00m\n\u001B[1;32m      7\u001B[0m \n\u001B[1;32m      8\u001B[0m \u001B[38;5;66;03m# Create the pair plot\u001B[39;00m\n\u001B[1;32m      9\u001B[0m sns\u001B[38;5;241m.\u001B[39mpairplot(data)\n",
      "File \u001B[0;32m~/anaconda3/envs/vl_optimizer_1/lib/python3.12/site-packages/pandas/core/frame.py:5581\u001B[0m, in \u001B[0;36mDataFrame.drop\u001B[0;34m(self, labels, axis, index, columns, level, inplace, errors)\u001B[0m\n\u001B[1;32m   5433\u001B[0m \u001B[38;5;28;01mdef\u001B[39;00m \u001B[38;5;21mdrop\u001B[39m(\n\u001B[1;32m   5434\u001B[0m     \u001B[38;5;28mself\u001B[39m,\n\u001B[1;32m   5435\u001B[0m     labels: IndexLabel \u001B[38;5;241m|\u001B[39m \u001B[38;5;28;01mNone\u001B[39;00m \u001B[38;5;241m=\u001B[39m \u001B[38;5;28;01mNone\u001B[39;00m,\n\u001B[0;32m   (...)\u001B[0m\n\u001B[1;32m   5442\u001B[0m     errors: IgnoreRaise \u001B[38;5;241m=\u001B[39m \u001B[38;5;124m\"\u001B[39m\u001B[38;5;124mraise\u001B[39m\u001B[38;5;124m\"\u001B[39m,\n\u001B[1;32m   5443\u001B[0m ) \u001B[38;5;241m-\u001B[39m\u001B[38;5;241m>\u001B[39m DataFrame \u001B[38;5;241m|\u001B[39m \u001B[38;5;28;01mNone\u001B[39;00m:\n\u001B[1;32m   5444\u001B[0m \u001B[38;5;250m    \u001B[39m\u001B[38;5;124;03m\"\"\"\u001B[39;00m\n\u001B[1;32m   5445\u001B[0m \u001B[38;5;124;03m    Drop specified labels from rows or columns.\u001B[39;00m\n\u001B[1;32m   5446\u001B[0m \n\u001B[0;32m   (...)\u001B[0m\n\u001B[1;32m   5579\u001B[0m \u001B[38;5;124;03m            weight  1.0     0.8\u001B[39;00m\n\u001B[1;32m   5580\u001B[0m \u001B[38;5;124;03m    \"\"\"\u001B[39;00m\n\u001B[0;32m-> 5581\u001B[0m     \u001B[38;5;28;01mreturn\u001B[39;00m \u001B[38;5;28;43msuper\u001B[39;49m\u001B[43m(\u001B[49m\u001B[43m)\u001B[49m\u001B[38;5;241;43m.\u001B[39;49m\u001B[43mdrop\u001B[49m\u001B[43m(\u001B[49m\n\u001B[1;32m   5582\u001B[0m \u001B[43m        \u001B[49m\u001B[43mlabels\u001B[49m\u001B[38;5;241;43m=\u001B[39;49m\u001B[43mlabels\u001B[49m\u001B[43m,\u001B[49m\n\u001B[1;32m   5583\u001B[0m \u001B[43m        \u001B[49m\u001B[43maxis\u001B[49m\u001B[38;5;241;43m=\u001B[39;49m\u001B[43maxis\u001B[49m\u001B[43m,\u001B[49m\n\u001B[1;32m   5584\u001B[0m \u001B[43m        \u001B[49m\u001B[43mindex\u001B[49m\u001B[38;5;241;43m=\u001B[39;49m\u001B[43mindex\u001B[49m\u001B[43m,\u001B[49m\n\u001B[1;32m   5585\u001B[0m \u001B[43m        \u001B[49m\u001B[43mcolumns\u001B[49m\u001B[38;5;241;43m=\u001B[39;49m\u001B[43mcolumns\u001B[49m\u001B[43m,\u001B[49m\n\u001B[1;32m   5586\u001B[0m \u001B[43m        \u001B[49m\u001B[43mlevel\u001B[49m\u001B[38;5;241;43m=\u001B[39;49m\u001B[43mlevel\u001B[49m\u001B[43m,\u001B[49m\n\u001B[1;32m   5587\u001B[0m \u001B[43m        \u001B[49m\u001B[43minplace\u001B[49m\u001B[38;5;241;43m=\u001B[39;49m\u001B[43minplace\u001B[49m\u001B[43m,\u001B[49m\n\u001B[1;32m   5588\u001B[0m \u001B[43m        \u001B[49m\u001B[43merrors\u001B[49m\u001B[38;5;241;43m=\u001B[39;49m\u001B[43merrors\u001B[49m\u001B[43m,\u001B[49m\n\u001B[1;32m   5589\u001B[0m \u001B[43m    \u001B[49m\u001B[43m)\u001B[49m\n",
      "File \u001B[0;32m~/anaconda3/envs/vl_optimizer_1/lib/python3.12/site-packages/pandas/core/generic.py:4788\u001B[0m, in \u001B[0;36mNDFrame.drop\u001B[0;34m(self, labels, axis, index, columns, level, inplace, errors)\u001B[0m\n\u001B[1;32m   4786\u001B[0m \u001B[38;5;28;01mfor\u001B[39;00m axis, labels \u001B[38;5;129;01min\u001B[39;00m axes\u001B[38;5;241m.\u001B[39mitems():\n\u001B[1;32m   4787\u001B[0m     \u001B[38;5;28;01mif\u001B[39;00m labels \u001B[38;5;129;01mis\u001B[39;00m \u001B[38;5;129;01mnot\u001B[39;00m \u001B[38;5;28;01mNone\u001B[39;00m:\n\u001B[0;32m-> 4788\u001B[0m         obj \u001B[38;5;241m=\u001B[39m \u001B[43mobj\u001B[49m\u001B[38;5;241;43m.\u001B[39;49m\u001B[43m_drop_axis\u001B[49m\u001B[43m(\u001B[49m\u001B[43mlabels\u001B[49m\u001B[43m,\u001B[49m\u001B[43m \u001B[49m\u001B[43maxis\u001B[49m\u001B[43m,\u001B[49m\u001B[43m \u001B[49m\u001B[43mlevel\u001B[49m\u001B[38;5;241;43m=\u001B[39;49m\u001B[43mlevel\u001B[49m\u001B[43m,\u001B[49m\u001B[43m \u001B[49m\u001B[43merrors\u001B[49m\u001B[38;5;241;43m=\u001B[39;49m\u001B[43merrors\u001B[49m\u001B[43m)\u001B[49m\n\u001B[1;32m   4790\u001B[0m \u001B[38;5;28;01mif\u001B[39;00m inplace:\n\u001B[1;32m   4791\u001B[0m     \u001B[38;5;28mself\u001B[39m\u001B[38;5;241m.\u001B[39m_update_inplace(obj)\n",
      "File \u001B[0;32m~/anaconda3/envs/vl_optimizer_1/lib/python3.12/site-packages/pandas/core/generic.py:4830\u001B[0m, in \u001B[0;36mNDFrame._drop_axis\u001B[0;34m(self, labels, axis, level, errors, only_slice)\u001B[0m\n\u001B[1;32m   4828\u001B[0m         new_axis \u001B[38;5;241m=\u001B[39m axis\u001B[38;5;241m.\u001B[39mdrop(labels, level\u001B[38;5;241m=\u001B[39mlevel, errors\u001B[38;5;241m=\u001B[39merrors)\n\u001B[1;32m   4829\u001B[0m     \u001B[38;5;28;01melse\u001B[39;00m:\n\u001B[0;32m-> 4830\u001B[0m         new_axis \u001B[38;5;241m=\u001B[39m \u001B[43maxis\u001B[49m\u001B[38;5;241;43m.\u001B[39;49m\u001B[43mdrop\u001B[49m\u001B[43m(\u001B[49m\u001B[43mlabels\u001B[49m\u001B[43m,\u001B[49m\u001B[43m \u001B[49m\u001B[43merrors\u001B[49m\u001B[38;5;241;43m=\u001B[39;49m\u001B[43merrors\u001B[49m\u001B[43m)\u001B[49m\n\u001B[1;32m   4831\u001B[0m     indexer \u001B[38;5;241m=\u001B[39m axis\u001B[38;5;241m.\u001B[39mget_indexer(new_axis)\n\u001B[1;32m   4833\u001B[0m \u001B[38;5;66;03m# Case for non-unique axis\u001B[39;00m\n\u001B[1;32m   4834\u001B[0m \u001B[38;5;28;01melse\u001B[39;00m:\n",
      "File \u001B[0;32m~/anaconda3/envs/vl_optimizer_1/lib/python3.12/site-packages/pandas/core/indexes/base.py:7070\u001B[0m, in \u001B[0;36mIndex.drop\u001B[0;34m(self, labels, errors)\u001B[0m\n\u001B[1;32m   7068\u001B[0m \u001B[38;5;28;01mif\u001B[39;00m mask\u001B[38;5;241m.\u001B[39many():\n\u001B[1;32m   7069\u001B[0m     \u001B[38;5;28;01mif\u001B[39;00m errors \u001B[38;5;241m!=\u001B[39m \u001B[38;5;124m\"\u001B[39m\u001B[38;5;124mignore\u001B[39m\u001B[38;5;124m\"\u001B[39m:\n\u001B[0;32m-> 7070\u001B[0m         \u001B[38;5;28;01mraise\u001B[39;00m \u001B[38;5;167;01mKeyError\u001B[39;00m(\u001B[38;5;124mf\u001B[39m\u001B[38;5;124m\"\u001B[39m\u001B[38;5;132;01m{\u001B[39;00mlabels[mask]\u001B[38;5;241m.\u001B[39mtolist()\u001B[38;5;132;01m}\u001B[39;00m\u001B[38;5;124m not found in axis\u001B[39m\u001B[38;5;124m\"\u001B[39m)\n\u001B[1;32m   7071\u001B[0m     indexer \u001B[38;5;241m=\u001B[39m indexer[\u001B[38;5;241m~\u001B[39mmask]\n\u001B[1;32m   7072\u001B[0m \u001B[38;5;28;01mreturn\u001B[39;00m \u001B[38;5;28mself\u001B[39m\u001B[38;5;241m.\u001B[39mdelete(indexer)\n",
      "\u001B[0;31mKeyError\u001B[0m: \"['Unnamed: 0'] not found in axis\""
     ]
    }
   ],
   "execution_count": 55,
   "source": [
    "\n",
    "\n",
    "data.drop('Unnamed: 0')\n",
    "# Ensure your DataFrame 'df' has the necessary columns\n",
    "# Assuming df already has 'outdoor_temp', 'outdoor_humidity', 'set_point', and 'num_active_chiller' columns\n",
    "\n"
   ],
   "id": "c36ccc00d65124df"
  },
  {
   "metadata": {},
   "cell_type": "code",
   "outputs": [],
   "execution_count": 56,
   "source": "data.to_csv('data/synthesized_data/chiller_group_synthesized.csv', index=False)",
   "id": "345212a9ba2474b1"
  }
 ],
 "metadata": {
  "kernelspec": {
   "display_name": "Python 3",
   "language": "python",
   "name": "python3"
  },
  "language_info": {
   "codemirror_mode": {
    "name": "ipython",
    "version": 2
   },
   "file_extension": ".py",
   "mimetype": "text/x-python",
   "name": "python",
   "nbconvert_exporter": "python",
   "pygments_lexer": "ipython2",
   "version": "2.7.6"
  }
 },
 "nbformat": 4,
 "nbformat_minor": 5
}
