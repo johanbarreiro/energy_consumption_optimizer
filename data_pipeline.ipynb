{
 "cells": [
  {
   "cell_type": "code",
   "execution_count": 4,
   "metadata": {},
   "outputs": [
    {
     "name": "stdout",
     "output_type": "stream",
     "text": [
      "Note: you may need to restart the kernel to use updated packages.\n"
     ]
    }
   ],
   "source": [
    "pip install -r requirements.txt --quiet"
   ]
  },
  {
   "cell_type": "code",
   "execution_count": 13,
   "metadata": {},
   "outputs": [
    {
     "name": "stdout",
     "output_type": "stream",
     "text": [
      "Total dataframes created: 14\n",
      "DataFrame: 2019Floor6 loaded with shape: (424169, 30)\n",
      "DataFrame: 2019Floor7 loaded with shape: (525600, 30)\n",
      "DataFrame: 2019Floor5 loaded with shape: (525600, 30)\n",
      "DataFrame: 2019Floor4 loaded with shape: (525600, 30)\n",
      "DataFrame: 2019Floor1 loaded with shape: (525600, 12)\n",
      "DataFrame: 2019Floor3 loaded with shape: (525600, 30)\n",
      "DataFrame: 2019Floor2 loaded with shape: (525600, 37)\n",
      "DataFrame: 2018Floor6 loaded with shape: (264960, 30)\n",
      "DataFrame: 2018Floor7 loaded with shape: (264960, 30)\n",
      "DataFrame: 2018Floor5 loaded with shape: (264960, 30)\n",
      "DataFrame: 2018Floor4 loaded with shape: (264960, 30)\n",
      "DataFrame: 2018Floor1 loaded with shape: (264960, 12)\n",
      "DataFrame: 2018Floor3 loaded with shape: (264960, 30)\n",
      "DataFrame: 2018Floor2 loaded with shape: (264960, 37)\n"
     ]
    }
   ],
   "source": [
    "import pandas as pd\n",
    "from ingestion import get_dataframes\n",
    "\n",
    "directory = 'CU-BEMS_smart_building energy_and_IAQ_data'\n",
    "\n",
    "dataframes = get_dataframes(directory)\n",
    "\n",
    "print(f\"Total dataframes created: {len(dataframes)}\")\n",
    "\n",
    "for name, df in dataframes.items():\n",
    "    print(f'DataFrame: {name} loaded with shape: {df.shape}')"
   ]
  }
 ],
 "metadata": {
  "kernelspec": {
   "display_name": "Python 3",
   "language": "python",
   "name": "python3"
  },
  "language_info": {
   "codemirror_mode": {
    "name": "ipython",
    "version": 3
   },
   "file_extension": ".py",
   "mimetype": "text/x-python",
   "name": "python",
   "nbconvert_exporter": "python",
   "pygments_lexer": "ipython3",
   "version": "3.12.3"
  }
 },
 "nbformat": 4,
 "nbformat_minor": 2
}
