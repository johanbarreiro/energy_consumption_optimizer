{
 "cells": [
  {
   "metadata": {
    "ExecuteTime": {
     "end_time": "2024-07-04T23:01:51.631077Z",
     "start_time": "2024-07-04T23:01:51.562090Z"
    }
   },
   "cell_type": "code",
   "source": "import pandas as pd",
   "id": "2cfcb3d230113b71",
   "outputs": [],
   "execution_count": 43
  },
  {
   "metadata": {
    "ExecuteTime": {
     "end_time": "2024-07-04T23:02:07.891213Z",
     "start_time": "2024-07-04T23:02:07.871130Z"
    }
   },
   "cell_type": "code",
   "source": "cd vl_optimizer",
   "id": "ec05b4396f9239e8",
   "outputs": [
    {
     "name": "stdout",
     "output_type": "stream",
     "text": [
      "/Users/johanbarreiro/Documents/GitHub/vl_optimizer\n"
     ]
    }
   ],
   "execution_count": 46
  },
  {
   "metadata": {},
   "cell_type": "markdown",
   "source": [
    "# Chiller Group\n",
    "\n",
    "total_consumption_chiller_group = β1*number_active_chillers + β2*outdoor_temperature + β3*outdoor_humidity + β4*Chiller Set point + β5*Chiller Efficiency"
   ],
   "id": "ab522830f15dbc4d"
  },
  {
   "metadata": {
    "ExecuteTime": {
     "end_time": "2024-07-04T23:02:09.426575Z",
     "start_time": "2024-07-04T23:02:09.355848Z"
    }
   },
   "cell_type": "code",
   "source": "df = pd.read_csv('data/processed_data/industrial_sites_processed/2024-07-05T01-00-40_industrial_site2_processed.csv')",
   "id": "7f081d071204184b",
   "outputs": [],
   "execution_count": 47
  },
  {
   "metadata": {
    "ExecuteTime": {
     "end_time": "2024-07-04T23:02:10.141467Z",
     "start_time": "2024-07-04T23:02:10.130709Z"
    }
   },
   "cell_type": "code",
   "source": "df.columns",
   "id": "91426559310c6c99",
   "outputs": [
    {
     "data": {
      "text/plain": [
       "Index(['Time', '02 Production_Electric_Active Energy (kWh)',\n",
       "       '02 Production_Electric_Active Power (kW)',\n",
       "       '02 Production_Electric_Apparent Power (kVa)',\n",
       "       '02 Production_Electric_Power Factor (real)',\n",
       "       '03 Chiller Group_Electric_Active Energy (kWh)',\n",
       "       '03 Chiller Group_Electric_Active Power (kW)',\n",
       "       '03 Chiller Group_Electric_Apparent Power (kVa)',\n",
       "       '03 Chiller Group_Electric_Power Factor (real)',\n",
       "       '04 UTA_Electric_Active Energy (kWh)',\n",
       "       '04 UTA_Electric_Active Power (kW)',\n",
       "       '04 UTA_Electric_Apparent Power (kVa)',\n",
       "       '04 UTA_Electric_Power Factor (real)',\n",
       "       '05 Compressors_Electric_Active Energy (kWh)',\n",
       "       '05 Compressors_Electric_Active Power (kW)',\n",
       "       '05 Compressors_Electric_Apparent Power (kVa)',\n",
       "       '05 Compressors_Electric_Power Factor (real)',\n",
       "       '06 Offices_Electric_Active Energy (kWh)',\n",
       "       '06 Offices_Electric_Active Power (kW)',\n",
       "       '06 Offices_Electric_Apparent Power (kVa)',\n",
       "       '06 Offices_Electric_Power Factor (real)',\n",
       "       '07 Data Center_Electric_Active Energy (kWh)',\n",
       "       '07 Data Center_Electric_Active Power (kW)',\n",
       "       '07 Data Center_Electric_Apparent Power (kVa)',\n",
       "       '07 Data Center_Electric_Power Factor (real)',\n",
       "       '08 Technological Centers_Electric_Active Energy (kWh)',\n",
       "       '08 Technological Centers_Electric_Active Power (kW)',\n",
       "       '08 Technological Centers_Electric_Apparent Power (kVa)',\n",
       "       '08 Technological Centers_Electric_Power Factor (real)', 'sum_of_kWh',\n",
       "       'DataFrame Name', 'is_weekend', 'hour_sin', 'hour_cos',\n",
       "       'day_of_month_sin', 'day_of_month_cos', 'month_sin', 'month_cos',\n",
       "       'day_of_week_sin', 'day_of_week_cos', 'price_mWh', 'energy_cost_kWh',\n",
       "       'temp', 'humidity', 'precip', 'windspeed', 'uvindex', 'conditions',\n",
       "       'heat_index'],\n",
       "      dtype='object')"
      ]
     },
     "execution_count": 48,
     "metadata": {},
     "output_type": "execute_result"
    }
   ],
   "execution_count": 48
  },
  {
   "metadata": {
    "ExecuteTime": {
     "end_time": "2024-07-04T23:02:10.884896Z",
     "start_time": "2024-07-04T23:02:10.877537Z"
    }
   },
   "cell_type": "code",
   "source": [
    "columns_to_include = ['Time', '03 Chiller Group_Electric_Active Energy (kWh)', 'temp', 'humidity', 'heat_index', '03 Chiller Group_Electric_Power Factor (real)']\n",
    "\n",
    "df_for_synthesis = df[columns_to_include]\n",
    "\n",
    "df_for_synthesis.columns"
   ],
   "id": "183c69aae5554e40",
   "outputs": [
    {
     "data": {
      "text/plain": [
       "Index(['Time', '03 Chiller Group_Electric_Active Energy (kWh)', 'temp',\n",
       "       'humidity', 'heat_index',\n",
       "       '03 Chiller Group_Electric_Power Factor (real)'],\n",
       "      dtype='object')"
      ]
     },
     "execution_count": 49,
     "metadata": {},
     "output_type": "execute_result"
    }
   ],
   "execution_count": 49
  },
  {
   "metadata": {
    "ExecuteTime": {
     "end_time": "2024-07-04T23:02:11.409165Z",
     "start_time": "2024-07-04T23:02:11.405640Z"
    }
   },
   "cell_type": "code",
   "source": "df_for_synthesis = df_for_synthesis.rename(columns={'temp': 'outdoor_temp', 'humidity': 'outdoor_humidity', '03 Chiller Group_Electric_Power Factor (real)': 'Chiller Group_Electric_Power Factor (real)(efficiency)'})",
   "id": "118e5d299bf512e2",
   "outputs": [],
   "execution_count": 50
  },
  {
   "metadata": {
    "ExecuteTime": {
     "end_time": "2024-07-04T23:02:11.846943Z",
     "start_time": "2024-07-04T23:02:11.839562Z"
    }
   },
   "cell_type": "code",
   "source": "df_for_synthesis.head()",
   "id": "495adedb04a74532",
   "outputs": [
    {
     "data": {
      "text/plain": [
       "                  Time  03 Chiller Group_Electric_Active Energy (kWh)  \\\n",
       "0  2022-07-01 00:00:00                                         195.50   \n",
       "1  2022-07-01 01:00:00                                         195.25   \n",
       "2  2022-07-01 02:00:00                                         162.25   \n",
       "3  2022-07-01 03:00:00                                         157.50   \n",
       "4  2022-07-01 04:00:00                                         158.25   \n",
       "\n",
       "   outdoor_temp  outdoor_humidity  heat_index  \\\n",
       "0         15.97              0.37       15.97   \n",
       "1         15.10              0.37       15.10   \n",
       "2         14.80              0.38       14.80   \n",
       "3         15.10              0.38       15.10   \n",
       "4         15.97              0.38       15.97   \n",
       "\n",
       "   Chiller Group_Electric_Power Factor (real)(efficiency)  \n",
       "0                                            0.78375       \n",
       "1                                            0.77975       \n",
       "2                                            0.79450       \n",
       "3                                            0.78075       \n",
       "4                                            0.78475       "
      ],
      "text/html": [
       "<div>\n",
       "<style scoped>\n",
       "    .dataframe tbody tr th:only-of-type {\n",
       "        vertical-align: middle;\n",
       "    }\n",
       "\n",
       "    .dataframe tbody tr th {\n",
       "        vertical-align: top;\n",
       "    }\n",
       "\n",
       "    .dataframe thead th {\n",
       "        text-align: right;\n",
       "    }\n",
       "</style>\n",
       "<table border=\"1\" class=\"dataframe\">\n",
       "  <thead>\n",
       "    <tr style=\"text-align: right;\">\n",
       "      <th></th>\n",
       "      <th>Time</th>\n",
       "      <th>03 Chiller Group_Electric_Active Energy (kWh)</th>\n",
       "      <th>outdoor_temp</th>\n",
       "      <th>outdoor_humidity</th>\n",
       "      <th>heat_index</th>\n",
       "      <th>Chiller Group_Electric_Power Factor (real)(efficiency)</th>\n",
       "    </tr>\n",
       "  </thead>\n",
       "  <tbody>\n",
       "    <tr>\n",
       "      <th>0</th>\n",
       "      <td>2022-07-01 00:00:00</td>\n",
       "      <td>195.50</td>\n",
       "      <td>15.97</td>\n",
       "      <td>0.37</td>\n",
       "      <td>15.97</td>\n",
       "      <td>0.78375</td>\n",
       "    </tr>\n",
       "    <tr>\n",
       "      <th>1</th>\n",
       "      <td>2022-07-01 01:00:00</td>\n",
       "      <td>195.25</td>\n",
       "      <td>15.10</td>\n",
       "      <td>0.37</td>\n",
       "      <td>15.10</td>\n",
       "      <td>0.77975</td>\n",
       "    </tr>\n",
       "    <tr>\n",
       "      <th>2</th>\n",
       "      <td>2022-07-01 02:00:00</td>\n",
       "      <td>162.25</td>\n",
       "      <td>14.80</td>\n",
       "      <td>0.38</td>\n",
       "      <td>14.80</td>\n",
       "      <td>0.79450</td>\n",
       "    </tr>\n",
       "    <tr>\n",
       "      <th>3</th>\n",
       "      <td>2022-07-01 03:00:00</td>\n",
       "      <td>157.50</td>\n",
       "      <td>15.10</td>\n",
       "      <td>0.38</td>\n",
       "      <td>15.10</td>\n",
       "      <td>0.78075</td>\n",
       "    </tr>\n",
       "    <tr>\n",
       "      <th>4</th>\n",
       "      <td>2022-07-01 04:00:00</td>\n",
       "      <td>158.25</td>\n",
       "      <td>15.97</td>\n",
       "      <td>0.38</td>\n",
       "      <td>15.97</td>\n",
       "      <td>0.78475</td>\n",
       "    </tr>\n",
       "  </tbody>\n",
       "</table>\n",
       "</div>"
      ]
     },
     "execution_count": 51,
     "metadata": {},
     "output_type": "execute_result"
    }
   ],
   "execution_count": 51
  },
  {
   "metadata": {
    "ExecuteTime": {
     "end_time": "2024-07-04T23:02:12.908300Z",
     "start_time": "2024-07-04T23:02:12.868023Z"
    }
   },
   "cell_type": "code",
   "source": "df_for_synthesis.to_csv('data/target_variables/target_chiller_group.csv')",
   "id": "8a89ff165837c2d6",
   "outputs": [],
   "execution_count": 52
  },
  {
   "metadata": {
    "ExecuteTime": {
     "end_time": "2024-07-04T23:02:13.992225Z",
     "start_time": "2024-07-04T23:02:13.989628Z"
    }
   },
   "cell_type": "code",
   "source": "",
   "id": "f5ee7550d3b83127",
   "outputs": [],
   "execution_count": 52
  },
  {
   "metadata": {
    "ExecuteTime": {
     "end_time": "2024-07-04T23:02:14.903427Z",
     "start_time": "2024-07-04T23:02:14.884720Z"
    }
   },
   "cell_type": "code",
   "source": [
    "file_path = 'data/target_variables/target_chiller_group.csv'\n",
    "data = pd.read_csv(file_path)\n",
    "data.columns"
   ],
   "id": "795f1118d3669c62",
   "outputs": [
    {
     "data": {
      "text/plain": [
       "Index(['Unnamed: 0', 'Time', '03 Chiller Group_Electric_Active Energy (kWh)',\n",
       "       'outdoor_temp', 'outdoor_humidity', 'heat_index',\n",
       "       'Chiller Group_Electric_Power Factor (real)(efficiency)'],\n",
       "      dtype='object')"
      ]
     },
     "execution_count": 53,
     "metadata": {},
     "output_type": "execute_result"
    }
   ],
   "execution_count": 53
  },
  {
   "metadata": {
    "ExecuteTime": {
     "end_time": "2024-07-04T23:02:15.730195Z",
     "start_time": "2024-07-04T23:02:15.727206Z"
    }
   },
   "cell_type": "code",
   "source": "",
   "id": "a946b7fc99e45906",
   "outputs": [],
   "execution_count": 53
  },
  {
   "metadata": {
    "ExecuteTime": {
     "end_time": "2024-07-04T23:02:17.815216Z",
     "start_time": "2024-07-04T23:02:16.512728Z"
    }
   },
   "cell_type": "code",
   "source": [
    "import numpy as np\n",
    "import pandas as pd\n",
    "\n",
    "# Define the function to calculate chiller settings\n",
    "def calculate_chiller_settings(heat_index):\n",
    "    # Calculate chiller set point\n",
    "    if heat_index < 18:\n",
    "        set_point = 18\n",
    "    elif heat_index > 40:\n",
    "        set_point = 25\n",
    "    else:\n",
    "        set_point = round(18 + (heat_index - 18) * (7 / (40 - 18)))\n",
    "    \n",
    "    # Calculate number of active chillers\n",
    "    if heat_index < 18:\n",
    "        active_chillers = 0\n",
    "    else:\n",
    "        # Simple model: the number of chillers increases with heat_index\n",
    "        # This is a simplistic linear relationship for demonstration purposes\n",
    "        heat_index_factor = (heat_index - 18) / (40 - 18)\n",
    "        active_chillers = int(np.ceil(heat_index_factor * 10))  # Example scale factor, adjust as needed\n",
    "        \n",
    "    return set_point, active_chillers\n",
    "\n",
    "# Assuming your existing DataFrame is named df and has columns 'outdoor_temp' and 'humidity'\n",
    "# Apply the function to each row in the DataFrame\n",
    "data[['set_point', 'num_active_chiller']] = data.apply(\n",
    "    lambda row: pd.Series(calculate_chiller_settings(row['heat_index'])),\n",
    "    axis=1\n",
    ")\n",
    "\n",
    "data.head()"
   ],
   "id": "e46a63c57dcad798",
   "outputs": [
    {
     "data": {
      "text/plain": [
       "   Unnamed: 0                 Time  \\\n",
       "0           0  2022-07-01 00:00:00   \n",
       "1           1  2022-07-01 01:00:00   \n",
       "2           2  2022-07-01 02:00:00   \n",
       "3           3  2022-07-01 03:00:00   \n",
       "4           4  2022-07-01 04:00:00   \n",
       "\n",
       "   03 Chiller Group_Electric_Active Energy (kWh)  outdoor_temp  \\\n",
       "0                                         195.50         15.97   \n",
       "1                                         195.25         15.10   \n",
       "2                                         162.25         14.80   \n",
       "3                                         157.50         15.10   \n",
       "4                                         158.25         15.97   \n",
       "\n",
       "   outdoor_humidity  heat_index  \\\n",
       "0              0.37       15.97   \n",
       "1              0.37       15.10   \n",
       "2              0.38       14.80   \n",
       "3              0.38       15.10   \n",
       "4              0.38       15.97   \n",
       "\n",
       "   Chiller Group_Electric_Power Factor (real)(efficiency)  set_point  \\\n",
       "0                                            0.78375              18   \n",
       "1                                            0.77975              18   \n",
       "2                                            0.79450              18   \n",
       "3                                            0.78075              18   \n",
       "4                                            0.78475              18   \n",
       "\n",
       "   num_active_chiller  \n",
       "0                   0  \n",
       "1                   0  \n",
       "2                   0  \n",
       "3                   0  \n",
       "4                   0  "
      ],
      "text/html": [
       "<div>\n",
       "<style scoped>\n",
       "    .dataframe tbody tr th:only-of-type {\n",
       "        vertical-align: middle;\n",
       "    }\n",
       "\n",
       "    .dataframe tbody tr th {\n",
       "        vertical-align: top;\n",
       "    }\n",
       "\n",
       "    .dataframe thead th {\n",
       "        text-align: right;\n",
       "    }\n",
       "</style>\n",
       "<table border=\"1\" class=\"dataframe\">\n",
       "  <thead>\n",
       "    <tr style=\"text-align: right;\">\n",
       "      <th></th>\n",
       "      <th>Unnamed: 0</th>\n",
       "      <th>Time</th>\n",
       "      <th>03 Chiller Group_Electric_Active Energy (kWh)</th>\n",
       "      <th>outdoor_temp</th>\n",
       "      <th>outdoor_humidity</th>\n",
       "      <th>heat_index</th>\n",
       "      <th>Chiller Group_Electric_Power Factor (real)(efficiency)</th>\n",
       "      <th>set_point</th>\n",
       "      <th>num_active_chiller</th>\n",
       "    </tr>\n",
       "  </thead>\n",
       "  <tbody>\n",
       "    <tr>\n",
       "      <th>0</th>\n",
       "      <td>0</td>\n",
       "      <td>2022-07-01 00:00:00</td>\n",
       "      <td>195.50</td>\n",
       "      <td>15.97</td>\n",
       "      <td>0.37</td>\n",
       "      <td>15.97</td>\n",
       "      <td>0.78375</td>\n",
       "      <td>18</td>\n",
       "      <td>0</td>\n",
       "    </tr>\n",
       "    <tr>\n",
       "      <th>1</th>\n",
       "      <td>1</td>\n",
       "      <td>2022-07-01 01:00:00</td>\n",
       "      <td>195.25</td>\n",
       "      <td>15.10</td>\n",
       "      <td>0.37</td>\n",
       "      <td>15.10</td>\n",
       "      <td>0.77975</td>\n",
       "      <td>18</td>\n",
       "      <td>0</td>\n",
       "    </tr>\n",
       "    <tr>\n",
       "      <th>2</th>\n",
       "      <td>2</td>\n",
       "      <td>2022-07-01 02:00:00</td>\n",
       "      <td>162.25</td>\n",
       "      <td>14.80</td>\n",
       "      <td>0.38</td>\n",
       "      <td>14.80</td>\n",
       "      <td>0.79450</td>\n",
       "      <td>18</td>\n",
       "      <td>0</td>\n",
       "    </tr>\n",
       "    <tr>\n",
       "      <th>3</th>\n",
       "      <td>3</td>\n",
       "      <td>2022-07-01 03:00:00</td>\n",
       "      <td>157.50</td>\n",
       "      <td>15.10</td>\n",
       "      <td>0.38</td>\n",
       "      <td>15.10</td>\n",
       "      <td>0.78075</td>\n",
       "      <td>18</td>\n",
       "      <td>0</td>\n",
       "    </tr>\n",
       "    <tr>\n",
       "      <th>4</th>\n",
       "      <td>4</td>\n",
       "      <td>2022-07-01 04:00:00</td>\n",
       "      <td>158.25</td>\n",
       "      <td>15.97</td>\n",
       "      <td>0.38</td>\n",
       "      <td>15.97</td>\n",
       "      <td>0.78475</td>\n",
       "      <td>18</td>\n",
       "      <td>0</td>\n",
       "    </tr>\n",
       "  </tbody>\n",
       "</table>\n",
       "</div>"
      ]
     },
     "execution_count": 54,
     "metadata": {},
     "output_type": "execute_result"
    }
   ],
   "execution_count": 54
  },
  {
   "metadata": {
    "ExecuteTime": {
     "end_time": "2024-07-04T23:02:19.022614Z",
     "start_time": "2024-07-04T23:02:18.971271Z"
    }
   },
   "cell_type": "code",
   "source": [
    "import seaborn as sns\n",
    "import matplotlib.pyplot as plt\n",
    "\n",
    "data.drop('Unnamed: 0')\n",
    "# Ensure your DataFrame 'df' has the necessary columns\n",
    "# Assuming df already has 'outdoor_temp', 'outdoor_humidity', 'set_point', and 'num_active_chiller' columns\n",
    "\n",
    "# Create the pair plot\n",
    "sns.pairplot(data)\n",
    "plt.show()"
   ],
   "id": "bd995db4e0deb01b",
   "outputs": [
    {
     "ename": "KeyError",
     "evalue": "\"['Unnamed: 0'] not found in axis\"",
     "output_type": "error",
     "traceback": [
      "\u001B[0;31m---------------------------------------------------------------------------\u001B[0m",
      "\u001B[0;31mKeyError\u001B[0m                                  Traceback (most recent call last)",
      "Cell \u001B[0;32mIn[55], line 4\u001B[0m\n\u001B[1;32m      1\u001B[0m \u001B[38;5;28;01mimport\u001B[39;00m \u001B[38;5;21;01mseaborn\u001B[39;00m \u001B[38;5;28;01mas\u001B[39;00m \u001B[38;5;21;01msns\u001B[39;00m\n\u001B[1;32m      2\u001B[0m \u001B[38;5;28;01mimport\u001B[39;00m \u001B[38;5;21;01mmatplotlib\u001B[39;00m\u001B[38;5;21;01m.\u001B[39;00m\u001B[38;5;21;01mpyplot\u001B[39;00m \u001B[38;5;28;01mas\u001B[39;00m \u001B[38;5;21;01mplt\u001B[39;00m\n\u001B[0;32m----> 4\u001B[0m \u001B[43mdata\u001B[49m\u001B[38;5;241;43m.\u001B[39;49m\u001B[43mdrop\u001B[49m\u001B[43m(\u001B[49m\u001B[38;5;124;43m'\u001B[39;49m\u001B[38;5;124;43mUnnamed: 0\u001B[39;49m\u001B[38;5;124;43m'\u001B[39;49m\u001B[43m)\u001B[49m\n\u001B[1;32m      5\u001B[0m \u001B[38;5;66;03m# Ensure your DataFrame 'df' has the necessary columns\u001B[39;00m\n\u001B[1;32m      6\u001B[0m \u001B[38;5;66;03m# Assuming df already has 'outdoor_temp', 'outdoor_humidity', 'set_point', and 'num_active_chiller' columns\u001B[39;00m\n\u001B[1;32m      7\u001B[0m \n\u001B[1;32m      8\u001B[0m \u001B[38;5;66;03m# Create the pair plot\u001B[39;00m\n\u001B[1;32m      9\u001B[0m sns\u001B[38;5;241m.\u001B[39mpairplot(data)\n",
      "File \u001B[0;32m~/anaconda3/envs/vl_optimizer_1/lib/python3.12/site-packages/pandas/core/frame.py:5581\u001B[0m, in \u001B[0;36mDataFrame.drop\u001B[0;34m(self, labels, axis, index, columns, level, inplace, errors)\u001B[0m\n\u001B[1;32m   5433\u001B[0m \u001B[38;5;28;01mdef\u001B[39;00m \u001B[38;5;21mdrop\u001B[39m(\n\u001B[1;32m   5434\u001B[0m     \u001B[38;5;28mself\u001B[39m,\n\u001B[1;32m   5435\u001B[0m     labels: IndexLabel \u001B[38;5;241m|\u001B[39m \u001B[38;5;28;01mNone\u001B[39;00m \u001B[38;5;241m=\u001B[39m \u001B[38;5;28;01mNone\u001B[39;00m,\n\u001B[0;32m   (...)\u001B[0m\n\u001B[1;32m   5442\u001B[0m     errors: IgnoreRaise \u001B[38;5;241m=\u001B[39m \u001B[38;5;124m\"\u001B[39m\u001B[38;5;124mraise\u001B[39m\u001B[38;5;124m\"\u001B[39m,\n\u001B[1;32m   5443\u001B[0m ) \u001B[38;5;241m-\u001B[39m\u001B[38;5;241m>\u001B[39m DataFrame \u001B[38;5;241m|\u001B[39m \u001B[38;5;28;01mNone\u001B[39;00m:\n\u001B[1;32m   5444\u001B[0m \u001B[38;5;250m    \u001B[39m\u001B[38;5;124;03m\"\"\"\u001B[39;00m\n\u001B[1;32m   5445\u001B[0m \u001B[38;5;124;03m    Drop specified labels from rows or columns.\u001B[39;00m\n\u001B[1;32m   5446\u001B[0m \n\u001B[0;32m   (...)\u001B[0m\n\u001B[1;32m   5579\u001B[0m \u001B[38;5;124;03m            weight  1.0     0.8\u001B[39;00m\n\u001B[1;32m   5580\u001B[0m \u001B[38;5;124;03m    \"\"\"\u001B[39;00m\n\u001B[0;32m-> 5581\u001B[0m     \u001B[38;5;28;01mreturn\u001B[39;00m \u001B[38;5;28;43msuper\u001B[39;49m\u001B[43m(\u001B[49m\u001B[43m)\u001B[49m\u001B[38;5;241;43m.\u001B[39;49m\u001B[43mdrop\u001B[49m\u001B[43m(\u001B[49m\n\u001B[1;32m   5582\u001B[0m \u001B[43m        \u001B[49m\u001B[43mlabels\u001B[49m\u001B[38;5;241;43m=\u001B[39;49m\u001B[43mlabels\u001B[49m\u001B[43m,\u001B[49m\n\u001B[1;32m   5583\u001B[0m \u001B[43m        \u001B[49m\u001B[43maxis\u001B[49m\u001B[38;5;241;43m=\u001B[39;49m\u001B[43maxis\u001B[49m\u001B[43m,\u001B[49m\n\u001B[1;32m   5584\u001B[0m \u001B[43m        \u001B[49m\u001B[43mindex\u001B[49m\u001B[38;5;241;43m=\u001B[39;49m\u001B[43mindex\u001B[49m\u001B[43m,\u001B[49m\n\u001B[1;32m   5585\u001B[0m \u001B[43m        \u001B[49m\u001B[43mcolumns\u001B[49m\u001B[38;5;241;43m=\u001B[39;49m\u001B[43mcolumns\u001B[49m\u001B[43m,\u001B[49m\n\u001B[1;32m   5586\u001B[0m \u001B[43m        \u001B[49m\u001B[43mlevel\u001B[49m\u001B[38;5;241;43m=\u001B[39;49m\u001B[43mlevel\u001B[49m\u001B[43m,\u001B[49m\n\u001B[1;32m   5587\u001B[0m \u001B[43m        \u001B[49m\u001B[43minplace\u001B[49m\u001B[38;5;241;43m=\u001B[39;49m\u001B[43minplace\u001B[49m\u001B[43m,\u001B[49m\n\u001B[1;32m   5588\u001B[0m \u001B[43m        \u001B[49m\u001B[43merrors\u001B[49m\u001B[38;5;241;43m=\u001B[39;49m\u001B[43merrors\u001B[49m\u001B[43m,\u001B[49m\n\u001B[1;32m   5589\u001B[0m \u001B[43m    \u001B[49m\u001B[43m)\u001B[49m\n",
      "File \u001B[0;32m~/anaconda3/envs/vl_optimizer_1/lib/python3.12/site-packages/pandas/core/generic.py:4788\u001B[0m, in \u001B[0;36mNDFrame.drop\u001B[0;34m(self, labels, axis, index, columns, level, inplace, errors)\u001B[0m\n\u001B[1;32m   4786\u001B[0m \u001B[38;5;28;01mfor\u001B[39;00m axis, labels \u001B[38;5;129;01min\u001B[39;00m axes\u001B[38;5;241m.\u001B[39mitems():\n\u001B[1;32m   4787\u001B[0m     \u001B[38;5;28;01mif\u001B[39;00m labels \u001B[38;5;129;01mis\u001B[39;00m \u001B[38;5;129;01mnot\u001B[39;00m \u001B[38;5;28;01mNone\u001B[39;00m:\n\u001B[0;32m-> 4788\u001B[0m         obj \u001B[38;5;241m=\u001B[39m \u001B[43mobj\u001B[49m\u001B[38;5;241;43m.\u001B[39;49m\u001B[43m_drop_axis\u001B[49m\u001B[43m(\u001B[49m\u001B[43mlabels\u001B[49m\u001B[43m,\u001B[49m\u001B[43m \u001B[49m\u001B[43maxis\u001B[49m\u001B[43m,\u001B[49m\u001B[43m \u001B[49m\u001B[43mlevel\u001B[49m\u001B[38;5;241;43m=\u001B[39;49m\u001B[43mlevel\u001B[49m\u001B[43m,\u001B[49m\u001B[43m \u001B[49m\u001B[43merrors\u001B[49m\u001B[38;5;241;43m=\u001B[39;49m\u001B[43merrors\u001B[49m\u001B[43m)\u001B[49m\n\u001B[1;32m   4790\u001B[0m \u001B[38;5;28;01mif\u001B[39;00m inplace:\n\u001B[1;32m   4791\u001B[0m     \u001B[38;5;28mself\u001B[39m\u001B[38;5;241m.\u001B[39m_update_inplace(obj)\n",
      "File \u001B[0;32m~/anaconda3/envs/vl_optimizer_1/lib/python3.12/site-packages/pandas/core/generic.py:4830\u001B[0m, in \u001B[0;36mNDFrame._drop_axis\u001B[0;34m(self, labels, axis, level, errors, only_slice)\u001B[0m\n\u001B[1;32m   4828\u001B[0m         new_axis \u001B[38;5;241m=\u001B[39m axis\u001B[38;5;241m.\u001B[39mdrop(labels, level\u001B[38;5;241m=\u001B[39mlevel, errors\u001B[38;5;241m=\u001B[39merrors)\n\u001B[1;32m   4829\u001B[0m     \u001B[38;5;28;01melse\u001B[39;00m:\n\u001B[0;32m-> 4830\u001B[0m         new_axis \u001B[38;5;241m=\u001B[39m \u001B[43maxis\u001B[49m\u001B[38;5;241;43m.\u001B[39;49m\u001B[43mdrop\u001B[49m\u001B[43m(\u001B[49m\u001B[43mlabels\u001B[49m\u001B[43m,\u001B[49m\u001B[43m \u001B[49m\u001B[43merrors\u001B[49m\u001B[38;5;241;43m=\u001B[39;49m\u001B[43merrors\u001B[49m\u001B[43m)\u001B[49m\n\u001B[1;32m   4831\u001B[0m     indexer \u001B[38;5;241m=\u001B[39m axis\u001B[38;5;241m.\u001B[39mget_indexer(new_axis)\n\u001B[1;32m   4833\u001B[0m \u001B[38;5;66;03m# Case for non-unique axis\u001B[39;00m\n\u001B[1;32m   4834\u001B[0m \u001B[38;5;28;01melse\u001B[39;00m:\n",
      "File \u001B[0;32m~/anaconda3/envs/vl_optimizer_1/lib/python3.12/site-packages/pandas/core/indexes/base.py:7070\u001B[0m, in \u001B[0;36mIndex.drop\u001B[0;34m(self, labels, errors)\u001B[0m\n\u001B[1;32m   7068\u001B[0m \u001B[38;5;28;01mif\u001B[39;00m mask\u001B[38;5;241m.\u001B[39many():\n\u001B[1;32m   7069\u001B[0m     \u001B[38;5;28;01mif\u001B[39;00m errors \u001B[38;5;241m!=\u001B[39m \u001B[38;5;124m\"\u001B[39m\u001B[38;5;124mignore\u001B[39m\u001B[38;5;124m\"\u001B[39m:\n\u001B[0;32m-> 7070\u001B[0m         \u001B[38;5;28;01mraise\u001B[39;00m \u001B[38;5;167;01mKeyError\u001B[39;00m(\u001B[38;5;124mf\u001B[39m\u001B[38;5;124m\"\u001B[39m\u001B[38;5;132;01m{\u001B[39;00mlabels[mask]\u001B[38;5;241m.\u001B[39mtolist()\u001B[38;5;132;01m}\u001B[39;00m\u001B[38;5;124m not found in axis\u001B[39m\u001B[38;5;124m\"\u001B[39m)\n\u001B[1;32m   7071\u001B[0m     indexer \u001B[38;5;241m=\u001B[39m indexer[\u001B[38;5;241m~\u001B[39mmask]\n\u001B[1;32m   7072\u001B[0m \u001B[38;5;28;01mreturn\u001B[39;00m \u001B[38;5;28mself\u001B[39m\u001B[38;5;241m.\u001B[39mdelete(indexer)\n",
      "\u001B[0;31mKeyError\u001B[0m: \"['Unnamed: 0'] not found in axis\""
     ]
    }
   ],
   "execution_count": 55
  },
  {
   "metadata": {
    "ExecuteTime": {
     "end_time": "2024-07-04T23:02:20.602370Z",
     "start_time": "2024-07-04T23:02:20.556242Z"
    }
   },
   "cell_type": "code",
   "source": "data.to_csv('data/synthesized_data/chiller_group_synthesized.csv', index=False)",
   "id": "f9c76e373f626e8a",
   "outputs": [],
   "execution_count": 56
  },
  {
   "metadata": {},
   "cell_type": "markdown",
   "source": "# Get Coefficients",
   "id": "6f534106bc50b09c"
  },
  {
   "metadata": {
    "ExecuteTime": {
     "end_time": "2024-07-04T23:02:22.294229Z",
     "start_time": "2024-07-04T23:02:22.280030Z"
    }
   },
   "cell_type": "code",
   "source": [
    "file_path = 'data/synthesized_data/chiller_group_synthesized.csv'\n",
    "df = pd.read_csv(file_path, index_col=False)\n",
    "df.columns"
   ],
   "id": "ab83ba0a4cac394f",
   "outputs": [
    {
     "data": {
      "text/plain": [
       "Index(['Unnamed: 0', 'Time', '03 Chiller Group_Electric_Active Energy (kWh)',\n",
       "       'outdoor_temp', 'outdoor_humidity', 'heat_index',\n",
       "       'Chiller Group_Electric_Power Factor (real)(efficiency)', 'set_point',\n",
       "       'num_active_chiller'],\n",
       "      dtype='object')"
      ]
     },
     "execution_count": 57,
     "metadata": {},
     "output_type": "execute_result"
    }
   ],
   "execution_count": 57
  },
  {
   "metadata": {
    "ExecuteTime": {
     "end_time": "2024-07-04T23:02:23.219003Z",
     "start_time": "2024-07-04T23:02:23.208511Z"
    }
   },
   "cell_type": "code",
   "source": [
    "import pandas as pd\n",
    "from sklearn.model_selection import cross_val_score, KFold\n",
    "from sklearn.linear_model import LinearRegression\n",
    "from sklearn.metrics import mean_squared_error, r2_score\n",
    "from joblib import dump, load\n",
    "\n",
    "# Count total NaN values in the entire DataFrame\n",
    "total_nans = df.isna().sum().sum()\n",
    "print(f'Total NaN values in the DataFrame: {total_nans}')\n",
    "\n",
    "# Count NaN values in each column\n",
    "nans_per_column = df.isna().sum()\n",
    "print('NaN values in each column:')\n",
    "print(nans_per_column)\n",
    "\n",
    "# Count the number of rows that contain any NaN values\n",
    "rows_with_nans_count = df.isna().any(axis=1).sum()\n",
    "print(f'Number of rows with at least one NaN value: {rows_with_nans_count}')\n",
    "\n",
    "# Replace NaN values with the mean in a specific column\n",
    "column_to_fill = 'Chiller Group_Electric_Power Factor (real)(efficiency)'  # replace with your specific column name\n",
    "df[column_to_fill].fillna(df[column_to_fill].mean(), inplace=True)\n",
    "\n",
    "# Verify if there are any NaNs left in that column\n",
    "nan_counts_after_filling = df[column_to_fill].isna().sum()\n",
    "print(f'Total NaN values in the column \"{column_to_fill}\" after filling: {nan_counts_after_filling}')\n",
    "\n"
   ],
   "id": "6806827962471736",
   "outputs": [
    {
     "name": "stdout",
     "output_type": "stream",
     "text": [
      "Total NaN values in the DataFrame: 1\n",
      "NaN values in each column:\n",
      "Unnamed: 0                                                0\n",
      "Time                                                      0\n",
      "03 Chiller Group_Electric_Active Energy (kWh)             0\n",
      "outdoor_temp                                              0\n",
      "outdoor_humidity                                          0\n",
      "heat_index                                                0\n",
      "Chiller Group_Electric_Power Factor (real)(efficiency)    1\n",
      "set_point                                                 0\n",
      "num_active_chiller                                        0\n",
      "dtype: int64\n",
      "Number of rows with at least one NaN value: 1\n",
      "Total NaN values in the column \"Chiller Group_Electric_Power Factor (real)(efficiency)\" after filling: 0\n"
     ]
    },
    {
     "name": "stderr",
     "output_type": "stream",
     "text": [
      "/var/folders/9k/rnh189dj1_95w5p98sc88vbh0000gn/T/ipykernel_73209/3976399992.py:22: FutureWarning: A value is trying to be set on a copy of a DataFrame or Series through chained assignment using an inplace method.\n",
      "The behavior will change in pandas 3.0. This inplace method will never work because the intermediate object on which we are setting values always behaves as a copy.\n",
      "\n",
      "For example, when doing 'df[col].method(value, inplace=True)', try using 'df.method({col: value}, inplace=True)' or df[col] = df[col].method(value) instead, to perform the operation inplace on the original object.\n",
      "\n",
      "\n",
      "  df[column_to_fill].fillna(df[column_to_fill].mean(), inplace=True)\n"
     ]
    }
   ],
   "execution_count": 58
  },
  {
   "metadata": {
    "ExecuteTime": {
     "end_time": "2024-07-04T23:03:36.609084Z",
     "start_time": "2024-07-04T23:03:36.514823Z"
    }
   },
   "cell_type": "code",
   "source": [
    "import pandas as pd\n",
    "from sklearn.model_selection import KFold, cross_val_score\n",
    "from sklearn.linear_model import LinearRegression\n",
    "from sklearn.metrics import mean_squared_error, r2_score\n",
    "from joblib import dump\n",
    "\n",
    "# Define the target and features\n",
    "target = '03 Chiller Group_Electric_Active Energy (kWh)'\n",
    "df['heat_index_set_point_diff'] = df['heat_index'] - df['set_point']\n",
    "df['efficiency_adjusted_power'] = df['Chiller Group_Electric_Power Factor (real)(efficiency)']\n",
    "\n",
    "# Calculate the adjusted energy consumption incorporating assumed COP\n",
    "assumed_COP = 3.0  # Assumed value for COP\n",
    "df['adjusted_energy'] = df[target] * df['efficiency_adjusted_power'] * assumed_COP\n",
    "\n",
    "# Define the features\n",
    "features = ['heat_index_set_point_diff', 'efficiency_adjusted_power', 'num_active_chiller']\n",
    "\n",
    "# Split the data into features (X) and target (y)\n",
    "X = df[features]\n",
    "y = df['adjusted_energy']\n",
    "\n",
    "# Initialize the linear regression model\n",
    "model = LinearRegression()\n",
    "\n",
    "# Perform k-fold cross-validation\n",
    "kfold = KFold(n_splits=5, shuffle=True, random_state=42)\n",
    "cv_results_mse = cross_val_score(model, X, y, cv=kfold, scoring='neg_mean_squared_error')\n",
    "cv_results_r2 = cross_val_score(model, X, y, cv=kfold, scoring='r2')\n",
    "\n",
    "# Fit the model on the entire dataset\n",
    "model.fit(X, y)\n",
    "\n",
    "# Get the intercept and coefficients\n",
    "intercept = model.intercept_\n",
    "coefficients = model.coef_\n",
    "\n",
    "# Save the trained model to a file\n",
    "model_params = {\n",
    "    'intercept': intercept,\n",
    "    'coefficients': coefficients,\n",
    "    'features': features\n",
    "}\n",
    "model_filename = 'equation_modeling/models/chiller_consumption_model.joblib'\n",
    "dump(model_params, model_filename)\n",
    "\n",
    "# Calculate and print performance metrics\n",
    "y_pred = model.predict(X)\n",
    "mse = mean_squared_error(y, y_pred)\n",
    "r2 = r2_score(y, y_pred)\n",
    "\n",
    "print(f'Mean Squared Error (Cross-Validation): {-cv_results_mse.mean()}')\n",
    "print(f'Standard Deviation (Cross-Validation): {cv_results_mse.std()}')\n",
    "print(f'R^2 Score (Cross-Validation): {cv_results_r2.mean()}')\n",
    "print(f'Overall R^2 Score: {r2}')\n",
    "\n",
    "# Optional: Print the coefficients of the model\n",
    "coefficients_df = pd.DataFrame(coefficients, features, columns=['Coefficient'])\n",
    "print(f'Intercept: {intercept}')\n",
    "print(coefficients_df)\n",
    "\n",
    "# Function to make predictions using the saved model\n",
    "def predict(X, model_params):\n",
    "    intercept = model_params['intercept']\n",
    "    coefficients = model_params['coefficients']\n",
    "    return intercept + X.dot(coefficients)\n",
    "\n",
    "# Optional: Load the model and make predictions\n",
    "# loaded_model_params = load(model_filename)\n",
    "# predictions = predict(X, loaded_model_params)\n",
    "# print(f'Model predictions: {predictions}')"
   ],
   "id": "9db389b6071551e7",
   "outputs": [
    {
     "name": "stdout",
     "output_type": "stream",
     "text": [
      "Mean Squared Error (Cross-Validation): 7780.651208122925\n",
      "Standard Deviation (Cross-Validation): 249.2880186500714\n",
      "R^2 Score (Cross-Validation): 0.5687076950791999\n",
      "Overall R^2 Score: 0.5700832215860314\n",
      "Intercept: 491.7123579125253\n",
      "                           Coefficient\n",
      "heat_index_set_point_diff     2.314301\n",
      "efficiency_adjusted_power  -466.604564\n",
      "num_active_chiller           17.040933\n"
     ]
    }
   ],
   "execution_count": 61
  },
  {
   "metadata": {},
   "cell_type": "markdown",
   "source": [
    "# Equations\n",
    "\n",
    "\t1.\tTotal Consumption (total_consumption_chiller_group):\n",
    "\n",
    "\\text{total_consumption_chiller_group} = \\beta_1 \\cdot \\text{number_active_chillers} + \\beta_2 \\cdot \\text{outdoor_temp} + \\beta_3 \\cdot \\text{outdoor_humidity} + \\beta_4 \\cdot \\text{Chiller Set point} + \\beta_5 \\cdot \\text{Chiller Efficiency}\n",
    "\n",
    "\t2.\tChiller Set Point (chiller_set_point):\n",
    "\n",
    "\\text{chiller_set_point} = \\gamma_1 \\cdot \\text{number_active_chillers} + \\gamma_2 \\cdot \\text{outdoor_temp} + \\gamma_3 \\cdot \\text{outdoor_humidity} + \\gamma_4 \\cdot \\text{Chiller Efficiency}\n",
    "\n",
    "\t3.\tNumber of Active Chillers (number_active_chillers):\n",
    "\n",
    "\\text{number_active_chillers} = \\delta_1 \\cdot \\text{outdoor_temp} + \\delta_2 \\cdot \\text{outdoor_humidity} + \\delta_3 \\cdot \\text{Chiller Efficiency}\n",
    "\n"
   ],
   "id": "78efbd5c376550e1"
  }
 ],
 "metadata": {
  "kernelspec": {
   "display_name": "Python 3",
   "language": "python",
   "name": "python3"
  },
  "language_info": {
   "codemirror_mode": {
    "name": "ipython",
    "version": 2
   },
   "file_extension": ".py",
   "mimetype": "text/x-python",
   "name": "python",
   "nbconvert_exporter": "python",
   "pygments_lexer": "ipython2",
   "version": "2.7.6"
  }
 },
 "nbformat": 4,
 "nbformat_minor": 5
}
