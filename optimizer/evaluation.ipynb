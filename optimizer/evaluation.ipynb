{
 "cells": [
  {
   "cell_type": "code",
   "id": "initial_id",
   "metadata": {
    "collapsed": true,
    "ExecuteTime": {
     "end_time": "2024-07-07T21:28:32.507362Z",
     "start_time": "2024-07-07T21:28:32.502949Z"
    }
   },
   "source": "cd .. ",
   "outputs": [
    {
     "name": "stdout",
     "output_type": "stream",
     "text": [
      "/Users/johanbarreiro/Documents/GitHub/vl_optimizer\n"
     ]
    }
   ],
   "execution_count": 1
  },
  {
   "metadata": {},
   "cell_type": "markdown",
   "source": "# Evaluating Results",
   "id": "b5527acc6bb377af"
  },
  {
   "metadata": {},
   "cell_type": "markdown",
   "source": "## Create ground Truth CSV",
   "id": "bb75950d0a74b173"
  },
  {
   "metadata": {
    "ExecuteTime": {
     "end_time": "2024-07-07T21:28:32.981459Z",
     "start_time": "2024-07-07T21:28:32.508456Z"
    }
   },
   "cell_type": "code",
   "source": [
    "import pandas as pd\n",
    "\n",
    "df = pd.read_csv('data/processed_data/industrial_sites_processed/2024-07-07T16-56-34_industrial_site2_processed.csv')\n",
    "\n",
    "# Choose the 24-hour period you want to optimize (for example, starting on 2024-07-01 00:00:00)\n",
    "start_date = '2023-06-01 00:00:00'\n",
    "end_date = '2023-07-01 00:00:00'\n",
    "\n",
    "# Filter the data for the chosen 24-hour period\n",
    "ground_truth = df[(df['Time'] >= start_date) & (df['Time'] < end_date)]\n",
    "\n",
    "# Ensure that the data is sorted by timestamp and reset the index\n",
    "ground_truth = ground_truth.sort_values(by='Time').reset_index(drop=True)\n",
    "\n",
    "ground_truth.to_csv('optimizer/optimization_data/ground_truth_hourly.csv', index = False)\n",
    "\n",
    "ground_truth = ground_truth[['Time', 'energy_cost']]\n",
    "\n",
    "\n",
    "# Aggregate the data to daily\n",
    "ground_truth['Time'] = pd.to_datetime(ground_truth['Time'])\n",
    "ground_truth = ground_truth.set_index('Time')\n",
    "ground_truth = ground_truth.resample('D').sum()\n",
    "\n",
    "ground_truth.to_csv('optimizer/optimization_data/ground_truth_daily.csv')"
   ],
   "id": "4f851ef68c04c520",
   "outputs": [],
   "execution_count": 2
  }
 ],
 "metadata": {
  "kernelspec": {
   "display_name": "Python 3",
   "language": "python",
   "name": "python3"
  },
  "language_info": {
   "codemirror_mode": {
    "name": "ipython",
    "version": 2
   },
   "file_extension": ".py",
   "mimetype": "text/x-python",
   "name": "python",
   "nbconvert_exporter": "python",
   "pygments_lexer": "ipython2",
   "version": "2.7.6"
  }
 },
 "nbformat": 4,
 "nbformat_minor": 5
}
