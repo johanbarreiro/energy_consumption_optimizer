{
 "cells": [
  {
   "cell_type": "code",
   "id": "initial_id",
   "metadata": {
    "collapsed": true,
    "ExecuteTime": {
     "end_time": "2024-07-06T19:27:27.555179Z",
     "start_time": "2024-07-06T19:27:27.551112Z"
    }
   },
   "source": "cd ..",
   "outputs": [
    {
     "name": "stdout",
     "output_type": "stream",
     "text": [
      "/Users/johanbarreiro/Documents/GitHub/vl_optimizer/equation_modeling\n"
     ]
    }
   ],
   "execution_count": 1
  },
  {
   "metadata": {
    "ExecuteTime": {
     "end_time": "2024-07-06T19:27:28.030813Z",
     "start_time": "2024-07-06T19:27:27.556165Z"
    }
   },
   "cell_type": "code",
   "source": "import pandas as pd",
   "id": "a48f9935b0d606a3",
   "outputs": [],
   "execution_count": 2
  },
  {
   "metadata": {
    "ExecuteTime": {
     "end_time": "2024-07-06T19:27:28.037570Z",
     "start_time": "2024-07-06T19:27:28.034686Z"
    }
   },
   "cell_type": "code",
   "source": "cd ..",
   "id": "5d58e149920b250d",
   "outputs": [
    {
     "name": "stdout",
     "output_type": "stream",
     "text": [
      "/Users/johanbarreiro/Documents/GitHub/vl_optimizer\n"
     ]
    }
   ],
   "execution_count": 3
  },
  {
   "metadata": {
    "ExecuteTime": {
     "end_time": "2024-07-06T19:27:28.083729Z",
     "start_time": "2024-07-06T19:27:28.038935Z"
    }
   },
   "cell_type": "code",
   "source": "df = pd.read_csv('data/processed_data/industrial_sites_processed/2024-07-06T21-45-14_industrial_site2_processed.csv')",
   "id": "f3680699d7dd4ff8",
   "outputs": [],
   "execution_count": 4
  },
  {
   "metadata": {},
   "cell_type": "markdown",
   "source": [
    "# Data Center\n",
    "\n",
    "[Server Source](https://cc-techgroup.com/data-center-energy-consumption/#:~:text=this%20work%20efficiently.-,How%20Many%20kWh%20Does%20a%20Server%20Use%3F,to%201%2C900%20kWh%20every%20year.)\n",
    "\n",
    "Average annual power may be around 1,800 to 1,900 kWh every year per server (divide by 365 then 24 the 4)   0.05279680365 kWh per 15 minutes\n",
    "\n",
    "[Network Switch Source](https://www.genuinemodules.com/how-much-power-does-a-24-port-switch-use_a8539#:~:text=However%2C%20as%20a%20general%20estimate,requirements%20of%20the%20connected%20devices.)\n",
    "\n",
    "\n",
    "However, as a general estimate, a non-PoE 24 port switch may consume around 20-50 watts of power, while a PoE-enabled switch may consume around 100-250 watts or more, depending on the power requirements of the connected devices. \n",
    "PoE: 25Wh - 62.5Wh per 15 minutes\n",
    "Non-PoE: 5Wh - 12.5Wh per 15 minutes\n",
    "    \n",
    " [HDD & SDD Source](https://dataspan.com/blog/how-much-energy-do-data-centers-use/#:~:text=Depending%20on%20disk%20size%2C%20an,around%206%20watts%20per%20disk.)   \n",
    "\n",
    "Depending on disk size, an HDD can use anywhere from 6 to 9 watts at maximum capacity. While this is lower than in previous years, power requirements for SSDs have remained mostly constant at around 6 watts per disk.\n",
    "\n",
    "HDD: 0.175Wh - 0.2625Wh per 15 minutes\n",
    "SSD: 0.175Wh per 15 minutes\n"
   ],
   "id": "c61d76ab6723456"
  },
  {
   "metadata": {
    "ExecuteTime": {
     "end_time": "2024-07-06T19:27:28.087900Z",
     "start_time": "2024-07-06T19:27:28.084654Z"
    }
   },
   "cell_type": "code",
   "source": " df.columns",
   "id": "1d96c230ff4c68a7",
   "outputs": [
    {
     "data": {
      "text/plain": [
       "Index(['Time', '02 Production_Electric_Active Energy (kWh)',\n",
       "       '02 Production_Electric_Active Power (kW)',\n",
       "       '02 Production_Electric_Apparent Power (kVa)',\n",
       "       '02 Production_Electric_Power Factor (real)',\n",
       "       '03 Chiller Group_Electric_Active Energy (kWh)',\n",
       "       '03 Chiller Group_Electric_Active Power (kW)',\n",
       "       '03 Chiller Group_Electric_Apparent Power (kVa)',\n",
       "       '03 Chiller Group_Electric_Power Factor (real)',\n",
       "       '04 UTA_Electric_Active Energy (kWh)',\n",
       "       '04 UTA_Electric_Active Power (kW)',\n",
       "       '04 UTA_Electric_Apparent Power (kVa)',\n",
       "       '04 UTA_Electric_Power Factor (real)',\n",
       "       '05 Compressors_Electric_Active Energy (kWh)',\n",
       "       '05 Compressors_Electric_Active Power (kW)',\n",
       "       '05 Compressors_Electric_Apparent Power (kVa)',\n",
       "       '05 Compressors_Electric_Power Factor (real)',\n",
       "       '06 Offices_Electric_Active Energy (kWh)',\n",
       "       '06 Offices_Electric_Active Power (kW)',\n",
       "       '06 Offices_Electric_Apparent Power (kVa)',\n",
       "       '06 Offices_Electric_Power Factor (real)',\n",
       "       '07 Data Center_Electric_Active Energy (kWh)',\n",
       "       '07 Data Center_Electric_Active Power (kW)',\n",
       "       '07 Data Center_Electric_Apparent Power (kVa)',\n",
       "       '07 Data Center_Electric_Power Factor (real)',\n",
       "       '08 Technological Centers_Electric_Active Energy (kWh)',\n",
       "       '08 Technological Centers_Electric_Active Power (kW)',\n",
       "       '08 Technological Centers_Electric_Apparent Power (kVa)',\n",
       "       '08 Technological Centers_Electric_Power Factor (real)', 'sum_of_kWh',\n",
       "       'DataFrame Name', 'is_weekend', 'hour_sin', 'hour_cos',\n",
       "       'day_of_month_sin', 'day_of_month_cos', 'month_sin', 'month_cos',\n",
       "       'day_of_week_sin', 'day_of_week_cos', 'price_mWh', 'energy_cost_kWh',\n",
       "       'temp', 'humidity', 'precip', 'windspeed', 'uvindex', 'conditions',\n",
       "       'heat_index'],\n",
       "      dtype='object')"
      ]
     },
     "execution_count": 5,
     "metadata": {},
     "output_type": "execute_result"
    }
   ],
   "execution_count": 5
  },
  {
   "metadata": {
    "ExecuteTime": {
     "end_time": "2024-07-06T19:27:28.098434Z",
     "start_time": "2024-07-06T19:27:28.088719Z"
    }
   },
   "cell_type": "code",
   "source": [
    "data_center_target = (df['07 Data Center_Electric_Active Energy (kWh)'])\n",
    "data_center_target.to_csv('data/target_variables/target_data_center.csv')"
   ],
   "id": "7f73a09799e75125",
   "outputs": [],
   "execution_count": 6
  },
  {
   "metadata": {},
   "cell_type": "markdown",
   "source": [
    "## Synthesized dataset containing the following columns:\n",
    "\n",
    "total_data_center_consumption_kwh = β1*Number_of_active_servers + β2*Number_of_active_network_switches + β3*Number_of_active_hard_drives\n",
    "\n",
    "\t•\tNumber of active servers\n",
    "\t•\tNumber of active network switches (PoE)\n",
    "\t•\tNumber of active network switches (Non-PoE)\n",
    "\t•\tNumber of active hard drives (HDD)\n",
    "\t•\tNumber of active solid-state drives (SSD)\n",
    "\t•\tTotal energy consumption in kWh"
   ],
   "id": "ad6a8af183be819b"
  },
  {
   "metadata": {},
   "cell_type": "code",
   "outputs": [],
   "execution_count": null,
   "source": "",
   "id": "48ada24a0afb1fec"
  },
  {
   "metadata": {},
   "cell_type": "markdown",
   "source": "",
   "id": "47df37a9c4e4b77f"
  },
  {
   "metadata": {},
   "cell_type": "markdown",
   "source": "",
   "id": "51029e4454fd5278"
  },
  {
   "metadata": {
    "ExecuteTime": {
     "end_time": "2024-07-06T19:28:12.871708Z",
     "start_time": "2024-07-06T19:27:28.099098Z"
    }
   },
   "cell_type": "code",
   "source": [
    "import pandas as pd\n",
    "import numpy as np\n",
    "from scipy.optimize import minimize\n",
    "\n",
    "# Load the CSV file\n",
    "df = pd.read_csv('data/target_variables/target_data_center.csv')\n",
    "\n",
    "# Define the power consumption per hour for each component (multiply by 4)\n",
    "power_consumption_per_hour = {\n",
    "    'server': 0.2111872146,  # kWh per hour\n",
    "    'network_switch': (0.1748 + 0.035) / 2, # kWh per hour\n",
    "    # 'network_switch_poe': (((100 / 1000 ) + (249.6 / 1000))/2),  # Convert Wh to kWh per hour\n",
    "    # 'network_switch_non_poe': (((20 / 1000 ) + (50 / 1000))/2),  # Convert Wh to kWh per hour\n",
    "    'hdd': (((0.7 / 1000 ) + (1.05 / 1000))/2),  # Convert Wh to kWh per hour\n",
    "    'ssd': 0.7 / 1000  # Convert Wh to kWh per hour\n",
    "}\n",
    "\n",
    "# List of component names\n",
    "components = list(power_consumption_per_hour.keys())\n",
    "\n",
    "# Function to calculate total consumption based on the number of active units\n",
    "def calculate_consumption(x):\n",
    "    total_consumption = 0\n",
    "    for i, component in enumerate(components):\n",
    "        total_consumption += x[i] * power_consumption_per_hour[component] if isinstance(power_consumption_per_hour[component], float) else x[i] * np.mean(power_consumption_per_hour[component])\n",
    "    return total_consumption\n",
    "\n",
    "# Function to minimize: difference between calculated and target consumption\n",
    "def objective(x, target_consumption):\n",
    "    return np.abs(calculate_consumption(x) - target_consumption)\n",
    "\n",
    "# List to store synthesized data\n",
    "synthesized_data = []\n",
    "\n",
    "# Optimize for each hour in the dataset\n",
    "for index, row in df.iterrows():\n",
    "    target_consumption = row['07 Data Center_Electric_Active Energy (kWh)'] * 10\n",
    "    \n",
    "    # Initial guess: random integers within a reasonable range\n",
    "    initial_guess = np.random.randint(1, 10, size=len(components))\n",
    "    \n",
    "    # Bounds: each component should be at least 1\n",
    "    bounds = [(1, None)] * len(components)\n",
    "    \n",
    "    # Optimize\n",
    "    result = minimize(objective, initial_guess, args=(target_consumption,), bounds=bounds, method='L-BFGS-B')\n",
    "    \n",
    "    # Round the result to the nearest whole number\n",
    "    rounded_result = np.round(result.x).astype(int)\n",
    "    \n",
    "    # Append to the synthesized data\n",
    "    synthesized_data.append(rounded_result)\n",
    "\n",
    "# Create a DataFrame for the synthesized data\n",
    "synthesized_df = pd.DataFrame(synthesized_data, columns=components)\n",
    "synthesized_df['total_consumption'] = synthesized_df.apply(lambda row: calculate_consumption(row), axis=1)\n",
    "synthesized_df['target_consumption'] = df['07 Data Center_Electric_Active Energy (kWh)']\n",
    "\n",
    "synthesized_df.head()"
   ],
   "id": "371aae3a736381cb",
   "outputs": [
    {
     "name": "stderr",
     "output_type": "stream",
     "text": [
      "/var/folders/9k/rnh189dj1_95w5p98sc88vbh0000gn/T/ipykernel_11963/1866209874.py:25: FutureWarning: Series.__getitem__ treating keys as positions is deprecated. In a future version, integer keys will always be treated as labels (consistent with DataFrame behavior). To access a value by position, use `ser.iloc[pos]`\n",
      "  total_consumption += x[i] * power_consumption_per_hour[component] if isinstance(power_consumption_per_hour[component], float) else x[i] * np.mean(power_consumption_per_hour[component])\n"
     ]
    },
    {
     "data": {
      "text/plain": [
       "   server  network_switch  hdd  ssd  total_consumption  target_consumption\n",
       "0      10               5    4    7           2.644772              0.2575\n",
       "1      10               3    5    2           2.432347              0.2500\n",
       "2      10               4    7    5           2.541097              0.2550\n",
       "3      11               2    1    7           2.538634              0.2500\n",
       "4       7               9    4    6           2.430111              0.2550"
      ],
      "text/html": [
       "<div>\n",
       "<style scoped>\n",
       "    .dataframe tbody tr th:only-of-type {\n",
       "        vertical-align: middle;\n",
       "    }\n",
       "\n",
       "    .dataframe tbody tr th {\n",
       "        vertical-align: top;\n",
       "    }\n",
       "\n",
       "    .dataframe thead th {\n",
       "        text-align: right;\n",
       "    }\n",
       "</style>\n",
       "<table border=\"1\" class=\"dataframe\">\n",
       "  <thead>\n",
       "    <tr style=\"text-align: right;\">\n",
       "      <th></th>\n",
       "      <th>server</th>\n",
       "      <th>network_switch</th>\n",
       "      <th>hdd</th>\n",
       "      <th>ssd</th>\n",
       "      <th>total_consumption</th>\n",
       "      <th>target_consumption</th>\n",
       "    </tr>\n",
       "  </thead>\n",
       "  <tbody>\n",
       "    <tr>\n",
       "      <th>0</th>\n",
       "      <td>10</td>\n",
       "      <td>5</td>\n",
       "      <td>4</td>\n",
       "      <td>7</td>\n",
       "      <td>2.644772</td>\n",
       "      <td>0.2575</td>\n",
       "    </tr>\n",
       "    <tr>\n",
       "      <th>1</th>\n",
       "      <td>10</td>\n",
       "      <td>3</td>\n",
       "      <td>5</td>\n",
       "      <td>2</td>\n",
       "      <td>2.432347</td>\n",
       "      <td>0.2500</td>\n",
       "    </tr>\n",
       "    <tr>\n",
       "      <th>2</th>\n",
       "      <td>10</td>\n",
       "      <td>4</td>\n",
       "      <td>7</td>\n",
       "      <td>5</td>\n",
       "      <td>2.541097</td>\n",
       "      <td>0.2550</td>\n",
       "    </tr>\n",
       "    <tr>\n",
       "      <th>3</th>\n",
       "      <td>11</td>\n",
       "      <td>2</td>\n",
       "      <td>1</td>\n",
       "      <td>7</td>\n",
       "      <td>2.538634</td>\n",
       "      <td>0.2500</td>\n",
       "    </tr>\n",
       "    <tr>\n",
       "      <th>4</th>\n",
       "      <td>7</td>\n",
       "      <td>9</td>\n",
       "      <td>4</td>\n",
       "      <td>6</td>\n",
       "      <td>2.430111</td>\n",
       "      <td>0.2550</td>\n",
       "    </tr>\n",
       "  </tbody>\n",
       "</table>\n",
       "</div>"
      ]
     },
     "execution_count": 7,
     "metadata": {},
     "output_type": "execute_result"
    }
   ],
   "execution_count": 7
  },
  {
   "metadata": {
    "ExecuteTime": {
     "end_time": "2024-07-06T19:28:12.891843Z",
     "start_time": "2024-07-06T19:28:12.873122Z"
    }
   },
   "cell_type": "code",
   "source": [
    "# Save synthesized data to CSV\n",
    "synthesized_df.to_csv('data/synthesized_data/data_center_synthesized.csv', index=False)"
   ],
   "id": "a0b328ff6be68822",
   "outputs": [],
   "execution_count": 8
  },
  {
   "metadata": {
    "ExecuteTime": {
     "end_time": "2024-07-06T19:28:12.894833Z",
     "start_time": "2024-07-06T19:28:12.892835Z"
    }
   },
   "cell_type": "code",
   "source": "",
   "id": "bb9e2d9fd4064c1a",
   "outputs": [],
   "execution_count": 8
  }
 ],
 "metadata": {
  "kernelspec": {
   "display_name": "Python 3",
   "language": "python",
   "name": "python3"
  },
  "language_info": {
   "codemirror_mode": {
    "name": "ipython",
    "version": 2
   },
   "file_extension": ".py",
   "mimetype": "text/x-python",
   "name": "python",
   "nbconvert_exporter": "python",
   "pygments_lexer": "ipython2",
   "version": "2.7.6"
  }
 },
 "nbformat": 4,
 "nbformat_minor": 5
}
