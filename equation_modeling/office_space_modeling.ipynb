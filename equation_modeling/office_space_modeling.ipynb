{
 "cells": [
  {
   "cell_type": "code",
   "execution_count": null,
   "id": "initial_id",
   "metadata": {
    "collapsed": true
   },
   "outputs": [],
   "source": [
    ""
   ]
  },
  {
   "metadata": {},
   "cell_type": "markdown",
   "source": [
    "# Office Space\n",
    "\n",
    "office consumption = A * lightbulbs active + B * active wall plugs + C * active computers + D * active printers + E * active coffee machines \n",
    "\n",
    "if workday\n",
    "lux > day certain amount \n",
    "active computers > day certain amount\n",
    "active printers = all \n",
    "coffee machines = all\n",
    "\n",
    "else\n",
    "lux > night certain amount \n",
    "active computers > night certain amount\n",
    "active printers = 0 \n",
    "coffee machines = 0\n",
    "\n",
    "lux = A * number of lightbulbs active "
   ],
   "id": "997c8046a0e3f505"
  },
  {
   "metadata": {},
   "cell_type": "code",
   "outputs": [
    {
     "name": "stdout",
     "output_type": "stream",
     "text": [
      "/Users/johanbarreiro/Documents/GitHub/vl_optimizer\n"
     ]
    }
   ],
   "execution_count": 1,
   "source": "cd ..",
   "id": "dd20ca572c6b2441"
  },
  {
   "metadata": {},
   "cell_type": "code",
   "outputs": [],
   "execution_count": 4,
   "source": "df = pd.read_csv('data/site_data/CU-BEMS_smart_building energy_and_IAQ_data/2019Floor3.csv')",
   "id": "7c9af25396feb8f"
  },
  {
   "metadata": {},
   "cell_type": "code",
   "outputs": [
    {
     "data": {
      "text/plain": [
       "Index(['Date', 'z1_AC1(kW)', 'z1_AC2(kW)', 'z1_AC3(kW)', 'z1_AC4(kW)',\n",
       "       'z1_Light(kW)', 'z1_Plug(kW)', 'z1_S1(degC)', 'z1_S1(RH%)',\n",
       "       'z1_S1(lux)', 'z2_AC1(kW)', 'z2_Light(kW)', 'z2_Plug(kW)',\n",
       "       'z2_S1(degC)', 'z2_S1(RH%)', 'z2_S1(lux)', 'z3_Light(kW)',\n",
       "       'z3_Plug(kW)', 'z4_AC1(kW)', 'z4_Light(kW)', 'z4_Plug(kW)',\n",
       "       'z4_S1(degC)', 'z4_S1(RH%)', 'z4_S1(lux)', 'z5_AC1(kW)', 'z5_Light(kW)',\n",
       "       'z5_Plug(kW)', 'z5_S1(degC)', 'z5_S1(RH%)', 'z5_S1(lux)'],\n",
       "      dtype='object')"
      ]
     },
     "execution_count": 5,
     "metadata": {},
     "output_type": "execute_result"
    }
   ],
   "execution_count": 5,
   "source": "df.columns",
   "id": "fc78825e2dd78fb2"
  }
 ],
 "metadata": {
  "kernelspec": {
   "display_name": "Python 3",
   "language": "python",
   "name": "python3"
  },
  "language_info": {
   "codemirror_mode": {
    "name": "ipython",
    "version": 2
   },
   "file_extension": ".py",
   "mimetype": "text/x-python",
   "name": "python",
   "nbconvert_exporter": "python",
   "pygments_lexer": "ipython2",
   "version": "2.7.6"
  }
 },
 "nbformat": 4,
 "nbformat_minor": 5
}
