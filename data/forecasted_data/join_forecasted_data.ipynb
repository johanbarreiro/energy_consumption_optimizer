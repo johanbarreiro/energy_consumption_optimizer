{
 "cells": [
  {
   "metadata": {},
   "cell_type": "code",
   "outputs": [],
   "execution_count": null,
   "source": [
    "import pandas as pd\n",
    "import os\n",
    "\n",
    "def join_csv_on_time_column(directory='.'):\n",
    "    # Get all CSV files in the directory\n",
    "    csv_files = [f for f in os.listdir(directory) if f.endswith('.csv')]\n",
    "    \n",
    "    # Initialize an empty dataframe\n",
    "    merged_df = pd.DataFrame()\n",
    "    \n",
    "    # Iterate through each CSV file and merge them on the 'Time' column\n",
    "    for csv_file in csv_files:\n",
    "        df = pd.read_csv(os.path.join(directory, csv_file))\n",
    "        \n",
    "        # Check if 'Time' column exists in the dataframe\n",
    "        if 'Time' not in df.columns:\n",
    "            print(f\"'Time' column not found in {csv_file}\")\n",
    "            continue\n",
    "        \n",
    "        # Merge the dataframes\n",
    "        if merged_df.empty:\n",
    "            merged_df = df\n",
    "        else:\n",
    "            merged_df = pd.merge(merged_df, df, on='Time', how='outer')\n",
    "    \n",
    "    return merged_df\n",
    "\n",
    "# Run the function and store the result\n",
    "merged_dataframe = join_csv_on_time_column()\n",
    "\n",
    "# Save the result to a new CSV file\n",
    "merged_dataframe.to_csv('merged_forecasts.csv', index=False)"
   ],
   "id": "d9a2f844bc2e65e2"
  }
 ],
 "metadata": {
  "kernelspec": {
   "display_name": "Python 3",
   "language": "python",
   "name": "python3"
  },
  "language_info": {
   "codemirror_mode": {
    "name": "ipython",
    "version": 2
   },
   "file_extension": ".py",
   "mimetype": "text/x-python",
   "name": "python",
   "nbconvert_exporter": "python",
   "pygments_lexer": "ipython2",
   "version": "2.7.6"
  }
 },
 "nbformat": 4,
 "nbformat_minor": 5
}
