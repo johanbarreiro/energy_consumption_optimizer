{
 "cells": [
  {
   "metadata": {
    "ExecuteTime": {
     "end_time": "2024-07-02T22:55:25.442946Z",
     "start_time": "2024-07-02T22:55:25.440807Z"
    }
   },
   "cell_type": "code",
   "source": "import pandas as pd",
   "id": "2cfcb3d230113b71",
   "outputs": [],
   "execution_count": 1
  },
  {
   "metadata": {
    "ExecuteTime": {
     "end_time": "2024-07-02T22:55:25.472609Z",
     "start_time": "2024-07-02T22:55:25.467327Z"
    }
   },
   "cell_type": "code",
   "source": "cd ..",
   "id": "ec05b4396f9239e8",
   "outputs": [
    {
     "name": "stdout",
     "output_type": "stream",
     "text": [
      "/Users/johanbarreiro/Documents/GitHub/vl_optimizer\n"
     ]
    }
   ],
   "execution_count": 2
  },
  {
   "metadata": {},
   "cell_type": "markdown",
   "source": [
    "# Chiller Group\n",
    "\n",
    "total_consumption_chiller_group = β1*number_active_chillers + β2*outdoor_temperature + β3*outdoor_humidity + β4*Chiller Set point + β5*Chiller Efficiency"
   ],
   "id": "ab522830f15dbc4d"
  },
  {
   "metadata": {
    "ExecuteTime": {
     "end_time": "2024-07-02T23:18:39.337073Z",
     "start_time": "2024-07-02T23:18:39.262536Z"
    }
   },
   "cell_type": "code",
   "source": "df = pd.read_csv('data/processed_data/industrial_sites_processed/2024-07-03T01-15-58_industrial_site2_processed.csv')",
   "id": "7f081d071204184b",
   "outputs": [],
   "execution_count": 16
  },
  {
   "metadata": {
    "ExecuteTime": {
     "end_time": "2024-07-02T23:18:39.754279Z",
     "start_time": "2024-07-02T23:18:39.751199Z"
    }
   },
   "cell_type": "code",
   "source": "df.columns",
   "id": "91426559310c6c99",
   "outputs": [
    {
     "data": {
      "text/plain": [
       "Index(['Time', '01 General_Electric_Active Energy (kWh)',\n",
       "       '01 General_Electric_Active Power (kW)',\n",
       "       '01 General_Electric_Power Factor (real)',\n",
       "       '02 Production_Electric_Active Energy (kWh)',\n",
       "       '02 Production_Electric_Active Power (kW)',\n",
       "       '02 Production_Electric_Power Factor (real)',\n",
       "       '03 Chiller Group_Electric_Active Energy (kWh)',\n",
       "       '03 Chiller Group_Electric_Active Power (kW)',\n",
       "       '03 Chiller Group_Electric_Power Factor (real)',\n",
       "       '04 UTA_Electric_Active Energy (kWh)',\n",
       "       '04 UTA_Electric_Active Power (kW)',\n",
       "       '04 UTA_Electric_Power Factor (real)',\n",
       "       '05 Compressors_Electric_Active Energy (kWh)',\n",
       "       '05 Compressors_Electric_Active Power (kW)',\n",
       "       '05 Compressors_Electric_Power Factor (real)',\n",
       "       '06 Offices_Electric_Active Energy (kWh)',\n",
       "       '06 Offices_Electric_Active Power (kW)',\n",
       "       '06 Offices_Electric_Power Factor (real)',\n",
       "       '07 Data Center_Electric_Active Energy (kWh)',\n",
       "       '07 Data Center_Electric_Active Power (kW)',\n",
       "       '07 Data Center_Electric_Power Factor (real)',\n",
       "       '08 Technological Centers_Electric_Active Energy (kWh)',\n",
       "       '08 Technological Centers_Electric_Active Power (kW)',\n",
       "       '08 Technological Centers_Electric_Power Factor (real)',\n",
       "       'General_Electric_Active Energy (kWh)',\n",
       "       'General_Electric_Active Power (kW)',\n",
       "       'General_Electric_Power Factor (real)', 'sum_of_kWh', 'DataFrame Name',\n",
       "       'is_weekend', 'hour_sin', 'hour_cos', 'day_of_month_sin',\n",
       "       'day_of_month_cos', 'month_sin', 'month_cos', 'day_of_week_sin',\n",
       "       'day_of_week_cos', 'price_mWh', 'energy_cost_kWh', 'temp', 'humidity',\n",
       "       'precip', 'windspeed', 'uvindex', 'conditions', 'heat_index'],\n",
       "      dtype='object')"
      ]
     },
     "execution_count": 17,
     "metadata": {},
     "output_type": "execute_result"
    }
   ],
   "execution_count": 17
  },
  {
   "metadata": {
    "ExecuteTime": {
     "end_time": "2024-07-02T23:18:40.361914Z",
     "start_time": "2024-07-02T23:18:40.357862Z"
    }
   },
   "cell_type": "code",
   "source": [
    "columns_to_include = ['Time', '03 Chiller Group_Electric_Active Energy (kWh)', 'temp', 'humidity', 'heat_index', '03 Chiller Group_Electric_Power Factor (real)']\n",
    "\n",
    "df_for_synthesis = df[columns_to_include]\n",
    "\n",
    "df_for_synthesis.columns"
   ],
   "id": "183c69aae5554e40",
   "outputs": [
    {
     "data": {
      "text/plain": [
       "Index(['Time', '03 Chiller Group_Electric_Active Energy (kWh)', 'temp',\n",
       "       'humidity', 'heat_index',\n",
       "       '03 Chiller Group_Electric_Power Factor (real)'],\n",
       "      dtype='object')"
      ]
     },
     "execution_count": 18,
     "metadata": {},
     "output_type": "execute_result"
    }
   ],
   "execution_count": 18
  },
  {
   "metadata": {
    "ExecuteTime": {
     "end_time": "2024-07-02T23:18:41.196250Z",
     "start_time": "2024-07-02T23:18:41.191766Z"
    }
   },
   "cell_type": "code",
   "source": "df_for_synthesis = df_for_synthesis.rename(columns={'temp': 'outdoor_temp', 'humidity': 'outdoor_humidity', '03 Chiller Group_Electric_Power Factor (real)': 'Chiller Group_Electric_Power Factor (real)(efficiency)'})",
   "id": "118e5d299bf512e2",
   "outputs": [],
   "execution_count": 19
  },
  {
   "metadata": {
    "ExecuteTime": {
     "end_time": "2024-07-02T23:18:41.696717Z",
     "start_time": "2024-07-02T23:18:41.691528Z"
    }
   },
   "cell_type": "code",
   "source": "df_for_synthesis.head()",
   "id": "495adedb04a74532",
   "outputs": [
    {
     "data": {
      "text/plain": [
       "           Time  03 Chiller Group_Electric_Active Energy (kWh)  outdoor_temp  \\\n",
       "0  7/1/22 00:00                                      153.12350         15.97   \n",
       "1  7/1/22 01:00                                      152.16125         15.10   \n",
       "2  7/1/22 02:00                                      128.90925         14.80   \n",
       "3  7/1/22 03:00                                      123.00075         15.10   \n",
       "4  7/1/22 04:00                                      124.18700         15.97   \n",
       "\n",
       "   outdoor_humidity  heat_index  \\\n",
       "0              0.37       15.97   \n",
       "1              0.37       15.10   \n",
       "2              0.38       14.80   \n",
       "3              0.38       15.10   \n",
       "4              0.38       15.97   \n",
       "\n",
       "   Chiller Group_Electric_Power Factor (real)(efficiency)  \n",
       "0                                            0.78375       \n",
       "1                                            0.77975       \n",
       "2                                            0.79450       \n",
       "3                                            0.78075       \n",
       "4                                            0.78475       "
      ],
      "text/html": [
       "<div>\n",
       "<style scoped>\n",
       "    .dataframe tbody tr th:only-of-type {\n",
       "        vertical-align: middle;\n",
       "    }\n",
       "\n",
       "    .dataframe tbody tr th {\n",
       "        vertical-align: top;\n",
       "    }\n",
       "\n",
       "    .dataframe thead th {\n",
       "        text-align: right;\n",
       "    }\n",
       "</style>\n",
       "<table border=\"1\" class=\"dataframe\">\n",
       "  <thead>\n",
       "    <tr style=\"text-align: right;\">\n",
       "      <th></th>\n",
       "      <th>Time</th>\n",
       "      <th>03 Chiller Group_Electric_Active Energy (kWh)</th>\n",
       "      <th>outdoor_temp</th>\n",
       "      <th>outdoor_humidity</th>\n",
       "      <th>heat_index</th>\n",
       "      <th>Chiller Group_Electric_Power Factor (real)(efficiency)</th>\n",
       "    </tr>\n",
       "  </thead>\n",
       "  <tbody>\n",
       "    <tr>\n",
       "      <th>0</th>\n",
       "      <td>7/1/22 00:00</td>\n",
       "      <td>153.12350</td>\n",
       "      <td>15.97</td>\n",
       "      <td>0.37</td>\n",
       "      <td>15.97</td>\n",
       "      <td>0.78375</td>\n",
       "    </tr>\n",
       "    <tr>\n",
       "      <th>1</th>\n",
       "      <td>7/1/22 01:00</td>\n",
       "      <td>152.16125</td>\n",
       "      <td>15.10</td>\n",
       "      <td>0.37</td>\n",
       "      <td>15.10</td>\n",
       "      <td>0.77975</td>\n",
       "    </tr>\n",
       "    <tr>\n",
       "      <th>2</th>\n",
       "      <td>7/1/22 02:00</td>\n",
       "      <td>128.90925</td>\n",
       "      <td>14.80</td>\n",
       "      <td>0.38</td>\n",
       "      <td>14.80</td>\n",
       "      <td>0.79450</td>\n",
       "    </tr>\n",
       "    <tr>\n",
       "      <th>3</th>\n",
       "      <td>7/1/22 03:00</td>\n",
       "      <td>123.00075</td>\n",
       "      <td>15.10</td>\n",
       "      <td>0.38</td>\n",
       "      <td>15.10</td>\n",
       "      <td>0.78075</td>\n",
       "    </tr>\n",
       "    <tr>\n",
       "      <th>4</th>\n",
       "      <td>7/1/22 04:00</td>\n",
       "      <td>124.18700</td>\n",
       "      <td>15.97</td>\n",
       "      <td>0.38</td>\n",
       "      <td>15.97</td>\n",
       "      <td>0.78475</td>\n",
       "    </tr>\n",
       "  </tbody>\n",
       "</table>\n",
       "</div>"
      ]
     },
     "execution_count": 20,
     "metadata": {},
     "output_type": "execute_result"
    }
   ],
   "execution_count": 20
  },
  {
   "metadata": {
    "ExecuteTime": {
     "end_time": "2024-07-02T23:18:42.519173Z",
     "start_time": "2024-07-02T23:18:42.479782Z"
    }
   },
   "cell_type": "code",
   "source": "df_for_synthesis.to_csv('data/target_variables/target_chiller_group.csv')",
   "id": "8a89ff165837c2d6",
   "outputs": [],
   "execution_count": 21
  },
  {
   "metadata": {
    "ExecuteTime": {
     "end_time": "2024-07-02T23:18:43.767316Z",
     "start_time": "2024-07-02T23:18:43.764758Z"
    }
   },
   "cell_type": "code",
   "source": "",
   "id": "f5ee7550d3b83127",
   "outputs": [],
   "execution_count": 21
  },
  {
   "metadata": {
    "ExecuteTime": {
     "end_time": "2024-07-02T23:18:45.292882Z",
     "start_time": "2024-07-02T23:18:45.278687Z"
    }
   },
   "cell_type": "code",
   "source": [
    "file_path = 'data/target_variables/target_chiller_group.csv'\n",
    "data = pd.read_csv(file_path)\n",
    "data.columns"
   ],
   "id": "795f1118d3669c62",
   "outputs": [
    {
     "data": {
      "text/plain": [
       "Index(['Unnamed: 0', 'Time', '03 Chiller Group_Electric_Active Energy (kWh)',\n",
       "       'outdoor_temp', 'outdoor_humidity', 'heat_index',\n",
       "       'Chiller Group_Electric_Power Factor (real)(efficiency)'],\n",
       "      dtype='object')"
      ]
     },
     "execution_count": 22,
     "metadata": {},
     "output_type": "execute_result"
    }
   ],
   "execution_count": 22
  },
  {
   "metadata": {
    "ExecuteTime": {
     "end_time": "2024-07-02T23:18:45.916500Z",
     "start_time": "2024-07-02T23:18:45.914680Z"
    }
   },
   "cell_type": "code",
   "source": "",
   "id": "a946b7fc99e45906",
   "outputs": [],
   "execution_count": 22
  },
  {
   "metadata": {
    "ExecuteTime": {
     "end_time": "2024-07-02T23:18:50.608347Z",
     "start_time": "2024-07-02T23:18:49.961986Z"
    }
   },
   "cell_type": "code",
   "source": [
    "import numpy as np\n",
    "import pandas as pd\n",
    "\n",
    "# Define the function to calculate chiller settings\n",
    "def calculate_chiller_settings(heat_index):\n",
    "    # Calculate chiller set point\n",
    "    if heat_index < 18:\n",
    "        set_point = 18\n",
    "    elif heat_index > 40:\n",
    "        set_point = 25\n",
    "    else:\n",
    "        set_point = round(18 + (heat_index - 18) * (7 / (40 - 18)))\n",
    "    \n",
    "    # Calculate number of active chillers\n",
    "    if heat_index < 18:\n",
    "        active_chillers = 0\n",
    "    else:\n",
    "        # Simple model: the number of chillers increases with heat_index\n",
    "        # This is a simplistic linear relationship for demonstration purposes\n",
    "        heat_index_factor = (heat_index - 18) / (40 - 18)\n",
    "        active_chillers = int(np.ceil(heat_index_factor * 10))  # Example scale factor, adjust as needed\n",
    "        \n",
    "    return set_point, active_chillers\n",
    "\n",
    "# Assuming your existing DataFrame is named df and has columns 'outdoor_temp' and 'humidity'\n",
    "# Apply the function to each row in the DataFrame\n",
    "data[['set_point', 'num_active_chiller']] = data.apply(\n",
    "    lambda row: pd.Series(calculate_chiller_settings(row['heat_index'])),\n",
    "    axis=1\n",
    ")\n",
    "\n",
    "data.head()"
   ],
   "id": "e46a63c57dcad798",
   "outputs": [
    {
     "data": {
      "text/plain": [
       "   Unnamed: 0          Time  03 Chiller Group_Electric_Active Energy (kWh)  \\\n",
       "0           0  7/1/22 00:00                                      153.12350   \n",
       "1           1  7/1/22 01:00                                      152.16125   \n",
       "2           2  7/1/22 02:00                                      128.90925   \n",
       "3           3  7/1/22 03:00                                      123.00075   \n",
       "4           4  7/1/22 04:00                                      124.18700   \n",
       "\n",
       "   outdoor_temp  outdoor_humidity  heat_index  \\\n",
       "0         15.97              0.37       15.97   \n",
       "1         15.10              0.37       15.10   \n",
       "2         14.80              0.38       14.80   \n",
       "3         15.10              0.38       15.10   \n",
       "4         15.97              0.38       15.97   \n",
       "\n",
       "   Chiller Group_Electric_Power Factor (real)(efficiency)  set_point  \\\n",
       "0                                            0.78375              18   \n",
       "1                                            0.77975              18   \n",
       "2                                            0.79450              18   \n",
       "3                                            0.78075              18   \n",
       "4                                            0.78475              18   \n",
       "\n",
       "   num_active_chiller  \n",
       "0                   0  \n",
       "1                   0  \n",
       "2                   0  \n",
       "3                   0  \n",
       "4                   0  "
      ],
      "text/html": [
       "<div>\n",
       "<style scoped>\n",
       "    .dataframe tbody tr th:only-of-type {\n",
       "        vertical-align: middle;\n",
       "    }\n",
       "\n",
       "    .dataframe tbody tr th {\n",
       "        vertical-align: top;\n",
       "    }\n",
       "\n",
       "    .dataframe thead th {\n",
       "        text-align: right;\n",
       "    }\n",
       "</style>\n",
       "<table border=\"1\" class=\"dataframe\">\n",
       "  <thead>\n",
       "    <tr style=\"text-align: right;\">\n",
       "      <th></th>\n",
       "      <th>Unnamed: 0</th>\n",
       "      <th>Time</th>\n",
       "      <th>03 Chiller Group_Electric_Active Energy (kWh)</th>\n",
       "      <th>outdoor_temp</th>\n",
       "      <th>outdoor_humidity</th>\n",
       "      <th>heat_index</th>\n",
       "      <th>Chiller Group_Electric_Power Factor (real)(efficiency)</th>\n",
       "      <th>set_point</th>\n",
       "      <th>num_active_chiller</th>\n",
       "    </tr>\n",
       "  </thead>\n",
       "  <tbody>\n",
       "    <tr>\n",
       "      <th>0</th>\n",
       "      <td>0</td>\n",
       "      <td>7/1/22 00:00</td>\n",
       "      <td>153.12350</td>\n",
       "      <td>15.97</td>\n",
       "      <td>0.37</td>\n",
       "      <td>15.97</td>\n",
       "      <td>0.78375</td>\n",
       "      <td>18</td>\n",
       "      <td>0</td>\n",
       "    </tr>\n",
       "    <tr>\n",
       "      <th>1</th>\n",
       "      <td>1</td>\n",
       "      <td>7/1/22 01:00</td>\n",
       "      <td>152.16125</td>\n",
       "      <td>15.10</td>\n",
       "      <td>0.37</td>\n",
       "      <td>15.10</td>\n",
       "      <td>0.77975</td>\n",
       "      <td>18</td>\n",
       "      <td>0</td>\n",
       "    </tr>\n",
       "    <tr>\n",
       "      <th>2</th>\n",
       "      <td>2</td>\n",
       "      <td>7/1/22 02:00</td>\n",
       "      <td>128.90925</td>\n",
       "      <td>14.80</td>\n",
       "      <td>0.38</td>\n",
       "      <td>14.80</td>\n",
       "      <td>0.79450</td>\n",
       "      <td>18</td>\n",
       "      <td>0</td>\n",
       "    </tr>\n",
       "    <tr>\n",
       "      <th>3</th>\n",
       "      <td>3</td>\n",
       "      <td>7/1/22 03:00</td>\n",
       "      <td>123.00075</td>\n",
       "      <td>15.10</td>\n",
       "      <td>0.38</td>\n",
       "      <td>15.10</td>\n",
       "      <td>0.78075</td>\n",
       "      <td>18</td>\n",
       "      <td>0</td>\n",
       "    </tr>\n",
       "    <tr>\n",
       "      <th>4</th>\n",
       "      <td>4</td>\n",
       "      <td>7/1/22 04:00</td>\n",
       "      <td>124.18700</td>\n",
       "      <td>15.97</td>\n",
       "      <td>0.38</td>\n",
       "      <td>15.97</td>\n",
       "      <td>0.78475</td>\n",
       "      <td>18</td>\n",
       "      <td>0</td>\n",
       "    </tr>\n",
       "  </tbody>\n",
       "</table>\n",
       "</div>"
      ]
     },
     "execution_count": 23,
     "metadata": {},
     "output_type": "execute_result"
    }
   ],
   "execution_count": 23
  },
  {
   "metadata": {
    "ExecuteTime": {
     "end_time": "2024-07-02T23:19:02.285740Z",
     "start_time": "2024-07-02T23:19:02.218813Z"
    }
   },
   "cell_type": "code",
   "source": [
    "import seaborn as sns\n",
    "import matplotlib.pyplot as plt\n",
    "\n",
    "data.drop('Unnamed: 0')\n",
    "# Ensure your DataFrame 'df' has the necessary columns\n",
    "# Assuming df already has 'outdoor_temp', 'outdoor_humidity', 'set_point', and 'num_active_chiller' columns\n",
    "\n",
    "# Create the pair plot\n",
    "sns.pairplot(data)\n",
    "plt.show()"
   ],
   "id": "bd995db4e0deb01b",
   "outputs": [
    {
     "ename": "KeyError",
     "evalue": "\"['Unnamed: 0'] not found in axis\"",
     "output_type": "error",
     "traceback": [
      "\u001B[0;31m---------------------------------------------------------------------------\u001B[0m",
      "\u001B[0;31mKeyError\u001B[0m                                  Traceback (most recent call last)",
      "Cell \u001B[0;32mIn[24], line 4\u001B[0m\n\u001B[1;32m      1\u001B[0m \u001B[38;5;28;01mimport\u001B[39;00m \u001B[38;5;21;01mseaborn\u001B[39;00m \u001B[38;5;28;01mas\u001B[39;00m \u001B[38;5;21;01msns\u001B[39;00m\n\u001B[1;32m      2\u001B[0m \u001B[38;5;28;01mimport\u001B[39;00m \u001B[38;5;21;01mmatplotlib\u001B[39;00m\u001B[38;5;21;01m.\u001B[39;00m\u001B[38;5;21;01mpyplot\u001B[39;00m \u001B[38;5;28;01mas\u001B[39;00m \u001B[38;5;21;01mplt\u001B[39;00m\n\u001B[0;32m----> 4\u001B[0m \u001B[43mdata\u001B[49m\u001B[38;5;241;43m.\u001B[39;49m\u001B[43mdrop\u001B[49m\u001B[43m(\u001B[49m\u001B[38;5;124;43m'\u001B[39;49m\u001B[38;5;124;43mUnnamed: 0\u001B[39;49m\u001B[38;5;124;43m'\u001B[39;49m\u001B[43m)\u001B[49m\n\u001B[1;32m      5\u001B[0m \u001B[38;5;66;03m# Ensure your DataFrame 'df' has the necessary columns\u001B[39;00m\n\u001B[1;32m      6\u001B[0m \u001B[38;5;66;03m# Assuming df already has 'outdoor_temp', 'outdoor_humidity', 'set_point', and 'num_active_chiller' columns\u001B[39;00m\n\u001B[1;32m      7\u001B[0m \n\u001B[1;32m      8\u001B[0m \u001B[38;5;66;03m# Create the pair plot\u001B[39;00m\n\u001B[1;32m      9\u001B[0m sns\u001B[38;5;241m.\u001B[39mpairplot(data)\n",
      "File \u001B[0;32m~/anaconda3/envs/vl_optimizer_1/lib/python3.12/site-packages/pandas/core/frame.py:5581\u001B[0m, in \u001B[0;36mDataFrame.drop\u001B[0;34m(self, labels, axis, index, columns, level, inplace, errors)\u001B[0m\n\u001B[1;32m   5433\u001B[0m \u001B[38;5;28;01mdef\u001B[39;00m \u001B[38;5;21mdrop\u001B[39m(\n\u001B[1;32m   5434\u001B[0m     \u001B[38;5;28mself\u001B[39m,\n\u001B[1;32m   5435\u001B[0m     labels: IndexLabel \u001B[38;5;241m|\u001B[39m \u001B[38;5;28;01mNone\u001B[39;00m \u001B[38;5;241m=\u001B[39m \u001B[38;5;28;01mNone\u001B[39;00m,\n\u001B[0;32m   (...)\u001B[0m\n\u001B[1;32m   5442\u001B[0m     errors: IgnoreRaise \u001B[38;5;241m=\u001B[39m \u001B[38;5;124m\"\u001B[39m\u001B[38;5;124mraise\u001B[39m\u001B[38;5;124m\"\u001B[39m,\n\u001B[1;32m   5443\u001B[0m ) \u001B[38;5;241m-\u001B[39m\u001B[38;5;241m>\u001B[39m DataFrame \u001B[38;5;241m|\u001B[39m \u001B[38;5;28;01mNone\u001B[39;00m:\n\u001B[1;32m   5444\u001B[0m \u001B[38;5;250m    \u001B[39m\u001B[38;5;124;03m\"\"\"\u001B[39;00m\n\u001B[1;32m   5445\u001B[0m \u001B[38;5;124;03m    Drop specified labels from rows or columns.\u001B[39;00m\n\u001B[1;32m   5446\u001B[0m \n\u001B[0;32m   (...)\u001B[0m\n\u001B[1;32m   5579\u001B[0m \u001B[38;5;124;03m            weight  1.0     0.8\u001B[39;00m\n\u001B[1;32m   5580\u001B[0m \u001B[38;5;124;03m    \"\"\"\u001B[39;00m\n\u001B[0;32m-> 5581\u001B[0m     \u001B[38;5;28;01mreturn\u001B[39;00m \u001B[38;5;28;43msuper\u001B[39;49m\u001B[43m(\u001B[49m\u001B[43m)\u001B[49m\u001B[38;5;241;43m.\u001B[39;49m\u001B[43mdrop\u001B[49m\u001B[43m(\u001B[49m\n\u001B[1;32m   5582\u001B[0m \u001B[43m        \u001B[49m\u001B[43mlabels\u001B[49m\u001B[38;5;241;43m=\u001B[39;49m\u001B[43mlabels\u001B[49m\u001B[43m,\u001B[49m\n\u001B[1;32m   5583\u001B[0m \u001B[43m        \u001B[49m\u001B[43maxis\u001B[49m\u001B[38;5;241;43m=\u001B[39;49m\u001B[43maxis\u001B[49m\u001B[43m,\u001B[49m\n\u001B[1;32m   5584\u001B[0m \u001B[43m        \u001B[49m\u001B[43mindex\u001B[49m\u001B[38;5;241;43m=\u001B[39;49m\u001B[43mindex\u001B[49m\u001B[43m,\u001B[49m\n\u001B[1;32m   5585\u001B[0m \u001B[43m        \u001B[49m\u001B[43mcolumns\u001B[49m\u001B[38;5;241;43m=\u001B[39;49m\u001B[43mcolumns\u001B[49m\u001B[43m,\u001B[49m\n\u001B[1;32m   5586\u001B[0m \u001B[43m        \u001B[49m\u001B[43mlevel\u001B[49m\u001B[38;5;241;43m=\u001B[39;49m\u001B[43mlevel\u001B[49m\u001B[43m,\u001B[49m\n\u001B[1;32m   5587\u001B[0m \u001B[43m        \u001B[49m\u001B[43minplace\u001B[49m\u001B[38;5;241;43m=\u001B[39;49m\u001B[43minplace\u001B[49m\u001B[43m,\u001B[49m\n\u001B[1;32m   5588\u001B[0m \u001B[43m        \u001B[49m\u001B[43merrors\u001B[49m\u001B[38;5;241;43m=\u001B[39;49m\u001B[43merrors\u001B[49m\u001B[43m,\u001B[49m\n\u001B[1;32m   5589\u001B[0m \u001B[43m    \u001B[49m\u001B[43m)\u001B[49m\n",
      "File \u001B[0;32m~/anaconda3/envs/vl_optimizer_1/lib/python3.12/site-packages/pandas/core/generic.py:4788\u001B[0m, in \u001B[0;36mNDFrame.drop\u001B[0;34m(self, labels, axis, index, columns, level, inplace, errors)\u001B[0m\n\u001B[1;32m   4786\u001B[0m \u001B[38;5;28;01mfor\u001B[39;00m axis, labels \u001B[38;5;129;01min\u001B[39;00m axes\u001B[38;5;241m.\u001B[39mitems():\n\u001B[1;32m   4787\u001B[0m     \u001B[38;5;28;01mif\u001B[39;00m labels \u001B[38;5;129;01mis\u001B[39;00m \u001B[38;5;129;01mnot\u001B[39;00m \u001B[38;5;28;01mNone\u001B[39;00m:\n\u001B[0;32m-> 4788\u001B[0m         obj \u001B[38;5;241m=\u001B[39m \u001B[43mobj\u001B[49m\u001B[38;5;241;43m.\u001B[39;49m\u001B[43m_drop_axis\u001B[49m\u001B[43m(\u001B[49m\u001B[43mlabels\u001B[49m\u001B[43m,\u001B[49m\u001B[43m \u001B[49m\u001B[43maxis\u001B[49m\u001B[43m,\u001B[49m\u001B[43m \u001B[49m\u001B[43mlevel\u001B[49m\u001B[38;5;241;43m=\u001B[39;49m\u001B[43mlevel\u001B[49m\u001B[43m,\u001B[49m\u001B[43m \u001B[49m\u001B[43merrors\u001B[49m\u001B[38;5;241;43m=\u001B[39;49m\u001B[43merrors\u001B[49m\u001B[43m)\u001B[49m\n\u001B[1;32m   4790\u001B[0m \u001B[38;5;28;01mif\u001B[39;00m inplace:\n\u001B[1;32m   4791\u001B[0m     \u001B[38;5;28mself\u001B[39m\u001B[38;5;241m.\u001B[39m_update_inplace(obj)\n",
      "File \u001B[0;32m~/anaconda3/envs/vl_optimizer_1/lib/python3.12/site-packages/pandas/core/generic.py:4830\u001B[0m, in \u001B[0;36mNDFrame._drop_axis\u001B[0;34m(self, labels, axis, level, errors, only_slice)\u001B[0m\n\u001B[1;32m   4828\u001B[0m         new_axis \u001B[38;5;241m=\u001B[39m axis\u001B[38;5;241m.\u001B[39mdrop(labels, level\u001B[38;5;241m=\u001B[39mlevel, errors\u001B[38;5;241m=\u001B[39merrors)\n\u001B[1;32m   4829\u001B[0m     \u001B[38;5;28;01melse\u001B[39;00m:\n\u001B[0;32m-> 4830\u001B[0m         new_axis \u001B[38;5;241m=\u001B[39m \u001B[43maxis\u001B[49m\u001B[38;5;241;43m.\u001B[39;49m\u001B[43mdrop\u001B[49m\u001B[43m(\u001B[49m\u001B[43mlabels\u001B[49m\u001B[43m,\u001B[49m\u001B[43m \u001B[49m\u001B[43merrors\u001B[49m\u001B[38;5;241;43m=\u001B[39;49m\u001B[43merrors\u001B[49m\u001B[43m)\u001B[49m\n\u001B[1;32m   4831\u001B[0m     indexer \u001B[38;5;241m=\u001B[39m axis\u001B[38;5;241m.\u001B[39mget_indexer(new_axis)\n\u001B[1;32m   4833\u001B[0m \u001B[38;5;66;03m# Case for non-unique axis\u001B[39;00m\n\u001B[1;32m   4834\u001B[0m \u001B[38;5;28;01melse\u001B[39;00m:\n",
      "File \u001B[0;32m~/anaconda3/envs/vl_optimizer_1/lib/python3.12/site-packages/pandas/core/indexes/base.py:7070\u001B[0m, in \u001B[0;36mIndex.drop\u001B[0;34m(self, labels, errors)\u001B[0m\n\u001B[1;32m   7068\u001B[0m \u001B[38;5;28;01mif\u001B[39;00m mask\u001B[38;5;241m.\u001B[39many():\n\u001B[1;32m   7069\u001B[0m     \u001B[38;5;28;01mif\u001B[39;00m errors \u001B[38;5;241m!=\u001B[39m \u001B[38;5;124m\"\u001B[39m\u001B[38;5;124mignore\u001B[39m\u001B[38;5;124m\"\u001B[39m:\n\u001B[0;32m-> 7070\u001B[0m         \u001B[38;5;28;01mraise\u001B[39;00m \u001B[38;5;167;01mKeyError\u001B[39;00m(\u001B[38;5;124mf\u001B[39m\u001B[38;5;124m\"\u001B[39m\u001B[38;5;132;01m{\u001B[39;00mlabels[mask]\u001B[38;5;241m.\u001B[39mtolist()\u001B[38;5;132;01m}\u001B[39;00m\u001B[38;5;124m not found in axis\u001B[39m\u001B[38;5;124m\"\u001B[39m)\n\u001B[1;32m   7071\u001B[0m     indexer \u001B[38;5;241m=\u001B[39m indexer[\u001B[38;5;241m~\u001B[39mmask]\n\u001B[1;32m   7072\u001B[0m \u001B[38;5;28;01mreturn\u001B[39;00m \u001B[38;5;28mself\u001B[39m\u001B[38;5;241m.\u001B[39mdelete(indexer)\n",
      "\u001B[0;31mKeyError\u001B[0m: \"['Unnamed: 0'] not found in axis\""
     ]
    }
   ],
   "execution_count": 24
  },
  {
   "metadata": {
    "ExecuteTime": {
     "end_time": "2024-07-02T23:19:18.581419Z",
     "start_time": "2024-07-02T23:19:18.552473Z"
    }
   },
   "cell_type": "code",
   "source": "data.to_csv('data/synthesized_data/chiller_group_synthesized.csv', index=False)",
   "id": "f9c76e373f626e8a",
   "outputs": [],
   "execution_count": 25
  },
  {
   "metadata": {},
   "cell_type": "markdown",
   "source": "# Get Coefficients",
   "id": "6f534106bc50b09c"
  },
  {
   "metadata": {
    "ExecuteTime": {
     "end_time": "2024-07-02T23:19:32.548571Z",
     "start_time": "2024-07-02T23:19:32.526146Z"
    }
   },
   "cell_type": "code",
   "source": [
    "file_path = 'data/synthesized_data/chiller_group_synthesized.csv'\n",
    "df = pd.read_csv(file_path, index_col=False)\n",
    "df.columns"
   ],
   "id": "ab83ba0a4cac394f",
   "outputs": [
    {
     "data": {
      "text/plain": [
       "Index(['Unnamed: 0', 'Time', '03 Chiller Group_Electric_Active Energy (kWh)',\n",
       "       'outdoor_temp', 'outdoor_humidity', 'heat_index',\n",
       "       'Chiller Group_Electric_Power Factor (real)(efficiency)', 'set_point',\n",
       "       'num_active_chiller'],\n",
       "      dtype='object')"
      ]
     },
     "execution_count": 26,
     "metadata": {},
     "output_type": "execute_result"
    }
   ],
   "execution_count": 26
  },
  {
   "metadata": {
    "ExecuteTime": {
     "end_time": "2024-07-02T23:27:22.070372Z",
     "start_time": "2024-07-02T23:27:22.036626Z"
    }
   },
   "cell_type": "code",
   "source": [
    "import pandas as pd\n",
    "from sklearn.model_selection import cross_val_score, KFold\n",
    "from sklearn.linear_model import LinearRegression\n",
    "from sklearn.metrics import mean_squared_error, r2_score\n",
    "from joblib import dump, load\n",
    "\n",
    "# Count total NaN values in the entire DataFrame\n",
    "total_nans = df.isna().sum().sum()\n",
    "print(f'Total NaN values in the DataFrame: {total_nans}')\n",
    "\n",
    "# Count NaN values in each column\n",
    "nans_per_column = df.isna().sum()\n",
    "print('NaN values in each column:')\n",
    "print(nans_per_column)\n",
    "\n",
    "# Count the number of rows that contain any NaN values\n",
    "rows_with_nans_count = df.isna().any(axis=1).sum()\n",
    "print(f'Number of rows with at least one NaN value: {rows_with_nans_count}')\n",
    "\n",
    "# Replace NaN values with the mean in a specific column\n",
    "column_to_fill = 'Chiller Group_Electric_Power Factor (real)(efficiency)'  # replace with your specific column name\n",
    "df[column_to_fill].fillna(df[column_to_fill].mean(), inplace=True)\n",
    "\n",
    "# Verify if there are any NaNs left in that column\n",
    "nan_counts_after_filling = df[column_to_fill].isna().sum()\n",
    "print(f'Total NaN values in the column \"{column_to_fill}\" after filling: {nan_counts_after_filling}')\n",
    "\n"
   ],
   "id": "6806827962471736",
   "outputs": [
    {
     "name": "stdout",
     "output_type": "stream",
     "text": [
      "Total NaN values in the DataFrame: 0\n",
      "NaN values in each column:\n",
      "Unnamed: 0                                                0\n",
      "Time                                                      0\n",
      "03 Chiller Group_Electric_Active Energy (kWh)             0\n",
      "outdoor_temp                                              0\n",
      "outdoor_humidity                                          0\n",
      "heat_index                                                0\n",
      "Chiller Group_Electric_Power Factor (real)(efficiency)    0\n",
      "set_point                                                 0\n",
      "num_active_chiller                                        0\n",
      "heat_index_set_point_diff                                 0\n",
      "dtype: int64\n",
      "Number of rows with at least one NaN value: 0\n",
      "Total NaN values in the column \"Chiller Group_Electric_Power Factor (real)(efficiency)\" after filling: 0\n"
     ]
    },
    {
     "name": "stderr",
     "output_type": "stream",
     "text": [
      "/var/folders/9k/rnh189dj1_95w5p98sc88vbh0000gn/T/ipykernel_73209/3976399992.py:22: FutureWarning: A value is trying to be set on a copy of a DataFrame or Series through chained assignment using an inplace method.\n",
      "The behavior will change in pandas 3.0. This inplace method will never work because the intermediate object on which we are setting values always behaves as a copy.\n",
      "\n",
      "For example, when doing 'df[col].method(value, inplace=True)', try using 'df.method({col: value}, inplace=True)' or df[col] = df[col].method(value) instead, to perform the operation inplace on the original object.\n",
      "\n",
      "\n",
      "  df[column_to_fill].fillna(df[column_to_fill].mean(), inplace=True)\n"
     ]
    }
   ],
   "execution_count": 34
  },
  {
   "metadata": {
    "ExecuteTime": {
     "end_time": "2024-07-02T23:27:23.484980Z",
     "start_time": "2024-07-02T23:27:23.482352Z"
    }
   },
   "cell_type": "code",
   "source": "",
   "id": "f936510d3220d7c7",
   "outputs": [],
   "execution_count": 34
  },
  {
   "metadata": {
    "ExecuteTime": {
     "end_time": "2024-07-02T23:27:25.216006Z",
     "start_time": "2024-07-02T23:27:25.173350Z"
    }
   },
   "cell_type": "code",
   "source": [
    "# Define the target and features\n",
    "target = '03 Chiller Group_Electric_Active Energy (kWh)'\n",
    "df['heat_index_set_point_diff'] = df['heat_index'] - df['set_point']\n",
    "features = ['heat_index_set_point_diff', 'num_active_chiller', 'Chiller Group_Electric_Power Factor (real)(efficiency)']\n",
    "\n",
    "# Split the data into features (X) and target (y)\n",
    "X = df[features]\n",
    "y = df[target]\n",
    "\n",
    "# Initialize the linear regression model\n",
    "model = LinearRegression()\n",
    "\n",
    "# Perform k-fold cross-validation\n",
    "kfold = KFold(n_splits=5, shuffle=True, random_state=42)\n",
    "cv_results = cross_val_score(model, X, y, cv=kfold, scoring='neg_mean_squared_error')\n",
    "\n",
    "# Fit the model on the entire dataset\n",
    "model.fit(X, y)\n",
    "\n",
    "# Save the trained model to a file\n",
    "model_filename = 'equation_modeling/models/chiller_regression_model.joblib'\n",
    "dump(model, model_filename)\n",
    "\n",
    "print(f'Mean Squared Error (Cross-Validation): {-cv_results.mean()}')\n",
    "print(f'Standard Deviation (Cross-Validation): {cv_results.std()}')\n",
    "\n",
    "# Optional: Print the coefficients of the model\n",
    "coefficients = pd.DataFrame(model.coef_, features, columns=['Coefficient'])\n",
    "print(coefficients)\n",
    "\n",
    "# Loading the model (for demonstration purposes)\n",
    "# loaded_model = load(model_filename)\n",
    "# print(f'Loaded Model Coefficients: {loaded_model.coef_}')"
   ],
   "id": "5cd682d0a8fcae26",
   "outputs": [
    {
     "name": "stdout",
     "output_type": "stream",
     "text": [
      "Mean Squared Error (Cross-Validation): 935.1390702085619\n",
      "Standard Deviation (Cross-Validation): 27.224554300148473\n",
      "                                                    Coefficient\n",
      "heat_index_set_point_diff                              3.357534\n",
      "num_active_chiller                                     0.583621\n",
      "Chiller Group_Electric_Power Factor (real)(effi...    28.143946\n"
     ]
    }
   ],
   "execution_count": 35
  },
  {
   "metadata": {
    "ExecuteTime": {
     "end_time": "2024-07-02T23:27:45.499742Z",
     "start_time": "2024-07-02T23:27:45.409447Z"
    }
   },
   "cell_type": "code",
   "source": [
    "import pandas as pd\n",
    "from sklearn.model_selection import KFold, cross_val_score\n",
    "from sklearn.linear_model import LinearRegression\n",
    "from sklearn.metrics import mean_squared_error, r2_score\n",
    "from joblib import dump\n",
    "\n",
    "# Define the target and features\n",
    "target = '03 Chiller Group_Electric_Active Energy (kWh)'\n",
    "df['heat_index_set_point_diff'] = df['heat_index'] - df['set_point']\n",
    "features = ['heat_index_set_point_diff', 'Chiller Group_Electric_Power Factor (real)(efficiency)']\n",
    "\n",
    "# Known coefficient for num_active_chiller\n",
    "known_coefficient = 39\n",
    "num_active_chiller = df['num_active_chiller']\n",
    "\n",
    "# Adjust the target variable\n",
    "y_adjusted = df[target] - (known_coefficient * num_active_chiller)\n",
    "\n",
    "# Split the data into features (X) and adjusted target (y_adjusted)\n",
    "X = df[features]\n",
    "\n",
    "# Initialize the linear regression model\n",
    "model = LinearRegression()\n",
    "\n",
    "# Perform k-fold cross-validation\n",
    "kfold = KFold(n_splits=5, shuffle=True, random_state=42)\n",
    "cv_results_mse = cross_val_score(model, X, y_adjusted, cv=kfold, scoring='neg_mean_squared_error')\n",
    "cv_results_r2 = cross_val_score(model, X, y_adjusted, cv=kfold, scoring='r2')\n",
    "\n",
    "# Fit the model on the entire dataset\n",
    "model.fit(X, y_adjusted)\n",
    "\n",
    "# Get the intercept and coefficients\n",
    "intercept = model.intercept_\n",
    "coefficients = model.coef_\n",
    "\n",
    "# Save the trained model to a file\n",
    "model_params = {\n",
    "    'intercept': intercept,\n",
    "    'coefficients': coefficients,\n",
    "    'known_coefficient': known_coefficient,\n",
    "    'features': features\n",
    "}\n",
    "model_filename = 'equation_modeling/models/constrained_linear_regression_model.joblib'\n",
    "dump(model_params, model_filename)\n",
    "\n",
    "# Calculate and print performance metrics\n",
    "def predict(X, model_params, num_active_chiller):\n",
    "    intercept = model_params['intercept']\n",
    "    coefficients = model_params['coefficients']\n",
    "    known_coefficient = model_params['known_coefficient']\n",
    "    return intercept + X.dot(coefficients) + known_coefficient * num_active_chiller\n",
    "\n",
    "y_pred_adjusted = model.predict(X)\n",
    "y_pred = y_pred_adjusted + (known_coefficient * num_active_chiller)\n",
    "mse = mean_squared_error(df[target], y_pred)\n",
    "r2 = r2_score(df[target], y_pred)\n",
    "\n",
    "print(f'Mean Squared Error (Cross-Validation): {-cv_results_mse.mean()}')\n",
    "print(f'Standard Deviation (Cross-Validation): {cv_results_mse.std()}')\n",
    "print(f'R^2 Score (Cross-Validation): {cv_results_r2.mean()}')\n",
    "\n",
    "# Optional: Print the coefficients of the model\n",
    "coefficients_df = pd.DataFrame(coefficients, features, columns=['Coefficient'])\n",
    "print(f'Intercept: {intercept}')\n",
    "print(f'Known Coefficient for num_active_chiller: {known_coefficient}')\n",
    "print(coefficients_df)\n",
    "\n",
    "# Function to make predictions using the saved model\n",
    "def predict(X, model_params, num_active_chiller):\n",
    "    intercept = model_params['intercept']\n",
    "    coefficients = model_params['coefficients']\n",
    "    known_coefficient = model_params['known_coefficient']\n",
    "    return intercept + X.dot(coefficients) + known_coefficient * num_active_chiller\n",
    "\n",
    "# Optional: Load the model and make predictions\n",
    "# loaded_model_params = load(model_filename)\n",
    "# predictions = predict(X, loaded_model_params, num_active_chiller)\n",
    "# print(f'Model predictions: {predictions}')"
   ],
   "id": "f72c5d057d5c4225",
   "outputs": [
    {
     "name": "stdout",
     "output_type": "stream",
     "text": [
      "Mean Squared Error (Cross-Validation): 3476.446268397296\n",
      "Standard Deviation (Cross-Validation): 95.33496490705659\n",
      "R^2 Score (Cross-Validation): 0.5176265000930724\n",
      "Overall R^2 Score: -0.6780849647848759\n",
      "Intercept: -59.89342023912777\n",
      "Known Coefficient for num_active_chiller: 39\n",
      "                                                    Coefficient\n",
      "heat_index_set_point_diff                             -7.987539\n",
      "Chiller Group_Electric_Power Factor (real)(effi...     6.833090\n"
     ]
    }
   ],
   "execution_count": 37
  },
  {
   "metadata": {
    "ExecuteTime": {
     "end_time": "2024-07-02T23:37:32.433534Z",
     "start_time": "2024-07-02T23:37:32.306886Z"
    }
   },
   "cell_type": "code",
   "source": [
    "import pandas as pd\n",
    "from sklearn.model_selection import KFold, cross_val_score\n",
    "from sklearn.linear_model import LinearRegression\n",
    "from sklearn.metrics import mean_squared_error, r2_score\n",
    "from joblib import dump\n",
    "\n",
    "# Define the target and features\n",
    "target = '03 Chiller Group_Electric_Active Energy (kWh)'\n",
    "df['heat_index_set_point_diff'] = df['heat_index'] - df['set_point']\n",
    "df['efficiency_adjusted_power'] = df['Chiller Group_Electric_Power Factor (real)(efficiency)']\n",
    "\n",
    "# Calculate the adjusted energy consumption incorporating assumed COP\n",
    "assumed_COP = 3.0  # Assumed value for COP\n",
    "df['adjusted_energy'] = df[target] * df['efficiency_adjusted_power'] * assumed_COP\n",
    "\n",
    "# Known coefficient for num_active_chiller\n",
    "known_coefficient = 39\n",
    "num_active_chiller = df['num_active_chiller']\n",
    "\n",
    "# Adjust the target variable\n",
    "y_adjusted = df['adjusted_energy'] - (known_coefficient * num_active_chiller)\n",
    "\n",
    "# Define the features\n",
    "features = ['heat_index_set_point_diff', 'efficiency_adjusted_power']\n",
    "\n",
    "# Split the data into features (X) and adjusted target (y_adjusted)\n",
    "X = df[features]\n",
    "\n",
    "# Initialize the linear regression model\n",
    "model = LinearRegression()\n",
    "\n",
    "# Perform k-fold cross-validation\n",
    "kfold = KFold(n_splits=5, shuffle=True, random_state=42)\n",
    "cv_results_mse = cross_val_score(model, X, y_adjusted, cv=kfold, scoring='neg_mean_squared_error')\n",
    "cv_results_r2 = cross_val_score(model, X, y_adjusted, cv=kfold, scoring='r2')\n",
    "\n",
    "# Fit the model on the entire dataset\n",
    "model.fit(X, y_adjusted)\n",
    "\n",
    "# Get the intercept and coefficients\n",
    "intercept = model.intercept_\n",
    "coefficients = model.coef_\n",
    "\n",
    "# Save the trained model to a file\n",
    "model_params = {\n",
    "    'intercept': intercept,\n",
    "    'coefficients': coefficients,\n",
    "    'known_coefficient': known_coefficient,\n",
    "    'features': features\n",
    "}\n",
    "model_filename = 'equation_modeling/models/constrained_linear_regression_model.joblib'\n",
    "dump(model_params, model_filename)\n",
    "\n",
    "# Calculate and print performance metrics\n",
    "y_pred_adjusted = model.predict(X)\n",
    "y_pred = y_pred_adjusted + (known_coefficient * num_active_chiller)\n",
    "mse = mean_squared_error(df[target], y_pred)\n",
    "r2 = r2_score(df[target], y_pred)\n",
    "\n",
    "print(f'Mean Squared Error (Cross-Validation): {-cv_results_mse.mean()}')\n",
    "print(f'Standard Deviation (Cross-Validation): {cv_results_mse.std()}')\n",
    "print(f'R^2 Score (Cross-Validation): {cv_results_r2.mean()}')\n",
    "\n",
    "# Optional: Print the coefficients of the model\n",
    "coefficients_df = pd.DataFrame(coefficients, features, columns=['Coefficient'])\n",
    "print(f'Intercept: {intercept}')\n",
    "print(f'Known Coefficient for num_active_chiller: {known_coefficient}')\n",
    "print(coefficients_df)\n",
    "\n",
    "# Function to make predictions using the saved model\n",
    "def predict(X, model_params, num_active_chiller):\n",
    "    intercept = model_params['intercept']\n",
    "    coefficients = model_params['coefficients']\n",
    "    known_coefficient = model_params['known_coefficient']\n",
    "    return intercept + X.dot(coefficients) + known_coefficient * num_active_chiller\n",
    "\n",
    "# Optional: Load the model and make predictions\n",
    "# loaded_model_params = load(model_filename)\n",
    "# predictions = predict(X, loaded_model_params, num_active_chiller)\n",
    "# print(f'Model predictions: {predictions}')"
   ],
   "id": "5fcbd1572a1c467f",
   "outputs": [
    {
     "name": "stdout",
     "output_type": "stream",
     "text": [
      "Mean Squared Error (Cross-Validation): 7527.3089418538\n",
      "Standard Deviation (Cross-Validation): 262.398781379355\n",
      "R^2 Score (Cross-Validation): 0.21298445668303484\n",
      "Intercept: -25.265637588263914\n",
      "Known Coefficient for num_active_chiller: 39\n",
      "                           Coefficient\n",
      "heat_index_set_point_diff    -3.683991\n",
      "efficiency_adjusted_power    39.397205\n"
     ]
    }
   ],
   "execution_count": 38
  },
  {
   "metadata": {
    "ExecuteTime": {
     "end_time": "2024-07-02T23:39:04.111450Z",
     "start_time": "2024-07-02T23:39:04.051566Z"
    }
   },
   "cell_type": "code",
   "source": [
    "import pandas as pd\n",
    "from sklearn.model_selection import KFold, cross_val_score\n",
    "from sklearn.linear_model import LinearRegression\n",
    "from sklearn.metrics import mean_squared_error, r2_score\n",
    "from joblib import dump\n",
    "\n",
    "# Define the target and features\n",
    "target = '03 Chiller Group_Electric_Active Energy (kWh)'\n",
    "df['heat_index_set_point_diff'] = df['heat_index'] - df['set_point']\n",
    "df['efficiency_adjusted_power'] = df['Chiller Group_Electric_Power Factor (real)(efficiency)']\n",
    "\n",
    "# Calculate the adjusted energy consumption incorporating assumed COP\n",
    "assumed_COP = 3.0  # Assumed value for COP\n",
    "df['adjusted_energy'] = df[target] * df['efficiency_adjusted_power'] * assumed_COP\n",
    "\n",
    "# Define the features\n",
    "features = ['heat_index_set_point_diff', 'efficiency_adjusted_power', 'num_active_chiller']\n",
    "\n",
    "# Split the data into features (X) and target (y)\n",
    "X = df[features]\n",
    "y = df['adjusted_energy']\n",
    "\n",
    "# Initialize the linear regression model\n",
    "model = LinearRegression()\n",
    "\n",
    "# Perform k-fold cross-validation\n",
    "kfold = KFold(n_splits=5, shuffle=True, random_state=42)\n",
    "cv_results_mse = cross_val_score(model, X, y, cv=kfold, scoring='neg_mean_squared_error')\n",
    "cv_results_r2 = cross_val_score(model, X, y, cv=kfold, scoring='r2')\n",
    "\n",
    "# Fit the model on the entire dataset\n",
    "model.fit(X, y)\n",
    "\n",
    "# Get the intercept and coefficients\n",
    "intercept = model.intercept_\n",
    "coefficients = model.coef_\n",
    "\n",
    "# Save the trained model to a file\n",
    "model_params = {\n",
    "    'intercept': intercept,\n",
    "    'coefficients': coefficients,\n",
    "    'features': features\n",
    "}\n",
    "model_filename = 'equation_modeling/models/constrained_linear_regression_model.joblib'\n",
    "dump(model_params, model_filename)\n",
    "\n",
    "# Calculate and print performance metrics\n",
    "y_pred = model.predict(X)\n",
    "mse = mean_squared_error(y, y_pred)\n",
    "r2 = r2_score(y, y_pred)\n",
    "\n",
    "print(f'Mean Squared Error (Cross-Validation): {-cv_results_mse.mean()}')\n",
    "print(f'Standard Deviation (Cross-Validation): {cv_results_mse.std()}')\n",
    "print(f'R^2 Score (Cross-Validation): {cv_results_r2.mean()}')\n",
    "\n",
    "# Optional: Print the coefficients of the model\n",
    "coefficients_df = pd.DataFrame(coefficients, features, columns=['Coefficient'])\n",
    "print(f'Intercept: {intercept}')\n",
    "print(coefficients_df)\n",
    "\n",
    "# Function to make predictions using the saved model\n",
    "def predict(X, model_params):\n",
    "    intercept = model_params['intercept']\n",
    "    coefficients = model_params['coefficients']\n",
    "    return intercept + X.dot(coefficients)\n",
    "\n",
    "# Optional: Load the model and make predictions\n",
    "# loaded_model_params = load(model_filename)\n",
    "# predictions = predict(X, loaded_model_params)\n",
    "# print(f'Model predictions: {predictions}')"
   ],
   "id": "9db389b6071551e7",
   "outputs": [
    {
     "name": "stdout",
     "output_type": "stream",
     "text": [
      "Mean Squared Error (Cross-Validation): 5267.588711769505\n",
      "Standard Deviation (Cross-Validation): 207.1512542532173\n",
      "R^2 Score (Cross-Validation): 0.507894252348674\n",
      "Intercept: 55.85081993516833\n",
      "                           Coefficient\n",
      "heat_index_set_point_diff     7.018069\n",
      "efficiency_adjusted_power    59.500208\n",
      "num_active_chiller            2.760977\n"
     ]
    }
   ],
   "execution_count": 39
  },
  {
   "metadata": {},
   "cell_type": "code",
   "source": "data['Chiller Set point'].value_counts()",
   "id": "5cf6301c0e965b57",
   "outputs": [],
   "execution_count": null
  },
  {
   "metadata": {},
   "cell_type": "code",
   "source": "data['number_active_chillers'].value_counts()",
   "id": "a9b07bb5f9bdef6",
   "outputs": [],
   "execution_count": null
  },
  {
   "metadata": {},
   "cell_type": "markdown",
   "source": [
    "# Equations\n",
    "\n",
    "\t1.\tTotal Consumption (total_consumption_chiller_group):\n",
    "\n",
    "\\text{total_consumption_chiller_group} = \\beta_1 \\cdot \\text{number_active_chillers} + \\beta_2 \\cdot \\text{outdoor_temp} + \\beta_3 \\cdot \\text{outdoor_humidity} + \\beta_4 \\cdot \\text{Chiller Set point} + \\beta_5 \\cdot \\text{Chiller Efficiency}\n",
    "\n",
    "\t2.\tChiller Set Point (chiller_set_point):\n",
    "\n",
    "\\text{chiller_set_point} = \\gamma_1 \\cdot \\text{number_active_chillers} + \\gamma_2 \\cdot \\text{outdoor_temp} + \\gamma_3 \\cdot \\text{outdoor_humidity} + \\gamma_4 \\cdot \\text{Chiller Efficiency}\n",
    "\n",
    "\t3.\tNumber of Active Chillers (number_active_chillers):\n",
    "\n",
    "\\text{number_active_chillers} = \\delta_1 \\cdot \\text{outdoor_temp} + \\delta_2 \\cdot \\text{outdoor_humidity} + \\delta_3 \\cdot \\text{Chiller Efficiency}\n",
    "\n"
   ],
   "id": "78efbd5c376550e1"
  },
  {
   "metadata": {},
   "cell_type": "code",
   "source": [
    "from pyomo.environ import ConcreteModel, Var, Objective, Constraint, SolverFactory, NonNegativeReals\n",
    "\n",
    "# Initialize the Pyomo model\n",
    "model = ConcreteModel()\n",
    "\n",
    "# Define the variables\n",
    "model.number_active_chillers = Var(within=NonNegativeReals)\n",
    "model.chiller_set_point = Var(within=NonNegativeReals)\n",
    "model.total_consumption_chiller_group = Var(within=NonNegativeReals)\n",
    "\n",
    "# Define the parameters (coefficients from the regression models)\n",
    "beta1, beta2, beta3, beta4, beta5 = 1.2, 0.8, 0.5, 1.0, 0.9\n",
    "gamma1, gamma2, gamma3, gamma4 = 0.6, 0.3, 0.2, 0.4\n",
    "delta1, delta2, delta3 = 0.5, 0.3, 0.2\n",
    "\n",
    "# Define the constants (example values, replace with actual data or parameters as needed)\n",
    "outdoor_temp = 15.97\n",
    "outdoor_humidity = 0.37\n",
    "chiller_efficiency = 0.775\n",
    "\n",
    "# Define the constraints\n",
    "model.total_consumption_constraint = Constraint(\n",
    "    expr = model.total_consumption_chiller_group == \n",
    "           beta1 * model.number_active_chillers +\n",
    "           beta2 * outdoor_temp +\n",
    "           beta3 * outdoor_humidity +\n",
    "           beta4 * model.chiller_set_point +\n",
    "           beta5 * chiller_efficiency\n",
    ")\n",
    "\n",
    "model.chiller_set_point_constraint = Constraint(\n",
    "    expr = model.chiller_set_point == \n",
    "           gamma1 * model.number_active_chillers +\n",
    "           gamma2 * outdoor_temp +\n",
    "           gamma3 * outdoor_humidity +\n",
    "           gamma4 * chiller_efficiency\n",
    ")\n",
    "\n",
    "model.number_active_chillers_constraint = Constraint(\n",
    "    expr = model.number_active_chillers == \n",
    "           delta1 * outdoor_temp +\n",
    "           delta2 * outdoor_humidity +\n",
    "           delta3 * chiller_efficiency\n",
    ")\n",
    "\n",
    "# Define the objective function (example, can be changed based on actual requirements)\n",
    "model.obj = Objective(expr=model.total_consumption_chiller_group, sense=1)\n",
    "\n",
    "# Solve the model\n",
    "solver = SolverFactory('glpk')\n",
    "result = solver.solve(model)\n",
    "\n",
    "# Display the results\n",
    "print(f'Number of Active Chillers: {model.number_active_chillers.value}')\n",
    "print(f'Chiller Set Point: {model.chiller_set_point.value}')\n",
    "print(f'Total Consumption Chiller Group: {model.total_consumption_chiller_group.value}')"
   ],
   "id": "573d53aef6b0827f",
   "outputs": [],
   "execution_count": null
  }
 ],
 "metadata": {
  "kernelspec": {
   "display_name": "Python 3",
   "language": "python",
   "name": "python3"
  },
  "language_info": {
   "codemirror_mode": {
    "name": "ipython",
    "version": 2
   },
   "file_extension": ".py",
   "mimetype": "text/x-python",
   "name": "python",
   "nbconvert_exporter": "python",
   "pygments_lexer": "ipython2",
   "version": "2.7.6"
  }
 },
 "nbformat": 4,
 "nbformat_minor": 5
}
