{
 "cells": [
  {
   "cell_type": "code",
   "id": "initial_id",
   "metadata": {
    "collapsed": true,
    "ExecuteTime": {
     "end_time": "2024-07-07T16:52:30.982239Z",
     "start_time": "2024-07-07T16:52:30.973950Z"
    }
   },
   "source": "cd ..",
   "outputs": [
    {
     "name": "stdout",
     "output_type": "stream",
     "text": [
      "/Users/johanbarreiro/Documents/GitHub/vl_optimizer/equation_modeling\n"
     ]
    }
   ],
   "execution_count": 4
  },
  {
   "metadata": {
    "ExecuteTime": {
     "end_time": "2024-07-07T16:52:30.990343Z",
     "start_time": "2024-07-07T16:52:30.987726Z"
    }
   },
   "cell_type": "code",
   "source": "cd ..",
   "id": "da2a849515550765",
   "outputs": [
    {
     "name": "stdout",
     "output_type": "stream",
     "text": [
      "/Users/johanbarreiro/Documents/GitHub/vl_optimizer\n"
     ]
    }
   ],
   "execution_count": 5
  },
  {
   "metadata": {
    "ExecuteTime": {
     "end_time": "2024-07-07T16:52:30.998223Z",
     "start_time": "2024-07-07T16:52:30.996191Z"
    }
   },
   "cell_type": "code",
   "source": "import pandas as pd",
   "id": "659ff54c03d56699",
   "outputs": [],
   "execution_count": 6
  },
  {
   "metadata": {},
   "cell_type": "markdown",
   "source": [
    "# Chiller Group\n",
    "\n",
    "total_consumption_chiller_group = β1*number_active_chillers + β2*outdoor_temperature + β3*outdoor_humidity + β4*Chiller Set point + β5*Chiller Efficiency"
   ],
   "id": "a551af9656b6c915"
  },
  {
   "metadata": {
    "ExecuteTime": {
     "end_time": "2024-07-07T16:52:31.050156Z",
     "start_time": "2024-07-07T16:52:30.999331Z"
    }
   },
   "cell_type": "code",
   "source": "df = pd.read_csv('data/processed_data/industrial_sites_processed/2024-07-07T16-56-34_industrial_site2_processed.csv')",
   "id": "4aefc70d5d8a9f8c",
   "outputs": [],
   "execution_count": 7
  },
  {
   "metadata": {
    "ExecuteTime": {
     "end_time": "2024-07-07T16:52:31.055693Z",
     "start_time": "2024-07-07T16:52:31.051475Z"
    }
   },
   "cell_type": "code",
   "source": "df.columns",
   "id": "8d187c1bb1a6c9e0",
   "outputs": [
    {
     "data": {
      "text/plain": [
       "Index(['Time', '02 Production_Electric_Active Energy (kWh)',\n",
       "       '02 Production_Electric_Active Power (kW)',\n",
       "       '02 Production_Electric_Apparent Power (kVa)',\n",
       "       '02 Production_Electric_Power Factor (real)',\n",
       "       '03 Chiller Group_Electric_Active Energy (kWh)',\n",
       "       '03 Chiller Group_Electric_Active Power (kW)',\n",
       "       '03 Chiller Group_Electric_Apparent Power (kVa)',\n",
       "       '03 Chiller Group_Electric_Power Factor (real)',\n",
       "       '04 UTA_Electric_Active Energy (kWh)',\n",
       "       '04 UTA_Electric_Active Power (kW)',\n",
       "       '04 UTA_Electric_Apparent Power (kVa)',\n",
       "       '04 UTA_Electric_Power Factor (real)',\n",
       "       '05 Compressors_Electric_Active Energy (kWh)',\n",
       "       '05 Compressors_Electric_Active Power (kW)',\n",
       "       '05 Compressors_Electric_Apparent Power (kVa)',\n",
       "       '05 Compressors_Electric_Power Factor (real)',\n",
       "       '06 Offices_Electric_Active Energy (kWh)',\n",
       "       '06 Offices_Electric_Active Power (kW)',\n",
       "       '06 Offices_Electric_Apparent Power (kVa)',\n",
       "       '06 Offices_Electric_Power Factor (real)',\n",
       "       '07 Data Center_Electric_Active Energy (kWh)',\n",
       "       '07 Data Center_Electric_Active Power (kW)',\n",
       "       '07 Data Center_Electric_Apparent Power (kVa)',\n",
       "       '07 Data Center_Electric_Power Factor (real)',\n",
       "       '08 Technological Centers_Electric_Active Energy (kWh)',\n",
       "       '08 Technological Centers_Electric_Active Power (kW)',\n",
       "       '08 Technological Centers_Electric_Apparent Power (kVa)',\n",
       "       '08 Technological Centers_Electric_Power Factor (real)', 'sum_of_kWh',\n",
       "       'DataFrame Name', 'is_weekend', 'hour_sin', 'hour_cos',\n",
       "       'day_of_month_sin', 'day_of_month_cos', 'month_sin', 'month_cos',\n",
       "       'day_of_week_sin', 'day_of_week_cos', 'price_mWh', 'energy_cost',\n",
       "       'temp', 'humidity', 'precip', 'windspeed', 'uvindex', 'conditions',\n",
       "       'heat_index'],\n",
       "      dtype='object')"
      ]
     },
     "execution_count": 8,
     "metadata": {},
     "output_type": "execute_result"
    }
   ],
   "execution_count": 8
  },
  {
   "metadata": {
    "ExecuteTime": {
     "end_time": "2024-07-07T16:52:31.060203Z",
     "start_time": "2024-07-07T16:52:31.056463Z"
    }
   },
   "cell_type": "code",
   "source": [
    "columns_to_include = ['Time', '03 Chiller Group_Electric_Active Energy (kWh)', 'temp', 'humidity', 'heat_index', '03 Chiller Group_Electric_Power Factor (real)']\n",
    "\n",
    "df_for_synthesis = df[columns_to_include]\n",
    "\n",
    "df_for_synthesis.columns"
   ],
   "id": "3b2424b2fd9c4780",
   "outputs": [
    {
     "data": {
      "text/plain": [
       "Index(['Time', '03 Chiller Group_Electric_Active Energy (kWh)', 'temp',\n",
       "       'humidity', 'heat_index',\n",
       "       '03 Chiller Group_Electric_Power Factor (real)'],\n",
       "      dtype='object')"
      ]
     },
     "execution_count": 9,
     "metadata": {},
     "output_type": "execute_result"
    }
   ],
   "execution_count": 9
  },
  {
   "metadata": {
    "ExecuteTime": {
     "end_time": "2024-07-07T16:52:31.064510Z",
     "start_time": "2024-07-07T16:52:31.061560Z"
    }
   },
   "cell_type": "code",
   "source": "df_for_synthesis = df_for_synthesis.rename(columns={'temp': 'outdoor_temp', 'humidity': 'outdoor_humidity', '03 Chiller Group_Electric_Power Factor (real)': 'Chiller Group_Electric_Power Factor (real)(efficiency)'})",
   "id": "b1c65cbf3879c6",
   "outputs": [],
   "execution_count": 10
  },
  {
   "metadata": {
    "ExecuteTime": {
     "end_time": "2024-07-07T16:52:31.073362Z",
     "start_time": "2024-07-07T16:52:31.065134Z"
    }
   },
   "cell_type": "code",
   "source": "df_for_synthesis.head()",
   "id": "e167ce90927b2cc0",
   "outputs": [
    {
     "data": {
      "text/plain": [
       "                  Time  03 Chiller Group_Electric_Active Energy (kWh)  \\\n",
       "0  2022-07-01 00:00:00                                         195.50   \n",
       "1  2022-07-01 01:00:00                                         195.25   \n",
       "2  2022-07-01 02:00:00                                         162.25   \n",
       "3  2022-07-01 03:00:00                                         157.50   \n",
       "4  2022-07-01 04:00:00                                         158.25   \n",
       "\n",
       "   outdoor_temp  outdoor_humidity  heat_index  \\\n",
       "0         15.97              0.37       15.97   \n",
       "1         15.10              0.37       15.10   \n",
       "2         14.80              0.38       14.80   \n",
       "3         15.10              0.38       15.10   \n",
       "4         15.97              0.38       15.97   \n",
       "\n",
       "   Chiller Group_Electric_Power Factor (real)(efficiency)  \n",
       "0                                            0.78375       \n",
       "1                                            0.77975       \n",
       "2                                            0.79450       \n",
       "3                                            0.78075       \n",
       "4                                            0.78475       "
      ],
      "text/html": [
       "<div>\n",
       "<style scoped>\n",
       "    .dataframe tbody tr th:only-of-type {\n",
       "        vertical-align: middle;\n",
       "    }\n",
       "\n",
       "    .dataframe tbody tr th {\n",
       "        vertical-align: top;\n",
       "    }\n",
       "\n",
       "    .dataframe thead th {\n",
       "        text-align: right;\n",
       "    }\n",
       "</style>\n",
       "<table border=\"1\" class=\"dataframe\">\n",
       "  <thead>\n",
       "    <tr style=\"text-align: right;\">\n",
       "      <th></th>\n",
       "      <th>Time</th>\n",
       "      <th>03 Chiller Group_Electric_Active Energy (kWh)</th>\n",
       "      <th>outdoor_temp</th>\n",
       "      <th>outdoor_humidity</th>\n",
       "      <th>heat_index</th>\n",
       "      <th>Chiller Group_Electric_Power Factor (real)(efficiency)</th>\n",
       "    </tr>\n",
       "  </thead>\n",
       "  <tbody>\n",
       "    <tr>\n",
       "      <th>0</th>\n",
       "      <td>2022-07-01 00:00:00</td>\n",
       "      <td>195.50</td>\n",
       "      <td>15.97</td>\n",
       "      <td>0.37</td>\n",
       "      <td>15.97</td>\n",
       "      <td>0.78375</td>\n",
       "    </tr>\n",
       "    <tr>\n",
       "      <th>1</th>\n",
       "      <td>2022-07-01 01:00:00</td>\n",
       "      <td>195.25</td>\n",
       "      <td>15.10</td>\n",
       "      <td>0.37</td>\n",
       "      <td>15.10</td>\n",
       "      <td>0.77975</td>\n",
       "    </tr>\n",
       "    <tr>\n",
       "      <th>2</th>\n",
       "      <td>2022-07-01 02:00:00</td>\n",
       "      <td>162.25</td>\n",
       "      <td>14.80</td>\n",
       "      <td>0.38</td>\n",
       "      <td>14.80</td>\n",
       "      <td>0.79450</td>\n",
       "    </tr>\n",
       "    <tr>\n",
       "      <th>3</th>\n",
       "      <td>2022-07-01 03:00:00</td>\n",
       "      <td>157.50</td>\n",
       "      <td>15.10</td>\n",
       "      <td>0.38</td>\n",
       "      <td>15.10</td>\n",
       "      <td>0.78075</td>\n",
       "    </tr>\n",
       "    <tr>\n",
       "      <th>4</th>\n",
       "      <td>2022-07-01 04:00:00</td>\n",
       "      <td>158.25</td>\n",
       "      <td>15.97</td>\n",
       "      <td>0.38</td>\n",
       "      <td>15.97</td>\n",
       "      <td>0.78475</td>\n",
       "    </tr>\n",
       "  </tbody>\n",
       "</table>\n",
       "</div>"
      ]
     },
     "execution_count": 11,
     "metadata": {},
     "output_type": "execute_result"
    }
   ],
   "execution_count": 11
  },
  {
   "metadata": {
    "ExecuteTime": {
     "end_time": "2024-07-07T16:52:31.102603Z",
     "start_time": "2024-07-07T16:52:31.073926Z"
    }
   },
   "cell_type": "code",
   "source": "df_for_synthesis.to_csv('data/target_variables/target_chiller_group.csv')",
   "id": "a7c60af302dc7f6b",
   "outputs": [],
   "execution_count": 12
  },
  {
   "metadata": {
    "ExecuteTime": {
     "end_time": "2024-07-07T16:52:31.104991Z",
     "start_time": "2024-07-07T16:52:31.103382Z"
    }
   },
   "cell_type": "code",
   "source": "",
   "id": "3f8f24805a514f0b",
   "outputs": [],
   "execution_count": 12
  },
  {
   "metadata": {
    "ExecuteTime": {
     "end_time": "2024-07-07T16:52:31.112990Z",
     "start_time": "2024-07-07T16:52:31.105669Z"
    }
   },
   "cell_type": "code",
   "source": [
    "file_path = 'data/target_variables/target_chiller_group.csv'\n",
    "data = pd.read_csv(file_path)\n",
    "data.columns"
   ],
   "id": "8a5581f37d12f8c5",
   "outputs": [
    {
     "data": {
      "text/plain": [
       "Index(['Unnamed: 0', 'Time', '03 Chiller Group_Electric_Active Energy (kWh)',\n",
       "       'outdoor_temp', 'outdoor_humidity', 'heat_index',\n",
       "       'Chiller Group_Electric_Power Factor (real)(efficiency)'],\n",
       "      dtype='object')"
      ]
     },
     "execution_count": 13,
     "metadata": {},
     "output_type": "execute_result"
    }
   ],
   "execution_count": 13
  },
  {
   "metadata": {
    "ExecuteTime": {
     "end_time": "2024-07-07T16:52:31.115104Z",
     "start_time": "2024-07-07T16:52:31.113742Z"
    }
   },
   "cell_type": "code",
   "source": "",
   "id": "82c5265d358a59f0",
   "outputs": [],
   "execution_count": 13
  },
  {
   "metadata": {
    "ExecuteTime": {
     "end_time": "2024-07-07T16:52:31.574597Z",
     "start_time": "2024-07-07T16:52:31.116772Z"
    }
   },
   "cell_type": "code",
   "source": [
    "import numpy as np\n",
    "import pandas as pd\n",
    "\n",
    "# Define the function to calculate chiller settings\n",
    "def calculate_chiller_settings(heat_index):\n",
    "    # Calculate chiller set point\n",
    "    if heat_index < 18:\n",
    "        set_point = 18\n",
    "    elif heat_index > 40:\n",
    "        set_point = 25\n",
    "    else:\n",
    "        set_point = round(18 + (heat_index - 18) * (7 / (40 - 18)))\n",
    "    \n",
    "    # Calculate number of active chillers\n",
    "    if heat_index < 18:\n",
    "        active_chillers = 0\n",
    "    else:\n",
    "        # Simple model: the number of chillers increases with heat_index\n",
    "        # This is a simplistic linear relationship for demonstration purposes\n",
    "        heat_index_factor = (heat_index - 18) / (40 - 18)\n",
    "        active_chillers = int(np.ceil(heat_index_factor * 10))  # Example scale factor, adjust as needed\n",
    "        \n",
    "    return set_point, active_chillers\n",
    "\n",
    "# Assuming your existing DataFrame is named df and has columns 'outdoor_temp' and 'humidity'\n",
    "# Apply the function to each row in the DataFrame\n",
    "data[['set_point', 'num_active_chiller']] = data.apply(\n",
    "    lambda row: pd.Series(calculate_chiller_settings(row['heat_index'])),\n",
    "    axis=1\n",
    ")\n",
    "\n",
    "data.head()"
   ],
   "id": "158216d24c2147b4",
   "outputs": [
    {
     "data": {
      "text/plain": [
       "   Unnamed: 0                 Time  \\\n",
       "0           0  2022-07-01 00:00:00   \n",
       "1           1  2022-07-01 01:00:00   \n",
       "2           2  2022-07-01 02:00:00   \n",
       "3           3  2022-07-01 03:00:00   \n",
       "4           4  2022-07-01 04:00:00   \n",
       "\n",
       "   03 Chiller Group_Electric_Active Energy (kWh)  outdoor_temp  \\\n",
       "0                                         195.50         15.97   \n",
       "1                                         195.25         15.10   \n",
       "2                                         162.25         14.80   \n",
       "3                                         157.50         15.10   \n",
       "4                                         158.25         15.97   \n",
       "\n",
       "   outdoor_humidity  heat_index  \\\n",
       "0              0.37       15.97   \n",
       "1              0.37       15.10   \n",
       "2              0.38       14.80   \n",
       "3              0.38       15.10   \n",
       "4              0.38       15.97   \n",
       "\n",
       "   Chiller Group_Electric_Power Factor (real)(efficiency)  set_point  \\\n",
       "0                                            0.78375              18   \n",
       "1                                            0.77975              18   \n",
       "2                                            0.79450              18   \n",
       "3                                            0.78075              18   \n",
       "4                                            0.78475              18   \n",
       "\n",
       "   num_active_chiller  \n",
       "0                   0  \n",
       "1                   0  \n",
       "2                   0  \n",
       "3                   0  \n",
       "4                   0  "
      ],
      "text/html": [
       "<div>\n",
       "<style scoped>\n",
       "    .dataframe tbody tr th:only-of-type {\n",
       "        vertical-align: middle;\n",
       "    }\n",
       "\n",
       "    .dataframe tbody tr th {\n",
       "        vertical-align: top;\n",
       "    }\n",
       "\n",
       "    .dataframe thead th {\n",
       "        text-align: right;\n",
       "    }\n",
       "</style>\n",
       "<table border=\"1\" class=\"dataframe\">\n",
       "  <thead>\n",
       "    <tr style=\"text-align: right;\">\n",
       "      <th></th>\n",
       "      <th>Unnamed: 0</th>\n",
       "      <th>Time</th>\n",
       "      <th>03 Chiller Group_Electric_Active Energy (kWh)</th>\n",
       "      <th>outdoor_temp</th>\n",
       "      <th>outdoor_humidity</th>\n",
       "      <th>heat_index</th>\n",
       "      <th>Chiller Group_Electric_Power Factor (real)(efficiency)</th>\n",
       "      <th>set_point</th>\n",
       "      <th>num_active_chiller</th>\n",
       "    </tr>\n",
       "  </thead>\n",
       "  <tbody>\n",
       "    <tr>\n",
       "      <th>0</th>\n",
       "      <td>0</td>\n",
       "      <td>2022-07-01 00:00:00</td>\n",
       "      <td>195.50</td>\n",
       "      <td>15.97</td>\n",
       "      <td>0.37</td>\n",
       "      <td>15.97</td>\n",
       "      <td>0.78375</td>\n",
       "      <td>18</td>\n",
       "      <td>0</td>\n",
       "    </tr>\n",
       "    <tr>\n",
       "      <th>1</th>\n",
       "      <td>1</td>\n",
       "      <td>2022-07-01 01:00:00</td>\n",
       "      <td>195.25</td>\n",
       "      <td>15.10</td>\n",
       "      <td>0.37</td>\n",
       "      <td>15.10</td>\n",
       "      <td>0.77975</td>\n",
       "      <td>18</td>\n",
       "      <td>0</td>\n",
       "    </tr>\n",
       "    <tr>\n",
       "      <th>2</th>\n",
       "      <td>2</td>\n",
       "      <td>2022-07-01 02:00:00</td>\n",
       "      <td>162.25</td>\n",
       "      <td>14.80</td>\n",
       "      <td>0.38</td>\n",
       "      <td>14.80</td>\n",
       "      <td>0.79450</td>\n",
       "      <td>18</td>\n",
       "      <td>0</td>\n",
       "    </tr>\n",
       "    <tr>\n",
       "      <th>3</th>\n",
       "      <td>3</td>\n",
       "      <td>2022-07-01 03:00:00</td>\n",
       "      <td>157.50</td>\n",
       "      <td>15.10</td>\n",
       "      <td>0.38</td>\n",
       "      <td>15.10</td>\n",
       "      <td>0.78075</td>\n",
       "      <td>18</td>\n",
       "      <td>0</td>\n",
       "    </tr>\n",
       "    <tr>\n",
       "      <th>4</th>\n",
       "      <td>4</td>\n",
       "      <td>2022-07-01 04:00:00</td>\n",
       "      <td>158.25</td>\n",
       "      <td>15.97</td>\n",
       "      <td>0.38</td>\n",
       "      <td>15.97</td>\n",
       "      <td>0.78475</td>\n",
       "      <td>18</td>\n",
       "      <td>0</td>\n",
       "    </tr>\n",
       "  </tbody>\n",
       "</table>\n",
       "</div>"
      ]
     },
     "execution_count": 14,
     "metadata": {},
     "output_type": "execute_result"
    }
   ],
   "execution_count": 14
  },
  {
   "metadata": {
    "ExecuteTime": {
     "end_time": "2024-07-07T16:52:31.578052Z",
     "start_time": "2024-07-07T16:52:31.575932Z"
    }
   },
   "cell_type": "code",
   "source": [
    "\n",
    "\n",
    "# data.drop('Unnamed: 0')\n",
    "# Ensure your DataFrame 'df' has the necessary columns\n",
    "# Assuming df already has 'outdoor_temp', 'outdoor_humidity', 'set_point', and 'num_active_chiller' columns\n",
    "\n"
   ],
   "id": "c36ccc00d65124df",
   "outputs": [],
   "execution_count": 15
  },
  {
   "metadata": {
    "ExecuteTime": {
     "end_time": "2024-07-07T16:52:34.397671Z",
     "start_time": "2024-07-07T16:52:34.392506Z"
    }
   },
   "cell_type": "code",
   "source": "data.head()",
   "id": "7b138be485744a91",
   "outputs": [
    {
     "data": {
      "text/plain": [
       "   Unnamed: 0                 Time  \\\n",
       "0           0  2022-07-01 00:00:00   \n",
       "1           1  2022-07-01 01:00:00   \n",
       "2           2  2022-07-01 02:00:00   \n",
       "3           3  2022-07-01 03:00:00   \n",
       "4           4  2022-07-01 04:00:00   \n",
       "\n",
       "   03 Chiller Group_Electric_Active Energy (kWh)  outdoor_temp  \\\n",
       "0                                         195.50         15.97   \n",
       "1                                         195.25         15.10   \n",
       "2                                         162.25         14.80   \n",
       "3                                         157.50         15.10   \n",
       "4                                         158.25         15.97   \n",
       "\n",
       "   outdoor_humidity  heat_index  \\\n",
       "0              0.37       15.97   \n",
       "1              0.37       15.10   \n",
       "2              0.38       14.80   \n",
       "3              0.38       15.10   \n",
       "4              0.38       15.97   \n",
       "\n",
       "   Chiller Group_Electric_Power Factor (real)(efficiency)  set_point  \\\n",
       "0                                            0.78375              18   \n",
       "1                                            0.77975              18   \n",
       "2                                            0.79450              18   \n",
       "3                                            0.78075              18   \n",
       "4                                            0.78475              18   \n",
       "\n",
       "   num_active_chiller  \n",
       "0                   0  \n",
       "1                   0  \n",
       "2                   0  \n",
       "3                   0  \n",
       "4                   0  "
      ],
      "text/html": [
       "<div>\n",
       "<style scoped>\n",
       "    .dataframe tbody tr th:only-of-type {\n",
       "        vertical-align: middle;\n",
       "    }\n",
       "\n",
       "    .dataframe tbody tr th {\n",
       "        vertical-align: top;\n",
       "    }\n",
       "\n",
       "    .dataframe thead th {\n",
       "        text-align: right;\n",
       "    }\n",
       "</style>\n",
       "<table border=\"1\" class=\"dataframe\">\n",
       "  <thead>\n",
       "    <tr style=\"text-align: right;\">\n",
       "      <th></th>\n",
       "      <th>Unnamed: 0</th>\n",
       "      <th>Time</th>\n",
       "      <th>03 Chiller Group_Electric_Active Energy (kWh)</th>\n",
       "      <th>outdoor_temp</th>\n",
       "      <th>outdoor_humidity</th>\n",
       "      <th>heat_index</th>\n",
       "      <th>Chiller Group_Electric_Power Factor (real)(efficiency)</th>\n",
       "      <th>set_point</th>\n",
       "      <th>num_active_chiller</th>\n",
       "    </tr>\n",
       "  </thead>\n",
       "  <tbody>\n",
       "    <tr>\n",
       "      <th>0</th>\n",
       "      <td>0</td>\n",
       "      <td>2022-07-01 00:00:00</td>\n",
       "      <td>195.50</td>\n",
       "      <td>15.97</td>\n",
       "      <td>0.37</td>\n",
       "      <td>15.97</td>\n",
       "      <td>0.78375</td>\n",
       "      <td>18</td>\n",
       "      <td>0</td>\n",
       "    </tr>\n",
       "    <tr>\n",
       "      <th>1</th>\n",
       "      <td>1</td>\n",
       "      <td>2022-07-01 01:00:00</td>\n",
       "      <td>195.25</td>\n",
       "      <td>15.10</td>\n",
       "      <td>0.37</td>\n",
       "      <td>15.10</td>\n",
       "      <td>0.77975</td>\n",
       "      <td>18</td>\n",
       "      <td>0</td>\n",
       "    </tr>\n",
       "    <tr>\n",
       "      <th>2</th>\n",
       "      <td>2</td>\n",
       "      <td>2022-07-01 02:00:00</td>\n",
       "      <td>162.25</td>\n",
       "      <td>14.80</td>\n",
       "      <td>0.38</td>\n",
       "      <td>14.80</td>\n",
       "      <td>0.79450</td>\n",
       "      <td>18</td>\n",
       "      <td>0</td>\n",
       "    </tr>\n",
       "    <tr>\n",
       "      <th>3</th>\n",
       "      <td>3</td>\n",
       "      <td>2022-07-01 03:00:00</td>\n",
       "      <td>157.50</td>\n",
       "      <td>15.10</td>\n",
       "      <td>0.38</td>\n",
       "      <td>15.10</td>\n",
       "      <td>0.78075</td>\n",
       "      <td>18</td>\n",
       "      <td>0</td>\n",
       "    </tr>\n",
       "    <tr>\n",
       "      <th>4</th>\n",
       "      <td>4</td>\n",
       "      <td>2022-07-01 04:00:00</td>\n",
       "      <td>158.25</td>\n",
       "      <td>15.97</td>\n",
       "      <td>0.38</td>\n",
       "      <td>15.97</td>\n",
       "      <td>0.78475</td>\n",
       "      <td>18</td>\n",
       "      <td>0</td>\n",
       "    </tr>\n",
       "  </tbody>\n",
       "</table>\n",
       "</div>"
      ]
     },
     "execution_count": 16,
     "metadata": {},
     "output_type": "execute_result"
    }
   ],
   "execution_count": 16
  },
  {
   "metadata": {
    "ExecuteTime": {
     "end_time": "2024-07-07T16:52:51.828107Z",
     "start_time": "2024-07-07T16:52:51.808179Z"
    }
   },
   "cell_type": "code",
   "source": "data = data.drop(columns=['Unnamed: 0'])",
   "id": "c06e1e6194909fe4",
   "outputs": [],
   "execution_count": 17
  },
  {
   "metadata": {
    "ExecuteTime": {
     "end_time": "2024-07-07T16:52:53.524075Z",
     "start_time": "2024-07-07T16:52:53.500349Z"
    }
   },
   "cell_type": "code",
   "source": "data.to_csv('data/synthesized_data/chiller_group_synthesized.csv', index=False)",
   "id": "345212a9ba2474b1",
   "outputs": [],
   "execution_count": 18
  },
  {
   "metadata": {},
   "cell_type": "code",
   "outputs": [],
   "execution_count": null,
   "source": "",
   "id": "d7921be59ecab3da"
  }
 ],
 "metadata": {
  "kernelspec": {
   "display_name": "Python 3",
   "language": "python",
   "name": "python3"
  },
  "language_info": {
   "codemirror_mode": {
    "name": "ipython",
    "version": 2
   },
   "file_extension": ".py",
   "mimetype": "text/x-python",
   "name": "python",
   "nbconvert_exporter": "python",
   "pygments_lexer": "ipython2",
   "version": "2.7.6"
  }
 },
 "nbformat": 4,
 "nbformat_minor": 5
}
