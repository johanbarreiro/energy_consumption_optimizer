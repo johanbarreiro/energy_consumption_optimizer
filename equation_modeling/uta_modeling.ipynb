{
 "cells": [
  {
   "cell_type": "markdown",
   "id": "52783089",
   "metadata": {},
   "source": [
    "# 04 UTA_Electric_Active Energy (kWh)"
   ]
  },
  {
   "cell_type": "code",
   "execution_count": 19,
   "id": "8799c7ee",
   "metadata": {},
   "outputs": [],
   "source": [
    "import pandas as pd"
   ]
  },
  {
   "cell_type": "code",
   "execution_count": 22,
   "id": "1a8fc21b",
   "metadata": {},
   "outputs": [
    {
     "name": "stdout",
     "output_type": "stream",
     "text": [
      "c:\\Users\\Usuario\\OneDrive\\Documents\\IE\n"
     ]
    }
   ],
   "source": [
    "cd .."
   ]
  },
  {
   "cell_type": "markdown",
   "id": "62fdf534",
   "metadata": {},
   "source": [
    "## Definition of the constrain equation\n",
    "\n",
    "This formula allows you to manage the UTA’s energy consumption by adjusting settings while considering operational and material constraints, ensuring optimal energy management without affecting the testing output quality.\n",
    "\n",
    "**UTA_Electric_Active Energy = a⋅operational_presence + b⋅fabric_in_chamber + c⋅testing_schedule + d⋅workload + e⋅standby_power_down**\n",
    "\n",
    "- **UTA_Electric_Active Energy** = Energy consumption of the Ultrasonic Testing Apparatus in a given period.\n",
    "\n",
    "- **operational_presence** = Operational Presence: Indicates if the UTA is actively in operation - Given.\n",
    "\n",
    "- **fabric_in_chamber** = Fabric in Chamber: Whether there is fabric loaded in the testing chamber, suggesting the UTA is about to be used - Given.\n",
    "\n",
    "- **testing_schedule** = Testing Schedule: Reflects planned testing times which predict active use - Given.\n",
    "\n",
    "- **workload** = Workload: Measures the queue of testing tasks assigned to the UTA - Given.\n",
    "\n",
    "- **standby_power_down** = Standby Power Down: Managing power usage when the UTA is not actively testing - Controllable.\n",
    "\n",
    "- **a,b,c,d,e** = Coefficients for each factor."
   ]
  },
  {
   "cell_type": "code",
   "execution_count": 21,
   "id": "98ce6d97",
   "metadata": {},
   "outputs": [
    {
     "ename": "FileNotFoundError",
     "evalue": "[Errno 2] No such file or directory: 'data/processed_data/industrial_sites_processed/2024-07-05T01-00-40_industrial_site2_processed.csv'",
     "output_type": "error",
     "traceback": [
      "\u001b[1;31m---------------------------------------------------------------------------\u001b[0m",
      "\u001b[1;31mFileNotFoundError\u001b[0m                         Traceback (most recent call last)",
      "Cell \u001b[1;32mIn[21], line 1\u001b[0m\n\u001b[1;32m----> 1\u001b[0m df \u001b[38;5;241m=\u001b[39m \u001b[43mpd\u001b[49m\u001b[38;5;241;43m.\u001b[39;49m\u001b[43mread_csv\u001b[49m\u001b[43m(\u001b[49m\u001b[38;5;124;43m'\u001b[39;49m\u001b[38;5;124;43mdata/processed_data/industrial_sites_processed/2024-07-05T01-00-40_industrial_site2_processed.csv\u001b[39;49m\u001b[38;5;124;43m'\u001b[39;49m\u001b[43m)\u001b[49m\n",
      "File \u001b[1;32mc:\\Users\\Usuario\\anaconda3\\envs\\pda-ie\\Lib\\site-packages\\pandas\\io\\parsers\\readers.py:912\u001b[0m, in \u001b[0;36mread_csv\u001b[1;34m(filepath_or_buffer, sep, delimiter, header, names, index_col, usecols, dtype, engine, converters, true_values, false_values, skipinitialspace, skiprows, skipfooter, nrows, na_values, keep_default_na, na_filter, verbose, skip_blank_lines, parse_dates, infer_datetime_format, keep_date_col, date_parser, date_format, dayfirst, cache_dates, iterator, chunksize, compression, thousands, decimal, lineterminator, quotechar, quoting, doublequote, escapechar, comment, encoding, encoding_errors, dialect, on_bad_lines, delim_whitespace, low_memory, memory_map, float_precision, storage_options, dtype_backend)\u001b[0m\n\u001b[0;32m    899\u001b[0m kwds_defaults \u001b[38;5;241m=\u001b[39m _refine_defaults_read(\n\u001b[0;32m    900\u001b[0m     dialect,\n\u001b[0;32m    901\u001b[0m     delimiter,\n\u001b[1;32m   (...)\u001b[0m\n\u001b[0;32m    908\u001b[0m     dtype_backend\u001b[38;5;241m=\u001b[39mdtype_backend,\n\u001b[0;32m    909\u001b[0m )\n\u001b[0;32m    910\u001b[0m kwds\u001b[38;5;241m.\u001b[39mupdate(kwds_defaults)\n\u001b[1;32m--> 912\u001b[0m \u001b[38;5;28;01mreturn\u001b[39;00m \u001b[43m_read\u001b[49m\u001b[43m(\u001b[49m\u001b[43mfilepath_or_buffer\u001b[49m\u001b[43m,\u001b[49m\u001b[43m \u001b[49m\u001b[43mkwds\u001b[49m\u001b[43m)\u001b[49m\n",
      "File \u001b[1;32mc:\\Users\\Usuario\\anaconda3\\envs\\pda-ie\\Lib\\site-packages\\pandas\\io\\parsers\\readers.py:577\u001b[0m, in \u001b[0;36m_read\u001b[1;34m(filepath_or_buffer, kwds)\u001b[0m\n\u001b[0;32m    574\u001b[0m _validate_names(kwds\u001b[38;5;241m.\u001b[39mget(\u001b[38;5;124m\"\u001b[39m\u001b[38;5;124mnames\u001b[39m\u001b[38;5;124m\"\u001b[39m, \u001b[38;5;28;01mNone\u001b[39;00m))\n\u001b[0;32m    576\u001b[0m \u001b[38;5;66;03m# Create the parser.\u001b[39;00m\n\u001b[1;32m--> 577\u001b[0m parser \u001b[38;5;241m=\u001b[39m \u001b[43mTextFileReader\u001b[49m\u001b[43m(\u001b[49m\u001b[43mfilepath_or_buffer\u001b[49m\u001b[43m,\u001b[49m\u001b[43m \u001b[49m\u001b[38;5;241;43m*\u001b[39;49m\u001b[38;5;241;43m*\u001b[39;49m\u001b[43mkwds\u001b[49m\u001b[43m)\u001b[49m\n\u001b[0;32m    579\u001b[0m \u001b[38;5;28;01mif\u001b[39;00m chunksize \u001b[38;5;129;01mor\u001b[39;00m iterator:\n\u001b[0;32m    580\u001b[0m     \u001b[38;5;28;01mreturn\u001b[39;00m parser\n",
      "File \u001b[1;32mc:\\Users\\Usuario\\anaconda3\\envs\\pda-ie\\Lib\\site-packages\\pandas\\io\\parsers\\readers.py:1407\u001b[0m, in \u001b[0;36mTextFileReader.__init__\u001b[1;34m(self, f, engine, **kwds)\u001b[0m\n\u001b[0;32m   1404\u001b[0m     \u001b[38;5;28mself\u001b[39m\u001b[38;5;241m.\u001b[39moptions[\u001b[38;5;124m\"\u001b[39m\u001b[38;5;124mhas_index_names\u001b[39m\u001b[38;5;124m\"\u001b[39m] \u001b[38;5;241m=\u001b[39m kwds[\u001b[38;5;124m\"\u001b[39m\u001b[38;5;124mhas_index_names\u001b[39m\u001b[38;5;124m\"\u001b[39m]\n\u001b[0;32m   1406\u001b[0m \u001b[38;5;28mself\u001b[39m\u001b[38;5;241m.\u001b[39mhandles: IOHandles \u001b[38;5;241m|\u001b[39m \u001b[38;5;28;01mNone\u001b[39;00m \u001b[38;5;241m=\u001b[39m \u001b[38;5;28;01mNone\u001b[39;00m\n\u001b[1;32m-> 1407\u001b[0m \u001b[38;5;28mself\u001b[39m\u001b[38;5;241m.\u001b[39m_engine \u001b[38;5;241m=\u001b[39m \u001b[38;5;28;43mself\u001b[39;49m\u001b[38;5;241;43m.\u001b[39;49m\u001b[43m_make_engine\u001b[49m\u001b[43m(\u001b[49m\u001b[43mf\u001b[49m\u001b[43m,\u001b[49m\u001b[43m \u001b[49m\u001b[38;5;28;43mself\u001b[39;49m\u001b[38;5;241;43m.\u001b[39;49m\u001b[43mengine\u001b[49m\u001b[43m)\u001b[49m\n",
      "File \u001b[1;32mc:\\Users\\Usuario\\anaconda3\\envs\\pda-ie\\Lib\\site-packages\\pandas\\io\\parsers\\readers.py:1661\u001b[0m, in \u001b[0;36mTextFileReader._make_engine\u001b[1;34m(self, f, engine)\u001b[0m\n\u001b[0;32m   1659\u001b[0m     \u001b[38;5;28;01mif\u001b[39;00m \u001b[38;5;124m\"\u001b[39m\u001b[38;5;124mb\u001b[39m\u001b[38;5;124m\"\u001b[39m \u001b[38;5;129;01mnot\u001b[39;00m \u001b[38;5;129;01min\u001b[39;00m mode:\n\u001b[0;32m   1660\u001b[0m         mode \u001b[38;5;241m+\u001b[39m\u001b[38;5;241m=\u001b[39m \u001b[38;5;124m\"\u001b[39m\u001b[38;5;124mb\u001b[39m\u001b[38;5;124m\"\u001b[39m\n\u001b[1;32m-> 1661\u001b[0m \u001b[38;5;28mself\u001b[39m\u001b[38;5;241m.\u001b[39mhandles \u001b[38;5;241m=\u001b[39m \u001b[43mget_handle\u001b[49m\u001b[43m(\u001b[49m\n\u001b[0;32m   1662\u001b[0m \u001b[43m    \u001b[49m\u001b[43mf\u001b[49m\u001b[43m,\u001b[49m\n\u001b[0;32m   1663\u001b[0m \u001b[43m    \u001b[49m\u001b[43mmode\u001b[49m\u001b[43m,\u001b[49m\n\u001b[0;32m   1664\u001b[0m \u001b[43m    \u001b[49m\u001b[43mencoding\u001b[49m\u001b[38;5;241;43m=\u001b[39;49m\u001b[38;5;28;43mself\u001b[39;49m\u001b[38;5;241;43m.\u001b[39;49m\u001b[43moptions\u001b[49m\u001b[38;5;241;43m.\u001b[39;49m\u001b[43mget\u001b[49m\u001b[43m(\u001b[49m\u001b[38;5;124;43m\"\u001b[39;49m\u001b[38;5;124;43mencoding\u001b[39;49m\u001b[38;5;124;43m\"\u001b[39;49m\u001b[43m,\u001b[49m\u001b[43m \u001b[49m\u001b[38;5;28;43;01mNone\u001b[39;49;00m\u001b[43m)\u001b[49m\u001b[43m,\u001b[49m\n\u001b[0;32m   1665\u001b[0m \u001b[43m    \u001b[49m\u001b[43mcompression\u001b[49m\u001b[38;5;241;43m=\u001b[39;49m\u001b[38;5;28;43mself\u001b[39;49m\u001b[38;5;241;43m.\u001b[39;49m\u001b[43moptions\u001b[49m\u001b[38;5;241;43m.\u001b[39;49m\u001b[43mget\u001b[49m\u001b[43m(\u001b[49m\u001b[38;5;124;43m\"\u001b[39;49m\u001b[38;5;124;43mcompression\u001b[39;49m\u001b[38;5;124;43m\"\u001b[39;49m\u001b[43m,\u001b[49m\u001b[43m \u001b[49m\u001b[38;5;28;43;01mNone\u001b[39;49;00m\u001b[43m)\u001b[49m\u001b[43m,\u001b[49m\n\u001b[0;32m   1666\u001b[0m \u001b[43m    \u001b[49m\u001b[43mmemory_map\u001b[49m\u001b[38;5;241;43m=\u001b[39;49m\u001b[38;5;28;43mself\u001b[39;49m\u001b[38;5;241;43m.\u001b[39;49m\u001b[43moptions\u001b[49m\u001b[38;5;241;43m.\u001b[39;49m\u001b[43mget\u001b[49m\u001b[43m(\u001b[49m\u001b[38;5;124;43m\"\u001b[39;49m\u001b[38;5;124;43mmemory_map\u001b[39;49m\u001b[38;5;124;43m\"\u001b[39;49m\u001b[43m,\u001b[49m\u001b[43m \u001b[49m\u001b[38;5;28;43;01mFalse\u001b[39;49;00m\u001b[43m)\u001b[49m\u001b[43m,\u001b[49m\n\u001b[0;32m   1667\u001b[0m \u001b[43m    \u001b[49m\u001b[43mis_text\u001b[49m\u001b[38;5;241;43m=\u001b[39;49m\u001b[43mis_text\u001b[49m\u001b[43m,\u001b[49m\n\u001b[0;32m   1668\u001b[0m \u001b[43m    \u001b[49m\u001b[43merrors\u001b[49m\u001b[38;5;241;43m=\u001b[39;49m\u001b[38;5;28;43mself\u001b[39;49m\u001b[38;5;241;43m.\u001b[39;49m\u001b[43moptions\u001b[49m\u001b[38;5;241;43m.\u001b[39;49m\u001b[43mget\u001b[49m\u001b[43m(\u001b[49m\u001b[38;5;124;43m\"\u001b[39;49m\u001b[38;5;124;43mencoding_errors\u001b[39;49m\u001b[38;5;124;43m\"\u001b[39;49m\u001b[43m,\u001b[49m\u001b[43m \u001b[49m\u001b[38;5;124;43m\"\u001b[39;49m\u001b[38;5;124;43mstrict\u001b[39;49m\u001b[38;5;124;43m\"\u001b[39;49m\u001b[43m)\u001b[49m\u001b[43m,\u001b[49m\n\u001b[0;32m   1669\u001b[0m \u001b[43m    \u001b[49m\u001b[43mstorage_options\u001b[49m\u001b[38;5;241;43m=\u001b[39;49m\u001b[38;5;28;43mself\u001b[39;49m\u001b[38;5;241;43m.\u001b[39;49m\u001b[43moptions\u001b[49m\u001b[38;5;241;43m.\u001b[39;49m\u001b[43mget\u001b[49m\u001b[43m(\u001b[49m\u001b[38;5;124;43m\"\u001b[39;49m\u001b[38;5;124;43mstorage_options\u001b[39;49m\u001b[38;5;124;43m\"\u001b[39;49m\u001b[43m,\u001b[49m\u001b[43m \u001b[49m\u001b[38;5;28;43;01mNone\u001b[39;49;00m\u001b[43m)\u001b[49m\u001b[43m,\u001b[49m\n\u001b[0;32m   1670\u001b[0m \u001b[43m\u001b[49m\u001b[43m)\u001b[49m\n\u001b[0;32m   1671\u001b[0m \u001b[38;5;28;01massert\u001b[39;00m \u001b[38;5;28mself\u001b[39m\u001b[38;5;241m.\u001b[39mhandles \u001b[38;5;129;01mis\u001b[39;00m \u001b[38;5;129;01mnot\u001b[39;00m \u001b[38;5;28;01mNone\u001b[39;00m\n\u001b[0;32m   1672\u001b[0m f \u001b[38;5;241m=\u001b[39m \u001b[38;5;28mself\u001b[39m\u001b[38;5;241m.\u001b[39mhandles\u001b[38;5;241m.\u001b[39mhandle\n",
      "File \u001b[1;32mc:\\Users\\Usuario\\anaconda3\\envs\\pda-ie\\Lib\\site-packages\\pandas\\io\\common.py:859\u001b[0m, in \u001b[0;36mget_handle\u001b[1;34m(path_or_buf, mode, encoding, compression, memory_map, is_text, errors, storage_options)\u001b[0m\n\u001b[0;32m    854\u001b[0m \u001b[38;5;28;01melif\u001b[39;00m \u001b[38;5;28misinstance\u001b[39m(handle, \u001b[38;5;28mstr\u001b[39m):\n\u001b[0;32m    855\u001b[0m     \u001b[38;5;66;03m# Check whether the filename is to be opened in binary mode.\u001b[39;00m\n\u001b[0;32m    856\u001b[0m     \u001b[38;5;66;03m# Binary mode does not support 'encoding' and 'newline'.\u001b[39;00m\n\u001b[0;32m    857\u001b[0m     \u001b[38;5;28;01mif\u001b[39;00m ioargs\u001b[38;5;241m.\u001b[39mencoding \u001b[38;5;129;01mand\u001b[39;00m \u001b[38;5;124m\"\u001b[39m\u001b[38;5;124mb\u001b[39m\u001b[38;5;124m\"\u001b[39m \u001b[38;5;129;01mnot\u001b[39;00m \u001b[38;5;129;01min\u001b[39;00m ioargs\u001b[38;5;241m.\u001b[39mmode:\n\u001b[0;32m    858\u001b[0m         \u001b[38;5;66;03m# Encoding\u001b[39;00m\n\u001b[1;32m--> 859\u001b[0m         handle \u001b[38;5;241m=\u001b[39m \u001b[38;5;28mopen\u001b[39m(\n\u001b[0;32m    860\u001b[0m             handle,\n\u001b[0;32m    861\u001b[0m             ioargs\u001b[38;5;241m.\u001b[39mmode,\n\u001b[0;32m    862\u001b[0m             encoding\u001b[38;5;241m=\u001b[39mioargs\u001b[38;5;241m.\u001b[39mencoding,\n\u001b[0;32m    863\u001b[0m             errors\u001b[38;5;241m=\u001b[39merrors,\n\u001b[0;32m    864\u001b[0m             newline\u001b[38;5;241m=\u001b[39m\u001b[38;5;124m\"\u001b[39m\u001b[38;5;124m\"\u001b[39m,\n\u001b[0;32m    865\u001b[0m         )\n\u001b[0;32m    866\u001b[0m     \u001b[38;5;28;01melse\u001b[39;00m:\n\u001b[0;32m    867\u001b[0m         \u001b[38;5;66;03m# Binary mode\u001b[39;00m\n\u001b[0;32m    868\u001b[0m         handle \u001b[38;5;241m=\u001b[39m \u001b[38;5;28mopen\u001b[39m(handle, ioargs\u001b[38;5;241m.\u001b[39mmode)\n",
      "\u001b[1;31mFileNotFoundError\u001b[0m: [Errno 2] No such file or directory: 'data/processed_data/industrial_sites_processed/2024-07-05T01-00-40_industrial_site2_processed.csv'"
     ]
    }
   ],
   "source": [
    "df = pd.read_csv('data/processed_data/industrial_sites_processed/2024-07-05T01-00-40_industrial_site2_processed.csv')"
   ]
  },
  {
   "cell_type": "code",
   "execution_count": null,
   "id": "6bd34815",
   "metadata": {},
   "outputs": [
    {
     "data": {
      "text/plain": [
       "Index(['Time', '02 Production_Electric_Active Energy (kWh)',\n",
       "       '02 Production_Electric_Active Power (kW)',\n",
       "       '02 Production_Electric_Apparent Power (kVa)',\n",
       "       '02 Production_Electric_Power Factor (real)',\n",
       "       '03 Chiller Group_Electric_Active Energy (kWh)',\n",
       "       '03 Chiller Group_Electric_Active Power (kW)',\n",
       "       '03 Chiller Group_Electric_Apparent Power (kVa)',\n",
       "       '03 Chiller Group_Electric_Power Factor (real)',\n",
       "       '04 UTA_Electric_Active Energy (kWh)',\n",
       "       '04 UTA_Electric_Active Power (kW)',\n",
       "       '04 UTA_Electric_Apparent Power (kVa)',\n",
       "       '04 UTA_Electric_Power Factor (real)',\n",
       "       '05 Compressors_Electric_Active Energy (kWh)',\n",
       "       '05 Compressors_Electric_Active Power (kW)',\n",
       "       '05 Compressors_Electric_Apparent Power (kVa)',\n",
       "       '05 Compressors_Electric_Power Factor (real)',\n",
       "       '06 Offices_Electric_Active Energy (kWh)',\n",
       "       '06 Offices_Electric_Active Power (kW)',\n",
       "       '06 Offices_Electric_Apparent Power (kVa)',\n",
       "       '06 Offices_Electric_Power Factor (real)',\n",
       "       '07 Data Center_Electric_Active Energy (kWh)',\n",
       "       '07 Data Center_Electric_Active Power (kW)',\n",
       "       '07 Data Center_Electric_Apparent Power (kVa)',\n",
       "       '07 Data Center_Electric_Power Factor (real)',\n",
       "       '08 Technological Centers_Electric_Active Energy (kWh)',\n",
       "       '08 Technological Centers_Electric_Active Power (kW)',\n",
       "       '08 Technological Centers_Electric_Apparent Power (kVa)',\n",
       "       '08 Technological Centers_Electric_Power Factor (real)', 'sum_of_kWh',\n",
       "       'DataFrame Name', 'is_weekend', 'hour_sin', 'hour_cos',\n",
       "       'day_of_month_sin', 'day_of_month_cos', 'month_sin', 'month_cos',\n",
       "       'day_of_week_sin', 'day_of_week_cos', 'price_mWh', 'energy_cost_kWh',\n",
       "       'temp', 'humidity', 'precip', 'windspeed', 'uvindex', 'conditions',\n",
       "       'heat_index'],\n",
       "      dtype='object')"
      ]
     },
     "execution_count": 6,
     "metadata": {},
     "output_type": "execute_result"
    }
   ],
   "source": [
    "df.columns"
   ]
  },
  {
   "cell_type": "code",
   "execution_count": null,
   "id": "acc08837",
   "metadata": {},
   "outputs": [],
   "source": [
    "UTA_target = (df['04 UTA_Electric_Active Energy (kWh)'])\n",
    "UTA_target.to_csv('data/target_variables/target_UTA.csv', index=False)"
   ]
  },
  {
   "cell_type": "markdown",
   "id": "80a6248b",
   "metadata": {},
   "source": [
    "## Other factors to include in the constrain equation"
   ]
  },
  {
   "cell_type": "markdown",
   "id": "5159ca2e",
   "metadata": {},
   "source": [
    "To effectively simulate data for the UTA (Ultrasonic Testing Apparatus) based on the equation, we first need to establish logical boundaries for each variable. These boundaries should reflect realistic operational scenarios and constraints. Here’s a suggested framework:\n",
    "\n",
    "### 1. **operational_presence**\n",
    "   - **Type:** Binary (0 or 1)\n",
    "   - **Minimum:** 0 (UTA is not in operation)\n",
    "   - **Maximum:** 1 (UTA is actively in operation)\n",
    "\n",
    "### 2. **fabric_in_chamber**\n",
    "   - **Type:** Binary (0 or 1)\n",
    "   - **Minimum:** 0 (No fabric loaded in the chamber)\n",
    "   - **Maximum:** 1 (Fabric is loaded, indicating readiness or impending use)\n",
    "\n",
    "### 3. **testing_schedule**\n",
    "   - **Type:** Continuous or Categorical (e.g., hours of operation)\n",
    "   - **Minimum:** 0 (No scheduled tests)\n",
    "   - **Maximum:** 24 (Reflects the maximum hours in a day that testing can be scheduled, if using hours as the measure)\n",
    "\n",
    "### 4. **workload**\n",
    "   - **Type:** Continuous\n",
    "   - **Minimum:** 0 (No tests queued)\n",
    "   - **Maximum:** 100 (Maximum number of tests that can be queued based on operational capacity)\n",
    "\n",
    "### 5. **standby_power_down**\n",
    "   - **Type:** Binary or Continuous (0 to 1 scale if continuous, reflecting degree of power reduction)\n",
    "   - **Minimum:** 0 (Full power consumption, no power-saving measures in place)\n",
    "   - **Maximum:** 1 (Fully powered down to the lowest safe operational level)\n",
    "\n",
    "### Interaction Effects\n",
    "\n",
    "**1. Operational Presence and Fabric in Chamber:**\n",
    "   - When both `operational_presence` and `fabric_in_chamber` are active (both set to 1), the energy consumption could potentially be higher than the sum of their individual impacts due to the readiness of the UTA for immediate testing. This might require an additional coefficient in the model to account for this interaction if data shows a significant synergy effect.\n",
    "\n",
    "**2. Workload and Testing Schedule:**\n",
    "   - A higher `workload` could make the `testing_schedule` more packed, potentially increasing energy consumption as the UTA may operate continuously without breaks. Conversely, a sparse `testing_schedule` with a high `workload` might lead to inefficient operation as the apparatus starts and stops frequently.\n",
    "\n",
    "**3. Standby Power Down and Operational Presence:**\n",
    "   - The effectiveness of `standby_power_down` settings could be diminished if `operational_presence` is high, as the apparatus might rarely enter a low-power state. This interaction might suggest a need for dynamic power management strategies that adapt to operational rhythms.\n",
    "\n",
    "**4. Fabric in Chamber and Standby Power Down:**\n",
    "   - If fabric is loaded (`fabric_in_chamber` = 1) but there is a delay or cancellation in testing, the `standby_power_down` feature could be crucial in reducing idle energy consumption. This interaction points to the potential for smart scheduling or automatic delay handling to optimize energy use.\n",
    "\n",
    "### Scenarios\n",
    "\n",
    "**1. Peak Testing Periods:**\n",
    "   - During peak operational times, all variables might interact to maximize energy consumption. Scenarios could include end-of-batch testing rushes or pre-maintenance test marathons, where workload is high, operational presence is continuous, and fabric loading is frequent.\n",
    "\n",
    "**2. Maintenance or Downtime Days:**\n",
    "   - On days scheduled for maintenance or when the UTA is not in use, `standby_power_down` could be maximized, `operational_presence` and `fabric_in_chamber` minimized, and `testing_schedule` cleared. Scenarios here help model the energy savings potential during non-operational periods.\n",
    "\n",
    "**3. Unexpected Delays or Operational Hiccups:**\n",
    "   - Scenarios involving unexpected machine downtime or delays in testing due to logistical issues could see high `fabric_in_chamber` with low `operational_presence`, affecting how `standby_power_down` strategies are implemented.\n",
    "\n",
    "**4. Variable Load Days:**\n",
    "   - Days when the testing demand varies significantly could be used to test the responsiveness of the energy consumption model to changes in `workload` and `testing_schedule`. These days can help fine-tune the interaction coefficients and power management strategies."
   ]
  },
  {
   "cell_type": "markdown",
   "id": "7ac7da4a",
   "metadata": {},
   "source": [
    "Here are some key statistics from the total energy consumption data:"
   ]
  },
  {
   "cell_type": "code",
   "execution_count": null,
   "id": "c40bbaac",
   "metadata": {},
   "outputs": [
    {
     "data": {
      "text/plain": [
       "count    10690.000000\n",
       "mean        23.201022\n",
       "std         15.912086\n",
       "min          0.000000\n",
       "25%          2.089500\n",
       "50%         30.650000\n",
       "75%         34.100000\n",
       "max         55.275000\n",
       "Name: 04 UTA_Electric_Active Energy (kWh), dtype: float64"
      ]
     },
     "execution_count": 18,
     "metadata": {},
     "output_type": "execute_result"
    }
   ],
   "source": [
    "# Calculating statistical details for the total energy consumption data\n",
    "UTA_stats = df['04 UTA_Electric_Active Energy (kWh)'].describe()\n",
    "UTA_stats"
   ]
  },
  {
   "cell_type": "markdown",
   "id": "bc3e51b3",
   "metadata": {},
   "source": [
    "## Synthesized dataset"
   ]
  },
  {
   "cell_type": "code",
   "execution_count": null,
   "id": "9c14f21f",
   "metadata": {},
   "outputs": [],
   "source": [
    "import pandas as pd\n",
    "import numpy as np\n",
    "\n",
    "# Number of samples is equal to the number of entries in the consumption data\n",
    "n_samples = len(UTA_target)\n",
    "\n",
    "# Initialize the random seed for reproducibility\n",
    "np.random.seed(42)\n",
    "\n",
    "# Define dynamic ranges based on energy consumption percentiles\n",
    "max_energy = df['02 Production_Electric_Active Energy (kWh)'].max()\n",
    "scale_factor = df['02 Production_Electric_Active Energy (kWh)'] / max_energy\n",
    "\n",
    "# Generating data within the defined boundaries\n",
    "data = {\n",
    "    'power_transport_vehicles': np.random.uniform(0, 200, n_samples) * scale_factor,\n",
    "    'production_schedule': np.round(np.random.uniform(0, 100, n_samples) * scale_factor),\n",
    "    'maintenance_status': np.random.uniform(0, 100, n_samples),\n",
    "    'volume_production_waste': np.random.uniform(0, 50, n_samples) * scale_factor,\n",
    "    'number_of_workers': np.round(np.random.uniform(0, 500, n_samples) * scale_factor)\n",
    "}\n",
    "\n",
    "df_simulated = pd.DataFrame(data)\n",
    "\n",
    "# Save the generated data to a new CSV\n",
    "output_path = 'data/synthesized_data/production_synthesized.csv'\n",
    "df_simulated.to_csv(output_path, index=False)\n",
    "\n",
    "output_path"
   ]
  }
 ],
 "metadata": {
  "kernelspec": {
   "display_name": "Python 3",
   "language": "python",
   "name": "python3"
  },
  "language_info": {
   "codemirror_mode": {
    "name": "ipython",
    "version": 3
   },
   "file_extension": ".py",
   "mimetype": "text/x-python",
   "name": "python",
   "nbconvert_exporter": "python",
   "pygments_lexer": "ipython3",
   "version": "3.11.5"
  }
 },
 "nbformat": 4,
 "nbformat_minor": 5
}
