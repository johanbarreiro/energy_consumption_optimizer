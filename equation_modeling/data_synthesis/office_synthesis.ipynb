{
 "cells": [
  {
   "metadata": {},
   "cell_type": "markdown",
   "source": "# 06 Offices_Electric_Active Energy (kWh)",
   "id": "708c0de50e20144a"
  },
  {
   "metadata": {
    "ExecuteTime": {
     "end_time": "2024-07-07T17:01:58.270952Z",
     "start_time": "2024-07-07T17:01:57.752167Z"
    }
   },
   "cell_type": "code",
   "source": "import pandas as pd",
   "id": "a5841dbf1c19f990",
   "outputs": [],
   "execution_count": 1
  },
  {
   "metadata": {
    "ExecuteTime": {
     "end_time": "2024-07-07T17:01:58.274836Z",
     "start_time": "2024-07-07T17:01:58.272204Z"
    }
   },
   "cell_type": "code",
   "source": "cd ..",
   "id": "c0118967c849f91b",
   "outputs": [
    {
     "name": "stdout",
     "output_type": "stream",
     "text": [
      "/Users/johanbarreiro/Documents/GitHub/vl_optimizer/equation_modeling\n"
     ]
    }
   ],
   "execution_count": 2
  },
  {
   "metadata": {
    "ExecuteTime": {
     "end_time": "2024-07-07T17:01:58.278295Z",
     "start_time": "2024-07-07T17:01:58.275644Z"
    }
   },
   "cell_type": "code",
   "source": "cd ..",
   "id": "6a396e022bd551d0",
   "outputs": [
    {
     "name": "stdout",
     "output_type": "stream",
     "text": [
      "/Users/johanbarreiro/Documents/GitHub/vl_optimizer\n"
     ]
    }
   ],
   "execution_count": 3
  },
  {
   "metadata": {},
   "cell_type": "markdown",
   "source": [
    "## Definition of the constrain equation\n",
    "\n",
    "**Offices_Electric_Active Energy = A⋅lightbulbs_active + B⋅active_wall_plugs + C⋅active_computers + D⋅active_printers + E⋅active_coffee_machines**\n",
    "\n",
    "- **Offices_Electric_Active Energy** = Energy consumption of the Office building in a given period.\n",
    "\n",
    "- **lightbulbs_active** = Represents the number of active lightbulbs during the specified period - Given.\n",
    "\n",
    "- **active_wall_plugs** = Refers to the number of wall plugs currently in use or drawing power - Given.\n",
    "\n",
    "- **active_computers** = Indicates the number of computers currently in use - Given.\n",
    "\n",
    "- **active_printers** = The number of printers in active use during the measurement period - Controllable.\n",
    "\n",
    "- **active_coffee_machines** = Represents the number of coffee machines currently in use - Controllable.\n",
    "\n",
    "- **A,B,C,D,E** = Coefficients for each factor."
   ],
   "id": "6dcdbed8418dee6d"
  },
  {
   "metadata": {
    "ExecuteTime": {
     "end_time": "2024-07-07T17:01:58.315004Z",
     "start_time": "2024-07-07T17:01:58.279754Z"
    }
   },
   "cell_type": "code",
   "source": "df = pd.read_csv('data/processed_data/industrial_sites_processed/2024-07-07T16-56-34_industrial_site2_processed.csv')",
   "id": "4f1473b59271fba5",
   "outputs": [],
   "execution_count": 4
  },
  {
   "metadata": {
    "ExecuteTime": {
     "end_time": "2024-07-07T17:01:58.319471Z",
     "start_time": "2024-07-07T17:01:58.315886Z"
    }
   },
   "cell_type": "code",
   "source": "df.columns",
   "id": "1134d15a809c0dd6",
   "outputs": [
    {
     "data": {
      "text/plain": [
       "Index(['Time', '02 Production_Electric_Active Energy (kWh)',\n",
       "       '02 Production_Electric_Active Power (kW)',\n",
       "       '02 Production_Electric_Apparent Power (kVa)',\n",
       "       '02 Production_Electric_Power Factor (real)',\n",
       "       '03 Chiller Group_Electric_Active Energy (kWh)',\n",
       "       '03 Chiller Group_Electric_Active Power (kW)',\n",
       "       '03 Chiller Group_Electric_Apparent Power (kVa)',\n",
       "       '03 Chiller Group_Electric_Power Factor (real)',\n",
       "       '04 UTA_Electric_Active Energy (kWh)',\n",
       "       '04 UTA_Electric_Active Power (kW)',\n",
       "       '04 UTA_Electric_Apparent Power (kVa)',\n",
       "       '04 UTA_Electric_Power Factor (real)',\n",
       "       '05 Compressors_Electric_Active Energy (kWh)',\n",
       "       '05 Compressors_Electric_Active Power (kW)',\n",
       "       '05 Compressors_Electric_Apparent Power (kVa)',\n",
       "       '05 Compressors_Electric_Power Factor (real)',\n",
       "       '06 Offices_Electric_Active Energy (kWh)',\n",
       "       '06 Offices_Electric_Active Power (kW)',\n",
       "       '06 Offices_Electric_Apparent Power (kVa)',\n",
       "       '06 Offices_Electric_Power Factor (real)',\n",
       "       '07 Data Center_Electric_Active Energy (kWh)',\n",
       "       '07 Data Center_Electric_Active Power (kW)',\n",
       "       '07 Data Center_Electric_Apparent Power (kVa)',\n",
       "       '07 Data Center_Electric_Power Factor (real)',\n",
       "       '08 Technological Centers_Electric_Active Energy (kWh)',\n",
       "       '08 Technological Centers_Electric_Active Power (kW)',\n",
       "       '08 Technological Centers_Electric_Apparent Power (kVa)',\n",
       "       '08 Technological Centers_Electric_Power Factor (real)', 'sum_of_kWh',\n",
       "       'DataFrame Name', 'is_weekend', 'hour_sin', 'hour_cos',\n",
       "       'day_of_month_sin', 'day_of_month_cos', 'month_sin', 'month_cos',\n",
       "       'day_of_week_sin', 'day_of_week_cos', 'price_mWh', 'energy_cost',\n",
       "       'temp', 'humidity', 'precip', 'windspeed', 'uvindex', 'conditions',\n",
       "       'heat_index'],\n",
       "      dtype='object')"
      ]
     },
     "execution_count": 5,
     "metadata": {},
     "output_type": "execute_result"
    }
   ],
   "execution_count": 5
  },
  {
   "metadata": {
    "ExecuteTime": {
     "end_time": "2024-07-07T17:01:58.326588Z",
     "start_time": "2024-07-07T17:01:58.320238Z"
    }
   },
   "cell_type": "code",
   "source": [
    "office_target = (df['06 Offices_Electric_Active Energy (kWh)'])\n",
    "office_target = (df['Time'])\n",
    "office_target.to_csv('data/target_variables/target_office.csv', index=False)"
   ],
   "id": "b6d72abb9cc1a72b",
   "outputs": [],
   "execution_count": 6
  },
  {
   "metadata": {},
   "cell_type": "markdown",
   "source": "## Other factors to include in the constrain equation",
   "id": "baf9c16870a6f45b"
  },
  {
   "metadata": {},
   "cell_type": "markdown",
   "source": [
    "1. **lightbulbs_active**: The activity level of lightbulbs should scale with the lighting energy consumption, which could be a significant fraction of the total office energy use.\n",
    "2. **active_wall_plugs**: The number of active wall plugs should correlate with the energy consumption from plugged devices.\n",
    "3. **active_computers**: Computer use should scale with the proportion of energy dedicated to IT and office equipment.\n",
    "4. **active_printers**: Printer usage should align with the specific energy consumption of these devices.\n",
    "5. **active_coffee_machines**: The operation of coffee machines should scale with their share of energy use."
   ],
   "id": "7103627ec971b8d8"
  },
  {
   "metadata": {},
   "cell_type": "markdown",
   "source": [
    "We will use the percentile distribution of energy consumption to dynamically adjust the maximum limits for variables, which are more directly influenced by the level of activity in the office.\n",
    "\n",
    "Let’s start by analyzing the total energy consumption to inform these decisions.\n",
    "\n",
    "Here are some key statistics from the total energy consumption data:"
   ],
   "id": "9e6895b595d004d1"
  },
  {
   "metadata": {
    "ExecuteTime": {
     "end_time": "2024-07-07T17:01:58.331428Z",
     "start_time": "2024-07-07T17:01:58.327248Z"
    }
   },
   "cell_type": "code",
   "source": [
    "# Calculating statistical details for the total energy consumption data\n",
    "production_stats = df['06 Offices_Electric_Active Energy (kWh)'].describe()\n",
    "production_stats"
   ],
   "id": "47761ae9d7824c7e",
   "outputs": [
    {
     "data": {
      "text/plain": [
       "count    8760.000000\n",
       "mean        5.904957\n",
       "std         3.615158\n",
       "min         0.000000\n",
       "25%         3.161875\n",
       "50%         4.892134\n",
       "75%         8.210000\n",
       "max        18.058784\n",
       "Name: 06 Offices_Electric_Active Energy (kWh), dtype: float64"
      ]
     },
     "execution_count": 7,
     "metadata": {},
     "output_type": "execute_result"
    }
   ],
   "execution_count": 7
  },
  {
   "metadata": {},
   "cell_type": "markdown",
   "source": [
    "Using these insights, let's redefine the boundaries for each variable:\n",
    "\n",
    "1. **lightbulbs_active**:\n",
    "   - **Minimum:** 0.00 kWh\n",
    "   - **Maximum:** 5.42 kWh\n",
    "\n",
    "2. **active_wall_plugs**:\n",
    "   - **Minimum:** 0.00 kWh\n",
    "   - **Maximum:** 7.22 kWh\n",
    "\n",
    "3. **active_computers**:\n",
    "   - **Minimum:** 0.00 kWh\n",
    "   - **Maximum:** 3.61 kWh\n",
    "\n",
    "4. **active_printers**:\n",
    "   - **Minimum:** 0.00 kWh\n",
    "   - **Maximum:**  kWh\n",
    "0.90\n",
    "5. **active_coffee_machines**:\n",
    "   - **Minimum:** 0.00 kWh\n",
    "   - **Maximum:** 0.36 kWh\n",
    "\n",
    "For all variables, which should scale with energy consumption, we could set dynamic maximums based on the percentiles of energy consumption:\n",
    "\n",
    "- Use the 75th percentile as a typical upper limit during high production times.\n",
    "- Scale the maximum values of these variables proportionally to how close the energy consumption is to the maximum observed value."
   ],
   "id": "74d9bfd8c496e47d"
  },
  {
   "metadata": {},
   "cell_type": "markdown",
   "source": "## Synthesized dataset",
   "id": "d9e76d6d11f19483"
  },
  {
   "metadata": {
    "ExecuteTime": {
     "end_time": "2024-07-07T17:01:58.370811Z",
     "start_time": "2024-07-07T17:01:58.332199Z"
    }
   },
   "cell_type": "code",
   "source": [
    "import pandas as pd\n",
    "import numpy as np\n",
    "\n",
    "# Number of samples is equal to the number of entries in the consumption data\n",
    "n_samples = len(office_target)\n",
    "\n",
    "# Initialize the random seed for reproducibility\n",
    "np.random.seed(42)\n",
    "\n",
    "# Define dynamic ranges based on energy consumption percentiles\n",
    "max_energy = df['06 Offices_Electric_Active Energy (kWh)'].max()\n",
    "scale_factor = df['06 Offices_Electric_Active Energy (kWh)'] / max_energy\n",
    "\n",
    "# Define a controlled noise level relative to the scale of each feature\n",
    "noise_level = 0.15  # Noise level as a percentage of feature's max value\n",
    "\n",
    "# Generating data within the defined boundaries\n",
    "data = {\n",
    "    'lightbulbs_active': np.maximum(0, 5.42 * scale_factor + np.random.normal(0, 5.42 * noise_level, n_samples)),\n",
    "    'active_wall_plugs':np.maximum(0, 7.22 * scale_factor + np.random.normal(0, 7.22 * noise_level, n_samples)),\n",
    "    'active_computers': np.maximum(0, 3.61 * scale_factor + np.random.normal(0, 3.61 * noise_level, n_samples)),\n",
    "    'active_printers': np.maximum(0, 0.90 * scale_factor + np.random.normal(0, 0.90 * noise_level, n_samples)),\n",
    "    'active_coffee_machines': np.maximum(0, 0.36 * scale_factor + np.random.normal(0, 0.36 * noise_level, n_samples))\n",
    "}\n",
    "\n",
    "df_simulated = pd.DataFrame(data)\n",
    "df_simulated['Time'] = df['Time']\n",
    "\n",
    "# Save the generated data to a new CSV\n",
    "output_path = 'data/synthesized_data/office_synthesized.csv'\n",
    "df_simulated.to_csv(output_path, index=False)\n",
    "\n",
    "output_path"
   ],
   "id": "e18e65eb90aceb0",
   "outputs": [
    {
     "data": {
      "text/plain": [
       "'data/synthesized_data/office_synthesized.csv'"
      ]
     },
     "execution_count": 8,
     "metadata": {},
     "output_type": "execute_result"
    }
   ],
   "execution_count": 8
  },
  {
   "metadata": {
    "ExecuteTime": {
     "end_time": "2024-07-07T17:01:58.942227Z",
     "start_time": "2024-07-07T17:01:58.371759Z"
    }
   },
   "cell_type": "code",
   "source": [
    "import matplotlib.pyplot as plt\n",
    "\n",
    "# Combine target and features into one DataFrame\n",
    "df_combined = pd.concat([df['Time'], df['06 Offices_Electric_Active Energy (kWh)'], df_simulated], axis=1)\n",
    "df_combined.set_index('Time', inplace=True)\n",
    "\n",
    "# Define the time period you want to plot\n",
    "start_date = '2023-06-01'\n",
    "end_date = '2023-06-30'\n",
    "\n",
    "# Slice the DataFrame to the desired period\n",
    "df_period = df_combined.loc[start_date:end_date]\n",
    "\n",
    "# Plotting\n",
    "plt.figure(figsize=(14, 7))\n",
    "for column in df_period.columns:\n",
    "    plt.plot(df_period.index, df_period[column], label=column)\n",
    "plt.legend()\n",
    "plt.title('Feature and Target Variable Trends Over Time')\n",
    "plt.xlabel('Date')\n",
    "plt.ylabel('Value')\n",
    "plt.grid(True)\n",
    "plt.show()\n"
   ],
   "id": "5958593792b8a936",
   "outputs": [
    {
     "ename": "TypeError",
     "evalue": "'<' not supported between instances of 'tuple' and 'str'",
     "output_type": "error",
     "traceback": [
      "\u001B[0;31m---------------------------------------------------------------------------\u001B[0m",
      "\u001B[0;31mKeyError\u001B[0m                                  Traceback (most recent call last)",
      "File \u001B[0;32m~/anaconda3/envs/vl_optimizer_1/lib/python3.12/site-packages/pandas/core/indexes/base.py:3805\u001B[0m, in \u001B[0;36mIndex.get_loc\u001B[0;34m(self, key)\u001B[0m\n\u001B[1;32m   3804\u001B[0m \u001B[38;5;28;01mtry\u001B[39;00m:\n\u001B[0;32m-> 3805\u001B[0m     \u001B[38;5;28;01mreturn\u001B[39;00m \u001B[38;5;28;43mself\u001B[39;49m\u001B[38;5;241;43m.\u001B[39;49m\u001B[43m_engine\u001B[49m\u001B[38;5;241;43m.\u001B[39;49m\u001B[43mget_loc\u001B[49m\u001B[43m(\u001B[49m\u001B[43mcasted_key\u001B[49m\u001B[43m)\u001B[49m\n\u001B[1;32m   3806\u001B[0m \u001B[38;5;28;01mexcept\u001B[39;00m \u001B[38;5;167;01mKeyError\u001B[39;00m \u001B[38;5;28;01mas\u001B[39;00m err:\n",
      "File \u001B[0;32mindex.pyx:167\u001B[0m, in \u001B[0;36mpandas._libs.index.IndexEngine.get_loc\u001B[0;34m()\u001B[0m\n",
      "File \u001B[0;32mindex.pyx:196\u001B[0m, in \u001B[0;36mpandas._libs.index.IndexEngine.get_loc\u001B[0;34m()\u001B[0m\n",
      "File \u001B[0;32mpandas/_libs/hashtable_class_helper.pxi:7081\u001B[0m, in \u001B[0;36mpandas._libs.hashtable.PyObjectHashTable.get_item\u001B[0;34m()\u001B[0m\n",
      "File \u001B[0;32mpandas/_libs/hashtable_class_helper.pxi:7089\u001B[0m, in \u001B[0;36mpandas._libs.hashtable.PyObjectHashTable.get_item\u001B[0;34m()\u001B[0m\n",
      "\u001B[0;31mKeyError\u001B[0m: '2023-06-01'",
      "\nThe above exception was the direct cause of the following exception:\n",
      "\u001B[0;31mKeyError\u001B[0m                                  Traceback (most recent call last)",
      "File \u001B[0;32m~/anaconda3/envs/vl_optimizer_1/lib/python3.12/site-packages/pandas/core/indexes/base.py:6798\u001B[0m, in \u001B[0;36mIndex.get_slice_bound\u001B[0;34m(self, label, side)\u001B[0m\n\u001B[1;32m   6797\u001B[0m \u001B[38;5;28;01mtry\u001B[39;00m:\n\u001B[0;32m-> 6798\u001B[0m     slc \u001B[38;5;241m=\u001B[39m \u001B[38;5;28;43mself\u001B[39;49m\u001B[38;5;241;43m.\u001B[39;49m\u001B[43mget_loc\u001B[49m\u001B[43m(\u001B[49m\u001B[43mlabel\u001B[49m\u001B[43m)\u001B[49m\n\u001B[1;32m   6799\u001B[0m \u001B[38;5;28;01mexcept\u001B[39;00m \u001B[38;5;167;01mKeyError\u001B[39;00m \u001B[38;5;28;01mas\u001B[39;00m err:\n",
      "File \u001B[0;32m~/anaconda3/envs/vl_optimizer_1/lib/python3.12/site-packages/pandas/core/indexes/base.py:3812\u001B[0m, in \u001B[0;36mIndex.get_loc\u001B[0;34m(self, key)\u001B[0m\n\u001B[1;32m   3811\u001B[0m         \u001B[38;5;28;01mraise\u001B[39;00m InvalidIndexError(key)\n\u001B[0;32m-> 3812\u001B[0m     \u001B[38;5;28;01mraise\u001B[39;00m \u001B[38;5;167;01mKeyError\u001B[39;00m(key) \u001B[38;5;28;01mfrom\u001B[39;00m \u001B[38;5;21;01merr\u001B[39;00m\n\u001B[1;32m   3813\u001B[0m \u001B[38;5;28;01mexcept\u001B[39;00m \u001B[38;5;167;01mTypeError\u001B[39;00m:\n\u001B[1;32m   3814\u001B[0m     \u001B[38;5;66;03m# If we have a listlike key, _check_indexing_error will raise\u001B[39;00m\n\u001B[1;32m   3815\u001B[0m     \u001B[38;5;66;03m#  InvalidIndexError. Otherwise we fall through and re-raise\u001B[39;00m\n\u001B[1;32m   3816\u001B[0m     \u001B[38;5;66;03m#  the TypeError.\u001B[39;00m\n",
      "\u001B[0;31mKeyError\u001B[0m: '2023-06-01'",
      "\nDuring handling of the above exception, another exception occurred:\n",
      "\u001B[0;31mTypeError\u001B[0m                                 Traceback (most recent call last)",
      "Cell \u001B[0;32mIn[9], line 12\u001B[0m\n\u001B[1;32m      9\u001B[0m end_date \u001B[38;5;241m=\u001B[39m \u001B[38;5;124m'\u001B[39m\u001B[38;5;124m2023-06-30\u001B[39m\u001B[38;5;124m'\u001B[39m\n\u001B[1;32m     11\u001B[0m \u001B[38;5;66;03m# Slice the DataFrame to the desired period\u001B[39;00m\n\u001B[0;32m---> 12\u001B[0m df_period \u001B[38;5;241m=\u001B[39m \u001B[43mdf_combined\u001B[49m\u001B[38;5;241;43m.\u001B[39;49m\u001B[43mloc\u001B[49m\u001B[43m[\u001B[49m\u001B[43mstart_date\u001B[49m\u001B[43m:\u001B[49m\u001B[43mend_date\u001B[49m\u001B[43m]\u001B[49m\n\u001B[1;32m     14\u001B[0m \u001B[38;5;66;03m# Plotting\u001B[39;00m\n\u001B[1;32m     15\u001B[0m plt\u001B[38;5;241m.\u001B[39mfigure(figsize\u001B[38;5;241m=\u001B[39m(\u001B[38;5;241m14\u001B[39m, \u001B[38;5;241m7\u001B[39m))\n",
      "File \u001B[0;32m~/anaconda3/envs/vl_optimizer_1/lib/python3.12/site-packages/pandas/core/indexing.py:1191\u001B[0m, in \u001B[0;36m_LocationIndexer.__getitem__\u001B[0;34m(self, key)\u001B[0m\n\u001B[1;32m   1189\u001B[0m maybe_callable \u001B[38;5;241m=\u001B[39m com\u001B[38;5;241m.\u001B[39mapply_if_callable(key, \u001B[38;5;28mself\u001B[39m\u001B[38;5;241m.\u001B[39mobj)\n\u001B[1;32m   1190\u001B[0m maybe_callable \u001B[38;5;241m=\u001B[39m \u001B[38;5;28mself\u001B[39m\u001B[38;5;241m.\u001B[39m_check_deprecated_callable_usage(key, maybe_callable)\n\u001B[0;32m-> 1191\u001B[0m \u001B[38;5;28;01mreturn\u001B[39;00m \u001B[38;5;28;43mself\u001B[39;49m\u001B[38;5;241;43m.\u001B[39;49m\u001B[43m_getitem_axis\u001B[49m\u001B[43m(\u001B[49m\u001B[43mmaybe_callable\u001B[49m\u001B[43m,\u001B[49m\u001B[43m \u001B[49m\u001B[43maxis\u001B[49m\u001B[38;5;241;43m=\u001B[39;49m\u001B[43maxis\u001B[49m\u001B[43m)\u001B[49m\n",
      "File \u001B[0;32m~/anaconda3/envs/vl_optimizer_1/lib/python3.12/site-packages/pandas/core/indexing.py:1411\u001B[0m, in \u001B[0;36m_LocIndexer._getitem_axis\u001B[0;34m(self, key, axis)\u001B[0m\n\u001B[1;32m   1409\u001B[0m \u001B[38;5;28;01mif\u001B[39;00m \u001B[38;5;28misinstance\u001B[39m(key, \u001B[38;5;28mslice\u001B[39m):\n\u001B[1;32m   1410\u001B[0m     \u001B[38;5;28mself\u001B[39m\u001B[38;5;241m.\u001B[39m_validate_key(key, axis)\n\u001B[0;32m-> 1411\u001B[0m     \u001B[38;5;28;01mreturn\u001B[39;00m \u001B[38;5;28;43mself\u001B[39;49m\u001B[38;5;241;43m.\u001B[39;49m\u001B[43m_get_slice_axis\u001B[49m\u001B[43m(\u001B[49m\u001B[43mkey\u001B[49m\u001B[43m,\u001B[49m\u001B[43m \u001B[49m\u001B[43maxis\u001B[49m\u001B[38;5;241;43m=\u001B[39;49m\u001B[43maxis\u001B[49m\u001B[43m)\u001B[49m\n\u001B[1;32m   1412\u001B[0m \u001B[38;5;28;01melif\u001B[39;00m com\u001B[38;5;241m.\u001B[39mis_bool_indexer(key):\n\u001B[1;32m   1413\u001B[0m     \u001B[38;5;28;01mreturn\u001B[39;00m \u001B[38;5;28mself\u001B[39m\u001B[38;5;241m.\u001B[39m_getbool_axis(key, axis\u001B[38;5;241m=\u001B[39maxis)\n",
      "File \u001B[0;32m~/anaconda3/envs/vl_optimizer_1/lib/python3.12/site-packages/pandas/core/indexing.py:1443\u001B[0m, in \u001B[0;36m_LocIndexer._get_slice_axis\u001B[0;34m(self, slice_obj, axis)\u001B[0m\n\u001B[1;32m   1440\u001B[0m     \u001B[38;5;28;01mreturn\u001B[39;00m obj\u001B[38;5;241m.\u001B[39mcopy(deep\u001B[38;5;241m=\u001B[39m\u001B[38;5;28;01mFalse\u001B[39;00m)\n\u001B[1;32m   1442\u001B[0m labels \u001B[38;5;241m=\u001B[39m obj\u001B[38;5;241m.\u001B[39m_get_axis(axis)\n\u001B[0;32m-> 1443\u001B[0m indexer \u001B[38;5;241m=\u001B[39m \u001B[43mlabels\u001B[49m\u001B[38;5;241;43m.\u001B[39;49m\u001B[43mslice_indexer\u001B[49m\u001B[43m(\u001B[49m\u001B[43mslice_obj\u001B[49m\u001B[38;5;241;43m.\u001B[39;49m\u001B[43mstart\u001B[49m\u001B[43m,\u001B[49m\u001B[43m \u001B[49m\u001B[43mslice_obj\u001B[49m\u001B[38;5;241;43m.\u001B[39;49m\u001B[43mstop\u001B[49m\u001B[43m,\u001B[49m\u001B[43m \u001B[49m\u001B[43mslice_obj\u001B[49m\u001B[38;5;241;43m.\u001B[39;49m\u001B[43mstep\u001B[49m\u001B[43m)\u001B[49m\n\u001B[1;32m   1445\u001B[0m \u001B[38;5;28;01mif\u001B[39;00m \u001B[38;5;28misinstance\u001B[39m(indexer, \u001B[38;5;28mslice\u001B[39m):\n\u001B[1;32m   1446\u001B[0m     \u001B[38;5;28;01mreturn\u001B[39;00m \u001B[38;5;28mself\u001B[39m\u001B[38;5;241m.\u001B[39mobj\u001B[38;5;241m.\u001B[39m_slice(indexer, axis\u001B[38;5;241m=\u001B[39maxis)\n",
      "File \u001B[0;32m~/anaconda3/envs/vl_optimizer_1/lib/python3.12/site-packages/pandas/core/indexes/base.py:6662\u001B[0m, in \u001B[0;36mIndex.slice_indexer\u001B[0;34m(self, start, end, step)\u001B[0m\n\u001B[1;32m   6618\u001B[0m \u001B[38;5;28;01mdef\u001B[39;00m \u001B[38;5;21mslice_indexer\u001B[39m(\n\u001B[1;32m   6619\u001B[0m     \u001B[38;5;28mself\u001B[39m,\n\u001B[1;32m   6620\u001B[0m     start: Hashable \u001B[38;5;241m|\u001B[39m \u001B[38;5;28;01mNone\u001B[39;00m \u001B[38;5;241m=\u001B[39m \u001B[38;5;28;01mNone\u001B[39;00m,\n\u001B[1;32m   6621\u001B[0m     end: Hashable \u001B[38;5;241m|\u001B[39m \u001B[38;5;28;01mNone\u001B[39;00m \u001B[38;5;241m=\u001B[39m \u001B[38;5;28;01mNone\u001B[39;00m,\n\u001B[1;32m   6622\u001B[0m     step: \u001B[38;5;28mint\u001B[39m \u001B[38;5;241m|\u001B[39m \u001B[38;5;28;01mNone\u001B[39;00m \u001B[38;5;241m=\u001B[39m \u001B[38;5;28;01mNone\u001B[39;00m,\n\u001B[1;32m   6623\u001B[0m ) \u001B[38;5;241m-\u001B[39m\u001B[38;5;241m>\u001B[39m \u001B[38;5;28mslice\u001B[39m:\n\u001B[1;32m   6624\u001B[0m \u001B[38;5;250m    \u001B[39m\u001B[38;5;124;03m\"\"\"\u001B[39;00m\n\u001B[1;32m   6625\u001B[0m \u001B[38;5;124;03m    Compute the slice indexer for input labels and step.\u001B[39;00m\n\u001B[1;32m   6626\u001B[0m \n\u001B[0;32m   (...)\u001B[0m\n\u001B[1;32m   6660\u001B[0m \u001B[38;5;124;03m    slice(1, 3, None)\u001B[39;00m\n\u001B[1;32m   6661\u001B[0m \u001B[38;5;124;03m    \"\"\"\u001B[39;00m\n\u001B[0;32m-> 6662\u001B[0m     start_slice, end_slice \u001B[38;5;241m=\u001B[39m \u001B[38;5;28;43mself\u001B[39;49m\u001B[38;5;241;43m.\u001B[39;49m\u001B[43mslice_locs\u001B[49m\u001B[43m(\u001B[49m\u001B[43mstart\u001B[49m\u001B[43m,\u001B[49m\u001B[43m \u001B[49m\u001B[43mend\u001B[49m\u001B[43m,\u001B[49m\u001B[43m \u001B[49m\u001B[43mstep\u001B[49m\u001B[38;5;241;43m=\u001B[39;49m\u001B[43mstep\u001B[49m\u001B[43m)\u001B[49m\n\u001B[1;32m   6664\u001B[0m     \u001B[38;5;66;03m# return a slice\u001B[39;00m\n\u001B[1;32m   6665\u001B[0m     \u001B[38;5;28;01mif\u001B[39;00m \u001B[38;5;129;01mnot\u001B[39;00m is_scalar(start_slice):\n",
      "File \u001B[0;32m~/anaconda3/envs/vl_optimizer_1/lib/python3.12/site-packages/pandas/core/indexes/base.py:6879\u001B[0m, in \u001B[0;36mIndex.slice_locs\u001B[0;34m(self, start, end, step)\u001B[0m\n\u001B[1;32m   6877\u001B[0m start_slice \u001B[38;5;241m=\u001B[39m \u001B[38;5;28;01mNone\u001B[39;00m\n\u001B[1;32m   6878\u001B[0m \u001B[38;5;28;01mif\u001B[39;00m start \u001B[38;5;129;01mis\u001B[39;00m \u001B[38;5;129;01mnot\u001B[39;00m \u001B[38;5;28;01mNone\u001B[39;00m:\n\u001B[0;32m-> 6879\u001B[0m     start_slice \u001B[38;5;241m=\u001B[39m \u001B[38;5;28;43mself\u001B[39;49m\u001B[38;5;241;43m.\u001B[39;49m\u001B[43mget_slice_bound\u001B[49m\u001B[43m(\u001B[49m\u001B[43mstart\u001B[49m\u001B[43m,\u001B[49m\u001B[43m \u001B[49m\u001B[38;5;124;43m\"\u001B[39;49m\u001B[38;5;124;43mleft\u001B[39;49m\u001B[38;5;124;43m\"\u001B[39;49m\u001B[43m)\u001B[49m\n\u001B[1;32m   6880\u001B[0m \u001B[38;5;28;01mif\u001B[39;00m start_slice \u001B[38;5;129;01mis\u001B[39;00m \u001B[38;5;28;01mNone\u001B[39;00m:\n\u001B[1;32m   6881\u001B[0m     start_slice \u001B[38;5;241m=\u001B[39m \u001B[38;5;241m0\u001B[39m\n",
      "File \u001B[0;32m~/anaconda3/envs/vl_optimizer_1/lib/python3.12/site-packages/pandas/core/indexes/base.py:6801\u001B[0m, in \u001B[0;36mIndex.get_slice_bound\u001B[0;34m(self, label, side)\u001B[0m\n\u001B[1;32m   6799\u001B[0m \u001B[38;5;28;01mexcept\u001B[39;00m \u001B[38;5;167;01mKeyError\u001B[39;00m \u001B[38;5;28;01mas\u001B[39;00m err:\n\u001B[1;32m   6800\u001B[0m     \u001B[38;5;28;01mtry\u001B[39;00m:\n\u001B[0;32m-> 6801\u001B[0m         \u001B[38;5;28;01mreturn\u001B[39;00m \u001B[38;5;28;43mself\u001B[39;49m\u001B[38;5;241;43m.\u001B[39;49m\u001B[43m_searchsorted_monotonic\u001B[49m\u001B[43m(\u001B[49m\u001B[43mlabel\u001B[49m\u001B[43m,\u001B[49m\u001B[43m \u001B[49m\u001B[43mside\u001B[49m\u001B[43m)\u001B[49m\n\u001B[1;32m   6802\u001B[0m     \u001B[38;5;28;01mexcept\u001B[39;00m \u001B[38;5;167;01mValueError\u001B[39;00m:\n\u001B[1;32m   6803\u001B[0m         \u001B[38;5;66;03m# raise the original KeyError\u001B[39;00m\n\u001B[1;32m   6804\u001B[0m         \u001B[38;5;28;01mraise\u001B[39;00m err\n",
      "File \u001B[0;32m~/anaconda3/envs/vl_optimizer_1/lib/python3.12/site-packages/pandas/core/indexes/base.py:6733\u001B[0m, in \u001B[0;36mIndex._searchsorted_monotonic\u001B[0;34m(self, label, side)\u001B[0m\n\u001B[1;32m   6731\u001B[0m \u001B[38;5;28;01mdef\u001B[39;00m \u001B[38;5;21m_searchsorted_monotonic\u001B[39m(\u001B[38;5;28mself\u001B[39m, label, side: Literal[\u001B[38;5;124m\"\u001B[39m\u001B[38;5;124mleft\u001B[39m\u001B[38;5;124m\"\u001B[39m, \u001B[38;5;124m\"\u001B[39m\u001B[38;5;124mright\u001B[39m\u001B[38;5;124m\"\u001B[39m] \u001B[38;5;241m=\u001B[39m \u001B[38;5;124m\"\u001B[39m\u001B[38;5;124mleft\u001B[39m\u001B[38;5;124m\"\u001B[39m):\n\u001B[1;32m   6732\u001B[0m     \u001B[38;5;28;01mif\u001B[39;00m \u001B[38;5;28mself\u001B[39m\u001B[38;5;241m.\u001B[39mis_monotonic_increasing:\n\u001B[0;32m-> 6733\u001B[0m         \u001B[38;5;28;01mreturn\u001B[39;00m \u001B[38;5;28;43mself\u001B[39;49m\u001B[38;5;241;43m.\u001B[39;49m\u001B[43msearchsorted\u001B[49m\u001B[43m(\u001B[49m\u001B[43mlabel\u001B[49m\u001B[43m,\u001B[49m\u001B[43m \u001B[49m\u001B[43mside\u001B[49m\u001B[38;5;241;43m=\u001B[39;49m\u001B[43mside\u001B[49m\u001B[43m)\u001B[49m\n\u001B[1;32m   6734\u001B[0m     \u001B[38;5;28;01melif\u001B[39;00m \u001B[38;5;28mself\u001B[39m\u001B[38;5;241m.\u001B[39mis_monotonic_decreasing:\n\u001B[1;32m   6735\u001B[0m         \u001B[38;5;66;03m# np.searchsorted expects ascending sort order, have to reverse\u001B[39;00m\n\u001B[1;32m   6736\u001B[0m         \u001B[38;5;66;03m# everything for it to work (element ordering, search side and\u001B[39;00m\n\u001B[1;32m   6737\u001B[0m         \u001B[38;5;66;03m# resulting value).\u001B[39;00m\n\u001B[1;32m   6738\u001B[0m         pos \u001B[38;5;241m=\u001B[39m \u001B[38;5;28mself\u001B[39m[::\u001B[38;5;241m-\u001B[39m\u001B[38;5;241m1\u001B[39m]\u001B[38;5;241m.\u001B[39msearchsorted(\n\u001B[1;32m   6739\u001B[0m             label, side\u001B[38;5;241m=\u001B[39m\u001B[38;5;124m\"\u001B[39m\u001B[38;5;124mright\u001B[39m\u001B[38;5;124m\"\u001B[39m \u001B[38;5;28;01mif\u001B[39;00m side \u001B[38;5;241m==\u001B[39m \u001B[38;5;124m\"\u001B[39m\u001B[38;5;124mleft\u001B[39m\u001B[38;5;124m\"\u001B[39m \u001B[38;5;28;01melse\u001B[39;00m \u001B[38;5;124m\"\u001B[39m\u001B[38;5;124mleft\u001B[39m\u001B[38;5;124m\"\u001B[39m\n\u001B[1;32m   6740\u001B[0m         )\n",
      "File \u001B[0;32m~/anaconda3/envs/vl_optimizer_1/lib/python3.12/site-packages/pandas/core/base.py:1352\u001B[0m, in \u001B[0;36mIndexOpsMixin.searchsorted\u001B[0;34m(self, value, side, sorter)\u001B[0m\n\u001B[1;32m   1348\u001B[0m \u001B[38;5;28;01mif\u001B[39;00m \u001B[38;5;129;01mnot\u001B[39;00m \u001B[38;5;28misinstance\u001B[39m(values, np\u001B[38;5;241m.\u001B[39mndarray):\n\u001B[1;32m   1349\u001B[0m     \u001B[38;5;66;03m# Going through EA.searchsorted directly improves performance GH#38083\u001B[39;00m\n\u001B[1;32m   1350\u001B[0m     \u001B[38;5;28;01mreturn\u001B[39;00m values\u001B[38;5;241m.\u001B[39msearchsorted(value, side\u001B[38;5;241m=\u001B[39mside, sorter\u001B[38;5;241m=\u001B[39msorter)\n\u001B[0;32m-> 1352\u001B[0m \u001B[38;5;28;01mreturn\u001B[39;00m \u001B[43malgorithms\u001B[49m\u001B[38;5;241;43m.\u001B[39;49m\u001B[43msearchsorted\u001B[49m\u001B[43m(\u001B[49m\n\u001B[1;32m   1353\u001B[0m \u001B[43m    \u001B[49m\u001B[43mvalues\u001B[49m\u001B[43m,\u001B[49m\n\u001B[1;32m   1354\u001B[0m \u001B[43m    \u001B[49m\u001B[43mvalue\u001B[49m\u001B[43m,\u001B[49m\n\u001B[1;32m   1355\u001B[0m \u001B[43m    \u001B[49m\u001B[43mside\u001B[49m\u001B[38;5;241;43m=\u001B[39;49m\u001B[43mside\u001B[49m\u001B[43m,\u001B[49m\n\u001B[1;32m   1356\u001B[0m \u001B[43m    \u001B[49m\u001B[43msorter\u001B[49m\u001B[38;5;241;43m=\u001B[39;49m\u001B[43msorter\u001B[49m\u001B[43m,\u001B[49m\n\u001B[1;32m   1357\u001B[0m \u001B[43m\u001B[49m\u001B[43m)\u001B[49m\n",
      "File \u001B[0;32m~/anaconda3/envs/vl_optimizer_1/lib/python3.12/site-packages/pandas/core/algorithms.py:1329\u001B[0m, in \u001B[0;36msearchsorted\u001B[0;34m(arr, value, side, sorter)\u001B[0m\n\u001B[1;32m   1325\u001B[0m     arr \u001B[38;5;241m=\u001B[39m ensure_wrapped_if_datetimelike(arr)\n\u001B[1;32m   1327\u001B[0m \u001B[38;5;66;03m# Argument 1 to \"searchsorted\" of \"ndarray\" has incompatible type\u001B[39;00m\n\u001B[1;32m   1328\u001B[0m \u001B[38;5;66;03m# \"Union[NumpyValueArrayLike, ExtensionArray]\"; expected \"NumpyValueArrayLike\"\u001B[39;00m\n\u001B[0;32m-> 1329\u001B[0m \u001B[38;5;28;01mreturn\u001B[39;00m \u001B[43marr\u001B[49m\u001B[38;5;241;43m.\u001B[39;49m\u001B[43msearchsorted\u001B[49m\u001B[43m(\u001B[49m\u001B[43mvalue\u001B[49m\u001B[43m,\u001B[49m\u001B[43m \u001B[49m\u001B[43mside\u001B[49m\u001B[38;5;241;43m=\u001B[39;49m\u001B[43mside\u001B[49m\u001B[43m,\u001B[49m\u001B[43m \u001B[49m\u001B[43msorter\u001B[49m\u001B[38;5;241;43m=\u001B[39;49m\u001B[43msorter\u001B[49m\u001B[43m)\u001B[49m\n",
      "\u001B[0;31mTypeError\u001B[0m: '<' not supported between instances of 'tuple' and 'str'"
     ]
    }
   ],
   "execution_count": 9
  }
 ],
 "metadata": {
  "kernelspec": {
   "display_name": "Python 3",
   "language": "python",
   "name": "python3"
  },
  "language_info": {
   "codemirror_mode": {
    "name": "ipython",
    "version": 2
   },
   "file_extension": ".py",
   "mimetype": "text/x-python",
   "name": "python",
   "nbconvert_exporter": "python",
   "pygments_lexer": "ipython2",
   "version": "2.7.6"
  }
 },
 "nbformat": 4,
 "nbformat_minor": 5
}
