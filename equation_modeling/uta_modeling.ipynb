{
 "cells": [
  {
   "cell_type": "markdown",
   "id": "52783089",
   "metadata": {},
   "source": [
    "# 04 UTA_Electric_Active Energy (kWh)"
   ]
  },
  {
   "cell_type": "code",
   "execution_count": 1,
   "id": "8799c7ee",
   "metadata": {},
   "outputs": [],
   "source": [
    "import pandas as pd\n",
    "from sklearn.model_selection import KFold, cross_val_score\n",
    "from sklearn.linear_model import LinearRegression\n",
    "from sklearn.metrics import mean_squared_error, r2_score\n",
    "from joblib import dump\n",
    "import numpy as np"
   ]
  },
  {
   "cell_type": "code",
   "execution_count": 2,
   "id": "1a8fc21b",
   "metadata": {},
   "outputs": [
    {
     "name": "stdout",
     "output_type": "stream",
     "text": [
      "c:\\Users\\Usuario\\OneDrive\\Documents\\IE\\3. Trimestre\\Venture Lab & Capstone\\Capstone\\Tech side\\vl_optimizer\n"
     ]
    }
   ],
   "source": [
    "cd .."
   ]
  },
  {
   "cell_type": "markdown",
   "id": "3314c529",
   "metadata": {},
   "source": [
    "## Get cofficients"
   ]
  },
  {
   "cell_type": "markdown",
   "id": "fdc38c6b",
   "metadata": {},
   "source": [
    "Input required datasets"
   ]
  },
  {
   "cell_type": "code",
   "execution_count": 3,
   "id": "cd821dd1",
   "metadata": {},
   "outputs": [],
   "source": [
    "# Define the target\n",
    "target = pd.read_csv('data/target_variables/target_production.csv')\n",
    "\n",
    "# Define the features\n",
    "df_simulated = pd.read_csv('data/synthesized_data/production_synthesized.csv')\n",
    "df_simulated = df_simulated.drop(columns=['Time'])\n",
    "features = df_simulated.columns"
   ]
  },
  {
   "cell_type": "code",
   "execution_count": 7,
   "id": "7df16fd5",
   "metadata": {},
   "outputs": [
    {
     "name": "stdout",
     "output_type": "stream",
     "text": [
      "Mean Squared Error (Cross-Validation): 966.8564932288076\n",
      "Standard Deviation (Cross-Validation): 34.552693403340854\n",
      "R^2 Score (Cross-Validation): 0.9161031058868219\n",
      "Overall R^2 Score: 0.9163959925707674\n",
      "Intercept: [-12.12916459]\n",
      "                          Coefficient\n",
      "power_transport_vehicles     0.549692\n",
      "production_schedule          1.162542\n",
      "maintenance_status           1.164858\n",
      "volume_production_waste      2.139640\n",
      "number_of_workers            0.076697\n"
     ]
    }
   ],
   "source": [
    "# Split the data into features (X) and target (y)\n",
    "X = df_simulated\n",
    "y = target\n",
    "\n",
    "# Initialize the linear regression model\n",
    "model = LinearRegression()\n",
    "\n",
    "# Perform k-fold cross-validation\n",
    "kfold = KFold(n_splits=5, shuffle=True, random_state=42)\n",
    "cv_results_mse = cross_val_score(model, X, y, cv=kfold, scoring='neg_mean_squared_error')\n",
    "cv_results_r2 = cross_val_score(model, X, y, cv=kfold, scoring='r2')\n",
    "\n",
    "# Fit the model on the entire dataset\n",
    "model.fit(X, y)\n",
    "\n",
    "# Get the intercept and coefficients\n",
    "intercept = model.intercept_\n",
    "coefficients = model.coef_\n",
    "\n",
    "# Save the trained model to a file\n",
    "model_params = {\n",
    "    'intercept': intercept,\n",
    "    'coefficients': coefficients,\n",
    "    'features': features\n",
    "}\n",
    "model_filename = 'equation_modeling/models/UTA_consumption_model.joblib'\n",
    "dump(model_params, model_filename)\n",
    "\n",
    "# Calculate and print performance metrics\n",
    "y_pred = model.predict(X)\n",
    "mse = mean_squared_error(y, y_pred)\n",
    "r2 = r2_score(y, y_pred)\n",
    "\n",
    "print(f'Mean Squared Error (Cross-Validation): {-cv_results_mse.mean()}')\n",
    "print(f'Standard Deviation (Cross-Validation): {cv_results_mse.std()}')\n",
    "print(f'R^2 Score (Cross-Validation): {cv_results_r2.mean()}')\n",
    "print(f'Overall R^2 Score: {r2}')\n",
    "\n",
    "# Optional: Print the coefficients of the model\n",
    "coefficients_df = pd.DataFrame(coefficients[0], features, columns=['Coefficient'])\n",
    "print(f'Intercept: {intercept}')\n",
    "print(coefficients_df)"
   ]
  }
 ],
 "metadata": {
  "kernelspec": {
   "display_name": "Python 3",
   "language": "python",
   "name": "python3"
  },
  "language_info": {
   "codemirror_mode": {
    "name": "ipython",
    "version": 3
   },
   "file_extension": ".py",
   "mimetype": "text/x-python",
   "name": "python",
   "nbconvert_exporter": "python",
   "pygments_lexer": "ipython3",
   "version": "3.11.5"
  }
 },
 "nbformat": 4,
 "nbformat_minor": 5
}
