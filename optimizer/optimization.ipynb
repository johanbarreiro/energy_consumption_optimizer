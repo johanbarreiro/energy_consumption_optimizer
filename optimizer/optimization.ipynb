{
 "cells": [
  {
   "cell_type": "code",
   "id": "initial_id",
   "metadata": {
    "collapsed": true,
    "ExecuteTime": {
     "end_time": "2024-06-25T18:04:05.653055Z",
     "start_time": "2024-06-25T18:04:05.649559Z"
    }
   },
   "source": "from pyomo.environ import ConcreteModel, Var, Objective, Constraint, SolverFactory, Param, NonNegativeReals, minimize",
   "outputs": [],
   "execution_count": 11
  },
  {
   "metadata": {},
   "cell_type": "markdown",
   "source": "Create a model:",
   "id": "fafefcb547960710"
  },
  {
   "metadata": {
    "ExecuteTime": {
     "end_time": "2024-06-25T18:04:05.666886Z",
     "start_time": "2024-06-25T18:04:05.664795Z"
    }
   },
   "cell_type": "code",
   "source": [
    "from pyomo.environ import ConcreteModel\n",
    "\n",
    "# Define the model\n",
    "model = ConcreteModel(name=\"Daily_Price_Optimizer\")\n",
    "\n",
    "# Display the model\n",
    "print(model)"
   ],
   "id": "c446ad3d703ec30f",
   "outputs": [],
   "execution_count": 12
  },
  {
   "metadata": {},
   "cell_type": "markdown",
   "source": [
    "**Define Parameters:**\n",
    "Parameters are values that are given to us, and we don’t have control over them."
   ],
   "id": "d35015d8aec453e2"
  },
  {
   "metadata": {
    "ExecuteTime": {
     "end_time": "2024-06-25T18:04:05.675202Z",
     "start_time": "2024-06-25T18:04:05.672188Z"
    }
   },
   "cell_type": "code",
   "source": [
    "# Define parameters\n",
    "model.c_A = Param(initialize=50)  # Cost to produce one unit of A\n",
    "model.c_B = Param(initialize=30)  # Cost to produce one unit of B\n",
    "model.max_A = Param(initialize=100)  # Maximum units of A that can be produced\n",
    "model.max_B = Param(initialize=200)  # Maximum units of B that can be produced\n",
    "model.min_A = Param(initialize=80)  # Minimum units of A needed\n",
    "model.min_B = Param(initialize=150)  # Minimum units of B needed"
   ],
   "id": "a6d37939c7c177ac",
   "outputs": [],
   "execution_count": 13
  },
  {
   "metadata": {},
   "cell_type": "markdown",
   "source": [
    "**Define Decision Variables with bounds:**\n",
    "This means  x  and  y  are the variables we want to determine, and they must be non-negative (can’t be less than zero)."
   ],
   "id": "e979ea7e6ea5285c"
  },
  {
   "metadata": {
    "ExecuteTime": {
     "end_time": "2024-06-25T18:04:05.678959Z",
     "start_time": "2024-06-25T18:04:05.676436Z"
    }
   },
   "cell_type": "code",
   "source": [
    "# Define decision variables with bounds\n",
    "model.x = Var(domain=NonNegativeReals, bounds=(0, model.max_A))\n",
    "model.y = Var(domain=NonNegativeReals, bounds=(0, model.max_B))"
   ],
   "id": "c7db674c9748113d",
   "outputs": [],
   "execution_count": 14
  },
  {
   "metadata": {},
   "cell_type": "markdown",
   "source": [
    "**Define Objective Function:**\n",
    "This means we want to minimize the total cost"
   ],
   "id": "45ebdaa2c532763f"
  },
  {
   "metadata": {
    "ExecuteTime": {
     "end_time": "2024-06-25T18:04:05.681958Z",
     "start_time": "2024-06-25T18:04:05.679673Z"
    }
   },
   "cell_type": "code",
   "source": [
    "# Define the objective function using parameters\n",
    "model.obj = Objective(expr=model.c_A * model.x + model.c_B * model.y, sense=minimize)"
   ],
   "id": "cb72c844f8126a86",
   "outputs": [],
   "execution_count": 15
  },
  {
   "metadata": {},
   "cell_type": "markdown",
   "source": "**Define the constraints:**",
   "id": "1bda9e4e2e5282a9"
  },
  {
   "metadata": {
    "ExecuteTime": {
     "end_time": "2024-06-25T18:04:05.685051Z",
     "start_time": "2024-06-25T18:04:05.683230Z"
    }
   },
   "cell_type": "code",
   "source": [
    "# Define the constraints\n",
    "model.constr1 = Constraint(expr=model.x >= model.min_A)\n",
    "model.constr2 = Constraint(expr=model.y >= model.min_B)"
   ],
   "id": "6c4363f03edaec4",
   "outputs": [],
   "execution_count": 16
  },
  {
   "metadata": {},
   "cell_type": "markdown",
   "source": "**Solve the optimization problem:**",
   "id": "edc03fbba26fd40a"
  },
  {
   "metadata": {
    "ExecuteTime": {
     "end_time": "2024-06-25T18:04:05.702690Z",
     "start_time": "2024-06-25T18:04:05.685849Z"
    }
   },
   "cell_type": "code",
   "source": [
    "solver = SolverFactory('glpk')\n",
    "solver.solve(model)"
   ],
   "id": "be638b9f1e66f3a7",
   "outputs": [
    {
     "data": {
      "text/plain": [
       "{'Problem': [{'Name': 'unknown', 'Lower bound': 8500.0, 'Upper bound': 8500.0, 'Number of objectives': 1, 'Number of constraints': 2, 'Number of variables': 2, 'Number of nonzeros': 2, 'Sense': 'minimize'}], 'Solver': [{'Status': 'ok', 'Termination condition': 'optimal', 'Statistics': {'Branch and bound': {'Number of bounded subproblems': 0, 'Number of created subproblems': 0}}, 'Error rc': 0, 'Time': 0.010652303695678711}], 'Solution': [OrderedDict({'number of solutions': 0, 'number of solutions displayed': 0})]}"
      ]
     },
     "execution_count": 17,
     "metadata": {},
     "output_type": "execute_result"
    }
   ],
   "execution_count": 17
  },
  {
   "metadata": {},
   "cell_type": "markdown",
   "source": "",
   "id": "418fde22d905c66b"
  },
  {
   "metadata": {},
   "cell_type": "markdown",
   "source": "**Print the results:**",
   "id": "c997842d16ee4ee6"
  },
  {
   "metadata": {
    "ExecuteTime": {
     "end_time": "2024-06-25T18:04:05.705354Z",
     "start_time": "2024-06-25T18:04:05.703504Z"
    }
   },
   "cell_type": "code",
   "source": [
    "print('x:', model.x())\n",
    "print('y:', model.y())\n",
    "print('Objective:', model.obj())"
   ],
   "id": "1a235fb29dd7bbb9",
   "outputs": [
    {
     "name": "stdout",
     "output_type": "stream",
     "text": [
      "x: 80.0\n",
      "y: 150.0\n",
      "Objective: 8500.0\n"
     ]
    }
   ],
   "execution_count": 18
  },
  {
   "metadata": {},
   "cell_type": "markdown",
   "source": "# Consumption",
   "id": "dff1d25bd50cd4bf"
  },
  {
   "metadata": {},
   "cell_type": "code",
   "outputs": [],
   "execution_count": null,
   "source": "model = ConcreteModel()",
   "id": "cb31a5efdd25330b"
  },
  {
   "metadata": {},
   "cell_type": "markdown",
   "source": [
    "**Define Parameters:**\n",
    "Parameters are values that are given to us, and we don’t have control over them."
   ],
   "id": "354e3f5d7ae8d92a"
  },
  {
   "metadata": {},
   "cell_type": "code",
   "outputs": [],
   "execution_count": 13,
   "source": [
    "# Define parameters\n",
    "model.Price_mWh = Param(initialize=50)  # Cost of one mWh\n",
    "model.c_B = Param(initialize=30)  # Cost to produce one unit of B\n",
    "model.max_A = Param(initialize=100)  # Maximum units of A that can be produced\n",
    "model.max_B = Param(initialize=200)  # Maximum units of B that can be produced\n",
    "model.min_A = Param(initialize=80)  # Minimum units of A needed\n",
    "model.min_B = Param(initialize=150)  # Minimum units of B needed"
   ],
   "id": "e9cb66072a03204c"
  },
  {
   "metadata": {},
   "cell_type": "code",
   "outputs": [],
   "execution_count": null,
   "source": "",
   "id": "45ae7f0b34d89546"
  }
 ],
 "metadata": {
  "kernelspec": {
   "display_name": "Python 3",
   "language": "python",
   "name": "python3"
  },
  "language_info": {
   "codemirror_mode": {
    "name": "ipython",
    "version": 2
   },
   "file_extension": ".py",
   "mimetype": "text/x-python",
   "name": "python",
   "nbconvert_exporter": "python",
   "pygments_lexer": "ipython2",
   "version": "2.7.6"
  }
 },
 "nbformat": 4,
 "nbformat_minor": 5
}
