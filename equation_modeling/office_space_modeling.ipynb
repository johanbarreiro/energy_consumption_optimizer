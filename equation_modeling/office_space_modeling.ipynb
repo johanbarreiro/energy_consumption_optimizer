{
 "cells": [
  {
   "cell_type": "markdown",
   "id": "9c94ae02",
   "metadata": {},
   "source": [
    "# 06 Offices_Electric_Active Energy (kWh)"
   ]
  },
  {
   "cell_type": "code",
   "id": "38474010",
   "metadata": {
    "ExecuteTime": {
     "end_time": "2024-07-07T16:56:27.734710Z",
     "start_time": "2024-07-07T16:56:27.731330Z"
    }
   },
   "source": [
    "cd .."
   ],
   "outputs": [
    {
     "name": "stdout",
     "output_type": "stream",
     "text": [
      "/Users/johanbarreiro/Documents/GitHub/vl_optimizer\n"
     ]
    }
   ],
   "execution_count": 2
  },
  {
   "cell_type": "markdown",
   "id": "a6167b7d",
   "metadata": {},
   "source": [
    "## Definition of the constrain equation\n",
    "\n",
    "**Offices_Electric_Active Energy = A⋅lightbulbs_active + B⋅active_wall_plugs + C⋅active_computers + D⋅active_printers + E⋅active_coffee_machines**\n",
    "\n",
    "- **Offices_Electric_Active Energy** = Energy consumption of the Office building in a given period.\n",
    "\n",
    "- **lightbulbs_active** = Represents the number of active lightbulbs during the specified period - Given.\n",
    "\n",
    "- **active_wall_plugs** = Refers to the number of wall plugs currently in use or drawing power - Given.\n",
    "\n",
    "- **active_computers** = Indicates the number of computers currently in use - Given.\n",
    "\n",
    "- **active_printers** = The number of printers in active use during the measurement period - Controllable.\n",
    "\n",
    "- **active_coffee_machines** = Represents the number of coffee machines currently in use - Controllable.\n",
    "\n",
    "- **A,B,C,D,E** = Coefficients for each factor."
   ]
  },
  {
   "cell_type": "markdown",
   "id": "1dded4db",
   "metadata": {},
   "source": [
    "## Other factors to include in the constrain equation"
   ]
  },
  {
   "cell_type": "markdown",
   "id": "bf5fe4ce",
   "metadata": {},
   "source": [
    "1. **lightbulbs_active**: The activity level of lightbulbs should scale with the lighting energy consumption, which could be a significant fraction of the total office energy use.\n",
    "2. **active_wall_plugs**: The number of active wall plugs should correlate with the energy consumption from plugged devices.\n",
    "3. **active_computers**: Computer use should scale with the proportion of energy dedicated to IT and office equipment.\n",
    "4. **active_printers**: Printer usage should align with the specific energy consumption of these devices.\n",
    "5. **active_coffee_machines**: The operation of coffee machines should scale with their share of energy use."
   ]
  },
  {
   "cell_type": "markdown",
   "id": "f3851a9b",
   "metadata": {},
   "source": [
    "We will use the percentile distribution of energy consumption to dynamically adjust the maximum limits for variables, which are more directly influenced by the level of activity in the office.\n",
    "\n",
    "Let’s start by analyzing the total energy consumption to inform these decisions.\n",
    "\n",
    "Here are some key statistics from the total energy consumption data:"
   ]
  },
  {
   "cell_type": "markdown",
   "id": "f30eb72d",
   "metadata": {},
   "source": [
    "## Get cofficients"
   ]
  },
  {
   "cell_type": "code",
   "execution_count": 9,
   "id": "526bed56",
   "metadata": {},
   "outputs": [
    {
     "name": "stdout",
     "output_type": "stream",
     "text": [
      "Mean Squared Error (Cross-Validation): 1.277939958175431\n",
      "Standard Deviation (Cross-Validation): 0.046029413806609486\n",
      "R^2 Score (Cross-Validation): 0.902095097226141\n",
      "Overall R^2 Score: 0.9023330893490779\n",
      "Intercept: 0.26039035147439904\n",
      "                        Coefficient\n",
      "lightbulbs_active          0.608375\n",
      "active_wall_plugs          0.480035\n",
      "active_computers           0.974240\n",
      "active_printers            3.604773\n",
      "active_coffee_machines     9.465781\n"
     ]
    }
   ],
   "source": [
    "import pandas as pd\n",
    "from sklearn.model_selection import KFold, cross_val_score\n",
    "from sklearn.linear_model import LinearRegression\n",
    "from sklearn.metrics import mean_squared_error, r2_score\n",
    "from joblib import dump\n",
    "\n",
    "# Define the target\n",
    "target = office_target\n",
    "\n",
    "# Define the features\n",
    "features = df_simulated.columns\n",
    "\n",
    "# Split the data into features (X) and target (y)\n",
    "X = df_simulated\n",
    "y = target\n",
    "\n",
    "# Initialize the linear regression model\n",
    "model = LinearRegression()\n",
    "\n",
    "# Perform k-fold cross-validation\n",
    "kfold = KFold(n_splits=5, shuffle=True, random_state=42)\n",
    "cv_results_mse = cross_val_score(model, X, y, cv=kfold, scoring='neg_mean_squared_error')\n",
    "cv_results_r2 = cross_val_score(model, X, y, cv=kfold, scoring='r2')\n",
    "\n",
    "# Fit the model on the entire dataset\n",
    "model.fit(X, y)\n",
    "\n",
    "# Get the intercept and coefficients\n",
    "intercept = model.intercept_\n",
    "coefficients = model.coef_\n",
    "\n",
    "# Save the trained model to a file\n",
    "model_params = {\n",
    "    'intercept': intercept,\n",
    "    'coefficients': coefficients,\n",
    "    'features': features\n",
    "}\n",
    "model_filename = 'equation_modeling/models/office_consumption_model.joblib'\n",
    "dump(model_params, model_filename)\n",
    "\n",
    "# Calculate and print performance metrics\n",
    "y_pred = model.predict(X)\n",
    "mse = mean_squared_error(y, y_pred)\n",
    "r2 = r2_score(y, y_pred)\n",
    "\n",
    "print(f'Mean Squared Error (Cross-Validation): {-cv_results_mse.mean()}')\n",
    "print(f'Standard Deviation (Cross-Validation): {cv_results_mse.std()}')\n",
    "print(f'R^2 Score (Cross-Validation): {cv_results_r2.mean()}')\n",
    "print(f'Overall R^2 Score: {r2}')\n",
    "\n",
    "# Optional: Print the coefficients of the model\n",
    "coefficients_df = pd.DataFrame(coefficients, features, columns=['Coefficient'])\n",
    "print(f'Intercept: {intercept}')\n",
    "print(coefficients_df)\n"
   ]
  }
 ],
 "metadata": {
  "kernelspec": {
   "display_name": "Python 3",
   "language": "python",
   "name": "python3"
  },
  "language_info": {
   "codemirror_mode": {
    "name": "ipython",
    "version": 3
   },
   "file_extension": ".py",
   "mimetype": "text/x-python",
   "name": "python",
   "nbconvert_exporter": "python",
   "pygments_lexer": "ipython3",
   "version": "3.11.5"
  }
 },
 "nbformat": 4,
 "nbformat_minor": 5
}
