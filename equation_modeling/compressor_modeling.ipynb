{
 "cells": [
  {
   "cell_type": "code",
   "execution_count": null,
   "id": "initial_id",
   "metadata": {
    "collapsed": true
   },
   "outputs": [],
   "source": [
    ""
   ]
  },
  {
   "metadata": {},
   "cell_type": "markdown",
   "source": "",
   "id": "6bffb779160e38b2"
  },
  {
   "metadata": {},
   "cell_type": "markdown",
   "source": [
    "# Compressors_Electric_Active\n",
    "\n",
    "$$ \\text{Compressors\\_Electric\\_Active} = \\text{Power (kW)} \\times \\text{Time (h)} \\times \\text{Number of Compressors} $$"
   ],
   "id": "9c5146f737343142"
  },
  {
   "metadata": {},
   "cell_type": "markdown",
   "source": [
    "1.\tDefine Variables:\n",
    "\t•\t P : Production Schedule (percentage of operational capacity, from 0 to 100%)\n",
    "\t•\t C_{max} : Maximum number of compressors available\n",
    "\t•\t E_{base} : Base energy requirement when the plant is not producing (idle state)\n",
    "\t•\t E_{comp} : Energy requirement per compressor\n",
    "\t•\t E_{total}(P) : Total energy requirement at production level  P \n",
    "\t•\t N_{comp}(P) : Number of active compressors at production level  P \n",
    "\t2.\tModel the Total Energy Requirement:\n",
    "\n",
    "E_{total}(P) = E_{base} + \\left( \\frac{P}{100} \\right) \\times (C_{max} \\times E_{comp})\n",
    "\n",
    "This equation assumes that as production increases, the energy requirement increases linearly, up to the maximum capacity represented by  C_{max}  compressors.\n",
    "\t3.\tCalculate the Number of Active Compressors:\n",
    "The number of active compressors can be estimated by:\n",
    "\n",
    "N_{comp}(P) = \\left\\lceil \\frac{E_{total}(P) - E_{base}}{E_{comp}} \\right\\rceil\n",
    "\n",
    "where  \\left\\lceil x \\right\\rceil  represents the ceiling function, which rounds up to the nearest whole number. This ensures that partial compressors are not counted, as only whole compressors can be active.\n",
    "\n",
    "Synthesized Data Example\n",
    "\n",
    "Let’s assume the following values for a sample calculation:\n",
    "\n",
    "\t•\t C_{max} = 10  (maximum number of compressors available)\n",
    "\t•\t E_{base} = 50  (base energy requirement in arbitrary units)\n",
    "\t•\t E_{comp} = 10  (energy requirement per compressor in the same arbitrary units)\n"
   ],
   "id": "9e362dfdea8f5042"
  },
  {
   "metadata": {},
   "cell_type": "code",
   "outputs": [],
   "execution_count": null,
   "source": [
    "import pandas as pd\n",
    "import numpy as np\n",
    "\n",
    "# Constants\n",
    "C_max = 10  # Maximum number of compressors\n",
    "E_base = 50  # Base energy requirement\n",
    "E_comp = 10  # Energy requirement per compressor\n",
    "\n",
    "# Production schedule (0% to 100% in increments of 10%)\n",
    "production_schedule = np.arange(0, 110, 10)\n",
    "\n",
    "# Calculate total energy requirement and number of active compressors\n",
    "E_total = E_base + (production_schedule / 100) * (C_max * E_comp)\n",
    "N_comp = np.ceil((E_total - E_base) / E_comp).astype(int)\n",
    "\n",
    "# Create DataFrame\n",
    "data = {\n",
    "    'Production Schedule (%)': production_schedule,\n",
    "    'Total Energy Requirement': E_total,\n",
    "    'Number of Active Compressors': N_comp\n",
    "}\n",
    "\n",
    "df = pd.DataFrame(data)\n",
    "\n",
    "df.head"
   ],
   "id": "c979c2b4b0cbf1bd"
  },
  {
   "metadata": {},
   "cell_type": "markdown",
   "source": [
    "# How many kW does a compressor consume?\n",
    "\n",
    "\t1.\tReciprocating Compressors:\n",
    "\t•\tSmall reciprocating compressors (up to 5 HP): Approximately 3.7 kW\n",
    "\t•\tMedium reciprocating compressors (5-20 HP): Approximately 3.7 to 15 kW\n",
    "\t•\tLarge reciprocating compressors (20+ HP): Approximately 15 to 75 kW or more\n",
    "\t2.\tRotary Screw Compressors:\n",
    "\t•\tSmall rotary screw compressors (up to 10 HP): Approximately 7.5 kW\n",
    "\t•\tMedium rotary screw compressors (10-50 HP): Approximately 7.5 to 37.5 kW\n",
    "\t•\tLarge rotary screw compressors (50+ HP): Approximately 37.5 to 375 kW or more\n",
    "\t3.\tCentrifugal Compressors:\n",
    "\t•\tIndustrial centrifugal compressors: Ranges from 150 kW to several megawatts (MW), depending on the application and capacity\n",
    "\t4.\tScroll Compressors:\n",
    "\t•\tTypically used in smaller applications, consuming around 1.5 to 30 kW\n",
    "\n",
    "To calculate the specific power consumption of a compressor, you can use the following general formula:\n",
    "\n",
    "\n",
    "\\text{Power Consumption (kW)} = \\frac{\\text{Motor Horsepower (HP)} \\times 0.7457}{\\text{Motor Efficiency}}\n"
   ],
   "id": "2df74d962a2161ba"
  }
 ],
 "metadata": {
  "kernelspec": {
   "display_name": "Python 3",
   "language": "python",
   "name": "python3"
  },
  "language_info": {
   "codemirror_mode": {
    "name": "ipython",
    "version": 2
   },
   "file_extension": ".py",
   "mimetype": "text/x-python",
   "name": "python",
   "nbconvert_exporter": "python",
   "pygments_lexer": "ipython2",
   "version": "2.7.6"
  }
 },
 "nbformat": 4,
 "nbformat_minor": 5
}
