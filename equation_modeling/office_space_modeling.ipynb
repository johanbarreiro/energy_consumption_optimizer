{
 "cells": [
  {
   "cell_type": "code",
   "execution_count": null,
   "id": "initial_id",
   "metadata": {
    "collapsed": true
   },
   "outputs": [],
   "source": [
    ""
   ]
  },
  {
   "metadata": {},
   "cell_type": "markdown",
   "source": [
    "# Office Space\n",
    "\n",
    "office consumption = A * lightbulbs active + B * active wall plugs + C * active computers + D * active printers + E * active coffee machines \n",
    "\n",
    "if workday\n",
    "lux > day certain amount \n",
    "active computers > day certain amount\n",
    "active printers = all \n",
    "coffee machines = all\n",
    "\n",
    "else\n",
    "lux > night certain amount \n",
    "active computers > night certain amount\n",
    "active printers = 0 \n",
    "coffee machines = 0\n",
    "\n",
    "lux = A * number of lightbulbs active "
   ],
   "id": "997c8046a0e3f505"
  },
  {
   "metadata": {},
   "cell_type": "code",
   "outputs": [
    {
     "name": "stdout",
     "output_type": "stream",
     "text": [
      "/Users/johanbarreiro/Documents/GitHub/vl_optimizer\n"
     ]
    }
   ],
   "execution_count": 1,
   "source": "cd ..",
   "id": "dd20ca572c6b2441"
  },
  {
   "metadata": {},
   "cell_type": "markdown",
   "source": [
    "To preserve the formatting when pasted into markdown, you can format the text as follows:\n",
    "\n",
    "---\n",
    "\n",
    "### Combination for '06 Offices_Electric_Active Energy (kWh)'\n",
    "\n",
    "\\[ E06 = X1 + X2 + X3 + X4 + X5 + C \\]\n",
    "\n",
    "**Variables (X values):**\n",
    "- **X1**: Number of employees\n",
    "- **X2**: Operational hours per day (e.g. duration of equipment usage)\n",
    "- **X3**: Usage intensity of specific equipment (e.g. average power consumption of computers)\n",
    "- **X4**: Number of lightbulbs\n",
    "- **X5**: Building size (e.g. meters squared)\n",
    "\n",
    "**Decision Variables:**\n",
    "\n",
    "- **Number of employees - Office**\n",
    "  - Minimum constraints: minimum number of employees\n",
    "  - Bounds: \\(10 < X1 < 50\\)\n",
    "\n",
    "- **Operational hours - Office**\n",
    "  - Minimum operational hours\n",
    "  - Bounds: \\(8 < X2 < 12\\)\n",
    "\n",
    "- **Equipment**\n",
    "  - Bounds: \\(10 < X3 < 50\\) computers\n",
    "\n",
    "- **Lightbulbs**\n",
    "  - Bounds: \\(100 < X4 < 500\\)\n",
    "\n",
    "**Parameters:**\n",
    "\n",
    "- **Building Size - Office**\n",
    "  - Bounds: \\(140m^2 < X5 < 280m^2\\)\n",
    "\n",
    "**Constant (C value):**\n",
    "\n",
    "- **C**: Represents baseline energy consumption or fixed components in offices (e.g. base load standby power)\n",
    "\n",
    "---\n",
    "\n",
    "### Combination for '08 Technological Centers_Electric_Active Energy (kWh)'\n",
    "\n",
    "\\[ E08 = X1 + X2 + X3 + X4 + X5 + C \\]\n",
    "\n",
    "**Variables (X values):**\n",
    "- **X1**: Number of servers\n",
    "- **X2**: Liquid cooling system for servers\n",
    "- **X3**: Average power consumption of servers\n",
    "\n",
    "**Constant (C value):**\n",
    "\n",
    "- **C**: Represents baseline energy consumption or fixed components in technological centers (e.g. base load standby power)\n",
    "\n",
    "**Decision Variables:**\n",
    "\n",
    "- **Server Load - Tech Center**\n",
    "  - Bounds: \\(50 \\text{ servers} < X1 < 2000 \\text{ servers}\\)\n",
    "\n",
    "- **Liquid cooling system - Tech Center**\n",
    "  - Bounds: 1 per 2000 servers\n",
    "\n",
    "- **Number of racks:** 19 (from provided data)\n",
    "- **Power per rack:** 43 kW\n",
    "- **Total IT power:** \\(19 \\times 43 \\text{ kW} = 817 \\text{ kW}\\)\n",
    "- **Power density:** 1700 W/ft²\n",
    "- **IT space per rack:** 25 sq. ft. (specified)\n",
    "\n",
    "- **Cooling capacity and efficiency:** Considering water-cooled system benefits and efficiencies\n",
    "\n",
    "**Parameters:**\n",
    "\n",
    "- **Average Power Consumption**\n",
    "  - For 500 servers assuming each consumes 250W\n",
    "  - Total Power = \\(500 \\text{ servers} \\times 250 \\text{ W} = 1250 \\text{ W}\\)\n",
    "\n",
    "---\n",
    "\n",
    "This markdown text should preserve the formatting and equations when pasted into a markdown editor."
   ],
   "id": "a3281529222bebbe"
  },
  {
   "metadata": {},
   "cell_type": "code",
   "outputs": [],
   "execution_count": null,
   "source": "",
   "id": "2cf30beff3311d3f"
  }
 ],
 "metadata": {
  "kernelspec": {
   "display_name": "Python 3",
   "language": "python",
   "name": "python3"
  },
  "language_info": {
   "codemirror_mode": {
    "name": "ipython",
    "version": 2
   },
   "file_extension": ".py",
   "mimetype": "text/x-python",
   "name": "python",
   "nbconvert_exporter": "python",
   "pygments_lexer": "ipython2",
   "version": "2.7.6"
  }
 },
 "nbformat": 4,
 "nbformat_minor": 5
}
